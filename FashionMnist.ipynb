{
 "cells": [
  {
   "cell_type": "markdown",
   "metadata": {
    "colab_type": "text",
    "id": "RilVTrULXNbL"
   },
   "source": [
    "# Question 2: Classification : Convolutional Neural Networks"
   ]
  },
  {
   "cell_type": "markdown",
   "metadata": {
    "colab_type": "text",
    "id": "GueRY2HnXWBD"
   },
   "source": [
    "###  2.1: Design and Implementation Choices of your Model (25points)"
   ]
  },
  {
   "cell_type": "markdown",
   "metadata": {
    "colab_type": "text",
    "id": "5rpdxu46XdkZ"
   },
   "source": [
    "#### CNN Based Approach"
   ]
  },
  {
   "cell_type": "code",
   "execution_count": 1,
   "metadata": {
    "colab": {
     "base_uri": "https://localhost:8080/",
     "height": 34
    },
    "colab_type": "code",
    "id": "BJWR3_7rXiyh",
    "outputId": "1cc10ea1-37da-46ac-92cd-ca3ceae5879d"
   },
   "outputs": [
    {
     "name": "stderr",
     "output_type": "stream",
     "text": [
      "Using TensorFlow backend.\n"
     ]
    }
   ],
   "source": [
    "# Importing libraries\n",
    "\n",
    "# Ignore warnings :\n",
    "import warnings\n",
    "warnings.filterwarnings('ignore')\n",
    "\n",
    "\n",
    "# Handle table-like data and matrices :\n",
    "import numpy as np\n",
    "import pandas as pd\n",
    "import math \n",
    "import itertools\n",
    "\n",
    "\n",
    "\n",
    "# Modelling Algorithms :\n",
    "\n",
    "# Classification\n",
    "from sklearn.tree import DecisionTreeClassifier\n",
    "from sklearn.linear_model import LogisticRegression\n",
    "from sklearn.neighbors import KNeighborsClassifier\n",
    "from sklearn.naive_bayes import GaussianNB\n",
    "from sklearn.svm import SVC, LinearSVC\n",
    "from sklearn.ensemble import RandomForestClassifier , GradientBoostingClassifier\n",
    "from sklearn.discriminant_analysis import LinearDiscriminantAnalysis , QuadraticDiscriminantAnalysis\n",
    "\n",
    "# Regression\n",
    "from sklearn.linear_model import LinearRegression,Ridge,Lasso,RidgeCV, ElasticNet\n",
    "from sklearn.ensemble import RandomForestRegressor,BaggingRegressor,GradientBoostingRegressor,AdaBoostRegressor \n",
    "from sklearn.svm import SVR\n",
    "from sklearn.neighbors import KNeighborsRegressor\n",
    "from sklearn.neural_network import MLPRegressor\n",
    "\n",
    "\n",
    "\n",
    "\n",
    "# Modelling Helpers :\n",
    "from sklearn.preprocessing import Normalizer , scale\n",
    "from sklearn.model_selection import train_test_split\n",
    "from sklearn.metrics import confusion_matrix, classification_report\n",
    "from sklearn.feature_selection import RFECV\n",
    "from sklearn.model_selection import GridSearchCV , KFold , cross_val_score\n",
    "\n",
    "\n",
    "\n",
    "#preprocessing :\n",
    "from sklearn.preprocessing import MinMaxScaler , StandardScaler, LabelEncoder\n",
    "\n",
    "\n",
    "\n",
    "#evaluation metrics :\n",
    "\n",
    "# Regression\n",
    "from sklearn.metrics import mean_squared_log_error,mean_squared_error, r2_score,mean_absolute_error \n",
    "\n",
    "# Classification\n",
    "from sklearn.metrics import accuracy_score,precision_score,recall_score,f1_score  \n",
    "\n",
    "\n",
    "# Deep Learning Libraries\n",
    "#%tensorflow_version 1.x\n",
    "import tensorflow as tf\n",
    "from keras.models import Sequential, load_model\n",
    "from keras.layers import Dense, Dropout, Flatten\n",
    "from keras.layers import Conv2D, MaxPooling2D, BatchNormalization\n",
    "from keras.optimizers import Adam,SGD,Adagrad,Adadelta,RMSprop\n",
    "from keras.preprocessing.image import ImageDataGenerator\n",
    "from keras.callbacks import ReduceLROnPlateau, LearningRateScheduler\n",
    "from keras.utils import to_categorical\n",
    "\n",
    "\n",
    "\n",
    "# Visualisation\n",
    "import matplotlib as mpl\n",
    "import matplotlib.pyplot as plt\n",
    "import matplotlib.pylab as pylab\n",
    "import seaborn as sns\n",
    "import missingno as msno\n",
    "\n",
    "\n",
    "\n",
    "# Configure visualisations\n",
    "%matplotlib inline\n",
    "mpl.style.use( 'ggplot' )\n",
    "plt.style.use('fivethirtyeight')\n",
    "sns.set(context=\"notebook\", palette=\"dark\", style = 'whitegrid' , color_codes=True)"
   ]
  },
  {
   "cell_type": "code",
   "execution_count": 0,
   "metadata": {
    "colab": {},
    "colab_type": "code",
    "id": "kqu13f36YlOO"
   },
   "outputs": [],
   "source": [
    "# Reading the csv \n",
    "data = pd.read_csv('/content/drive/My Drive/train.csv')\n",
    "data_test = pd.read_csv('/content/drive/My Drive/testX.csv')"
   ]
  },
  {
   "cell_type": "code",
   "execution_count": 3,
   "metadata": {
    "colab": {
     "base_uri": "https://localhost:8080/",
     "height": 253
    },
    "colab_type": "code",
    "id": "lyqsD8_lYlQ4",
    "outputId": "88be07e4-8a13-4b13-8212-1be846a6cec4"
   },
   "outputs": [
    {
     "data": {
      "text/html": [
       "<div>\n",
       "<style scoped>\n",
       "    .dataframe tbody tr th:only-of-type {\n",
       "        vertical-align: middle;\n",
       "    }\n",
       "\n",
       "    .dataframe tbody tr th {\n",
       "        vertical-align: top;\n",
       "    }\n",
       "\n",
       "    .dataframe thead th {\n",
       "        text-align: right;\n",
       "    }\n",
       "</style>\n",
       "<table border=\"1\" class=\"dataframe\">\n",
       "  <thead>\n",
       "    <tr style=\"text-align: right;\">\n",
       "      <th></th>\n",
       "      <th>Id</th>\n",
       "      <th>Label</th>\n",
       "      <th>1</th>\n",
       "      <th>2</th>\n",
       "      <th>3</th>\n",
       "      <th>4</th>\n",
       "      <th>5</th>\n",
       "      <th>6</th>\n",
       "      <th>7</th>\n",
       "      <th>8</th>\n",
       "      <th>9</th>\n",
       "      <th>10</th>\n",
       "      <th>11</th>\n",
       "      <th>12</th>\n",
       "      <th>13</th>\n",
       "      <th>14</th>\n",
       "      <th>15</th>\n",
       "      <th>16</th>\n",
       "      <th>17</th>\n",
       "      <th>18</th>\n",
       "      <th>19</th>\n",
       "      <th>20</th>\n",
       "      <th>21</th>\n",
       "      <th>22</th>\n",
       "      <th>23</th>\n",
       "      <th>24</th>\n",
       "      <th>25</th>\n",
       "      <th>26</th>\n",
       "      <th>27</th>\n",
       "      <th>28</th>\n",
       "      <th>29</th>\n",
       "      <th>30</th>\n",
       "      <th>31</th>\n",
       "      <th>32</th>\n",
       "      <th>33</th>\n",
       "      <th>34</th>\n",
       "      <th>35</th>\n",
       "      <th>36</th>\n",
       "      <th>37</th>\n",
       "      <th>38</th>\n",
       "      <th>...</th>\n",
       "      <th>745</th>\n",
       "      <th>746</th>\n",
       "      <th>747</th>\n",
       "      <th>748</th>\n",
       "      <th>749</th>\n",
       "      <th>750</th>\n",
       "      <th>751</th>\n",
       "      <th>752</th>\n",
       "      <th>753</th>\n",
       "      <th>754</th>\n",
       "      <th>755</th>\n",
       "      <th>756</th>\n",
       "      <th>757</th>\n",
       "      <th>758</th>\n",
       "      <th>759</th>\n",
       "      <th>760</th>\n",
       "      <th>761</th>\n",
       "      <th>762</th>\n",
       "      <th>763</th>\n",
       "      <th>764</th>\n",
       "      <th>765</th>\n",
       "      <th>766</th>\n",
       "      <th>767</th>\n",
       "      <th>768</th>\n",
       "      <th>769</th>\n",
       "      <th>770</th>\n",
       "      <th>771</th>\n",
       "      <th>772</th>\n",
       "      <th>773</th>\n",
       "      <th>774</th>\n",
       "      <th>775</th>\n",
       "      <th>776</th>\n",
       "      <th>777</th>\n",
       "      <th>778</th>\n",
       "      <th>779</th>\n",
       "      <th>780</th>\n",
       "      <th>781</th>\n",
       "      <th>782</th>\n",
       "      <th>783</th>\n",
       "      <th>784</th>\n",
       "    </tr>\n",
       "  </thead>\n",
       "  <tbody>\n",
       "    <tr>\n",
       "      <th>0</th>\n",
       "      <td>10000</td>\n",
       "      <td>4</td>\n",
       "      <td>0</td>\n",
       "      <td>0</td>\n",
       "      <td>0</td>\n",
       "      <td>0</td>\n",
       "      <td>0</td>\n",
       "      <td>0</td>\n",
       "      <td>0</td>\n",
       "      <td>0</td>\n",
       "      <td>0</td>\n",
       "      <td>0</td>\n",
       "      <td>0</td>\n",
       "      <td>0</td>\n",
       "      <td>0</td>\n",
       "      <td>0</td>\n",
       "      <td>0</td>\n",
       "      <td>0</td>\n",
       "      <td>0</td>\n",
       "      <td>0</td>\n",
       "      <td>0</td>\n",
       "      <td>0</td>\n",
       "      <td>0</td>\n",
       "      <td>0</td>\n",
       "      <td>0</td>\n",
       "      <td>0</td>\n",
       "      <td>0</td>\n",
       "      <td>0</td>\n",
       "      <td>0</td>\n",
       "      <td>0</td>\n",
       "      <td>0</td>\n",
       "      <td>0</td>\n",
       "      <td>0</td>\n",
       "      <td>0</td>\n",
       "      <td>0</td>\n",
       "      <td>0</td>\n",
       "      <td>0</td>\n",
       "      <td>0</td>\n",
       "      <td>0</td>\n",
       "      <td>0</td>\n",
       "      <td>...</td>\n",
       "      <td>0</td>\n",
       "      <td>0</td>\n",
       "      <td>0</td>\n",
       "      <td>0</td>\n",
       "      <td>0</td>\n",
       "      <td>0</td>\n",
       "      <td>0</td>\n",
       "      <td>0</td>\n",
       "      <td>0</td>\n",
       "      <td>0</td>\n",
       "      <td>0</td>\n",
       "      <td>0</td>\n",
       "      <td>0</td>\n",
       "      <td>0</td>\n",
       "      <td>0</td>\n",
       "      <td>0</td>\n",
       "      <td>0</td>\n",
       "      <td>0</td>\n",
       "      <td>0</td>\n",
       "      <td>0</td>\n",
       "      <td>0</td>\n",
       "      <td>0</td>\n",
       "      <td>0</td>\n",
       "      <td>0</td>\n",
       "      <td>0</td>\n",
       "      <td>0</td>\n",
       "      <td>0</td>\n",
       "      <td>0</td>\n",
       "      <td>0</td>\n",
       "      <td>0</td>\n",
       "      <td>0</td>\n",
       "      <td>0</td>\n",
       "      <td>0</td>\n",
       "      <td>0</td>\n",
       "      <td>0</td>\n",
       "      <td>0</td>\n",
       "      <td>0</td>\n",
       "      <td>0</td>\n",
       "      <td>0</td>\n",
       "      <td>0</td>\n",
       "    </tr>\n",
       "    <tr>\n",
       "      <th>1</th>\n",
       "      <td>10001</td>\n",
       "      <td>0</td>\n",
       "      <td>0</td>\n",
       "      <td>0</td>\n",
       "      <td>0</td>\n",
       "      <td>0</td>\n",
       "      <td>0</td>\n",
       "      <td>0</td>\n",
       "      <td>0</td>\n",
       "      <td>0</td>\n",
       "      <td>0</td>\n",
       "      <td>0</td>\n",
       "      <td>0</td>\n",
       "      <td>0</td>\n",
       "      <td>0</td>\n",
       "      <td>0</td>\n",
       "      <td>0</td>\n",
       "      <td>0</td>\n",
       "      <td>0</td>\n",
       "      <td>0</td>\n",
       "      <td>0</td>\n",
       "      <td>0</td>\n",
       "      <td>0</td>\n",
       "      <td>0</td>\n",
       "      <td>0</td>\n",
       "      <td>0</td>\n",
       "      <td>0</td>\n",
       "      <td>0</td>\n",
       "      <td>0</td>\n",
       "      <td>0</td>\n",
       "      <td>0</td>\n",
       "      <td>0</td>\n",
       "      <td>0</td>\n",
       "      <td>0</td>\n",
       "      <td>0</td>\n",
       "      <td>0</td>\n",
       "      <td>0</td>\n",
       "      <td>0</td>\n",
       "      <td>0</td>\n",
       "      <td>0</td>\n",
       "      <td>...</td>\n",
       "      <td>0</td>\n",
       "      <td>0</td>\n",
       "      <td>0</td>\n",
       "      <td>0</td>\n",
       "      <td>0</td>\n",
       "      <td>0</td>\n",
       "      <td>0</td>\n",
       "      <td>0</td>\n",
       "      <td>0</td>\n",
       "      <td>0</td>\n",
       "      <td>0</td>\n",
       "      <td>0</td>\n",
       "      <td>0</td>\n",
       "      <td>0</td>\n",
       "      <td>0</td>\n",
       "      <td>0</td>\n",
       "      <td>0</td>\n",
       "      <td>0</td>\n",
       "      <td>0</td>\n",
       "      <td>0</td>\n",
       "      <td>0</td>\n",
       "      <td>0</td>\n",
       "      <td>0</td>\n",
       "      <td>0</td>\n",
       "      <td>0</td>\n",
       "      <td>0</td>\n",
       "      <td>0</td>\n",
       "      <td>0</td>\n",
       "      <td>0</td>\n",
       "      <td>0</td>\n",
       "      <td>0</td>\n",
       "      <td>0</td>\n",
       "      <td>0</td>\n",
       "      <td>0</td>\n",
       "      <td>0</td>\n",
       "      <td>0</td>\n",
       "      <td>0</td>\n",
       "      <td>0</td>\n",
       "      <td>0</td>\n",
       "      <td>0</td>\n",
       "    </tr>\n",
       "    <tr>\n",
       "      <th>2</th>\n",
       "      <td>10002</td>\n",
       "      <td>0</td>\n",
       "      <td>0</td>\n",
       "      <td>0</td>\n",
       "      <td>0</td>\n",
       "      <td>0</td>\n",
       "      <td>0</td>\n",
       "      <td>0</td>\n",
       "      <td>0</td>\n",
       "      <td>0</td>\n",
       "      <td>1</td>\n",
       "      <td>0</td>\n",
       "      <td>0</td>\n",
       "      <td>44</td>\n",
       "      <td>48</td>\n",
       "      <td>147</td>\n",
       "      <td>59</td>\n",
       "      <td>0</td>\n",
       "      <td>78</td>\n",
       "      <td>20</td>\n",
       "      <td>0</td>\n",
       "      <td>0</td>\n",
       "      <td>0</td>\n",
       "      <td>0</td>\n",
       "      <td>0</td>\n",
       "      <td>0</td>\n",
       "      <td>0</td>\n",
       "      <td>0</td>\n",
       "      <td>0</td>\n",
       "      <td>0</td>\n",
       "      <td>0</td>\n",
       "      <td>0</td>\n",
       "      <td>0</td>\n",
       "      <td>0</td>\n",
       "      <td>0</td>\n",
       "      <td>0</td>\n",
       "      <td>0</td>\n",
       "      <td>0</td>\n",
       "      <td>0</td>\n",
       "      <td>0</td>\n",
       "      <td>...</td>\n",
       "      <td>189</td>\n",
       "      <td>113</td>\n",
       "      <td>111</td>\n",
       "      <td>113</td>\n",
       "      <td>27</td>\n",
       "      <td>0</td>\n",
       "      <td>0</td>\n",
       "      <td>0</td>\n",
       "      <td>0</td>\n",
       "      <td>0</td>\n",
       "      <td>0</td>\n",
       "      <td>0</td>\n",
       "      <td>0</td>\n",
       "      <td>0</td>\n",
       "      <td>0</td>\n",
       "      <td>0</td>\n",
       "      <td>0</td>\n",
       "      <td>0</td>\n",
       "      <td>1</td>\n",
       "      <td>0</td>\n",
       "      <td>0</td>\n",
       "      <td>98</td>\n",
       "      <td>33</td>\n",
       "      <td>70</td>\n",
       "      <td>72</td>\n",
       "      <td>74</td>\n",
       "      <td>46</td>\n",
       "      <td>68</td>\n",
       "      <td>37</td>\n",
       "      <td>40</td>\n",
       "      <td>31</td>\n",
       "      <td>9</td>\n",
       "      <td>0</td>\n",
       "      <td>0</td>\n",
       "      <td>0</td>\n",
       "      <td>0</td>\n",
       "      <td>0</td>\n",
       "      <td>0</td>\n",
       "      <td>0</td>\n",
       "      <td>0</td>\n",
       "    </tr>\n",
       "    <tr>\n",
       "      <th>3</th>\n",
       "      <td>10003</td>\n",
       "      <td>4</td>\n",
       "      <td>0</td>\n",
       "      <td>0</td>\n",
       "      <td>0</td>\n",
       "      <td>0</td>\n",
       "      <td>0</td>\n",
       "      <td>0</td>\n",
       "      <td>0</td>\n",
       "      <td>0</td>\n",
       "      <td>0</td>\n",
       "      <td>0</td>\n",
       "      <td>0</td>\n",
       "      <td>0</td>\n",
       "      <td>0</td>\n",
       "      <td>0</td>\n",
       "      <td>0</td>\n",
       "      <td>0</td>\n",
       "      <td>0</td>\n",
       "      <td>0</td>\n",
       "      <td>0</td>\n",
       "      <td>0</td>\n",
       "      <td>0</td>\n",
       "      <td>0</td>\n",
       "      <td>0</td>\n",
       "      <td>0</td>\n",
       "      <td>0</td>\n",
       "      <td>0</td>\n",
       "      <td>0</td>\n",
       "      <td>0</td>\n",
       "      <td>0</td>\n",
       "      <td>0</td>\n",
       "      <td>0</td>\n",
       "      <td>0</td>\n",
       "      <td>0</td>\n",
       "      <td>0</td>\n",
       "      <td>0</td>\n",
       "      <td>0</td>\n",
       "      <td>0</td>\n",
       "      <td>0</td>\n",
       "      <td>...</td>\n",
       "      <td>0</td>\n",
       "      <td>0</td>\n",
       "      <td>0</td>\n",
       "      <td>0</td>\n",
       "      <td>0</td>\n",
       "      <td>0</td>\n",
       "      <td>0</td>\n",
       "      <td>0</td>\n",
       "      <td>0</td>\n",
       "      <td>0</td>\n",
       "      <td>0</td>\n",
       "      <td>0</td>\n",
       "      <td>0</td>\n",
       "      <td>0</td>\n",
       "      <td>0</td>\n",
       "      <td>0</td>\n",
       "      <td>0</td>\n",
       "      <td>0</td>\n",
       "      <td>0</td>\n",
       "      <td>0</td>\n",
       "      <td>0</td>\n",
       "      <td>0</td>\n",
       "      <td>0</td>\n",
       "      <td>0</td>\n",
       "      <td>0</td>\n",
       "      <td>0</td>\n",
       "      <td>0</td>\n",
       "      <td>0</td>\n",
       "      <td>0</td>\n",
       "      <td>0</td>\n",
       "      <td>0</td>\n",
       "      <td>0</td>\n",
       "      <td>0</td>\n",
       "      <td>0</td>\n",
       "      <td>0</td>\n",
       "      <td>0</td>\n",
       "      <td>0</td>\n",
       "      <td>0</td>\n",
       "      <td>0</td>\n",
       "      <td>0</td>\n",
       "    </tr>\n",
       "    <tr>\n",
       "      <th>4</th>\n",
       "      <td>10004</td>\n",
       "      <td>1</td>\n",
       "      <td>0</td>\n",
       "      <td>0</td>\n",
       "      <td>0</td>\n",
       "      <td>0</td>\n",
       "      <td>0</td>\n",
       "      <td>0</td>\n",
       "      <td>0</td>\n",
       "      <td>0</td>\n",
       "      <td>0</td>\n",
       "      <td>0</td>\n",
       "      <td>0</td>\n",
       "      <td>0</td>\n",
       "      <td>0</td>\n",
       "      <td>0</td>\n",
       "      <td>0</td>\n",
       "      <td>0</td>\n",
       "      <td>0</td>\n",
       "      <td>0</td>\n",
       "      <td>0</td>\n",
       "      <td>0</td>\n",
       "      <td>0</td>\n",
       "      <td>0</td>\n",
       "      <td>0</td>\n",
       "      <td>0</td>\n",
       "      <td>0</td>\n",
       "      <td>0</td>\n",
       "      <td>0</td>\n",
       "      <td>0</td>\n",
       "      <td>0</td>\n",
       "      <td>0</td>\n",
       "      <td>0</td>\n",
       "      <td>0</td>\n",
       "      <td>0</td>\n",
       "      <td>0</td>\n",
       "      <td>0</td>\n",
       "      <td>0</td>\n",
       "      <td>0</td>\n",
       "      <td>0</td>\n",
       "      <td>...</td>\n",
       "      <td>0</td>\n",
       "      <td>0</td>\n",
       "      <td>0</td>\n",
       "      <td>0</td>\n",
       "      <td>0</td>\n",
       "      <td>0</td>\n",
       "      <td>0</td>\n",
       "      <td>0</td>\n",
       "      <td>0</td>\n",
       "      <td>0</td>\n",
       "      <td>0</td>\n",
       "      <td>0</td>\n",
       "      <td>0</td>\n",
       "      <td>0</td>\n",
       "      <td>0</td>\n",
       "      <td>0</td>\n",
       "      <td>0</td>\n",
       "      <td>0</td>\n",
       "      <td>0</td>\n",
       "      <td>0</td>\n",
       "      <td>0</td>\n",
       "      <td>0</td>\n",
       "      <td>0</td>\n",
       "      <td>0</td>\n",
       "      <td>0</td>\n",
       "      <td>0</td>\n",
       "      <td>0</td>\n",
       "      <td>0</td>\n",
       "      <td>0</td>\n",
       "      <td>0</td>\n",
       "      <td>0</td>\n",
       "      <td>0</td>\n",
       "      <td>0</td>\n",
       "      <td>0</td>\n",
       "      <td>0</td>\n",
       "      <td>0</td>\n",
       "      <td>0</td>\n",
       "      <td>0</td>\n",
       "      <td>0</td>\n",
       "      <td>0</td>\n",
       "    </tr>\n",
       "  </tbody>\n",
       "</table>\n",
       "<p>5 rows × 786 columns</p>\n",
       "</div>"
      ],
      "text/plain": [
       "      Id  Label  1  2  3  4  5  6  ...  777  778  779  780  781  782  783  784\n",
       "0  10000      4  0  0  0  0  0  0  ...    0    0    0    0    0    0    0    0\n",
       "1  10001      0  0  0  0  0  0  0  ...    0    0    0    0    0    0    0    0\n",
       "2  10002      0  0  0  0  0  0  0  ...    0    0    0    0    0    0    0    0\n",
       "3  10003      4  0  0  0  0  0  0  ...    0    0    0    0    0    0    0    0\n",
       "4  10004      1  0  0  0  0  0  0  ...    0    0    0    0    0    0    0    0\n",
       "\n",
       "[5 rows x 786 columns]"
      ]
     },
     "execution_count": 3,
     "metadata": {
      "tags": []
     },
     "output_type": "execute_result"
    }
   ],
   "source": [
    "data.head()"
   ]
  },
  {
   "cell_type": "code",
   "execution_count": 0,
   "metadata": {
    "colab": {},
    "colab_type": "code",
    "id": "h61-9vx7YlTq"
   },
   "outputs": [],
   "source": [
    "# Dropping Id and Label columns from the train data\n",
    "\n",
    "train_data = data.drop(['Id','Label'],axis=1)"
   ]
  },
  {
   "cell_type": "code",
   "execution_count": 5,
   "metadata": {
    "colab": {
     "base_uri": "https://localhost:8080/",
     "height": 253
    },
    "colab_type": "code",
    "id": "XJT5XIc-YlWu",
    "outputId": "9dc43c97-d687-4b3a-ff94-d78c2a0bd04a"
   },
   "outputs": [
    {
     "data": {
      "text/html": [
       "<div>\n",
       "<style scoped>\n",
       "    .dataframe tbody tr th:only-of-type {\n",
       "        vertical-align: middle;\n",
       "    }\n",
       "\n",
       "    .dataframe tbody tr th {\n",
       "        vertical-align: top;\n",
       "    }\n",
       "\n",
       "    .dataframe thead th {\n",
       "        text-align: right;\n",
       "    }\n",
       "</style>\n",
       "<table border=\"1\" class=\"dataframe\">\n",
       "  <thead>\n",
       "    <tr style=\"text-align: right;\">\n",
       "      <th></th>\n",
       "      <th>1</th>\n",
       "      <th>2</th>\n",
       "      <th>3</th>\n",
       "      <th>4</th>\n",
       "      <th>5</th>\n",
       "      <th>6</th>\n",
       "      <th>7</th>\n",
       "      <th>8</th>\n",
       "      <th>9</th>\n",
       "      <th>10</th>\n",
       "      <th>11</th>\n",
       "      <th>12</th>\n",
       "      <th>13</th>\n",
       "      <th>14</th>\n",
       "      <th>15</th>\n",
       "      <th>16</th>\n",
       "      <th>17</th>\n",
       "      <th>18</th>\n",
       "      <th>19</th>\n",
       "      <th>20</th>\n",
       "      <th>21</th>\n",
       "      <th>22</th>\n",
       "      <th>23</th>\n",
       "      <th>24</th>\n",
       "      <th>25</th>\n",
       "      <th>26</th>\n",
       "      <th>27</th>\n",
       "      <th>28</th>\n",
       "      <th>29</th>\n",
       "      <th>30</th>\n",
       "      <th>31</th>\n",
       "      <th>32</th>\n",
       "      <th>33</th>\n",
       "      <th>34</th>\n",
       "      <th>35</th>\n",
       "      <th>36</th>\n",
       "      <th>37</th>\n",
       "      <th>38</th>\n",
       "      <th>39</th>\n",
       "      <th>40</th>\n",
       "      <th>...</th>\n",
       "      <th>745</th>\n",
       "      <th>746</th>\n",
       "      <th>747</th>\n",
       "      <th>748</th>\n",
       "      <th>749</th>\n",
       "      <th>750</th>\n",
       "      <th>751</th>\n",
       "      <th>752</th>\n",
       "      <th>753</th>\n",
       "      <th>754</th>\n",
       "      <th>755</th>\n",
       "      <th>756</th>\n",
       "      <th>757</th>\n",
       "      <th>758</th>\n",
       "      <th>759</th>\n",
       "      <th>760</th>\n",
       "      <th>761</th>\n",
       "      <th>762</th>\n",
       "      <th>763</th>\n",
       "      <th>764</th>\n",
       "      <th>765</th>\n",
       "      <th>766</th>\n",
       "      <th>767</th>\n",
       "      <th>768</th>\n",
       "      <th>769</th>\n",
       "      <th>770</th>\n",
       "      <th>771</th>\n",
       "      <th>772</th>\n",
       "      <th>773</th>\n",
       "      <th>774</th>\n",
       "      <th>775</th>\n",
       "      <th>776</th>\n",
       "      <th>777</th>\n",
       "      <th>778</th>\n",
       "      <th>779</th>\n",
       "      <th>780</th>\n",
       "      <th>781</th>\n",
       "      <th>782</th>\n",
       "      <th>783</th>\n",
       "      <th>784</th>\n",
       "    </tr>\n",
       "  </thead>\n",
       "  <tbody>\n",
       "    <tr>\n",
       "      <th>0</th>\n",
       "      <td>0</td>\n",
       "      <td>0</td>\n",
       "      <td>0</td>\n",
       "      <td>0</td>\n",
       "      <td>0</td>\n",
       "      <td>0</td>\n",
       "      <td>0</td>\n",
       "      <td>0</td>\n",
       "      <td>0</td>\n",
       "      <td>0</td>\n",
       "      <td>0</td>\n",
       "      <td>0</td>\n",
       "      <td>0</td>\n",
       "      <td>0</td>\n",
       "      <td>0</td>\n",
       "      <td>0</td>\n",
       "      <td>0</td>\n",
       "      <td>0</td>\n",
       "      <td>0</td>\n",
       "      <td>0</td>\n",
       "      <td>0</td>\n",
       "      <td>0</td>\n",
       "      <td>0</td>\n",
       "      <td>0</td>\n",
       "      <td>0</td>\n",
       "      <td>0</td>\n",
       "      <td>0</td>\n",
       "      <td>0</td>\n",
       "      <td>0</td>\n",
       "      <td>0</td>\n",
       "      <td>0</td>\n",
       "      <td>0</td>\n",
       "      <td>0</td>\n",
       "      <td>0</td>\n",
       "      <td>0</td>\n",
       "      <td>0</td>\n",
       "      <td>0</td>\n",
       "      <td>0</td>\n",
       "      <td>0</td>\n",
       "      <td>0</td>\n",
       "      <td>...</td>\n",
       "      <td>0</td>\n",
       "      <td>0</td>\n",
       "      <td>0</td>\n",
       "      <td>0</td>\n",
       "      <td>0</td>\n",
       "      <td>0</td>\n",
       "      <td>0</td>\n",
       "      <td>0</td>\n",
       "      <td>0</td>\n",
       "      <td>0</td>\n",
       "      <td>0</td>\n",
       "      <td>0</td>\n",
       "      <td>0</td>\n",
       "      <td>0</td>\n",
       "      <td>0</td>\n",
       "      <td>0</td>\n",
       "      <td>0</td>\n",
       "      <td>0</td>\n",
       "      <td>0</td>\n",
       "      <td>0</td>\n",
       "      <td>0</td>\n",
       "      <td>0</td>\n",
       "      <td>0</td>\n",
       "      <td>0</td>\n",
       "      <td>0</td>\n",
       "      <td>0</td>\n",
       "      <td>0</td>\n",
       "      <td>0</td>\n",
       "      <td>0</td>\n",
       "      <td>0</td>\n",
       "      <td>0</td>\n",
       "      <td>0</td>\n",
       "      <td>0</td>\n",
       "      <td>0</td>\n",
       "      <td>0</td>\n",
       "      <td>0</td>\n",
       "      <td>0</td>\n",
       "      <td>0</td>\n",
       "      <td>0</td>\n",
       "      <td>0</td>\n",
       "    </tr>\n",
       "    <tr>\n",
       "      <th>1</th>\n",
       "      <td>0</td>\n",
       "      <td>0</td>\n",
       "      <td>0</td>\n",
       "      <td>0</td>\n",
       "      <td>0</td>\n",
       "      <td>0</td>\n",
       "      <td>0</td>\n",
       "      <td>0</td>\n",
       "      <td>0</td>\n",
       "      <td>0</td>\n",
       "      <td>0</td>\n",
       "      <td>0</td>\n",
       "      <td>0</td>\n",
       "      <td>0</td>\n",
       "      <td>0</td>\n",
       "      <td>0</td>\n",
       "      <td>0</td>\n",
       "      <td>0</td>\n",
       "      <td>0</td>\n",
       "      <td>0</td>\n",
       "      <td>0</td>\n",
       "      <td>0</td>\n",
       "      <td>0</td>\n",
       "      <td>0</td>\n",
       "      <td>0</td>\n",
       "      <td>0</td>\n",
       "      <td>0</td>\n",
       "      <td>0</td>\n",
       "      <td>0</td>\n",
       "      <td>0</td>\n",
       "      <td>0</td>\n",
       "      <td>0</td>\n",
       "      <td>0</td>\n",
       "      <td>0</td>\n",
       "      <td>0</td>\n",
       "      <td>0</td>\n",
       "      <td>0</td>\n",
       "      <td>0</td>\n",
       "      <td>0</td>\n",
       "      <td>0</td>\n",
       "      <td>...</td>\n",
       "      <td>0</td>\n",
       "      <td>0</td>\n",
       "      <td>0</td>\n",
       "      <td>0</td>\n",
       "      <td>0</td>\n",
       "      <td>0</td>\n",
       "      <td>0</td>\n",
       "      <td>0</td>\n",
       "      <td>0</td>\n",
       "      <td>0</td>\n",
       "      <td>0</td>\n",
       "      <td>0</td>\n",
       "      <td>0</td>\n",
       "      <td>0</td>\n",
       "      <td>0</td>\n",
       "      <td>0</td>\n",
       "      <td>0</td>\n",
       "      <td>0</td>\n",
       "      <td>0</td>\n",
       "      <td>0</td>\n",
       "      <td>0</td>\n",
       "      <td>0</td>\n",
       "      <td>0</td>\n",
       "      <td>0</td>\n",
       "      <td>0</td>\n",
       "      <td>0</td>\n",
       "      <td>0</td>\n",
       "      <td>0</td>\n",
       "      <td>0</td>\n",
       "      <td>0</td>\n",
       "      <td>0</td>\n",
       "      <td>0</td>\n",
       "      <td>0</td>\n",
       "      <td>0</td>\n",
       "      <td>0</td>\n",
       "      <td>0</td>\n",
       "      <td>0</td>\n",
       "      <td>0</td>\n",
       "      <td>0</td>\n",
       "      <td>0</td>\n",
       "    </tr>\n",
       "    <tr>\n",
       "      <th>2</th>\n",
       "      <td>0</td>\n",
       "      <td>0</td>\n",
       "      <td>0</td>\n",
       "      <td>0</td>\n",
       "      <td>0</td>\n",
       "      <td>0</td>\n",
       "      <td>0</td>\n",
       "      <td>0</td>\n",
       "      <td>1</td>\n",
       "      <td>0</td>\n",
       "      <td>0</td>\n",
       "      <td>44</td>\n",
       "      <td>48</td>\n",
       "      <td>147</td>\n",
       "      <td>59</td>\n",
       "      <td>0</td>\n",
       "      <td>78</td>\n",
       "      <td>20</td>\n",
       "      <td>0</td>\n",
       "      <td>0</td>\n",
       "      <td>0</td>\n",
       "      <td>0</td>\n",
       "      <td>0</td>\n",
       "      <td>0</td>\n",
       "      <td>0</td>\n",
       "      <td>0</td>\n",
       "      <td>0</td>\n",
       "      <td>0</td>\n",
       "      <td>0</td>\n",
       "      <td>0</td>\n",
       "      <td>0</td>\n",
       "      <td>0</td>\n",
       "      <td>0</td>\n",
       "      <td>0</td>\n",
       "      <td>0</td>\n",
       "      <td>0</td>\n",
       "      <td>0</td>\n",
       "      <td>0</td>\n",
       "      <td>24</td>\n",
       "      <td>76</td>\n",
       "      <td>...</td>\n",
       "      <td>189</td>\n",
       "      <td>113</td>\n",
       "      <td>111</td>\n",
       "      <td>113</td>\n",
       "      <td>27</td>\n",
       "      <td>0</td>\n",
       "      <td>0</td>\n",
       "      <td>0</td>\n",
       "      <td>0</td>\n",
       "      <td>0</td>\n",
       "      <td>0</td>\n",
       "      <td>0</td>\n",
       "      <td>0</td>\n",
       "      <td>0</td>\n",
       "      <td>0</td>\n",
       "      <td>0</td>\n",
       "      <td>0</td>\n",
       "      <td>0</td>\n",
       "      <td>1</td>\n",
       "      <td>0</td>\n",
       "      <td>0</td>\n",
       "      <td>98</td>\n",
       "      <td>33</td>\n",
       "      <td>70</td>\n",
       "      <td>72</td>\n",
       "      <td>74</td>\n",
       "      <td>46</td>\n",
       "      <td>68</td>\n",
       "      <td>37</td>\n",
       "      <td>40</td>\n",
       "      <td>31</td>\n",
       "      <td>9</td>\n",
       "      <td>0</td>\n",
       "      <td>0</td>\n",
       "      <td>0</td>\n",
       "      <td>0</td>\n",
       "      <td>0</td>\n",
       "      <td>0</td>\n",
       "      <td>0</td>\n",
       "      <td>0</td>\n",
       "    </tr>\n",
       "    <tr>\n",
       "      <th>3</th>\n",
       "      <td>0</td>\n",
       "      <td>0</td>\n",
       "      <td>0</td>\n",
       "      <td>0</td>\n",
       "      <td>0</td>\n",
       "      <td>0</td>\n",
       "      <td>0</td>\n",
       "      <td>0</td>\n",
       "      <td>0</td>\n",
       "      <td>0</td>\n",
       "      <td>0</td>\n",
       "      <td>0</td>\n",
       "      <td>0</td>\n",
       "      <td>0</td>\n",
       "      <td>0</td>\n",
       "      <td>0</td>\n",
       "      <td>0</td>\n",
       "      <td>0</td>\n",
       "      <td>0</td>\n",
       "      <td>0</td>\n",
       "      <td>0</td>\n",
       "      <td>0</td>\n",
       "      <td>0</td>\n",
       "      <td>0</td>\n",
       "      <td>0</td>\n",
       "      <td>0</td>\n",
       "      <td>0</td>\n",
       "      <td>0</td>\n",
       "      <td>0</td>\n",
       "      <td>0</td>\n",
       "      <td>0</td>\n",
       "      <td>0</td>\n",
       "      <td>0</td>\n",
       "      <td>0</td>\n",
       "      <td>0</td>\n",
       "      <td>0</td>\n",
       "      <td>0</td>\n",
       "      <td>0</td>\n",
       "      <td>0</td>\n",
       "      <td>0</td>\n",
       "      <td>...</td>\n",
       "      <td>0</td>\n",
       "      <td>0</td>\n",
       "      <td>0</td>\n",
       "      <td>0</td>\n",
       "      <td>0</td>\n",
       "      <td>0</td>\n",
       "      <td>0</td>\n",
       "      <td>0</td>\n",
       "      <td>0</td>\n",
       "      <td>0</td>\n",
       "      <td>0</td>\n",
       "      <td>0</td>\n",
       "      <td>0</td>\n",
       "      <td>0</td>\n",
       "      <td>0</td>\n",
       "      <td>0</td>\n",
       "      <td>0</td>\n",
       "      <td>0</td>\n",
       "      <td>0</td>\n",
       "      <td>0</td>\n",
       "      <td>0</td>\n",
       "      <td>0</td>\n",
       "      <td>0</td>\n",
       "      <td>0</td>\n",
       "      <td>0</td>\n",
       "      <td>0</td>\n",
       "      <td>0</td>\n",
       "      <td>0</td>\n",
       "      <td>0</td>\n",
       "      <td>0</td>\n",
       "      <td>0</td>\n",
       "      <td>0</td>\n",
       "      <td>0</td>\n",
       "      <td>0</td>\n",
       "      <td>0</td>\n",
       "      <td>0</td>\n",
       "      <td>0</td>\n",
       "      <td>0</td>\n",
       "      <td>0</td>\n",
       "      <td>0</td>\n",
       "    </tr>\n",
       "    <tr>\n",
       "      <th>4</th>\n",
       "      <td>0</td>\n",
       "      <td>0</td>\n",
       "      <td>0</td>\n",
       "      <td>0</td>\n",
       "      <td>0</td>\n",
       "      <td>0</td>\n",
       "      <td>0</td>\n",
       "      <td>0</td>\n",
       "      <td>0</td>\n",
       "      <td>0</td>\n",
       "      <td>0</td>\n",
       "      <td>0</td>\n",
       "      <td>0</td>\n",
       "      <td>0</td>\n",
       "      <td>0</td>\n",
       "      <td>0</td>\n",
       "      <td>0</td>\n",
       "      <td>0</td>\n",
       "      <td>0</td>\n",
       "      <td>0</td>\n",
       "      <td>0</td>\n",
       "      <td>0</td>\n",
       "      <td>0</td>\n",
       "      <td>0</td>\n",
       "      <td>0</td>\n",
       "      <td>0</td>\n",
       "      <td>0</td>\n",
       "      <td>0</td>\n",
       "      <td>0</td>\n",
       "      <td>0</td>\n",
       "      <td>0</td>\n",
       "      <td>0</td>\n",
       "      <td>0</td>\n",
       "      <td>0</td>\n",
       "      <td>0</td>\n",
       "      <td>0</td>\n",
       "      <td>0</td>\n",
       "      <td>0</td>\n",
       "      <td>0</td>\n",
       "      <td>0</td>\n",
       "      <td>...</td>\n",
       "      <td>0</td>\n",
       "      <td>0</td>\n",
       "      <td>0</td>\n",
       "      <td>0</td>\n",
       "      <td>0</td>\n",
       "      <td>0</td>\n",
       "      <td>0</td>\n",
       "      <td>0</td>\n",
       "      <td>0</td>\n",
       "      <td>0</td>\n",
       "      <td>0</td>\n",
       "      <td>0</td>\n",
       "      <td>0</td>\n",
       "      <td>0</td>\n",
       "      <td>0</td>\n",
       "      <td>0</td>\n",
       "      <td>0</td>\n",
       "      <td>0</td>\n",
       "      <td>0</td>\n",
       "      <td>0</td>\n",
       "      <td>0</td>\n",
       "      <td>0</td>\n",
       "      <td>0</td>\n",
       "      <td>0</td>\n",
       "      <td>0</td>\n",
       "      <td>0</td>\n",
       "      <td>0</td>\n",
       "      <td>0</td>\n",
       "      <td>0</td>\n",
       "      <td>0</td>\n",
       "      <td>0</td>\n",
       "      <td>0</td>\n",
       "      <td>0</td>\n",
       "      <td>0</td>\n",
       "      <td>0</td>\n",
       "      <td>0</td>\n",
       "      <td>0</td>\n",
       "      <td>0</td>\n",
       "      <td>0</td>\n",
       "      <td>0</td>\n",
       "    </tr>\n",
       "  </tbody>\n",
       "</table>\n",
       "<p>5 rows × 784 columns</p>\n",
       "</div>"
      ],
      "text/plain": [
       "   1  2  3  4  5  6  7  8  9  ...  776  777  778  779  780  781  782  783  784\n",
       "0  0  0  0  0  0  0  0  0  0  ...    0    0    0    0    0    0    0    0    0\n",
       "1  0  0  0  0  0  0  0  0  0  ...    0    0    0    0    0    0    0    0    0\n",
       "2  0  0  0  0  0  0  0  0  1  ...    9    0    0    0    0    0    0    0    0\n",
       "3  0  0  0  0  0  0  0  0  0  ...    0    0    0    0    0    0    0    0    0\n",
       "4  0  0  0  0  0  0  0  0  0  ...    0    0    0    0    0    0    0    0    0\n",
       "\n",
       "[5 rows x 784 columns]"
      ]
     },
     "execution_count": 5,
     "metadata": {
      "tags": []
     },
     "output_type": "execute_result"
    }
   ],
   "source": [
    "train_data.head()"
   ]
  },
  {
   "cell_type": "code",
   "execution_count": 6,
   "metadata": {
    "colab": {
     "base_uri": "https://localhost:8080/",
     "height": 34
    },
    "colab_type": "code",
    "id": "CnTUhIZuYlZH",
    "outputId": "272cfc89-cecc-40be-cdd4-cc30f2681d08"
   },
   "outputs": [
    {
     "data": {
      "text/plain": [
       "(60000, 784)"
      ]
     },
     "execution_count": 6,
     "metadata": {
      "tags": []
     },
     "output_type": "execute_result"
    }
   ],
   "source": [
    "train_data.shape"
   ]
  },
  {
   "cell_type": "code",
   "execution_count": 7,
   "metadata": {
    "colab": {
     "base_uri": "https://localhost:8080/",
     "height": 253
    },
    "colab_type": "code",
    "id": "fzrmy0JJYlbz",
    "outputId": "1f8da9ee-4434-47ac-cf59-4ce0aa9a523b"
   },
   "outputs": [
    {
     "data": {
      "text/html": [
       "<div>\n",
       "<style scoped>\n",
       "    .dataframe tbody tr th:only-of-type {\n",
       "        vertical-align: middle;\n",
       "    }\n",
       "\n",
       "    .dataframe tbody tr th {\n",
       "        vertical-align: top;\n",
       "    }\n",
       "\n",
       "    .dataframe thead th {\n",
       "        text-align: right;\n",
       "    }\n",
       "</style>\n",
       "<table border=\"1\" class=\"dataframe\">\n",
       "  <thead>\n",
       "    <tr style=\"text-align: right;\">\n",
       "      <th></th>\n",
       "      <th>Id</th>\n",
       "      <th>0</th>\n",
       "      <th>1</th>\n",
       "      <th>2</th>\n",
       "      <th>3</th>\n",
       "      <th>4</th>\n",
       "      <th>5</th>\n",
       "      <th>6</th>\n",
       "      <th>7</th>\n",
       "      <th>8</th>\n",
       "      <th>9</th>\n",
       "      <th>10</th>\n",
       "      <th>11</th>\n",
       "      <th>12</th>\n",
       "      <th>13</th>\n",
       "      <th>14</th>\n",
       "      <th>15</th>\n",
       "      <th>16</th>\n",
       "      <th>17</th>\n",
       "      <th>18</th>\n",
       "      <th>19</th>\n",
       "      <th>20</th>\n",
       "      <th>21</th>\n",
       "      <th>22</th>\n",
       "      <th>23</th>\n",
       "      <th>24</th>\n",
       "      <th>25</th>\n",
       "      <th>26</th>\n",
       "      <th>27</th>\n",
       "      <th>28</th>\n",
       "      <th>29</th>\n",
       "      <th>30</th>\n",
       "      <th>31</th>\n",
       "      <th>32</th>\n",
       "      <th>33</th>\n",
       "      <th>34</th>\n",
       "      <th>35</th>\n",
       "      <th>36</th>\n",
       "      <th>37</th>\n",
       "      <th>38</th>\n",
       "      <th>...</th>\n",
       "      <th>744</th>\n",
       "      <th>745</th>\n",
       "      <th>746</th>\n",
       "      <th>747</th>\n",
       "      <th>748</th>\n",
       "      <th>749</th>\n",
       "      <th>750</th>\n",
       "      <th>751</th>\n",
       "      <th>752</th>\n",
       "      <th>753</th>\n",
       "      <th>754</th>\n",
       "      <th>755</th>\n",
       "      <th>756</th>\n",
       "      <th>757</th>\n",
       "      <th>758</th>\n",
       "      <th>759</th>\n",
       "      <th>760</th>\n",
       "      <th>761</th>\n",
       "      <th>762</th>\n",
       "      <th>763</th>\n",
       "      <th>764</th>\n",
       "      <th>765</th>\n",
       "      <th>766</th>\n",
       "      <th>767</th>\n",
       "      <th>768</th>\n",
       "      <th>769</th>\n",
       "      <th>770</th>\n",
       "      <th>771</th>\n",
       "      <th>772</th>\n",
       "      <th>773</th>\n",
       "      <th>774</th>\n",
       "      <th>775</th>\n",
       "      <th>776</th>\n",
       "      <th>777</th>\n",
       "      <th>778</th>\n",
       "      <th>779</th>\n",
       "      <th>780</th>\n",
       "      <th>781</th>\n",
       "      <th>782</th>\n",
       "      <th>783</th>\n",
       "    </tr>\n",
       "  </thead>\n",
       "  <tbody>\n",
       "    <tr>\n",
       "      <th>0</th>\n",
       "      <td>0</td>\n",
       "      <td>0</td>\n",
       "      <td>0</td>\n",
       "      <td>0</td>\n",
       "      <td>0</td>\n",
       "      <td>0</td>\n",
       "      <td>0</td>\n",
       "      <td>0</td>\n",
       "      <td>0</td>\n",
       "      <td>0</td>\n",
       "      <td>0</td>\n",
       "      <td>0</td>\n",
       "      <td>0</td>\n",
       "      <td>0</td>\n",
       "      <td>0</td>\n",
       "      <td>0</td>\n",
       "      <td>0</td>\n",
       "      <td>0</td>\n",
       "      <td>0</td>\n",
       "      <td>0</td>\n",
       "      <td>0</td>\n",
       "      <td>0</td>\n",
       "      <td>0</td>\n",
       "      <td>0</td>\n",
       "      <td>0</td>\n",
       "      <td>0</td>\n",
       "      <td>0</td>\n",
       "      <td>0</td>\n",
       "      <td>0</td>\n",
       "      <td>0</td>\n",
       "      <td>0</td>\n",
       "      <td>0</td>\n",
       "      <td>0</td>\n",
       "      <td>0</td>\n",
       "      <td>0</td>\n",
       "      <td>0</td>\n",
       "      <td>0</td>\n",
       "      <td>0</td>\n",
       "      <td>0</td>\n",
       "      <td>0</td>\n",
       "      <td>...</td>\n",
       "      <td>0</td>\n",
       "      <td>0</td>\n",
       "      <td>0</td>\n",
       "      <td>0</td>\n",
       "      <td>0</td>\n",
       "      <td>0</td>\n",
       "      <td>0</td>\n",
       "      <td>0</td>\n",
       "      <td>0</td>\n",
       "      <td>0</td>\n",
       "      <td>0</td>\n",
       "      <td>0</td>\n",
       "      <td>0</td>\n",
       "      <td>0</td>\n",
       "      <td>0</td>\n",
       "      <td>0</td>\n",
       "      <td>0</td>\n",
       "      <td>0</td>\n",
       "      <td>0</td>\n",
       "      <td>0</td>\n",
       "      <td>0</td>\n",
       "      <td>0</td>\n",
       "      <td>0</td>\n",
       "      <td>0</td>\n",
       "      <td>0</td>\n",
       "      <td>0</td>\n",
       "      <td>0</td>\n",
       "      <td>0</td>\n",
       "      <td>0</td>\n",
       "      <td>0</td>\n",
       "      <td>0</td>\n",
       "      <td>0</td>\n",
       "      <td>0</td>\n",
       "      <td>0</td>\n",
       "      <td>0</td>\n",
       "      <td>0</td>\n",
       "      <td>0</td>\n",
       "      <td>0</td>\n",
       "      <td>0</td>\n",
       "      <td>0</td>\n",
       "    </tr>\n",
       "    <tr>\n",
       "      <th>1</th>\n",
       "      <td>1</td>\n",
       "      <td>0</td>\n",
       "      <td>0</td>\n",
       "      <td>0</td>\n",
       "      <td>0</td>\n",
       "      <td>0</td>\n",
       "      <td>1</td>\n",
       "      <td>0</td>\n",
       "      <td>0</td>\n",
       "      <td>0</td>\n",
       "      <td>0</td>\n",
       "      <td>41</td>\n",
       "      <td>188</td>\n",
       "      <td>103</td>\n",
       "      <td>54</td>\n",
       "      <td>48</td>\n",
       "      <td>43</td>\n",
       "      <td>87</td>\n",
       "      <td>168</td>\n",
       "      <td>133</td>\n",
       "      <td>16</td>\n",
       "      <td>0</td>\n",
       "      <td>0</td>\n",
       "      <td>0</td>\n",
       "      <td>0</td>\n",
       "      <td>0</td>\n",
       "      <td>0</td>\n",
       "      <td>0</td>\n",
       "      <td>0</td>\n",
       "      <td>0</td>\n",
       "      <td>0</td>\n",
       "      <td>0</td>\n",
       "      <td>1</td>\n",
       "      <td>0</td>\n",
       "      <td>0</td>\n",
       "      <td>0</td>\n",
       "      <td>49</td>\n",
       "      <td>136</td>\n",
       "      <td>219</td>\n",
       "      <td>216</td>\n",
       "      <td>...</td>\n",
       "      <td>244</td>\n",
       "      <td>240</td>\n",
       "      <td>243</td>\n",
       "      <td>214</td>\n",
       "      <td>224</td>\n",
       "      <td>162</td>\n",
       "      <td>0</td>\n",
       "      <td>2</td>\n",
       "      <td>0</td>\n",
       "      <td>0</td>\n",
       "      <td>0</td>\n",
       "      <td>0</td>\n",
       "      <td>0</td>\n",
       "      <td>0</td>\n",
       "      <td>0</td>\n",
       "      <td>0</td>\n",
       "      <td>0</td>\n",
       "      <td>1</td>\n",
       "      <td>0</td>\n",
       "      <td>0</td>\n",
       "      <td>139</td>\n",
       "      <td>146</td>\n",
       "      <td>130</td>\n",
       "      <td>135</td>\n",
       "      <td>135</td>\n",
       "      <td>137</td>\n",
       "      <td>125</td>\n",
       "      <td>124</td>\n",
       "      <td>125</td>\n",
       "      <td>121</td>\n",
       "      <td>119</td>\n",
       "      <td>114</td>\n",
       "      <td>130</td>\n",
       "      <td>76</td>\n",
       "      <td>0</td>\n",
       "      <td>0</td>\n",
       "      <td>0</td>\n",
       "      <td>0</td>\n",
       "      <td>0</td>\n",
       "      <td>0</td>\n",
       "    </tr>\n",
       "    <tr>\n",
       "      <th>2</th>\n",
       "      <td>2</td>\n",
       "      <td>0</td>\n",
       "      <td>0</td>\n",
       "      <td>0</td>\n",
       "      <td>0</td>\n",
       "      <td>0</td>\n",
       "      <td>0</td>\n",
       "      <td>0</td>\n",
       "      <td>0</td>\n",
       "      <td>0</td>\n",
       "      <td>22</td>\n",
       "      <td>118</td>\n",
       "      <td>24</td>\n",
       "      <td>0</td>\n",
       "      <td>0</td>\n",
       "      <td>0</td>\n",
       "      <td>0</td>\n",
       "      <td>0</td>\n",
       "      <td>48</td>\n",
       "      <td>88</td>\n",
       "      <td>5</td>\n",
       "      <td>0</td>\n",
       "      <td>0</td>\n",
       "      <td>0</td>\n",
       "      <td>0</td>\n",
       "      <td>0</td>\n",
       "      <td>0</td>\n",
       "      <td>0</td>\n",
       "      <td>0</td>\n",
       "      <td>0</td>\n",
       "      <td>0</td>\n",
       "      <td>0</td>\n",
       "      <td>0</td>\n",
       "      <td>0</td>\n",
       "      <td>0</td>\n",
       "      <td>0</td>\n",
       "      <td>0</td>\n",
       "      <td>12</td>\n",
       "      <td>100</td>\n",
       "      <td>212</td>\n",
       "      <td>...</td>\n",
       "      <td>106</td>\n",
       "      <td>102</td>\n",
       "      <td>75</td>\n",
       "      <td>10</td>\n",
       "      <td>0</td>\n",
       "      <td>0</td>\n",
       "      <td>0</td>\n",
       "      <td>0</td>\n",
       "      <td>0</td>\n",
       "      <td>0</td>\n",
       "      <td>0</td>\n",
       "      <td>0</td>\n",
       "      <td>0</td>\n",
       "      <td>0</td>\n",
       "      <td>0</td>\n",
       "      <td>0</td>\n",
       "      <td>0</td>\n",
       "      <td>0</td>\n",
       "      <td>0</td>\n",
       "      <td>0</td>\n",
       "      <td>1</td>\n",
       "      <td>0</td>\n",
       "      <td>0</td>\n",
       "      <td>0</td>\n",
       "      <td>18</td>\n",
       "      <td>42</td>\n",
       "      <td>57</td>\n",
       "      <td>56</td>\n",
       "      <td>32</td>\n",
       "      <td>8</td>\n",
       "      <td>0</td>\n",
       "      <td>0</td>\n",
       "      <td>1</td>\n",
       "      <td>0</td>\n",
       "      <td>0</td>\n",
       "      <td>0</td>\n",
       "      <td>0</td>\n",
       "      <td>0</td>\n",
       "      <td>0</td>\n",
       "      <td>0</td>\n",
       "    </tr>\n",
       "    <tr>\n",
       "      <th>3</th>\n",
       "      <td>3</td>\n",
       "      <td>0</td>\n",
       "      <td>0</td>\n",
       "      <td>0</td>\n",
       "      <td>0</td>\n",
       "      <td>0</td>\n",
       "      <td>0</td>\n",
       "      <td>0</td>\n",
       "      <td>0</td>\n",
       "      <td>33</td>\n",
       "      <td>96</td>\n",
       "      <td>175</td>\n",
       "      <td>156</td>\n",
       "      <td>64</td>\n",
       "      <td>14</td>\n",
       "      <td>54</td>\n",
       "      <td>137</td>\n",
       "      <td>204</td>\n",
       "      <td>194</td>\n",
       "      <td>102</td>\n",
       "      <td>0</td>\n",
       "      <td>0</td>\n",
       "      <td>0</td>\n",
       "      <td>0</td>\n",
       "      <td>0</td>\n",
       "      <td>0</td>\n",
       "      <td>0</td>\n",
       "      <td>0</td>\n",
       "      <td>0</td>\n",
       "      <td>0</td>\n",
       "      <td>0</td>\n",
       "      <td>0</td>\n",
       "      <td>0</td>\n",
       "      <td>0</td>\n",
       "      <td>0</td>\n",
       "      <td>73</td>\n",
       "      <td>186</td>\n",
       "      <td>177</td>\n",
       "      <td>183</td>\n",
       "      <td>175</td>\n",
       "      <td>...</td>\n",
       "      <td>83</td>\n",
       "      <td>152</td>\n",
       "      <td>85</td>\n",
       "      <td>160</td>\n",
       "      <td>133</td>\n",
       "      <td>100</td>\n",
       "      <td>12</td>\n",
       "      <td>0</td>\n",
       "      <td>0</td>\n",
       "      <td>0</td>\n",
       "      <td>0</td>\n",
       "      <td>0</td>\n",
       "      <td>0</td>\n",
       "      <td>0</td>\n",
       "      <td>0</td>\n",
       "      <td>0</td>\n",
       "      <td>0</td>\n",
       "      <td>0</td>\n",
       "      <td>4</td>\n",
       "      <td>0</td>\n",
       "      <td>2</td>\n",
       "      <td>0</td>\n",
       "      <td>35</td>\n",
       "      <td>4</td>\n",
       "      <td>33</td>\n",
       "      <td>0</td>\n",
       "      <td>0</td>\n",
       "      <td>0</td>\n",
       "      <td>0</td>\n",
       "      <td>0</td>\n",
       "      <td>0</td>\n",
       "      <td>0</td>\n",
       "      <td>0</td>\n",
       "      <td>0</td>\n",
       "      <td>0</td>\n",
       "      <td>0</td>\n",
       "      <td>0</td>\n",
       "      <td>0</td>\n",
       "      <td>0</td>\n",
       "      <td>0</td>\n",
       "    </tr>\n",
       "    <tr>\n",
       "      <th>4</th>\n",
       "      <td>4</td>\n",
       "      <td>0</td>\n",
       "      <td>0</td>\n",
       "      <td>0</td>\n",
       "      <td>0</td>\n",
       "      <td>0</td>\n",
       "      <td>0</td>\n",
       "      <td>0</td>\n",
       "      <td>0</td>\n",
       "      <td>0</td>\n",
       "      <td>0</td>\n",
       "      <td>0</td>\n",
       "      <td>0</td>\n",
       "      <td>0</td>\n",
       "      <td>0</td>\n",
       "      <td>0</td>\n",
       "      <td>0</td>\n",
       "      <td>0</td>\n",
       "      <td>26</td>\n",
       "      <td>0</td>\n",
       "      <td>0</td>\n",
       "      <td>0</td>\n",
       "      <td>0</td>\n",
       "      <td>0</td>\n",
       "      <td>0</td>\n",
       "      <td>0</td>\n",
       "      <td>0</td>\n",
       "      <td>0</td>\n",
       "      <td>0</td>\n",
       "      <td>0</td>\n",
       "      <td>0</td>\n",
       "      <td>0</td>\n",
       "      <td>0</td>\n",
       "      <td>0</td>\n",
       "      <td>0</td>\n",
       "      <td>0</td>\n",
       "      <td>0</td>\n",
       "      <td>189</td>\n",
       "      <td>206</td>\n",
       "      <td>187</td>\n",
       "      <td>...</td>\n",
       "      <td>255</td>\n",
       "      <td>242</td>\n",
       "      <td>255</td>\n",
       "      <td>70</td>\n",
       "      <td>0</td>\n",
       "      <td>0</td>\n",
       "      <td>0</td>\n",
       "      <td>0</td>\n",
       "      <td>0</td>\n",
       "      <td>0</td>\n",
       "      <td>0</td>\n",
       "      <td>0</td>\n",
       "      <td>0</td>\n",
       "      <td>0</td>\n",
       "      <td>0</td>\n",
       "      <td>0</td>\n",
       "      <td>0</td>\n",
       "      <td>0</td>\n",
       "      <td>0</td>\n",
       "      <td>0</td>\n",
       "      <td>0</td>\n",
       "      <td>0</td>\n",
       "      <td>61</td>\n",
       "      <td>102</td>\n",
       "      <td>168</td>\n",
       "      <td>25</td>\n",
       "      <td>0</td>\n",
       "      <td>139</td>\n",
       "      <td>161</td>\n",
       "      <td>74</td>\n",
       "      <td>0</td>\n",
       "      <td>0</td>\n",
       "      <td>0</td>\n",
       "      <td>0</td>\n",
       "      <td>0</td>\n",
       "      <td>0</td>\n",
       "      <td>0</td>\n",
       "      <td>0</td>\n",
       "      <td>0</td>\n",
       "      <td>0</td>\n",
       "    </tr>\n",
       "  </tbody>\n",
       "</table>\n",
       "<p>5 rows × 785 columns</p>\n",
       "</div>"
      ],
      "text/plain": [
       "   Id  0  1  2  3  4  5  6  7  ...  775  776  777  778  779  780  781  782  783\n",
       "0   0  0  0  0  0  0  0  0  0  ...    0    0    0    0    0    0    0    0    0\n",
       "1   1  0  0  0  0  0  1  0  0  ...  114  130   76    0    0    0    0    0    0\n",
       "2   2  0  0  0  0  0  0  0  0  ...    0    1    0    0    0    0    0    0    0\n",
       "3   3  0  0  0  0  0  0  0  0  ...    0    0    0    0    0    0    0    0    0\n",
       "4   4  0  0  0  0  0  0  0  0  ...    0    0    0    0    0    0    0    0    0\n",
       "\n",
       "[5 rows x 785 columns]"
      ]
     },
     "execution_count": 7,
     "metadata": {
      "tags": []
     },
     "output_type": "execute_result"
    }
   ],
   "source": [
    "data_test.head()"
   ]
  },
  {
   "cell_type": "code",
   "execution_count": 0,
   "metadata": {
    "colab": {},
    "colab_type": "code",
    "id": "FPX6KPeKYled"
   },
   "outputs": [],
   "source": [
    "# Droping the Id column from test data\n",
    "\n",
    "test_data = data_test.drop('Id',axis=1)"
   ]
  },
  {
   "cell_type": "code",
   "execution_count": 9,
   "metadata": {
    "colab": {
     "base_uri": "https://localhost:8080/",
     "height": 253
    },
    "colab_type": "code",
    "id": "aEZ7g8-eYlhC",
    "outputId": "bb6cbe71-c5f9-4500-94f0-e570ab91195c"
   },
   "outputs": [
    {
     "data": {
      "text/html": [
       "<div>\n",
       "<style scoped>\n",
       "    .dataframe tbody tr th:only-of-type {\n",
       "        vertical-align: middle;\n",
       "    }\n",
       "\n",
       "    .dataframe tbody tr th {\n",
       "        vertical-align: top;\n",
       "    }\n",
       "\n",
       "    .dataframe thead th {\n",
       "        text-align: right;\n",
       "    }\n",
       "</style>\n",
       "<table border=\"1\" class=\"dataframe\">\n",
       "  <thead>\n",
       "    <tr style=\"text-align: right;\">\n",
       "      <th></th>\n",
       "      <th>0</th>\n",
       "      <th>1</th>\n",
       "      <th>2</th>\n",
       "      <th>3</th>\n",
       "      <th>4</th>\n",
       "      <th>5</th>\n",
       "      <th>6</th>\n",
       "      <th>7</th>\n",
       "      <th>8</th>\n",
       "      <th>9</th>\n",
       "      <th>10</th>\n",
       "      <th>11</th>\n",
       "      <th>12</th>\n",
       "      <th>13</th>\n",
       "      <th>14</th>\n",
       "      <th>15</th>\n",
       "      <th>16</th>\n",
       "      <th>17</th>\n",
       "      <th>18</th>\n",
       "      <th>19</th>\n",
       "      <th>20</th>\n",
       "      <th>21</th>\n",
       "      <th>22</th>\n",
       "      <th>23</th>\n",
       "      <th>24</th>\n",
       "      <th>25</th>\n",
       "      <th>26</th>\n",
       "      <th>27</th>\n",
       "      <th>28</th>\n",
       "      <th>29</th>\n",
       "      <th>30</th>\n",
       "      <th>31</th>\n",
       "      <th>32</th>\n",
       "      <th>33</th>\n",
       "      <th>34</th>\n",
       "      <th>35</th>\n",
       "      <th>36</th>\n",
       "      <th>37</th>\n",
       "      <th>38</th>\n",
       "      <th>39</th>\n",
       "      <th>...</th>\n",
       "      <th>744</th>\n",
       "      <th>745</th>\n",
       "      <th>746</th>\n",
       "      <th>747</th>\n",
       "      <th>748</th>\n",
       "      <th>749</th>\n",
       "      <th>750</th>\n",
       "      <th>751</th>\n",
       "      <th>752</th>\n",
       "      <th>753</th>\n",
       "      <th>754</th>\n",
       "      <th>755</th>\n",
       "      <th>756</th>\n",
       "      <th>757</th>\n",
       "      <th>758</th>\n",
       "      <th>759</th>\n",
       "      <th>760</th>\n",
       "      <th>761</th>\n",
       "      <th>762</th>\n",
       "      <th>763</th>\n",
       "      <th>764</th>\n",
       "      <th>765</th>\n",
       "      <th>766</th>\n",
       "      <th>767</th>\n",
       "      <th>768</th>\n",
       "      <th>769</th>\n",
       "      <th>770</th>\n",
       "      <th>771</th>\n",
       "      <th>772</th>\n",
       "      <th>773</th>\n",
       "      <th>774</th>\n",
       "      <th>775</th>\n",
       "      <th>776</th>\n",
       "      <th>777</th>\n",
       "      <th>778</th>\n",
       "      <th>779</th>\n",
       "      <th>780</th>\n",
       "      <th>781</th>\n",
       "      <th>782</th>\n",
       "      <th>783</th>\n",
       "    </tr>\n",
       "  </thead>\n",
       "  <tbody>\n",
       "    <tr>\n",
       "      <th>0</th>\n",
       "      <td>0</td>\n",
       "      <td>0</td>\n",
       "      <td>0</td>\n",
       "      <td>0</td>\n",
       "      <td>0</td>\n",
       "      <td>0</td>\n",
       "      <td>0</td>\n",
       "      <td>0</td>\n",
       "      <td>0</td>\n",
       "      <td>0</td>\n",
       "      <td>0</td>\n",
       "      <td>0</td>\n",
       "      <td>0</td>\n",
       "      <td>0</td>\n",
       "      <td>0</td>\n",
       "      <td>0</td>\n",
       "      <td>0</td>\n",
       "      <td>0</td>\n",
       "      <td>0</td>\n",
       "      <td>0</td>\n",
       "      <td>0</td>\n",
       "      <td>0</td>\n",
       "      <td>0</td>\n",
       "      <td>0</td>\n",
       "      <td>0</td>\n",
       "      <td>0</td>\n",
       "      <td>0</td>\n",
       "      <td>0</td>\n",
       "      <td>0</td>\n",
       "      <td>0</td>\n",
       "      <td>0</td>\n",
       "      <td>0</td>\n",
       "      <td>0</td>\n",
       "      <td>0</td>\n",
       "      <td>0</td>\n",
       "      <td>0</td>\n",
       "      <td>0</td>\n",
       "      <td>0</td>\n",
       "      <td>0</td>\n",
       "      <td>0</td>\n",
       "      <td>...</td>\n",
       "      <td>0</td>\n",
       "      <td>0</td>\n",
       "      <td>0</td>\n",
       "      <td>0</td>\n",
       "      <td>0</td>\n",
       "      <td>0</td>\n",
       "      <td>0</td>\n",
       "      <td>0</td>\n",
       "      <td>0</td>\n",
       "      <td>0</td>\n",
       "      <td>0</td>\n",
       "      <td>0</td>\n",
       "      <td>0</td>\n",
       "      <td>0</td>\n",
       "      <td>0</td>\n",
       "      <td>0</td>\n",
       "      <td>0</td>\n",
       "      <td>0</td>\n",
       "      <td>0</td>\n",
       "      <td>0</td>\n",
       "      <td>0</td>\n",
       "      <td>0</td>\n",
       "      <td>0</td>\n",
       "      <td>0</td>\n",
       "      <td>0</td>\n",
       "      <td>0</td>\n",
       "      <td>0</td>\n",
       "      <td>0</td>\n",
       "      <td>0</td>\n",
       "      <td>0</td>\n",
       "      <td>0</td>\n",
       "      <td>0</td>\n",
       "      <td>0</td>\n",
       "      <td>0</td>\n",
       "      <td>0</td>\n",
       "      <td>0</td>\n",
       "      <td>0</td>\n",
       "      <td>0</td>\n",
       "      <td>0</td>\n",
       "      <td>0</td>\n",
       "    </tr>\n",
       "    <tr>\n",
       "      <th>1</th>\n",
       "      <td>0</td>\n",
       "      <td>0</td>\n",
       "      <td>0</td>\n",
       "      <td>0</td>\n",
       "      <td>0</td>\n",
       "      <td>1</td>\n",
       "      <td>0</td>\n",
       "      <td>0</td>\n",
       "      <td>0</td>\n",
       "      <td>0</td>\n",
       "      <td>41</td>\n",
       "      <td>188</td>\n",
       "      <td>103</td>\n",
       "      <td>54</td>\n",
       "      <td>48</td>\n",
       "      <td>43</td>\n",
       "      <td>87</td>\n",
       "      <td>168</td>\n",
       "      <td>133</td>\n",
       "      <td>16</td>\n",
       "      <td>0</td>\n",
       "      <td>0</td>\n",
       "      <td>0</td>\n",
       "      <td>0</td>\n",
       "      <td>0</td>\n",
       "      <td>0</td>\n",
       "      <td>0</td>\n",
       "      <td>0</td>\n",
       "      <td>0</td>\n",
       "      <td>0</td>\n",
       "      <td>0</td>\n",
       "      <td>1</td>\n",
       "      <td>0</td>\n",
       "      <td>0</td>\n",
       "      <td>0</td>\n",
       "      <td>49</td>\n",
       "      <td>136</td>\n",
       "      <td>219</td>\n",
       "      <td>216</td>\n",
       "      <td>228</td>\n",
       "      <td>...</td>\n",
       "      <td>244</td>\n",
       "      <td>240</td>\n",
       "      <td>243</td>\n",
       "      <td>214</td>\n",
       "      <td>224</td>\n",
       "      <td>162</td>\n",
       "      <td>0</td>\n",
       "      <td>2</td>\n",
       "      <td>0</td>\n",
       "      <td>0</td>\n",
       "      <td>0</td>\n",
       "      <td>0</td>\n",
       "      <td>0</td>\n",
       "      <td>0</td>\n",
       "      <td>0</td>\n",
       "      <td>0</td>\n",
       "      <td>0</td>\n",
       "      <td>1</td>\n",
       "      <td>0</td>\n",
       "      <td>0</td>\n",
       "      <td>139</td>\n",
       "      <td>146</td>\n",
       "      <td>130</td>\n",
       "      <td>135</td>\n",
       "      <td>135</td>\n",
       "      <td>137</td>\n",
       "      <td>125</td>\n",
       "      <td>124</td>\n",
       "      <td>125</td>\n",
       "      <td>121</td>\n",
       "      <td>119</td>\n",
       "      <td>114</td>\n",
       "      <td>130</td>\n",
       "      <td>76</td>\n",
       "      <td>0</td>\n",
       "      <td>0</td>\n",
       "      <td>0</td>\n",
       "      <td>0</td>\n",
       "      <td>0</td>\n",
       "      <td>0</td>\n",
       "    </tr>\n",
       "    <tr>\n",
       "      <th>2</th>\n",
       "      <td>0</td>\n",
       "      <td>0</td>\n",
       "      <td>0</td>\n",
       "      <td>0</td>\n",
       "      <td>0</td>\n",
       "      <td>0</td>\n",
       "      <td>0</td>\n",
       "      <td>0</td>\n",
       "      <td>0</td>\n",
       "      <td>22</td>\n",
       "      <td>118</td>\n",
       "      <td>24</td>\n",
       "      <td>0</td>\n",
       "      <td>0</td>\n",
       "      <td>0</td>\n",
       "      <td>0</td>\n",
       "      <td>0</td>\n",
       "      <td>48</td>\n",
       "      <td>88</td>\n",
       "      <td>5</td>\n",
       "      <td>0</td>\n",
       "      <td>0</td>\n",
       "      <td>0</td>\n",
       "      <td>0</td>\n",
       "      <td>0</td>\n",
       "      <td>0</td>\n",
       "      <td>0</td>\n",
       "      <td>0</td>\n",
       "      <td>0</td>\n",
       "      <td>0</td>\n",
       "      <td>0</td>\n",
       "      <td>0</td>\n",
       "      <td>0</td>\n",
       "      <td>0</td>\n",
       "      <td>0</td>\n",
       "      <td>0</td>\n",
       "      <td>12</td>\n",
       "      <td>100</td>\n",
       "      <td>212</td>\n",
       "      <td>205</td>\n",
       "      <td>...</td>\n",
       "      <td>106</td>\n",
       "      <td>102</td>\n",
       "      <td>75</td>\n",
       "      <td>10</td>\n",
       "      <td>0</td>\n",
       "      <td>0</td>\n",
       "      <td>0</td>\n",
       "      <td>0</td>\n",
       "      <td>0</td>\n",
       "      <td>0</td>\n",
       "      <td>0</td>\n",
       "      <td>0</td>\n",
       "      <td>0</td>\n",
       "      <td>0</td>\n",
       "      <td>0</td>\n",
       "      <td>0</td>\n",
       "      <td>0</td>\n",
       "      <td>0</td>\n",
       "      <td>0</td>\n",
       "      <td>0</td>\n",
       "      <td>1</td>\n",
       "      <td>0</td>\n",
       "      <td>0</td>\n",
       "      <td>0</td>\n",
       "      <td>18</td>\n",
       "      <td>42</td>\n",
       "      <td>57</td>\n",
       "      <td>56</td>\n",
       "      <td>32</td>\n",
       "      <td>8</td>\n",
       "      <td>0</td>\n",
       "      <td>0</td>\n",
       "      <td>1</td>\n",
       "      <td>0</td>\n",
       "      <td>0</td>\n",
       "      <td>0</td>\n",
       "      <td>0</td>\n",
       "      <td>0</td>\n",
       "      <td>0</td>\n",
       "      <td>0</td>\n",
       "    </tr>\n",
       "    <tr>\n",
       "      <th>3</th>\n",
       "      <td>0</td>\n",
       "      <td>0</td>\n",
       "      <td>0</td>\n",
       "      <td>0</td>\n",
       "      <td>0</td>\n",
       "      <td>0</td>\n",
       "      <td>0</td>\n",
       "      <td>0</td>\n",
       "      <td>33</td>\n",
       "      <td>96</td>\n",
       "      <td>175</td>\n",
       "      <td>156</td>\n",
       "      <td>64</td>\n",
       "      <td>14</td>\n",
       "      <td>54</td>\n",
       "      <td>137</td>\n",
       "      <td>204</td>\n",
       "      <td>194</td>\n",
       "      <td>102</td>\n",
       "      <td>0</td>\n",
       "      <td>0</td>\n",
       "      <td>0</td>\n",
       "      <td>0</td>\n",
       "      <td>0</td>\n",
       "      <td>0</td>\n",
       "      <td>0</td>\n",
       "      <td>0</td>\n",
       "      <td>0</td>\n",
       "      <td>0</td>\n",
       "      <td>0</td>\n",
       "      <td>0</td>\n",
       "      <td>0</td>\n",
       "      <td>0</td>\n",
       "      <td>0</td>\n",
       "      <td>73</td>\n",
       "      <td>186</td>\n",
       "      <td>177</td>\n",
       "      <td>183</td>\n",
       "      <td>175</td>\n",
       "      <td>188</td>\n",
       "      <td>...</td>\n",
       "      <td>83</td>\n",
       "      <td>152</td>\n",
       "      <td>85</td>\n",
       "      <td>160</td>\n",
       "      <td>133</td>\n",
       "      <td>100</td>\n",
       "      <td>12</td>\n",
       "      <td>0</td>\n",
       "      <td>0</td>\n",
       "      <td>0</td>\n",
       "      <td>0</td>\n",
       "      <td>0</td>\n",
       "      <td>0</td>\n",
       "      <td>0</td>\n",
       "      <td>0</td>\n",
       "      <td>0</td>\n",
       "      <td>0</td>\n",
       "      <td>0</td>\n",
       "      <td>4</td>\n",
       "      <td>0</td>\n",
       "      <td>2</td>\n",
       "      <td>0</td>\n",
       "      <td>35</td>\n",
       "      <td>4</td>\n",
       "      <td>33</td>\n",
       "      <td>0</td>\n",
       "      <td>0</td>\n",
       "      <td>0</td>\n",
       "      <td>0</td>\n",
       "      <td>0</td>\n",
       "      <td>0</td>\n",
       "      <td>0</td>\n",
       "      <td>0</td>\n",
       "      <td>0</td>\n",
       "      <td>0</td>\n",
       "      <td>0</td>\n",
       "      <td>0</td>\n",
       "      <td>0</td>\n",
       "      <td>0</td>\n",
       "      <td>0</td>\n",
       "    </tr>\n",
       "    <tr>\n",
       "      <th>4</th>\n",
       "      <td>0</td>\n",
       "      <td>0</td>\n",
       "      <td>0</td>\n",
       "      <td>0</td>\n",
       "      <td>0</td>\n",
       "      <td>0</td>\n",
       "      <td>0</td>\n",
       "      <td>0</td>\n",
       "      <td>0</td>\n",
       "      <td>0</td>\n",
       "      <td>0</td>\n",
       "      <td>0</td>\n",
       "      <td>0</td>\n",
       "      <td>0</td>\n",
       "      <td>0</td>\n",
       "      <td>0</td>\n",
       "      <td>0</td>\n",
       "      <td>26</td>\n",
       "      <td>0</td>\n",
       "      <td>0</td>\n",
       "      <td>0</td>\n",
       "      <td>0</td>\n",
       "      <td>0</td>\n",
       "      <td>0</td>\n",
       "      <td>0</td>\n",
       "      <td>0</td>\n",
       "      <td>0</td>\n",
       "      <td>0</td>\n",
       "      <td>0</td>\n",
       "      <td>0</td>\n",
       "      <td>0</td>\n",
       "      <td>0</td>\n",
       "      <td>0</td>\n",
       "      <td>0</td>\n",
       "      <td>0</td>\n",
       "      <td>0</td>\n",
       "      <td>189</td>\n",
       "      <td>206</td>\n",
       "      <td>187</td>\n",
       "      <td>32</td>\n",
       "      <td>...</td>\n",
       "      <td>255</td>\n",
       "      <td>242</td>\n",
       "      <td>255</td>\n",
       "      <td>70</td>\n",
       "      <td>0</td>\n",
       "      <td>0</td>\n",
       "      <td>0</td>\n",
       "      <td>0</td>\n",
       "      <td>0</td>\n",
       "      <td>0</td>\n",
       "      <td>0</td>\n",
       "      <td>0</td>\n",
       "      <td>0</td>\n",
       "      <td>0</td>\n",
       "      <td>0</td>\n",
       "      <td>0</td>\n",
       "      <td>0</td>\n",
       "      <td>0</td>\n",
       "      <td>0</td>\n",
       "      <td>0</td>\n",
       "      <td>0</td>\n",
       "      <td>0</td>\n",
       "      <td>61</td>\n",
       "      <td>102</td>\n",
       "      <td>168</td>\n",
       "      <td>25</td>\n",
       "      <td>0</td>\n",
       "      <td>139</td>\n",
       "      <td>161</td>\n",
       "      <td>74</td>\n",
       "      <td>0</td>\n",
       "      <td>0</td>\n",
       "      <td>0</td>\n",
       "      <td>0</td>\n",
       "      <td>0</td>\n",
       "      <td>0</td>\n",
       "      <td>0</td>\n",
       "      <td>0</td>\n",
       "      <td>0</td>\n",
       "      <td>0</td>\n",
       "    </tr>\n",
       "  </tbody>\n",
       "</table>\n",
       "<p>5 rows × 784 columns</p>\n",
       "</div>"
      ],
      "text/plain": [
       "   0  1  2  3  4  5  6  7   8  ...  775  776  777  778  779  780  781  782  783\n",
       "0  0  0  0  0  0  0  0  0   0  ...    0    0    0    0    0    0    0    0    0\n",
       "1  0  0  0  0  0  1  0  0   0  ...  114  130   76    0    0    0    0    0    0\n",
       "2  0  0  0  0  0  0  0  0   0  ...    0    1    0    0    0    0    0    0    0\n",
       "3  0  0  0  0  0  0  0  0  33  ...    0    0    0    0    0    0    0    0    0\n",
       "4  0  0  0  0  0  0  0  0   0  ...    0    0    0    0    0    0    0    0    0\n",
       "\n",
       "[5 rows x 784 columns]"
      ]
     },
     "execution_count": 9,
     "metadata": {
      "tags": []
     },
     "output_type": "execute_result"
    }
   ],
   "source": [
    "test_data.head()"
   ]
  },
  {
   "cell_type": "code",
   "execution_count": 10,
   "metadata": {
    "colab": {
     "base_uri": "https://localhost:8080/",
     "height": 34
    },
    "colab_type": "code",
    "id": "g9xeSF-TYljR",
    "outputId": "a9c2b951-ccd6-4905-de29-a7cfb703e053"
   },
   "outputs": [
    {
     "data": {
      "text/plain": [
       "(10000, 784)"
      ]
     },
     "execution_count": 10,
     "metadata": {
      "tags": []
     },
     "output_type": "execute_result"
    }
   ],
   "source": [
    "test_data.shape"
   ]
  },
  {
   "cell_type": "code",
   "execution_count": 11,
   "metadata": {
    "colab": {
     "base_uri": "https://localhost:8080/",
     "height": 221
    },
    "colab_type": "code",
    "id": "JsbC23uFYll-",
    "outputId": "b692082d-a080-48b1-fa63-0e71258552b5"
   },
   "outputs": [
    {
     "data": {
      "text/plain": [
       "0      0\n",
       "1      0\n",
       "2      0\n",
       "3      0\n",
       "4      0\n",
       "      ..\n",
       "779    0\n",
       "780    0\n",
       "781    0\n",
       "782    0\n",
       "783    0\n",
       "Length: 784, dtype: int64"
      ]
     },
     "execution_count": 11,
     "metadata": {
      "tags": []
     },
     "output_type": "execute_result"
    }
   ],
   "source": [
    "#Checking for null values in test data\n",
    "test_data.isnull().sum()"
   ]
  },
  {
   "cell_type": "code",
   "execution_count": 12,
   "metadata": {
    "colab": {
     "base_uri": "https://localhost:8080/",
     "height": 221
    },
    "colab_type": "code",
    "id": "JGa6HDXRYlof",
    "outputId": "3e2ddf9a-a505-4561-f037-a000f6321166"
   },
   "outputs": [
    {
     "data": {
      "text/plain": [
       "1      0\n",
       "2      0\n",
       "3      0\n",
       "4      0\n",
       "5      0\n",
       "      ..\n",
       "780    0\n",
       "781    0\n",
       "782    0\n",
       "783    0\n",
       "784    0\n",
       "Length: 784, dtype: int64"
      ]
     },
     "execution_count": 12,
     "metadata": {
      "tags": []
     },
     "output_type": "execute_result"
    }
   ],
   "source": [
    "#Checking for null values in train data\n",
    "train_data.isnull().sum()"
   ]
  },
  {
   "cell_type": "code",
   "execution_count": 13,
   "metadata": {
    "colab": {
     "base_uri": "https://localhost:8080/",
     "height": 34
    },
    "colab_type": "code",
    "id": "M2mdpjtvZAYJ",
    "outputId": "49a41f7d-34f2-4de9-e81a-ae4a828ca723"
   },
   "outputs": [
    {
     "data": {
      "text/plain": [
       "array([4, 0, 1, 2, 3])"
      ]
     },
     "execution_count": 13,
     "metadata": {
      "tags": []
     },
     "output_type": "execute_result"
    }
   ],
   "source": [
    "# Finding the unique values of lables in the train dataset\n",
    "data['Label'].unique()"
   ]
  },
  {
   "cell_type": "code",
   "execution_count": 14,
   "metadata": {
    "colab": {
     "base_uri": "https://localhost:8080/",
     "height": 119
    },
    "colab_type": "code",
    "id": "XweEztp_ZAa-",
    "outputId": "974a6cab-53ac-4cb6-fc7c-53ad4b2463e9"
   },
   "outputs": [
    {
     "data": {
      "text/plain": [
       "4    12067\n",
       "2    11994\n",
       "1    11986\n",
       "3    11978\n",
       "0    11975\n",
       "Name: Label, dtype: int64"
      ]
     },
     "execution_count": 14,
     "metadata": {
      "tags": []
     },
     "output_type": "execute_result"
    }
   ],
   "source": [
    "# Finding the unique values count of lables in the train dataset\n",
    "data['Label'].value_counts()"
   ]
  },
  {
   "cell_type": "code",
   "execution_count": 15,
   "metadata": {
    "colab": {
     "base_uri": "https://localhost:8080/",
     "height": 285
    },
    "colab_type": "code",
    "id": "AlQbbTHHZAeJ",
    "outputId": "c9a97d0a-00cc-4fc5-cccd-3ed2d1fbef20"
   },
   "outputs": [
    {
     "data": {
      "image/png": "[encoded data removed]",
      "text/plain": [
       "<Figure size 432x288 with 1 Axes>"
      ]
     },
     "metadata": {
      "needs_background": "light",
      "tags": []
     },
     "output_type": "display_data"
    }
   ],
   "source": [
    "#plot between the count of the target values\n",
    "sns.countplot(x=\"Label\", data=data,  palette=\"Set3\")\n",
    "plt.show()"
   ]
  },
  {
   "cell_type": "code",
   "execution_count": 0,
   "metadata": {
    "colab": {},
    "colab_type": "code",
    "id": "2UTpkP6zZAhF"
   },
   "outputs": [],
   "source": [
    "# Normalizing the data\n",
    "\n",
    "train_data = train_data/255.0\n",
    "test_data = test_data/255.0"
   ]
  },
  {
   "cell_type": "code",
   "execution_count": 0,
   "metadata": {
    "colab": {},
    "colab_type": "code",
    "id": "Qq55SQtyZAjp"
   },
   "outputs": [],
   "source": [
    "# Reshaping the data\n",
    "\n",
    "train_data=train_data.values.reshape(len(train_data),28,28,1)\n",
    "test_data=test_data.values.reshape(len(test_data),28,28,1)"
   ]
  },
  {
   "cell_type": "code",
   "execution_count": 18,
   "metadata": {
    "colab": {
     "base_uri": "https://localhost:8080/",
     "height": 34
    },
    "colab_type": "code",
    "id": "U2RnQ9dDZAmM",
    "outputId": "1e4ff38d-0480-40cb-d87d-4238dce862e5"
   },
   "outputs": [
    {
     "data": {
      "text/plain": [
       "(28, 28, 1)"
      ]
     },
     "execution_count": 18,
     "metadata": {
      "tags": []
     },
     "output_type": "execute_result"
    }
   ],
   "source": [
    "train_data[0].shape"
   ]
  },
  {
   "cell_type": "code",
   "execution_count": 19,
   "metadata": {
    "colab": {
     "base_uri": "https://localhost:8080/",
     "height": 34
    },
    "colab_type": "code",
    "id": "33nurIuQZAop",
    "outputId": "2e32fd32-43c6-42b4-f669-aad0f66d0222"
   },
   "outputs": [
    {
     "data": {
      "text/plain": [
       "(28, 28, 1)"
      ]
     },
     "execution_count": 19,
     "metadata": {
      "tags": []
     },
     "output_type": "execute_result"
    }
   ],
   "source": [
    "test_data[0].shape"
   ]
  },
  {
   "cell_type": "code",
   "execution_count": 0,
   "metadata": {
    "colab": {},
    "colab_type": "code",
    "id": "2-zvkeGqZArR"
   },
   "outputs": [],
   "source": [
    "x = train_data\n",
    "y = data['Label']"
   ]
  },
  {
   "cell_type": "code",
   "execution_count": 0,
   "metadata": {
    "colab": {},
    "colab_type": "code",
    "id": "_pfXC0IDZAt5"
   },
   "outputs": [],
   "source": [
    "#split the training data into train and validate  \n",
    "\n",
    "x_train, x_validate, y_train, y_validate = train_test_split(\n",
    "    x, y, test_size=0.1, random_state=42,\n",
    ")"
   ]
  },
  {
   "cell_type": "code",
   "execution_count": 22,
   "metadata": {
    "colab": {
     "base_uri": "https://localhost:8080/",
     "height": 85
    },
    "colab_type": "code",
    "id": "ideAk1qRZAwP",
    "outputId": "1b90e251-73f6-4fb2-e1bd-587eb7ed6352"
   },
   "outputs": [
    {
     "name": "stdout",
     "output_type": "stream",
     "text": [
      "(54000, 28, 28, 1)\n",
      "(54000,)\n",
      "(6000, 28, 28, 1)\n",
      "(6000,)\n"
     ]
    }
   ],
   "source": [
    "print(x_train.shape)\n",
    "print(y_train.shape)\n",
    "print(x_validate.shape)\n",
    "print(y_validate.shape)"
   ]
  },
  {
   "cell_type": "code",
   "execution_count": 0,
   "metadata": {
    "colab": {},
    "colab_type": "code",
    "id": "YxpMmEMU9eWQ"
   },
   "outputs": [],
   "source": [
    "from tensorflow.keras.callbacks import EarlyStopping\n",
    "\n",
    "calls = EarlyStopping(monitor='val_loss', min_delta=1e-3, patience=5, verbose=1, mode='auto',\n",
    "      restore_best_weights=True)"
   ]
  },
  {
   "cell_type": "code",
   "execution_count": 0,
   "metadata": {
    "colab": {},
    "colab_type": "code",
    "id": "5M27gsPxZAzV"
   },
   "outputs": [],
   "source": [
    "# Creating a CNN model\n",
    "\n",
    "cnn = Sequential()\n",
    "cnn.add(Conv2D(32, kernel_size=(3, 3), activation='relu', input_shape=(28,28,1)))\n",
    "cnn.add(BatchNormalization())\n",
    "cnn.add(Conv2D(32, kernel_size=(3, 3), activation='relu'))\n",
    "cnn.add(BatchNormalization())\n",
    "cnn.add(MaxPooling2D(pool_size=(2, 2)))\n",
    "cnn.add(Dropout(0.25))\n",
    "cnn.add(Conv2D(64, kernel_size=(3, 3), activation='relu'))\n",
    "cnn.add(BatchNormalization())\n",
    "cnn.add(Dropout(0.25))\n",
    "cnn.add(Conv2D(128, kernel_size=(3, 3), activation='relu'))\n",
    "cnn.add(BatchNormalization())\n",
    "cnn.add(MaxPooling2D(pool_size=(2, 2)))\n",
    "cnn.add(Dropout(0.25))\n",
    "cnn.add(Flatten())\n",
    "cnn.add(Dense(512, activation='relu'))\n",
    "cnn.add(BatchNormalization())\n",
    "cnn.add(Dropout(0.5))\n",
    "cnn.add(Dense(128, activation='relu'))\n",
    "cnn.add(BatchNormalization())\n",
    "cnn.add(Dropout(0.5))\n",
    "cnn.add(Dense(5, activation='softmax'))\n"
   ]
  },
  {
   "cell_type": "code",
   "execution_count": 26,
   "metadata": {
    "colab": {
     "base_uri": "https://localhost:8080/",
     "height": 867
    },
    "colab_type": "code",
    "id": "WXvhQmCrZY5i",
    "outputId": "aed9a826-d646-403b-9174-64d5b76ac5f0"
   },
   "outputs": [
    {
     "name": "stdout",
     "output_type": "stream",
     "text": [
      "Model: \"sequential_1\"\n",
      "_________________________________________________________________\n",
      "Layer (type)                 Output Shape              Param #   \n",
      "=================================================================\n",
      "conv2d_1 (Conv2D)            (None, 26, 26, 32)        320       \n",
      "_________________________________________________________________\n",
      "batch_normalization_1 (Batch (None, 26, 26, 32)        128       \n",
      "_________________________________________________________________\n",
      "conv2d_2 (Conv2D)            (None, 24, 24, 32)        9248      \n",
      "_________________________________________________________________\n",
      "batch_normalization_2 (Batch (None, 24, 24, 32)        128       \n",
      "_________________________________________________________________\n",
      "max_pooling2d_1 (MaxPooling2 (None, 12, 12, 32)        0         \n",
      "_________________________________________________________________\n",
      "dropout_1 (Dropout)          (None, 12, 12, 32)        0         \n",
      "_________________________________________________________________\n",
      "conv2d_3 (Conv2D)            (None, 10, 10, 64)        18496     \n",
      "_________________________________________________________________\n",
      "batch_normalization_3 (Batch (None, 10, 10, 64)        256       \n",
      "_________________________________________________________________\n",
      "dropout_2 (Dropout)          (None, 10, 10, 64)        0         \n",
      "_________________________________________________________________\n",
      "conv2d_4 (Conv2D)            (None, 8, 8, 128)         73856     \n",
      "_________________________________________________________________\n",
      "batch_normalization_4 (Batch (None, 8, 8, 128)         512       \n",
      "_________________________________________________________________\n",
      "max_pooling2d_2 (MaxPooling2 (None, 4, 4, 128)         0         \n",
      "_________________________________________________________________\n",
      "dropout_3 (Dropout)          (None, 4, 4, 128)         0         \n",
      "_________________________________________________________________\n",
      "flatten_1 (Flatten)          (None, 2048)              0         \n",
      "_________________________________________________________________\n",
      "dense_1 (Dense)              (None, 512)               1049088   \n",
      "_________________________________________________________________\n",
      "batch_normalization_5 (Batch (None, 512)               2048      \n",
      "_________________________________________________________________\n",
      "dropout_4 (Dropout)          (None, 512)               0         \n",
      "_________________________________________________________________\n",
      "dense_2 (Dense)              (None, 128)               65664     \n",
      "_________________________________________________________________\n",
      "batch_normalization_6 (Batch (None, 128)               512       \n",
      "_________________________________________________________________\n",
      "dropout_5 (Dropout)          (None, 128)               0         \n",
      "_________________________________________________________________\n",
      "dense_3 (Dense)              (None, 5)                 645       \n",
      "=================================================================\n",
      "Total params: 1,220,901\n",
      "Trainable params: 1,219,109\n",
      "Non-trainable params: 1,792\n",
      "_________________________________________________________________\n"
     ]
    }
   ],
   "source": [
    "# Summary of the CNN model\n",
    "\n",
    "cnn.summary()"
   ]
  },
  {
   "cell_type": "code",
   "execution_count": 0,
   "metadata": {
    "colab": {},
    "colab_type": "code",
    "id": "EvrN0Zb-ZY8X"
   },
   "outputs": [],
   "source": [
    "# Compiling the CNN model\n",
    "import keras\n",
    "\n",
    "cnn.compile(\n",
    "        loss = 'sparse_categorical_crossentropy',\n",
    "        optimizer=Adam(lr = 0.001),\n",
    "        metrics=['accuracy']\n",
    "    )"
   ]
  },
  {
   "cell_type": "code",
   "execution_count": 29,
   "metadata": {
    "colab": {
     "base_uri": "https://localhost:8080/",
     "height": 1000
    },
    "colab_type": "code",
    "id": "9XCU7e9tZY-u",
    "outputId": "b770a9ac-7f66-4d2d-ae91-b69eb29205db"
   },
   "outputs": [
    {
     "name": "stdout",
     "output_type": "stream",
     "text": [
      "Train on 54000 samples, validate on 6000 samples\n",
      "Epoch 1/100\n",
      "54000/54000 [==============================] - 10s 192us/step - loss: 0.3605 - accuracy: 0.8573 - val_loss: 0.3636 - val_accuracy: 0.8493\n",
      "Epoch 2/100\n",
      "54000/54000 [==============================] - 10s 191us/step - loss: 0.3558 - accuracy: 0.8591 - val_loss: 0.3704 - val_accuracy: 0.8480\n",
      "Epoch 3/100\n",
      "54000/54000 [==============================] - 10s 191us/step - loss: 0.3425 - accuracy: 0.8623 - val_loss: 0.5340 - val_accuracy: 0.7983\n",
      "Epoch 4/100\n",
      "54000/54000 [==============================] - 10s 191us/step - loss: 0.3312 - accuracy: 0.8687 - val_loss: 0.3435 - val_accuracy: 0.8572\n",
      "Epoch 5/100\n",
      "54000/54000 [==============================] - 10s 190us/step - loss: 0.3279 - accuracy: 0.8709 - val_loss: 0.3558 - val_accuracy: 0.8517\n",
      "Epoch 6/100\n",
      "54000/54000 [==============================] - 10s 191us/step - loss: 0.3147 - accuracy: 0.8745 - val_loss: 0.5886 - val_accuracy: 0.7753\n",
      "Epoch 7/100\n",
      "54000/54000 [==============================] - 10s 190us/step - loss: 0.3064 - accuracy: 0.8776 - val_loss: 0.6334 - val_accuracy: 0.7682\n",
      "Epoch 8/100\n",
      "54000/54000 [==============================] - 10s 192us/step - loss: 0.3102 - accuracy: 0.8758 - val_loss: 0.5498 - val_accuracy: 0.7920\n",
      "Epoch 9/100\n",
      "54000/54000 [==============================] - 10s 190us/step - loss: 0.3024 - accuracy: 0.8777 - val_loss: 0.3041 - val_accuracy: 0.8710\n",
      "Epoch 10/100\n",
      "54000/54000 [==============================] - 10s 190us/step - loss: 0.2950 - accuracy: 0.8826 - val_loss: 0.2909 - val_accuracy: 0.8787\n",
      "Epoch 11/100\n",
      "54000/54000 [==============================] - 10s 190us/step - loss: 0.2872 - accuracy: 0.8861 - val_loss: 0.2938 - val_accuracy: 0.8783\n",
      "Epoch 12/100\n",
      "54000/54000 [==============================] - 10s 191us/step - loss: 0.2841 - accuracy: 0.8859 - val_loss: 0.2532 - val_accuracy: 0.9002\n",
      "Epoch 13/100\n",
      "54000/54000 [==============================] - 10s 191us/step - loss: 0.2801 - accuracy: 0.8869 - val_loss: 0.2559 - val_accuracy: 0.8963\n",
      "Epoch 14/100\n",
      "54000/54000 [==============================] - 10s 190us/step - loss: 0.2777 - accuracy: 0.8894 - val_loss: 0.2884 - val_accuracy: 0.8795\n",
      "Epoch 15/100\n",
      "54000/54000 [==============================] - 10s 191us/step - loss: 0.2733 - accuracy: 0.8916 - val_loss: 0.2625 - val_accuracy: 0.8952\n",
      "Epoch 16/100\n",
      "54000/54000 [==============================] - 10s 192us/step - loss: 0.2704 - accuracy: 0.8931 - val_loss: 0.3182 - val_accuracy: 0.8720\n",
      "Epoch 17/100\n",
      "54000/54000 [==============================] - 10s 191us/step - loss: 0.2705 - accuracy: 0.8920 - val_loss: 0.4045 - val_accuracy: 0.8412\n",
      "Epoch 18/100\n",
      "54000/54000 [==============================] - 10s 191us/step - loss: 0.2572 - accuracy: 0.8982 - val_loss: 0.3820 - val_accuracy: 0.8552\n",
      "Epoch 19/100\n",
      "54000/54000 [==============================] - 10s 191us/step - loss: 0.2566 - accuracy: 0.8982 - val_loss: 0.2412 - val_accuracy: 0.9047\n",
      "Epoch 20/100\n",
      "54000/54000 [==============================] - 10s 191us/step - loss: 0.2616 - accuracy: 0.8966 - val_loss: 0.2719 - val_accuracy: 0.8888\n",
      "Epoch 21/100\n",
      "54000/54000 [==============================] - 10s 192us/step - loss: 0.2513 - accuracy: 0.9006 - val_loss: 0.3978 - val_accuracy: 0.8540\n",
      "Epoch 22/100\n",
      "54000/54000 [==============================] - 10s 191us/step - loss: 0.2504 - accuracy: 0.9008 - val_loss: 0.2464 - val_accuracy: 0.9048\n",
      "Epoch 23/100\n",
      "54000/54000 [==============================] - 10s 190us/step - loss: 0.2473 - accuracy: 0.9024 - val_loss: 0.3537 - val_accuracy: 0.8605\n",
      "Epoch 24/100\n",
      "54000/54000 [==============================] - 10s 191us/step - loss: 0.2434 - accuracy: 0.9036 - val_loss: 0.3287 - val_accuracy: 0.8725\n",
      "Epoch 25/100\n",
      "54000/54000 [==============================] - 10s 191us/step - loss: 0.2391 - accuracy: 0.9059 - val_loss: 0.4313 - val_accuracy: 0.8363\n",
      "Epoch 26/100\n",
      "54000/54000 [==============================] - 10s 191us/step - loss: 0.2379 - accuracy: 0.9057 - val_loss: 0.2507 - val_accuracy: 0.8997\n",
      "Epoch 27/100\n",
      "54000/54000 [==============================] - 10s 191us/step - loss: 0.2359 - accuracy: 0.9072 - val_loss: 0.2728 - val_accuracy: 0.8893\n",
      "Epoch 28/100\n",
      "54000/54000 [==============================] - 10s 190us/step - loss: 0.2286 - accuracy: 0.9098 - val_loss: 0.2436 - val_accuracy: 0.9018\n",
      "Epoch 29/100\n",
      "54000/54000 [==============================] - 10s 190us/step - loss: 0.2357 - accuracy: 0.9078 - val_loss: 0.7116 - val_accuracy: 0.7665\n",
      "Epoch 30/100\n",
      "54000/54000 [==============================] - 10s 192us/step - loss: 0.2291 - accuracy: 0.9095 - val_loss: 0.2412 - val_accuracy: 0.9060\n",
      "Epoch 31/100\n",
      "54000/54000 [==============================] - 10s 191us/step - loss: 0.2222 - accuracy: 0.9134 - val_loss: 0.2888 - val_accuracy: 0.8877\n",
      "Epoch 32/100\n",
      "54000/54000 [==============================] - 10s 191us/step - loss: 0.2227 - accuracy: 0.9123 - val_loss: 0.3465 - val_accuracy: 0.8723\n",
      "Epoch 33/100\n",
      "54000/54000 [==============================] - 10s 190us/step - loss: 0.2223 - accuracy: 0.9106 - val_loss: 0.4246 - val_accuracy: 0.8345\n",
      "Epoch 34/100\n",
      "54000/54000 [==============================] - 10s 190us/step - loss: 0.2221 - accuracy: 0.9122 - val_loss: 0.2832 - val_accuracy: 0.8935\n",
      "Epoch 35/100\n",
      "54000/54000 [==============================] - 10s 190us/step - loss: 0.2158 - accuracy: 0.9140 - val_loss: 0.4078 - val_accuracy: 0.8442\n",
      "Epoch 36/100\n",
      "54000/54000 [==============================] - 10s 192us/step - loss: 0.2121 - accuracy: 0.9156 - val_loss: 0.3073 - val_accuracy: 0.8773\n",
      "Epoch 37/100\n",
      "54000/54000 [==============================] - 10s 190us/step - loss: 0.2130 - accuracy: 0.9166 - val_loss: 0.2668 - val_accuracy: 0.8935\n",
      "Epoch 38/100\n",
      "54000/54000 [==============================] - 10s 190us/step - loss: 0.2113 - accuracy: 0.9178 - val_loss: 0.5184 - val_accuracy: 0.8243\n",
      "Epoch 39/100\n",
      "54000/54000 [==============================] - 10s 191us/step - loss: 0.2088 - accuracy: 0.9167 - val_loss: 0.4628 - val_accuracy: 0.8328\n",
      "Epoch 40/100\n",
      "54000/54000 [==============================] - 10s 192us/step - loss: 0.2150 - accuracy: 0.9151 - val_loss: 0.2700 - val_accuracy: 0.8928\n",
      "Epoch 41/100\n",
      "54000/54000 [==============================] - 10s 191us/step - loss: 0.2039 - accuracy: 0.9194 - val_loss: 0.2696 - val_accuracy: 0.8962\n",
      "Epoch 42/100\n",
      "54000/54000 [==============================] - 10s 191us/step - loss: 0.2027 - accuracy: 0.9189 - val_loss: 0.3888 - val_accuracy: 0.8545\n",
      "Epoch 43/100\n",
      "54000/54000 [==============================] - 10s 191us/step - loss: 0.2033 - accuracy: 0.9189 - val_loss: 0.3110 - val_accuracy: 0.8868\n",
      "Epoch 44/100\n",
      "54000/54000 [==============================] - 10s 190us/step - loss: 0.2001 - accuracy: 0.9211 - val_loss: 0.2531 - val_accuracy: 0.9022\n",
      "Epoch 45/100\n",
      "54000/54000 [==============================] - 10s 192us/step - loss: 0.2016 - accuracy: 0.9201 - val_loss: 0.3225 - val_accuracy: 0.8750\n",
      "Epoch 46/100\n",
      "54000/54000 [==============================] - 10s 193us/step - loss: 0.2001 - accuracy: 0.9214 - val_loss: 0.2876 - val_accuracy: 0.8890\n",
      "Epoch 47/100\n",
      "54000/54000 [==============================] - 10s 191us/step - loss: 0.2002 - accuracy: 0.9211 - val_loss: 0.6505 - val_accuracy: 0.7932\n",
      "Epoch 48/100\n",
      "54000/54000 [==============================] - 10s 191us/step - loss: 0.1941 - accuracy: 0.9230 - val_loss: 0.2819 - val_accuracy: 0.8933\n",
      "Epoch 49/100\n",
      "54000/54000 [==============================] - 10s 191us/step - loss: 0.1917 - accuracy: 0.9251 - val_loss: 0.2955 - val_accuracy: 0.8900\n",
      "Epoch 50/100\n",
      "54000/54000 [==============================] - 10s 192us/step - loss: 0.1899 - accuracy: 0.9251 - val_loss: 0.3381 - val_accuracy: 0.8730\n",
      "Epoch 51/100\n",
      "54000/54000 [==============================] - 10s 190us/step - loss: 0.1883 - accuracy: 0.9248 - val_loss: 0.3086 - val_accuracy: 0.8852\n",
      "Epoch 52/100\n",
      "54000/54000 [==============================] - 10s 191us/step - loss: 0.1895 - accuracy: 0.9253 - val_loss: 0.3582 - val_accuracy: 0.8675\n",
      "Epoch 53/100\n",
      "54000/54000 [==============================] - 10s 191us/step - loss: 0.1842 - accuracy: 0.9277 - val_loss: 0.2496 - val_accuracy: 0.9068\n",
      "Epoch 54/100\n",
      "54000/54000 [==============================] - 10s 190us/step - loss: 0.1868 - accuracy: 0.9270 - val_loss: 0.2919 - val_accuracy: 0.8902\n",
      "Epoch 55/100\n",
      "54000/54000 [==============================] - 10s 191us/step - loss: 0.1787 - accuracy: 0.9298 - val_loss: 0.3062 - val_accuracy: 0.8840\n",
      "Epoch 56/100\n",
      "54000/54000 [==============================] - 10s 191us/step - loss: 0.1833 - accuracy: 0.9294 - val_loss: 0.3156 - val_accuracy: 0.8777\n",
      "Epoch 57/100\n",
      "54000/54000 [==============================] - 10s 190us/step - loss: 0.1801 - accuracy: 0.9300 - val_loss: 0.3313 - val_accuracy: 0.8717\n",
      "Epoch 58/100\n",
      "54000/54000 [==============================] - 10s 191us/step - loss: 0.1779 - accuracy: 0.9303 - val_loss: 0.2897 - val_accuracy: 0.8890\n",
      "Epoch 59/100\n",
      "54000/54000 [==============================] - 10s 191us/step - loss: 0.1733 - accuracy: 0.9325 - val_loss: 0.2654 - val_accuracy: 0.9020\n",
      "Epoch 60/100\n",
      "54000/54000 [==============================] - 10s 192us/step - loss: 0.1756 - accuracy: 0.9318 - val_loss: 0.3934 - val_accuracy: 0.8622\n",
      "Epoch 61/100\n",
      "54000/54000 [==============================] - 10s 191us/step - loss: 0.1751 - accuracy: 0.9311 - val_loss: 0.4692 - val_accuracy: 0.8392\n",
      "Epoch 62/100\n",
      "54000/54000 [==============================] - 10s 191us/step - loss: 0.1729 - accuracy: 0.9317 - val_loss: 0.2710 - val_accuracy: 0.8947\n",
      "Epoch 63/100\n",
      "54000/54000 [==============================] - 10s 191us/step - loss: 0.1729 - accuracy: 0.9328 - val_loss: 0.2778 - val_accuracy: 0.8993\n",
      "Epoch 64/100\n",
      "54000/54000 [==============================] - 10s 190us/step - loss: 0.1653 - accuracy: 0.9351 - val_loss: 0.2492 - val_accuracy: 0.9062\n",
      "Epoch 65/100\n",
      "54000/54000 [==============================] - 10s 191us/step - loss: 0.1704 - accuracy: 0.9319 - val_loss: 0.2665 - val_accuracy: 0.9012\n",
      "Epoch 66/100\n",
      "54000/54000 [==============================] - 10s 192us/step - loss: 0.1715 - accuracy: 0.9324 - val_loss: 0.2945 - val_accuracy: 0.8890\n",
      "Epoch 67/100\n",
      "54000/54000 [==============================] - 10s 189us/step - loss: 0.1673 - accuracy: 0.9335 - val_loss: 0.4241 - val_accuracy: 0.8580\n",
      "Epoch 68/100\n",
      "54000/54000 [==============================] - 10s 191us/step - loss: 0.1660 - accuracy: 0.9357 - val_loss: 0.2434 - val_accuracy: 0.9098\n",
      "Epoch 69/100\n",
      "54000/54000 [==============================] - 10s 191us/step - loss: 0.1699 - accuracy: 0.9339 - val_loss: 0.2728 - val_accuracy: 0.9012\n",
      "Epoch 70/100\n",
      "54000/54000 [==============================] - 10s 190us/step - loss: 0.1680 - accuracy: 0.9341 - val_loss: 0.2472 - val_accuracy: 0.9102\n",
      "Epoch 71/100\n",
      "54000/54000 [==============================] - 10s 192us/step - loss: 0.1623 - accuracy: 0.9361 - val_loss: 0.4153 - val_accuracy: 0.8532\n",
      "Epoch 72/100\n",
      "54000/54000 [==============================] - 10s 191us/step - loss: 0.1652 - accuracy: 0.9352 - val_loss: 0.2441 - val_accuracy: 0.9108\n",
      "Epoch 73/100\n",
      "54000/54000 [==============================] - 10s 190us/step - loss: 0.1602 - accuracy: 0.9377 - val_loss: 0.3262 - val_accuracy: 0.8853\n",
      "Epoch 74/100\n",
      "54000/54000 [==============================] - 10s 191us/step - loss: 0.1578 - accuracy: 0.9378 - val_loss: 0.2631 - val_accuracy: 0.9017\n",
      "Epoch 75/100\n",
      "54000/54000 [==============================] - 10s 191us/step - loss: 0.1597 - accuracy: 0.9371 - val_loss: 0.2669 - val_accuracy: 0.8995\n",
      "Epoch 76/100\n",
      "54000/54000 [==============================] - 10s 194us/step - loss: 0.1559 - accuracy: 0.9395 - val_loss: 0.2556 - val_accuracy: 0.9087\n",
      "Epoch 77/100\n",
      "54000/54000 [==============================] - 10s 192us/step - loss: 0.1545 - accuracy: 0.9405 - val_loss: 0.2559 - val_accuracy: 0.9060\n",
      "Epoch 78/100\n",
      "54000/54000 [==============================] - 10s 191us/step - loss: 0.1583 - accuracy: 0.9385 - val_loss: 0.2672 - val_accuracy: 0.9027\n",
      "Epoch 79/100\n",
      "54000/54000 [==============================] - 10s 190us/step - loss: 0.1567 - accuracy: 0.9389 - val_loss: 0.2837 - val_accuracy: 0.8998\n",
      "Epoch 80/100\n",
      "54000/54000 [==============================] - 10s 190us/step - loss: 0.1496 - accuracy: 0.9407 - val_loss: 0.3007 - val_accuracy: 0.8930\n",
      "Epoch 81/100\n",
      "54000/54000 [==============================] - 10s 192us/step - loss: 0.1536 - accuracy: 0.9397 - val_loss: 0.2876 - val_accuracy: 0.8992\n",
      "Epoch 82/100\n",
      "54000/54000 [==============================] - 10s 190us/step - loss: 0.1558 - accuracy: 0.9389 - val_loss: 0.2628 - val_accuracy: 0.9028\n",
      "Epoch 83/100\n",
      "54000/54000 [==============================] - 10s 192us/step - loss: 0.1520 - accuracy: 0.9412 - val_loss: 0.3067 - val_accuracy: 0.8932\n",
      "Epoch 84/100\n",
      "54000/54000 [==============================] - 10s 192us/step - loss: 0.1504 - accuracy: 0.9413 - val_loss: 0.2559 - val_accuracy: 0.9083\n",
      "Epoch 85/100\n",
      "54000/54000 [==============================] - 10s 190us/step - loss: 0.1457 - accuracy: 0.9433 - val_loss: 0.2678 - val_accuracy: 0.9018\n",
      "Epoch 86/100\n",
      "54000/54000 [==============================] - 10s 191us/step - loss: 0.1446 - accuracy: 0.9440 - val_loss: 0.4585 - val_accuracy: 0.8468\n",
      "Epoch 87/100\n",
      "54000/54000 [==============================] - 10s 191us/step - loss: 0.1454 - accuracy: 0.9433 - val_loss: 0.2549 - val_accuracy: 0.9057\n",
      "Epoch 88/100\n",
      "54000/54000 [==============================] - 10s 190us/step - loss: 0.1478 - accuracy: 0.9426 - val_loss: 0.2730 - val_accuracy: 0.9050\n",
      "Epoch 89/100\n",
      "54000/54000 [==============================] - 10s 192us/step - loss: 0.1499 - accuracy: 0.9423 - val_loss: 0.2912 - val_accuracy: 0.8910\n",
      "Epoch 90/100\n",
      "54000/54000 [==============================] - 10s 191us/step - loss: 0.1456 - accuracy: 0.9423 - val_loss: 0.3265 - val_accuracy: 0.8863\n",
      "Epoch 91/100\n",
      "54000/54000 [==============================] - 10s 189us/step - loss: 0.1450 - accuracy: 0.9438 - val_loss: 0.3320 - val_accuracy: 0.8887\n",
      "Epoch 92/100\n",
      "54000/54000 [==============================] - 10s 190us/step - loss: 0.1425 - accuracy: 0.9448 - val_loss: 0.2630 - val_accuracy: 0.9082\n",
      "Epoch 93/100\n",
      "54000/54000 [==============================] - 10s 189us/step - loss: 0.1431 - accuracy: 0.9448 - val_loss: 0.2597 - val_accuracy: 0.9090\n",
      "Epoch 94/100\n",
      "54000/54000 [==============================] - 10s 192us/step - loss: 0.1428 - accuracy: 0.9448 - val_loss: 0.3842 - val_accuracy: 0.8707\n",
      "Epoch 95/100\n",
      "54000/54000 [==============================] - 10s 189us/step - loss: 0.1381 - accuracy: 0.9465 - val_loss: 0.2861 - val_accuracy: 0.9008\n",
      "Epoch 96/100\n",
      "54000/54000 [==============================] - 10s 191us/step - loss: 0.1395 - accuracy: 0.9461 - val_loss: 0.2786 - val_accuracy: 0.9030\n",
      "Epoch 97/100\n",
      "54000/54000 [==============================] - 10s 191us/step - loss: 0.1408 - accuracy: 0.9460 - val_loss: 0.3292 - val_accuracy: 0.8902\n",
      "Epoch 98/100\n",
      "54000/54000 [==============================] - 10s 190us/step - loss: 0.1410 - accuracy: 0.9453 - val_loss: 0.2727 - val_accuracy: 0.9048\n",
      "Epoch 99/100\n",
      "54000/54000 [==============================] - 10s 191us/step - loss: 0.1375 - accuracy: 0.9464 - val_loss: 0.3349 - val_accuracy: 0.8823\n",
      "Epoch 100/100\n",
      "54000/54000 [==============================] - 10s 190us/step - loss: 0.1416 - accuracy: 0.9454 - val_loss: 0.3215 - val_accuracy: 0.8870\n"
     ]
    }
   ],
   "source": [
    "# Training the CNN model\n",
    "\n",
    "cnn_1 = cnn.fit(\n",
    "        x_train, y_train,\n",
    "        batch_size=256,\n",
    "        epochs=100, verbose=1,\n",
    "        validation_data=(x_validate, y_validate)\n",
    "    )"
   ]
  },
  {
   "cell_type": "code",
   "execution_count": 27,
   "metadata": {
    "colab": {
     "base_uri": "https://localhost:8080/",
     "height": 284
    },
    "colab_type": "code",
    "id": "KTnr2jrGZZBN",
    "outputId": "b8dec64e-d9ce-452b-91f6-2be5d5910098"
   },
   "outputs": [
    {
     "data": {
      "image/png": "[encoded data removed]",
      "text/plain": [
       "<Figure size 432x288 with 1 Axes>"
      ]
     },
     "metadata": {
      "needs_background": "light",
      "tags": []
     },
     "output_type": "display_data"
    }
   ],
   "source": [
    "# Plotting the training and validation loss\n",
    "loss = cnn_1.history['loss']\n",
    "val_loss = cnn_1.history['val_loss']\n",
    "\n",
    "epochs = range(100)\n",
    "plt.figure()\n",
    "plt.plot(epochs, loss, 'bo', label='Training loss')\n",
    "plt.plot(epochs, val_loss, 'b', label='Validation loss')\n",
    "plt.title('CNN Training and validation loss')\n",
    "plt.legend()\n",
    "plt.show()"
   ]
  },
  {
   "cell_type": "code",
   "execution_count": 28,
   "metadata": {
    "colab": {
     "base_uri": "https://localhost:8080/",
     "height": 284
    },
    "colab_type": "code",
    "id": "BsmeH1vXamgF",
    "outputId": "9ec4badb-df4f-4341-8cfe-f990ddca7710"
   },
   "outputs": [
    {
     "data": {
      "image/png": "[encoded data removed]",
      "text/plain": [
       "<Figure size 432x288 with 1 Axes>"
      ]
     },
     "metadata": {
      "needs_background": "light",
      "tags": []
     },
     "output_type": "display_data"
    }
   ],
   "source": [
    "# Plotting the training and validation accuracy\n",
    "accuracy = cnn_1.history['accuracy']\n",
    "val_accuracy = cnn_1.history['val_accuracy']\n",
    "epochs = range(100)\n",
    "plt.figure()\n",
    "plt.plot(epochs, accuracy, 'bo', label='Training accuracy')\n",
    "plt.plot(epochs, val_accuracy, 'b', label='Validation accuracy')\n",
    "plt.title('CNN Training and validation accuracy')\n",
    "plt.legend()\n",
    "plt.show()"
   ]
  },
  {
   "cell_type": "code",
   "execution_count": 29,
   "metadata": {
    "colab": {
     "base_uri": "https://localhost:8080/",
     "height": 68
    },
    "colab_type": "code",
    "id": "53XngnnE40hl",
    "outputId": "a7d63eb6-b372-4d4b-83d3-c52ee8a4913c"
   },
   "outputs": [
    {
     "name": "stdout",
     "output_type": "stream",
     "text": [
      "6000/6000 [==============================] - 1s 132us/step\n",
      "Validation loss: 0.2813038973510265\n",
      "Validation accuracy: 0.9010000228881836\n"
     ]
    }
   ],
   "source": [
    "cnn_scores = cnn.evaluate(x_validate, y_validate, verbose=1)\n",
    "print('Validation loss:', cnn_scores[0])\n",
    "print('Validation accuracy:', cnn_scores[1])"
   ]
  },
  {
   "cell_type": "code",
   "execution_count": 30,
   "metadata": {
    "colab": {
     "base_uri": "https://localhost:8080/",
     "height": 34
    },
    "colab_type": "code",
    "id": "pQYTGanlaqID",
    "outputId": "decaf70a-cdd9-4dca-f23b-cbe1c8e9a22f"
   },
   "outputs": [
    {
     "data": {
      "text/plain": [
       "array([3, 4, 1, ..., 4, 2, 2])"
      ]
     },
     "execution_count": 30,
     "metadata": {
      "tags": []
     },
     "output_type": "execute_result"
    }
   ],
   "source": [
    "# Predicting the result of the model using the test data\n",
    "\n",
    "prediction_cnn= cnn.predict_classes(test_data)\n",
    "prediction_cnn"
   ]
  },
  {
   "cell_type": "code",
   "execution_count": 31,
   "metadata": {
    "colab": {
     "base_uri": "https://localhost:8080/",
     "height": 221
    },
    "colab_type": "code",
    "id": "Y7ouSM92aqky",
    "outputId": "e6ee803a-8073-416d-fcb4-78f64f2a7e7d"
   },
   "outputs": [
    {
     "name": "stdout",
     "output_type": "stream",
     "text": [
      "              precision    recall  f1-score   support\n",
      "\n",
      "           0       0.95      0.97      0.96      1190\n",
      "           1       0.89      0.91      0.90      1230\n",
      "           2       0.89      0.82      0.85      1182\n",
      "           3       0.87      0.84      0.85      1175\n",
      "           4       0.90      0.97      0.93      1223\n",
      "\n",
      "    accuracy                           0.90      6000\n",
      "   macro avg       0.90      0.90      0.90      6000\n",
      "weighted avg       0.90      0.90      0.90      6000\n",
      "\n"
     ]
    }
   ],
   "source": [
    "# Classification Report\n",
    "y_cnn = cnn.predict(x_validate)\n",
    "y_val = np.argmax(y_cnn, axis = 1)\n",
    "labels = ['0', '1', '2', '3', '4']\n",
    "print(classification_report(y_validate, y_val, target_names = labels))"
   ]
  },
  {
   "cell_type": "code",
   "execution_count": 32,
   "metadata": {
    "colab": {
     "base_uri": "https://localhost:8080/",
     "height": 518
    },
    "colab_type": "code",
    "id": "xas1tqgDaqnq",
    "outputId": "f1568c97-6e0f-45b6-8967-87eaa747f7d8"
   },
   "outputs": [
    {
     "data": {
      "image/png": "[encoded data removed]",
      "text/plain": [
       "<Figure size 720x576 with 2 Axes>"
      ]
     },
     "metadata": {
      "needs_background": "light",
      "tags": []
     },
     "output_type": "display_data"
    }
   ],
   "source": [
    "# Confusion Matrix\n",
    "\n",
    "confusion_mtx = confusion_matrix(y_validate, y_val) \n",
    "\n",
    "f,ax = plt.subplots(figsize = (10,8))\n",
    "sns.heatmap(confusion_mtx, annot=True, linewidths=0.1, cmap = \"gist_yarg_r\", linecolor=\"black\", fmt='.0f', ax=ax)\n",
    "plt.xlabel(\"Predicted Label\")\n",
    "plt.ylabel(\"True Label\")\n",
    "plt.title(\"CNN Confusion Matrix\")\n",
    "plt.show()"
   ]
  },
  {
   "cell_type": "code",
   "execution_count": 33,
   "metadata": {
    "colab": {
     "base_uri": "https://localhost:8080/",
     "height": 255
    },
    "colab_type": "code",
    "id": "2AFAPK395dJM",
    "outputId": "63a0df46-fa1e-4001-a06a-4e8d125e255e"
   },
   "outputs": [
    {
     "name": "stdout",
     "output_type": "stream",
     "text": [
      "        Id  Label\n",
      "0        0      3\n",
      "1        1      4\n",
      "2        2      1\n",
      "3        3      1\n",
      "4        4      2\n",
      "...    ...    ...\n",
      "9995  9995      1\n",
      "9996  9996      1\n",
      "9997  9997      4\n",
      "9998  9998      2\n",
      "9999  9999      2\n",
      "\n",
      "[10000 rows x 2 columns]\n"
     ]
    }
   ],
   "source": [
    "# Saving the output to the csv\n",
    "\n",
    "predict = pd.DataFrame(prediction_cnn, columns=['Label'])\n",
    "dataset = [data_test['Id'],predict]\n",
    "final_df = pd.concat(dataset,axis=1)\n",
    "\n",
    "print(final_df)\n",
    "\n",
    "from google.colab import files\n",
    "\n",
    "final_df.to_csv('cnn_fi.csv',index=False, header=True)\n",
    "files.download('cnn_fi.csv')"
   ]
  },
  {
   "cell_type": "markdown",
   "metadata": {
    "colab_type": "text",
    "id": "_RMA-N6qXjh0"
   },
   "source": [
    "#### Hyper Parameter Tuning (Keras Tuner)"
   ]
  },
  {
   "cell_type": "code",
   "execution_count": 30,
   "metadata": {
    "colab": {
     "base_uri": "https://localhost:8080/",
     "height": 530
    },
    "colab_type": "code",
    "id": "Uj0dOlIuY_XZ",
    "outputId": "4b67e4a5-f98b-4c21-9665-f3512c320431"
   },
   "outputs": [
    {
     "name": "stdout",
     "output_type": "stream",
     "text": [
      "Collecting keras-tuner\n",
      "\u001b[?25l  Downloading https://files.pythonhosted.org/packages/a7/f7/4b41b6832abf4c9bef71a664dc563adb25afc5812831667c6db572b1a261/keras-tuner-1.0.1.tar.gz (54kB)\n",
      "\r",
      "\u001b[K     |██████                          | 10kB 28.0MB/s eta 0:00:01\r",
      "\u001b[K     |████████████                    | 20kB 31.8MB/s eta 0:00:01\r",
      "\u001b[K     |██████████████████              | 30kB 34.1MB/s eta 0:00:01\r",
      "\u001b[K     |████████████████████████        | 40kB 22.2MB/s eta 0:00:01\r",
      "\u001b[K     |██████████████████████████████  | 51kB 16.9MB/s eta 0:00:01\r",
      "\u001b[K     |████████████████████████████████| 61kB 6.8MB/s \n",
      "\u001b[?25hRequirement already satisfied: future in /usr/local/lib/python3.6/dist-packages (from keras-tuner) (0.16.0)\n",
      "Requirement already satisfied: numpy in /usr/local/lib/python3.6/dist-packages (from keras-tuner) (1.18.2)\n",
      "Requirement already satisfied: tabulate in /usr/local/lib/python3.6/dist-packages (from keras-tuner) (0.8.7)\n",
      "Collecting terminaltables\n",
      "  Downloading https://files.pythonhosted.org/packages/9b/c4/4a21174f32f8a7e1104798c445dacdc1d4df86f2f26722767034e4de4bff/terminaltables-3.1.0.tar.gz\n",
      "Collecting colorama\n",
      "  Downloading https://files.pythonhosted.org/packages/c9/dc/45cdef1b4d119eb96316b3117e6d5708a08029992b2fee2c143c7a0a5cc5/colorama-0.4.3-py2.py3-none-any.whl\n",
      "Requirement already satisfied: tqdm in /usr/local/lib/python3.6/dist-packages (from keras-tuner) (4.38.0)\n",
      "Requirement already satisfied: requests in /usr/local/lib/python3.6/dist-packages (from keras-tuner) (2.21.0)\n",
      "Requirement already satisfied: scipy in /usr/local/lib/python3.6/dist-packages (from keras-tuner) (1.4.1)\n",
      "Requirement already satisfied: scikit-learn in /usr/local/lib/python3.6/dist-packages (from keras-tuner) (0.22.2.post1)\n",
      "Requirement already satisfied: urllib3<1.25,>=1.21.1 in /usr/local/lib/python3.6/dist-packages (from requests->keras-tuner) (1.24.3)\n",
      "Requirement already satisfied: idna<2.9,>=2.5 in /usr/local/lib/python3.6/dist-packages (from requests->keras-tuner) (2.8)\n",
      "Requirement already satisfied: chardet<3.1.0,>=3.0.2 in /usr/local/lib/python3.6/dist-packages (from requests->keras-tuner) (3.0.4)\n",
      "Requirement already satisfied: certifi>=2017.4.17 in /usr/local/lib/python3.6/dist-packages (from requests->keras-tuner) (2020.4.5.1)\n",
      "Requirement already satisfied: joblib>=0.11 in /usr/local/lib/python3.6/dist-packages (from scikit-learn->keras-tuner) (0.14.1)\n",
      "Building wheels for collected packages: keras-tuner, terminaltables\n",
      "  Building wheel for keras-tuner (setup.py) ... \u001b[?25l\u001b[?25hdone\n",
      "  Created wheel for keras-tuner: filename=keras_tuner-1.0.1-cp36-none-any.whl size=73200 sha256=0328afe711e5846790dbc1226dd8fd873eb5db0c60f4467fce430f2f4005590c\n",
      "  Stored in directory: /root/.cache/pip/wheels/b9/cc/62/52716b70dd90f3db12519233c3a93a5360bc672da1a10ded43\n",
      "  Building wheel for terminaltables (setup.py) ... \u001b[?25l\u001b[?25hdone\n",
      "  Created wheel for terminaltables: filename=terminaltables-3.1.0-cp36-none-any.whl size=15356 sha256=eac4b8b44ebb4817ba3a2f70b8baedc984c6d73d35afa9e2ee92750de444f8ab\n",
      "  Stored in directory: /root/.cache/pip/wheels/30/6b/50/6c75775b681fb36cdfac7f19799888ef9d8813aff9e379663e\n",
      "Successfully built keras-tuner terminaltables\n",
      "Installing collected packages: terminaltables, colorama, keras-tuner\n",
      "Successfully installed colorama-0.4.3 keras-tuner-1.0.1 terminaltables-3.1.0\n"
     ]
    }
   ],
   "source": [
    "!pip install keras-tuner"
   ]
  },
  {
   "cell_type": "code",
   "execution_count": 0,
   "metadata": {
    "colab": {},
    "colab_type": "code",
    "id": "KoKUXALRY_aD"
   },
   "outputs": [],
   "source": [
    "# Building a model with hyper parameters\n",
    "\n",
    "def build_model(hp):\n",
    "  hp_model = keras.Sequential()\n",
    "  hp_model.add(keras.layers.Conv2D(filters=hp.Int('filter_1',min_value=32,max_value=256,step=16), \n",
    "                                   kernel_size=hp.Choice('kernel_1', values = [3,5]),\n",
    "                                    activation='relu', input_shape=(28,28,1)))\n",
    "  hp_model.add(keras.layers.Conv2D(filters=hp.Int('filter_2', min_value=32, max_value=256, step=16),\n",
    "                                    kernel_size=hp.Choice('kernel_2', values = [3,5]),\n",
    "                                    activation='relu'))\n",
    "  hp_model.add(keras.layers.MaxPool2D((2, 2)))\n",
    "  hp_model.add(keras.layers.Dropout(0.2))\n",
    "  hp_model.add(keras.layers.Flatten())\n",
    "  hp_model.add(keras.layers.Dense(units=hp.Int('dense_unit', min_value=32, max_value=256, step=16),\n",
    "                                  activation='relu'))\n",
    "  hp_model.add(keras.layers.Dense(5, activation='softmax'))\n",
    "  hp_model.compile(optimizer=keras.optimizers.Adam(hp.Choice('learning_rate',\n",
    "                      values=[1e-2, 1e-3, 1e-4])),\n",
    "                  loss='sparse_categorical_crossentropy',\n",
    "                  metrics=['accuracy'])\n",
    "  return hp_model"
   ]
  },
  {
   "cell_type": "code",
   "execution_count": 0,
   "metadata": {
    "colab": {},
    "colab_type": "code",
    "id": "79GxSFOCY_cr"
   },
   "outputs": [],
   "source": [
    "# TensorFlow and tf.keras\n",
    "import tensorflow as tf\n",
    "from tensorflow import keras\n",
    "\n",
    "# Helper libraries\n",
    "import numpy as np\n",
    "import matplotlib.pyplot as plt\n",
    "from kerastuner import RandomSearch\n",
    "from kerastuner.engine.hyperparameters import HyperParameters\n",
    "\n",
    "tuner_search=RandomSearch(build_model,\n",
    "                          objective='val_accuracy',\n",
    "                          max_trials=5,directory='output')"
   ]
  },
  {
   "cell_type": "code",
   "execution_count": 33,
   "metadata": {
    "colab": {
     "base_uri": "https://localhost:8080/",
     "height": 1000
    },
    "colab_type": "code",
    "id": "eA5etLkqY_fW",
    "outputId": "5b9677f1-928d-4d44-c76e-ed8a9bc9f62b"
   },
   "outputs": [
    {
     "name": "stdout",
     "output_type": "stream",
     "text": [
      "Epoch 1/5\n",
      "1688/1688 [==============================] - 15s 9ms/step - loss: 0.6663 - accuracy: 0.7363 - val_loss: 0.5157 - val_accuracy: 0.7895\n",
      "Epoch 2/5\n",
      "1688/1688 [==============================] - 15s 9ms/step - loss: 0.5091 - accuracy: 0.7922 - val_loss: 0.5039 - val_accuracy: 0.7995\n",
      "Epoch 3/5\n",
      "1688/1688 [==============================] - 15s 9ms/step - loss: 0.4900 - accuracy: 0.8001 - val_loss: 0.4394 - val_accuracy: 0.8138\n",
      "Epoch 4/5\n",
      "1688/1688 [==============================] - 15s 9ms/step - loss: 0.4726 - accuracy: 0.8084 - val_loss: 0.4075 - val_accuracy: 0.8357\n",
      "Epoch 5/5\n",
      "1688/1688 [==============================] - 15s 9ms/step - loss: 0.4597 - accuracy: 0.8153 - val_loss: 0.4797 - val_accuracy: 0.7980\n"
     ]
    },
    {
     "data": {
      "text/html": [
       "<span style=\"color:#4527A0\"><h1 style=\"font-size:18px\">Trial complete</h1></span>"
      ],
      "text/plain": [
       "<IPython.core.display.HTML object>"
      ]
     },
     "metadata": {
      "tags": []
     },
     "output_type": "display_data"
    },
    {
     "data": {
      "text/html": [
       "<span style=\"color:#4527A0\"><h1 style=\"font-size:18px\">Trial summary</h1></span>"
      ],
      "text/plain": [
       "<IPython.core.display.HTML object>"
      ]
     },
     "metadata": {
      "tags": []
     },
     "output_type": "display_data"
    },
    {
     "data": {
      "text/html": [
       "<span style=\"color:cyan\"> |-Trial ID: ce5ac173650a9c0f3be1ec565765977d</span>"
      ],
      "text/plain": [
       "<IPython.core.display.HTML object>"
      ]
     },
     "metadata": {
      "tags": []
     },
     "output_type": "display_data"
    },
    {
     "data": {
      "text/html": [
       "<span style=\"color:cyan\"> |-Score: 0.8356666564941406</span>"
      ],
      "text/plain": [
       "<IPython.core.display.HTML object>"
      ]
     },
     "metadata": {
      "tags": []
     },
     "output_type": "display_data"
    },
    {
     "data": {
      "text/html": [
       "<span style=\"color:cyan\"> |-Best step: 0</span>"
      ],
      "text/plain": [
       "<IPython.core.display.HTML object>"
      ]
     },
     "metadata": {
      "tags": []
     },
     "output_type": "display_data"
    },
    {
     "data": {
      "text/html": [
       "<span style=\"color:#7E57C2\"><h2 style=\"font-size:16px\">Hyperparameters:</h2></span>"
      ],
      "text/plain": [
       "<IPython.core.display.HTML object>"
      ]
     },
     "metadata": {
      "tags": []
     },
     "output_type": "display_data"
    },
    {
     "data": {
      "text/html": [
       "<span style=\"color:cyan\"> |-dense_unit: 160</span>"
      ],
      "text/plain": [
       "<IPython.core.display.HTML object>"
      ]
     },
     "metadata": {
      "tags": []
     },
     "output_type": "display_data"
    },
    {
     "data": {
      "text/html": [
       "<span style=\"color:blue\"> |-filter_1: 64</span>"
      ],
      "text/plain": [
       "<IPython.core.display.HTML object>"
      ]
     },
     "metadata": {
      "tags": []
     },
     "output_type": "display_data"
    },
    {
     "data": {
      "text/html": [
       "<span style=\"color:cyan\"> |-filter_2: 144</span>"
      ],
      "text/plain": [
       "<IPython.core.display.HTML object>"
      ]
     },
     "metadata": {
      "tags": []
     },
     "output_type": "display_data"
    },
    {
     "data": {
      "text/html": [
       "<span style=\"color:blue\"> |-kernel_1: 3</span>"
      ],
      "text/plain": [
       "<IPython.core.display.HTML object>"
      ]
     },
     "metadata": {
      "tags": []
     },
     "output_type": "display_data"
    },
    {
     "data": {
      "text/html": [
       "<span style=\"color:cyan\"> |-kernel_2: 5</span>"
      ],
      "text/plain": [
       "<IPython.core.display.HTML object>"
      ]
     },
     "metadata": {
      "tags": []
     },
     "output_type": "display_data"
    },
    {
     "data": {
      "text/html": [
       "<span style=\"color:blue\"> |-learning_rate: 0.01</span>"
      ],
      "text/plain": [
       "<IPython.core.display.HTML object>"
      ]
     },
     "metadata": {
      "tags": []
     },
     "output_type": "display_data"
    },
    {
     "name": "stdout",
     "output_type": "stream",
     "text": [
      "Epoch 1/5\n",
      "1688/1688 [==============================] - 28s 17ms/step - loss: 0.7257 - accuracy: 0.7535 - val_loss: 0.5569 - val_accuracy: 0.7568\n",
      "Epoch 2/5\n",
      "1688/1688 [==============================] - 28s 17ms/step - loss: 0.4883 - accuracy: 0.8004 - val_loss: 0.4213 - val_accuracy: 0.8332\n",
      "Epoch 3/5\n",
      "1688/1688 [==============================] - 28s 17ms/step - loss: 0.4624 - accuracy: 0.8117 - val_loss: 0.4260 - val_accuracy: 0.8245\n",
      "Epoch 4/5\n",
      "1688/1688 [==============================] - 28s 17ms/step - loss: 0.4553 - accuracy: 0.8168 - val_loss: 0.4266 - val_accuracy: 0.8318\n",
      "Epoch 5/5\n",
      "1688/1688 [==============================] - 28s 17ms/step - loss: 0.4445 - accuracy: 0.8221 - val_loss: 0.4848 - val_accuracy: 0.7937\n"
     ]
    },
    {
     "data": {
      "text/html": [
       "<span style=\"color:#4527A0\"><h1 style=\"font-size:18px\">Trial complete</h1></span>"
      ],
      "text/plain": [
       "<IPython.core.display.HTML object>"
      ]
     },
     "metadata": {
      "tags": []
     },
     "output_type": "display_data"
    },
    {
     "data": {
      "text/html": [
       "<span style=\"color:#4527A0\"><h1 style=\"font-size:18px\">Trial summary</h1></span>"
      ],
      "text/plain": [
       "<IPython.core.display.HTML object>"
      ]
     },
     "metadata": {
      "tags": []
     },
     "output_type": "display_data"
    },
    {
     "data": {
      "text/html": [
       "<span style=\"color:cyan\"> |-Trial ID: d01ecfaae1f7709c4671ea3aacbc9f8e</span>"
      ],
      "text/plain": [
       "<IPython.core.display.HTML object>"
      ]
     },
     "metadata": {
      "tags": []
     },
     "output_type": "display_data"
    },
    {
     "data": {
      "text/html": [
       "<span style=\"color:cyan\"> |-Score: 0.8331666588783264</span>"
      ],
      "text/plain": [
       "<IPython.core.display.HTML object>"
      ]
     },
     "metadata": {
      "tags": []
     },
     "output_type": "display_data"
    },
    {
     "data": {
      "text/html": [
       "<span style=\"color:cyan\"> |-Best step: 0</span>"
      ],
      "text/plain": [
       "<IPython.core.display.HTML object>"
      ]
     },
     "metadata": {
      "tags": []
     },
     "output_type": "display_data"
    },
    {
     "data": {
      "text/html": [
       "<span style=\"color:#7E57C2\"><h2 style=\"font-size:16px\">Hyperparameters:</h2></span>"
      ],
      "text/plain": [
       "<IPython.core.display.HTML object>"
      ]
     },
     "metadata": {
      "tags": []
     },
     "output_type": "display_data"
    },
    {
     "data": {
      "text/html": [
       "<span style=\"color:cyan\"> |-dense_unit: 240</span>"
      ],
      "text/plain": [
       "<IPython.core.display.HTML object>"
      ]
     },
     "metadata": {
      "tags": []
     },
     "output_type": "display_data"
    },
    {
     "data": {
      "text/html": [
       "<span style=\"color:blue\"> |-filter_1: 192</span>"
      ],
      "text/plain": [
       "<IPython.core.display.HTML object>"
      ]
     },
     "metadata": {
      "tags": []
     },
     "output_type": "display_data"
    },
    {
     "data": {
      "text/html": [
       "<span style=\"color:cyan\"> |-filter_2: 192</span>"
      ],
      "text/plain": [
       "<IPython.core.display.HTML object>"
      ]
     },
     "metadata": {
      "tags": []
     },
     "output_type": "display_data"
    },
    {
     "data": {
      "text/html": [
       "<span style=\"color:blue\"> |-kernel_1: 3</span>"
      ],
      "text/plain": [
       "<IPython.core.display.HTML object>"
      ]
     },
     "metadata": {
      "tags": []
     },
     "output_type": "display_data"
    },
    {
     "data": {
      "text/html": [
       "<span style=\"color:cyan\"> |-kernel_2: 5</span>"
      ],
      "text/plain": [
       "<IPython.core.display.HTML object>"
      ]
     },
     "metadata": {
      "tags": []
     },
     "output_type": "display_data"
    },
    {
     "data": {
      "text/html": [
       "<span style=\"color:blue\"> |-learning_rate: 0.01</span>"
      ],
      "text/plain": [
       "<IPython.core.display.HTML object>"
      ]
     },
     "metadata": {
      "tags": []
     },
     "output_type": "display_data"
    },
    {
     "name": "stdout",
     "output_type": "stream",
     "text": [
      "Epoch 1/5\n",
      "1688/1688 [==============================] - 16s 9ms/step - loss: 0.6933 - accuracy: 0.7082 - val_loss: 0.5432 - val_accuracy: 0.7752\n",
      "Epoch 2/5\n",
      "1688/1688 [==============================] - 16s 9ms/step - loss: 0.4915 - accuracy: 0.8024 - val_loss: 0.4896 - val_accuracy: 0.7975\n",
      "Epoch 3/5\n",
      "1688/1688 [==============================] - 16s 9ms/step - loss: 0.4328 - accuracy: 0.8288 - val_loss: 0.4000 - val_accuracy: 0.8427\n",
      "Epoch 4/5\n",
      "1688/1688 [==============================] - 16s 9ms/step - loss: 0.3957 - accuracy: 0.8449 - val_loss: 0.3878 - val_accuracy: 0.8443\n",
      "Epoch 5/5\n",
      "1688/1688 [==============================] - 16s 9ms/step - loss: 0.3701 - accuracy: 0.8542 - val_loss: 0.3777 - val_accuracy: 0.8495\n"
     ]
    },
    {
     "data": {
      "text/html": [
       "<span style=\"color:#4527A0\"><h1 style=\"font-size:18px\">Trial complete</h1></span>"
      ],
      "text/plain": [
       "<IPython.core.display.HTML object>"
      ]
     },
     "metadata": {
      "tags": []
     },
     "output_type": "display_data"
    },
    {
     "data": {
      "text/html": [
       "<span style=\"color:#4527A0\"><h1 style=\"font-size:18px\">Trial summary</h1></span>"
      ],
      "text/plain": [
       "<IPython.core.display.HTML object>"
      ]
     },
     "metadata": {
      "tags": []
     },
     "output_type": "display_data"
    },
    {
     "data": {
      "text/html": [
       "<span style=\"color:cyan\"> |-Trial ID: 5215c9ce210d778779693bc611645ba2</span>"
      ],
      "text/plain": [
       "<IPython.core.display.HTML object>"
      ]
     },
     "metadata": {
      "tags": []
     },
     "output_type": "display_data"
    },
    {
     "data": {
      "text/html": [
       "<span style=\"color:cyan\"> |-Score: 0.8495000004768372</span>"
      ],
      "text/plain": [
       "<IPython.core.display.HTML object>"
      ]
     },
     "metadata": {
      "tags": []
     },
     "output_type": "display_data"
    },
    {
     "data": {
      "text/html": [
       "<span style=\"color:cyan\"> |-Best step: 0</span>"
      ],
      "text/plain": [
       "<IPython.core.display.HTML object>"
      ]
     },
     "metadata": {
      "tags": []
     },
     "output_type": "display_data"
    },
    {
     "data": {
      "text/html": [
       "<span style=\"color:#7E57C2\"><h2 style=\"font-size:16px\">Hyperparameters:</h2></span>"
      ],
      "text/plain": [
       "<IPython.core.display.HTML object>"
      ]
     },
     "metadata": {
      "tags": []
     },
     "output_type": "display_data"
    },
    {
     "data": {
      "text/html": [
       "<span style=\"color:cyan\"> |-dense_unit: 48</span>"
      ],
      "text/plain": [
       "<IPython.core.display.HTML object>"
      ]
     },
     "metadata": {
      "tags": []
     },
     "output_type": "display_data"
    },
    {
     "data": {
      "text/html": [
       "<span style=\"color:blue\"> |-filter_1: 96</span>"
      ],
      "text/plain": [
       "<IPython.core.display.HTML object>"
      ]
     },
     "metadata": {
      "tags": []
     },
     "output_type": "display_data"
    },
    {
     "data": {
      "text/html": [
       "<span style=\"color:cyan\"> |-filter_2: 192</span>"
      ],
      "text/plain": [
       "<IPython.core.display.HTML object>"
      ]
     },
     "metadata": {
      "tags": []
     },
     "output_type": "display_data"
    },
    {
     "data": {
      "text/html": [
       "<span style=\"color:blue\"> |-kernel_1: 5</span>"
      ],
      "text/plain": [
       "<IPython.core.display.HTML object>"
      ]
     },
     "metadata": {
      "tags": []
     },
     "output_type": "display_data"
    },
    {
     "data": {
      "text/html": [
       "<span style=\"color:cyan\"> |-kernel_2: 3</span>"
      ],
      "text/plain": [
       "<IPython.core.display.HTML object>"
      ]
     },
     "metadata": {
      "tags": []
     },
     "output_type": "display_data"
    },
    {
     "data": {
      "text/html": [
       "<span style=\"color:blue\"> |-learning_rate: 0.0001</span>"
      ],
      "text/plain": [
       "<IPython.core.display.HTML object>"
      ]
     },
     "metadata": {
      "tags": []
     },
     "output_type": "display_data"
    },
    {
     "name": "stdout",
     "output_type": "stream",
     "text": [
      "Epoch 1/5\n",
      "1688/1688 [==============================] - 15s 9ms/step - loss: 0.6560 - accuracy: 0.7253 - val_loss: 0.5253 - val_accuracy: 0.7877\n",
      "Epoch 2/5\n",
      "1688/1688 [==============================] - 15s 9ms/step - loss: 0.4541 - accuracy: 0.8200 - val_loss: 0.4369 - val_accuracy: 0.8187\n",
      "Epoch 3/5\n",
      "1688/1688 [==============================] - 15s 9ms/step - loss: 0.3968 - accuracy: 0.8413 - val_loss: 0.3526 - val_accuracy: 0.8577\n",
      "Epoch 4/5\n",
      "1688/1688 [==============================] - 15s 9ms/step - loss: 0.3667 - accuracy: 0.8542 - val_loss: 0.3670 - val_accuracy: 0.8508\n",
      "Epoch 5/5\n",
      "1688/1688 [==============================] - 15s 9ms/step - loss: 0.3403 - accuracy: 0.8651 - val_loss: 0.3864 - val_accuracy: 0.8490\n"
     ]
    },
    {
     "data": {
      "text/html": [
       "<span style=\"color:#4527A0\"><h1 style=\"font-size:18px\">Trial complete</h1></span>"
      ],
      "text/plain": [
       "<IPython.core.display.HTML object>"
      ]
     },
     "metadata": {
      "tags": []
     },
     "output_type": "display_data"
    },
    {
     "data": {
      "text/html": [
       "<span style=\"color:#4527A0\"><h1 style=\"font-size:18px\">Trial summary</h1></span>"
      ],
      "text/plain": [
       "<IPython.core.display.HTML object>"
      ]
     },
     "metadata": {
      "tags": []
     },
     "output_type": "display_data"
    },
    {
     "data": {
      "text/html": [
       "<span style=\"color:cyan\"> |-Trial ID: 4407e9f61a2ee66eb544361f48bb36ed</span>"
      ],
      "text/plain": [
       "<IPython.core.display.HTML object>"
      ]
     },
     "metadata": {
      "tags": []
     },
     "output_type": "display_data"
    },
    {
     "data": {
      "text/html": [
       "<span style=\"color:cyan\"> |-Score: 0.8576666712760925</span>"
      ],
      "text/plain": [
       "<IPython.core.display.HTML object>"
      ]
     },
     "metadata": {
      "tags": []
     },
     "output_type": "display_data"
    },
    {
     "data": {
      "text/html": [
       "<span style=\"color:cyan\"> |-Best step: 0</span>"
      ],
      "text/plain": [
       "<IPython.core.display.HTML object>"
      ]
     },
     "metadata": {
      "tags": []
     },
     "output_type": "display_data"
    },
    {
     "data": {
      "text/html": [
       "<span style=\"color:#7E57C2\"><h2 style=\"font-size:16px\">Hyperparameters:</h2></span>"
      ],
      "text/plain": [
       "<IPython.core.display.HTML object>"
      ]
     },
     "metadata": {
      "tags": []
     },
     "output_type": "display_data"
    },
    {
     "data": {
      "text/html": [
       "<span style=\"color:cyan\"> |-dense_unit: 128</span>"
      ],
      "text/plain": [
       "<IPython.core.display.HTML object>"
      ]
     },
     "metadata": {
      "tags": []
     },
     "output_type": "display_data"
    },
    {
     "data": {
      "text/html": [
       "<span style=\"color:blue\"> |-filter_1: 176</span>"
      ],
      "text/plain": [
       "<IPython.core.display.HTML object>"
      ]
     },
     "metadata": {
      "tags": []
     },
     "output_type": "display_data"
    },
    {
     "data": {
      "text/html": [
       "<span style=\"color:cyan\"> |-filter_2: 96</span>"
      ],
      "text/plain": [
       "<IPython.core.display.HTML object>"
      ]
     },
     "metadata": {
      "tags": []
     },
     "output_type": "display_data"
    },
    {
     "data": {
      "text/html": [
       "<span style=\"color:blue\"> |-kernel_1: 5</span>"
      ],
      "text/plain": [
       "<IPython.core.display.HTML object>"
      ]
     },
     "metadata": {
      "tags": []
     },
     "output_type": "display_data"
    },
    {
     "data": {
      "text/html": [
       "<span style=\"color:cyan\"> |-kernel_2: 3</span>"
      ],
      "text/plain": [
       "<IPython.core.display.HTML object>"
      ]
     },
     "metadata": {
      "tags": []
     },
     "output_type": "display_data"
    },
    {
     "data": {
      "text/html": [
       "<span style=\"color:blue\"> |-learning_rate: 0.0001</span>"
      ],
      "text/plain": [
       "<IPython.core.display.HTML object>"
      ]
     },
     "metadata": {
      "tags": []
     },
     "output_type": "display_data"
    },
    {
     "name": "stdout",
     "output_type": "stream",
     "text": [
      "Epoch 1/5\n",
      "1688/1688 [==============================] - 26s 15ms/step - loss: 0.6033 - accuracy: 0.7500 - val_loss: 0.4350 - val_accuracy: 0.8255\n",
      "Epoch 2/5\n",
      "1688/1688 [==============================] - 26s 15ms/step - loss: 0.4161 - accuracy: 0.8327 - val_loss: 0.4191 - val_accuracy: 0.8282\n",
      "Epoch 3/5\n",
      "1688/1688 [==============================] - 26s 15ms/step - loss: 0.3626 - accuracy: 0.8550 - val_loss: 0.3541 - val_accuracy: 0.8568\n",
      "Epoch 4/5\n",
      "1688/1688 [==============================] - 26s 15ms/step - loss: 0.3282 - accuracy: 0.8679 - val_loss: 0.3927 - val_accuracy: 0.8353\n",
      "Epoch 5/5\n",
      "1688/1688 [==============================] - 26s 15ms/step - loss: 0.2984 - accuracy: 0.8814 - val_loss: 0.3190 - val_accuracy: 0.8702\n"
     ]
    },
    {
     "data": {
      "text/html": [
       "<span style=\"color:#4527A0\"><h1 style=\"font-size:18px\">Trial complete</h1></span>"
      ],
      "text/plain": [
       "<IPython.core.display.HTML object>"
      ]
     },
     "metadata": {
      "tags": []
     },
     "output_type": "display_data"
    },
    {
     "data": {
      "text/html": [
       "<span style=\"color:#4527A0\"><h1 style=\"font-size:18px\">Trial summary</h1></span>"
      ],
      "text/plain": [
       "<IPython.core.display.HTML object>"
      ]
     },
     "metadata": {
      "tags": []
     },
     "output_type": "display_data"
    },
    {
     "data": {
      "text/html": [
       "<span style=\"color:cyan\"> |-Trial ID: 3b431a0b53420392c3194c6295336ec9</span>"
      ],
      "text/plain": [
       "<IPython.core.display.HTML object>"
      ]
     },
     "metadata": {
      "tags": []
     },
     "output_type": "display_data"
    },
    {
     "data": {
      "text/html": [
       "<span style=\"color:cyan\"> |-Score: 0.8701666593551636</span>"
      ],
      "text/plain": [
       "<IPython.core.display.HTML object>"
      ]
     },
     "metadata": {
      "tags": []
     },
     "output_type": "display_data"
    },
    {
     "data": {
      "text/html": [
       "<span style=\"color:cyan\"> |-Best step: 0</span>"
      ],
      "text/plain": [
       "<IPython.core.display.HTML object>"
      ]
     },
     "metadata": {
      "tags": []
     },
     "output_type": "display_data"
    },
    {
     "data": {
      "text/html": [
       "<span style=\"color:#7E57C2\"><h2 style=\"font-size:16px\">Hyperparameters:</h2></span>"
      ],
      "text/plain": [
       "<IPython.core.display.HTML object>"
      ]
     },
     "metadata": {
      "tags": []
     },
     "output_type": "display_data"
    },
    {
     "data": {
      "text/html": [
       "<span style=\"color:cyan\"> |-dense_unit: 224</span>"
      ],
      "text/plain": [
       "<IPython.core.display.HTML object>"
      ]
     },
     "metadata": {
      "tags": []
     },
     "output_type": "display_data"
    },
    {
     "data": {
      "text/html": [
       "<span style=\"color:blue\"> |-filter_1: 160</span>"
      ],
      "text/plain": [
       "<IPython.core.display.HTML object>"
      ]
     },
     "metadata": {
      "tags": []
     },
     "output_type": "display_data"
    },
    {
     "data": {
      "text/html": [
       "<span style=\"color:cyan\"> |-filter_2: 256</span>"
      ],
      "text/plain": [
       "<IPython.core.display.HTML object>"
      ]
     },
     "metadata": {
      "tags": []
     },
     "output_type": "display_data"
    },
    {
     "data": {
      "text/html": [
       "<span style=\"color:blue\"> |-kernel_1: 5</span>"
      ],
      "text/plain": [
       "<IPython.core.display.HTML object>"
      ]
     },
     "metadata": {
      "tags": []
     },
     "output_type": "display_data"
    },
    {
     "data": {
      "text/html": [
       "<span style=\"color:cyan\"> |-kernel_2: 3</span>"
      ],
      "text/plain": [
       "<IPython.core.display.HTML object>"
      ]
     },
     "metadata": {
      "tags": []
     },
     "output_type": "display_data"
    },
    {
     "data": {
      "text/html": [
       "<span style=\"color:blue\"> |-learning_rate: 0.0001</span>"
      ],
      "text/plain": [
       "<IPython.core.display.HTML object>"
      ]
     },
     "metadata": {
      "tags": []
     },
     "output_type": "display_data"
    },
    {
     "name": "stdout",
     "output_type": "stream",
     "text": [
      "INFO:tensorflow:Oracle triggered exit\n"
     ]
    }
   ],
   "source": [
    "tuner_search.search(x_train, y_train,epochs=5,validation_data=(x_validate, y_validate),callbacks=[calls])"
   ]
  },
  {
   "cell_type": "code",
   "execution_count": 0,
   "metadata": {
    "colab": {},
    "colab_type": "code",
    "id": "JefDIdXeY_hw"
   },
   "outputs": [],
   "source": [
    "# Selecting the best model with the best tuned parameters\n",
    "\n",
    "model_hp = tuner_search.get_best_models(num_models=1)[0]"
   ]
  },
  {
   "cell_type": "code",
   "execution_count": 35,
   "metadata": {
    "colab": {
     "base_uri": "https://localhost:8080/",
     "height": 1000
    },
    "colab_type": "code",
    "id": "h_8qgXPPY_kL",
    "outputId": "aed20378-b917-4348-a3e2-1f6b991a10c6"
   },
   "outputs": [
    {
     "data": {
      "text/html": [
       "<span style=\"color:#4527A0\"><h1 style=\"font-size:18px\">Results summary</h1></span>"
      ],
      "text/plain": [
       "<IPython.core.display.HTML object>"
      ]
     },
     "metadata": {
      "tags": []
     },
     "output_type": "display_data"
    },
    {
     "data": {
      "text/html": [
       "<span style=\"color:cyan\"> |-Results in output/untitled_project</span>"
      ],
      "text/plain": [
       "<IPython.core.display.HTML object>"
      ]
     },
     "metadata": {
      "tags": []
     },
     "output_type": "display_data"
    },
    {
     "data": {
      "text/html": [
       "<span style=\"color:cyan\"> |-Showing 10 best trials</span>"
      ],
      "text/plain": [
       "<IPython.core.display.HTML object>"
      ]
     },
     "metadata": {
      "tags": []
     },
     "output_type": "display_data"
    },
    {
     "data": {
      "text/html": [
       "<span style=\"color:cyan\"> |-Objective(name='val_accuracy', direction='max')</span>"
      ],
      "text/plain": [
       "<IPython.core.display.HTML object>"
      ]
     },
     "metadata": {
      "tags": []
     },
     "output_type": "display_data"
    },
    {
     "data": {
      "text/html": [
       "<span style=\"color:#4527A0\"><h1 style=\"font-size:18px\">Trial summary</h1></span>"
      ],
      "text/plain": [
       "<IPython.core.display.HTML object>"
      ]
     },
     "metadata": {
      "tags": []
     },
     "output_type": "display_data"
    },
    {
     "data": {
      "text/html": [
       "<span style=\"color:cyan\"> |-Trial ID: 3b431a0b53420392c3194c6295336ec9</span>"
      ],
      "text/plain": [
       "<IPython.core.display.HTML object>"
      ]
     },
     "metadata": {
      "tags": []
     },
     "output_type": "display_data"
    },
    {
     "data": {
      "text/html": [
       "<span style=\"color:cyan\"> |-Score: 0.8701666593551636</span>"
      ],
      "text/plain": [
       "<IPython.core.display.HTML object>"
      ]
     },
     "metadata": {
      "tags": []
     },
     "output_type": "display_data"
    },
    {
     "data": {
      "text/html": [
       "<span style=\"color:cyan\"> |-Best step: 0</span>"
      ],
      "text/plain": [
       "<IPython.core.display.HTML object>"
      ]
     },
     "metadata": {
      "tags": []
     },
     "output_type": "display_data"
    },
    {
     "data": {
      "text/html": [
       "<span style=\"color:#7E57C2\"><h2 style=\"font-size:16px\">Hyperparameters:</h2></span>"
      ],
      "text/plain": [
       "<IPython.core.display.HTML object>"
      ]
     },
     "metadata": {
      "tags": []
     },
     "output_type": "display_data"
    },
    {
     "data": {
      "text/html": [
       "<span style=\"color:cyan\"> |-dense_unit: 224</span>"
      ],
      "text/plain": [
       "<IPython.core.display.HTML object>"
      ]
     },
     "metadata": {
      "tags": []
     },
     "output_type": "display_data"
    },
    {
     "data": {
      "text/html": [
       "<span style=\"color:blue\"> |-filter_1: 160</span>"
      ],
      "text/plain": [
       "<IPython.core.display.HTML object>"
      ]
     },
     "metadata": {
      "tags": []
     },
     "output_type": "display_data"
    },
    {
     "data": {
      "text/html": [
       "<span style=\"color:cyan\"> |-filter_2: 256</span>"
      ],
      "text/plain": [
       "<IPython.core.display.HTML object>"
      ]
     },
     "metadata": {
      "tags": []
     },
     "output_type": "display_data"
    },
    {
     "data": {
      "text/html": [
       "<span style=\"color:blue\"> |-kernel_1: 5</span>"
      ],
      "text/plain": [
       "<IPython.core.display.HTML object>"
      ]
     },
     "metadata": {
      "tags": []
     },
     "output_type": "display_data"
    },
    {
     "data": {
      "text/html": [
       "<span style=\"color:cyan\"> |-kernel_2: 3</span>"
      ],
      "text/plain": [
       "<IPython.core.display.HTML object>"
      ]
     },
     "metadata": {
      "tags": []
     },
     "output_type": "display_data"
    },
    {
     "data": {
      "text/html": [
       "<span style=\"color:blue\"> |-learning_rate: 0.0001</span>"
      ],
      "text/plain": [
       "<IPython.core.display.HTML object>"
      ]
     },
     "metadata": {
      "tags": []
     },
     "output_type": "display_data"
    },
    {
     "data": {
      "text/html": [
       "<span style=\"color:#4527A0\"><h1 style=\"font-size:18px\">Trial summary</h1></span>"
      ],
      "text/plain": [
       "<IPython.core.display.HTML object>"
      ]
     },
     "metadata": {
      "tags": []
     },
     "output_type": "display_data"
    },
    {
     "data": {
      "text/html": [
       "<span style=\"color:cyan\"> |-Trial ID: 4407e9f61a2ee66eb544361f48bb36ed</span>"
      ],
      "text/plain": [
       "<IPython.core.display.HTML object>"
      ]
     },
     "metadata": {
      "tags": []
     },
     "output_type": "display_data"
    },
    {
     "data": {
      "text/html": [
       "<span style=\"color:cyan\"> |-Score: 0.8576666712760925</span>"
      ],
      "text/plain": [
       "<IPython.core.display.HTML object>"
      ]
     },
     "metadata": {
      "tags": []
     },
     "output_type": "display_data"
    },
    {
     "data": {
      "text/html": [
       "<span style=\"color:cyan\"> |-Best step: 0</span>"
      ],
      "text/plain": [
       "<IPython.core.display.HTML object>"
      ]
     },
     "metadata": {
      "tags": []
     },
     "output_type": "display_data"
    },
    {
     "data": {
      "text/html": [
       "<span style=\"color:#7E57C2\"><h2 style=\"font-size:16px\">Hyperparameters:</h2></span>"
      ],
      "text/plain": [
       "<IPython.core.display.HTML object>"
      ]
     },
     "metadata": {
      "tags": []
     },
     "output_type": "display_data"
    },
    {
     "data": {
      "text/html": [
       "<span style=\"color:cyan\"> |-dense_unit: 128</span>"
      ],
      "text/plain": [
       "<IPython.core.display.HTML object>"
      ]
     },
     "metadata": {
      "tags": []
     },
     "output_type": "display_data"
    },
    {
     "data": {
      "text/html": [
       "<span style=\"color:blue\"> |-filter_1: 176</span>"
      ],
      "text/plain": [
       "<IPython.core.display.HTML object>"
      ]
     },
     "metadata": {
      "tags": []
     },
     "output_type": "display_data"
    },
    {
     "data": {
      "text/html": [
       "<span style=\"color:cyan\"> |-filter_2: 96</span>"
      ],
      "text/plain": [
       "<IPython.core.display.HTML object>"
      ]
     },
     "metadata": {
      "tags": []
     },
     "output_type": "display_data"
    },
    {
     "data": {
      "text/html": [
       "<span style=\"color:blue\"> |-kernel_1: 5</span>"
      ],
      "text/plain": [
       "<IPython.core.display.HTML object>"
      ]
     },
     "metadata": {
      "tags": []
     },
     "output_type": "display_data"
    },
    {
     "data": {
      "text/html": [
       "<span style=\"color:cyan\"> |-kernel_2: 3</span>"
      ],
      "text/plain": [
       "<IPython.core.display.HTML object>"
      ]
     },
     "metadata": {
      "tags": []
     },
     "output_type": "display_data"
    },
    {
     "data": {
      "text/html": [
       "<span style=\"color:blue\"> |-learning_rate: 0.0001</span>"
      ],
      "text/plain": [
       "<IPython.core.display.HTML object>"
      ]
     },
     "metadata": {
      "tags": []
     },
     "output_type": "display_data"
    },
    {
     "data": {
      "text/html": [
       "<span style=\"color:#4527A0\"><h1 style=\"font-size:18px\">Trial summary</h1></span>"
      ],
      "text/plain": [
       "<IPython.core.display.HTML object>"
      ]
     },
     "metadata": {
      "tags": []
     },
     "output_type": "display_data"
    },
    {
     "data": {
      "text/html": [
       "<span style=\"color:cyan\"> |-Trial ID: 5215c9ce210d778779693bc611645ba2</span>"
      ],
      "text/plain": [
       "<IPython.core.display.HTML object>"
      ]
     },
     "metadata": {
      "tags": []
     },
     "output_type": "display_data"
    },
    {
     "data": {
      "text/html": [
       "<span style=\"color:cyan\"> |-Score: 0.8495000004768372</span>"
      ],
      "text/plain": [
       "<IPython.core.display.HTML object>"
      ]
     },
     "metadata": {
      "tags": []
     },
     "output_type": "display_data"
    },
    {
     "data": {
      "text/html": [
       "<span style=\"color:cyan\"> |-Best step: 0</span>"
      ],
      "text/plain": [
       "<IPython.core.display.HTML object>"
      ]
     },
     "metadata": {
      "tags": []
     },
     "output_type": "display_data"
    },
    {
     "data": {
      "text/html": [
       "<span style=\"color:#7E57C2\"><h2 style=\"font-size:16px\">Hyperparameters:</h2></span>"
      ],
      "text/plain": [
       "<IPython.core.display.HTML object>"
      ]
     },
     "metadata": {
      "tags": []
     },
     "output_type": "display_data"
    },
    {
     "data": {
      "text/html": [
       "<span style=\"color:cyan\"> |-dense_unit: 48</span>"
      ],
      "text/plain": [
       "<IPython.core.display.HTML object>"
      ]
     },
     "metadata": {
      "tags": []
     },
     "output_type": "display_data"
    },
    {
     "data": {
      "text/html": [
       "<span style=\"color:blue\"> |-filter_1: 96</span>"
      ],
      "text/plain": [
       "<IPython.core.display.HTML object>"
      ]
     },
     "metadata": {
      "tags": []
     },
     "output_type": "display_data"
    },
    {
     "data": {
      "text/html": [
       "<span style=\"color:cyan\"> |-filter_2: 192</span>"
      ],
      "text/plain": [
       "<IPython.core.display.HTML object>"
      ]
     },
     "metadata": {
      "tags": []
     },
     "output_type": "display_data"
    },
    {
     "data": {
      "text/html": [
       "<span style=\"color:blue\"> |-kernel_1: 5</span>"
      ],
      "text/plain": [
       "<IPython.core.display.HTML object>"
      ]
     },
     "metadata": {
      "tags": []
     },
     "output_type": "display_data"
    },
    {
     "data": {
      "text/html": [
       "<span style=\"color:cyan\"> |-kernel_2: 3</span>"
      ],
      "text/plain": [
       "<IPython.core.display.HTML object>"
      ]
     },
     "metadata": {
      "tags": []
     },
     "output_type": "display_data"
    },
    {
     "data": {
      "text/html": [
       "<span style=\"color:blue\"> |-learning_rate: 0.0001</span>"
      ],
      "text/plain": [
       "<IPython.core.display.HTML object>"
      ]
     },
     "metadata": {
      "tags": []
     },
     "output_type": "display_data"
    },
    {
     "data": {
      "text/html": [
       "<span style=\"color:#4527A0\"><h1 style=\"font-size:18px\">Trial summary</h1></span>"
      ],
      "text/plain": [
       "<IPython.core.display.HTML object>"
      ]
     },
     "metadata": {
      "tags": []
     },
     "output_type": "display_data"
    },
    {
     "data": {
      "text/html": [
       "<span style=\"color:cyan\"> |-Trial ID: ce5ac173650a9c0f3be1ec565765977d</span>"
      ],
      "text/plain": [
       "<IPython.core.display.HTML object>"
      ]
     },
     "metadata": {
      "tags": []
     },
     "output_type": "display_data"
    },
    {
     "data": {
      "text/html": [
       "<span style=\"color:cyan\"> |-Score: 0.8356666564941406</span>"
      ],
      "text/plain": [
       "<IPython.core.display.HTML object>"
      ]
     },
     "metadata": {
      "tags": []
     },
     "output_type": "display_data"
    },
    {
     "data": {
      "text/html": [
       "<span style=\"color:cyan\"> |-Best step: 0</span>"
      ],
      "text/plain": [
       "<IPython.core.display.HTML object>"
      ]
     },
     "metadata": {
      "tags": []
     },
     "output_type": "display_data"
    },
    {
     "data": {
      "text/html": [
       "<span style=\"color:#7E57C2\"><h2 style=\"font-size:16px\">Hyperparameters:</h2></span>"
      ],
      "text/plain": [
       "<IPython.core.display.HTML object>"
      ]
     },
     "metadata": {
      "tags": []
     },
     "output_type": "display_data"
    },
    {
     "data": {
      "text/html": [
       "<span style=\"color:cyan\"> |-dense_unit: 160</span>"
      ],
      "text/plain": [
       "<IPython.core.display.HTML object>"
      ]
     },
     "metadata": {
      "tags": []
     },
     "output_type": "display_data"
    },
    {
     "data": {
      "text/html": [
       "<span style=\"color:blue\"> |-filter_1: 64</span>"
      ],
      "text/plain": [
       "<IPython.core.display.HTML object>"
      ]
     },
     "metadata": {
      "tags": []
     },
     "output_type": "display_data"
    },
    {
     "data": {
      "text/html": [
       "<span style=\"color:cyan\"> |-filter_2: 144</span>"
      ],
      "text/plain": [
       "<IPython.core.display.HTML object>"
      ]
     },
     "metadata": {
      "tags": []
     },
     "output_type": "display_data"
    },
    {
     "data": {
      "text/html": [
       "<span style=\"color:blue\"> |-kernel_1: 3</span>"
      ],
      "text/plain": [
       "<IPython.core.display.HTML object>"
      ]
     },
     "metadata": {
      "tags": []
     },
     "output_type": "display_data"
    },
    {
     "data": {
      "text/html": [
       "<span style=\"color:cyan\"> |-kernel_2: 5</span>"
      ],
      "text/plain": [
       "<IPython.core.display.HTML object>"
      ]
     },
     "metadata": {
      "tags": []
     },
     "output_type": "display_data"
    },
    {
     "data": {
      "text/html": [
       "<span style=\"color:blue\"> |-learning_rate: 0.01</span>"
      ],
      "text/plain": [
       "<IPython.core.display.HTML object>"
      ]
     },
     "metadata": {
      "tags": []
     },
     "output_type": "display_data"
    },
    {
     "data": {
      "text/html": [
       "<span style=\"color:#4527A0\"><h1 style=\"font-size:18px\">Trial summary</h1></span>"
      ],
      "text/plain": [
       "<IPython.core.display.HTML object>"
      ]
     },
     "metadata": {
      "tags": []
     },
     "output_type": "display_data"
    },
    {
     "data": {
      "text/html": [
       "<span style=\"color:cyan\"> |-Trial ID: d01ecfaae1f7709c4671ea3aacbc9f8e</span>"
      ],
      "text/plain": [
       "<IPython.core.display.HTML object>"
      ]
     },
     "metadata": {
      "tags": []
     },
     "output_type": "display_data"
    },
    {
     "data": {
      "text/html": [
       "<span style=\"color:cyan\"> |-Score: 0.8331666588783264</span>"
      ],
      "text/plain": [
       "<IPython.core.display.HTML object>"
      ]
     },
     "metadata": {
      "tags": []
     },
     "output_type": "display_data"
    },
    {
     "data": {
      "text/html": [
       "<span style=\"color:cyan\"> |-Best step: 0</span>"
      ],
      "text/plain": [
       "<IPython.core.display.HTML object>"
      ]
     },
     "metadata": {
      "tags": []
     },
     "output_type": "display_data"
    },
    {
     "data": {
      "text/html": [
       "<span style=\"color:#7E57C2\"><h2 style=\"font-size:16px\">Hyperparameters:</h2></span>"
      ],
      "text/plain": [
       "<IPython.core.display.HTML object>"
      ]
     },
     "metadata": {
      "tags": []
     },
     "output_type": "display_data"
    },
    {
     "data": {
      "text/html": [
       "<span style=\"color:cyan\"> |-dense_unit: 240</span>"
      ],
      "text/plain": [
       "<IPython.core.display.HTML object>"
      ]
     },
     "metadata": {
      "tags": []
     },
     "output_type": "display_data"
    },
    {
     "data": {
      "text/html": [
       "<span style=\"color:blue\"> |-filter_1: 192</span>"
      ],
      "text/plain": [
       "<IPython.core.display.HTML object>"
      ]
     },
     "metadata": {
      "tags": []
     },
     "output_type": "display_data"
    },
    {
     "data": {
      "text/html": [
       "<span style=\"color:cyan\"> |-filter_2: 192</span>"
      ],
      "text/plain": [
       "<IPython.core.display.HTML object>"
      ]
     },
     "metadata": {
      "tags": []
     },
     "output_type": "display_data"
    },
    {
     "data": {
      "text/html": [
       "<span style=\"color:blue\"> |-kernel_1: 3</span>"
      ],
      "text/plain": [
       "<IPython.core.display.HTML object>"
      ]
     },
     "metadata": {
      "tags": []
     },
     "output_type": "display_data"
    },
    {
     "data": {
      "text/html": [
       "<span style=\"color:cyan\"> |-kernel_2: 5</span>"
      ],
      "text/plain": [
       "<IPython.core.display.HTML object>"
      ]
     },
     "metadata": {
      "tags": []
     },
     "output_type": "display_data"
    },
    {
     "data": {
      "text/html": [
       "<span style=\"color:blue\"> |-learning_rate: 0.01</span>"
      ],
      "text/plain": [
       "<IPython.core.display.HTML object>"
      ]
     },
     "metadata": {
      "tags": []
     },
     "output_type": "display_data"
    }
   ],
   "source": [
    "tuner_search.results_summary()"
   ]
  },
  {
   "cell_type": "code",
   "execution_count": 36,
   "metadata": {
    "colab": {
     "base_uri": "https://localhost:8080/",
     "height": 391
    },
    "colab_type": "code",
    "id": "QP1LKJlXY_m1",
    "outputId": "6c0d2b69-c6d9-4770-e9f3-5604469f7fc0"
   },
   "outputs": [
    {
     "name": "stdout",
     "output_type": "stream",
     "text": [
      "Model: \"sequential\"\n",
      "_________________________________________________________________\n",
      "Layer (type)                 Output Shape              Param #   \n",
      "=================================================================\n",
      "conv2d (Conv2D)              (None, 24, 24, 160)       4160      \n",
      "_________________________________________________________________\n",
      "conv2d_1 (Conv2D)            (None, 22, 22, 256)       368896    \n",
      "_________________________________________________________________\n",
      "max_pooling2d (MaxPooling2D) (None, 11, 11, 256)       0         \n",
      "_________________________________________________________________\n",
      "dropout (Dropout)            (None, 11, 11, 256)       0         \n",
      "_________________________________________________________________\n",
      "flatten (Flatten)            (None, 30976)             0         \n",
      "_________________________________________________________________\n",
      "dense (Dense)                (None, 224)               6938848   \n",
      "_________________________________________________________________\n",
      "dense_1 (Dense)              (None, 5)                 1125      \n",
      "=================================================================\n",
      "Total params: 7,313,029\n",
      "Trainable params: 7,313,029\n",
      "Non-trainable params: 0\n",
      "_________________________________________________________________\n"
     ]
    }
   ],
   "source": [
    "# Summary of the hyper tuned model\n",
    "\n",
    "model_hp.summary()"
   ]
  },
  {
   "cell_type": "code",
   "execution_count": 37,
   "metadata": {
    "colab": {
     "base_uri": "https://localhost:8080/",
     "height": 921
    },
    "colab_type": "code",
    "id": "D7rTZr1_XsCX",
    "outputId": "c544e1ea-85a7-4852-afeb-4aa768c79701"
   },
   "outputs": [
    {
     "name": "stdout",
     "output_type": "stream",
     "text": [
      "Epoch 1/30\n",
      "106/106 [==============================] - 17s 162ms/step - loss: 0.2467 - accuracy: 0.9065 - val_loss: 0.2822 - val_accuracy: 0.8873\n",
      "Epoch 2/30\n",
      "106/106 [==============================] - 16s 155ms/step - loss: 0.2371 - accuracy: 0.9108 - val_loss: 0.2802 - val_accuracy: 0.8893\n",
      "Epoch 3/30\n",
      "106/106 [==============================] - 17s 157ms/step - loss: 0.2333 - accuracy: 0.9113 - val_loss: 0.2785 - val_accuracy: 0.8887\n",
      "Epoch 4/30\n",
      "106/106 [==============================] - 17s 157ms/step - loss: 0.2305 - accuracy: 0.9125 - val_loss: 0.2756 - val_accuracy: 0.8902\n",
      "Epoch 5/30\n",
      "106/106 [==============================] - 17s 157ms/step - loss: 0.2275 - accuracy: 0.9143 - val_loss: 0.2751 - val_accuracy: 0.8898\n",
      "Epoch 6/30\n",
      "106/106 [==============================] - 17s 157ms/step - loss: 0.2238 - accuracy: 0.9160 - val_loss: 0.2754 - val_accuracy: 0.8873\n",
      "Epoch 7/30\n",
      "106/106 [==============================] - 17s 158ms/step - loss: 0.2213 - accuracy: 0.9169 - val_loss: 0.2739 - val_accuracy: 0.8905\n",
      "Epoch 8/30\n",
      "106/106 [==============================] - 17s 157ms/step - loss: 0.2192 - accuracy: 0.9176 - val_loss: 0.2697 - val_accuracy: 0.8922\n",
      "Epoch 9/30\n",
      "106/106 [==============================] - 17s 158ms/step - loss: 0.2163 - accuracy: 0.9190 - val_loss: 0.2766 - val_accuracy: 0.8882\n",
      "Epoch 10/30\n",
      "106/106 [==============================] - 17s 157ms/step - loss: 0.2133 - accuracy: 0.9200 - val_loss: 0.2668 - val_accuracy: 0.8942\n",
      "Epoch 11/30\n",
      "106/106 [==============================] - 17s 157ms/step - loss: 0.2109 - accuracy: 0.9197 - val_loss: 0.2714 - val_accuracy: 0.8915\n",
      "Epoch 12/30\n",
      "106/106 [==============================] - 17s 157ms/step - loss: 0.2116 - accuracy: 0.9196 - val_loss: 0.2656 - val_accuracy: 0.8943\n",
      "Epoch 13/30\n",
      "106/106 [==============================] - 17s 157ms/step - loss: 0.2045 - accuracy: 0.9230 - val_loss: 0.2658 - val_accuracy: 0.8942\n",
      "Epoch 14/30\n",
      "106/106 [==============================] - 17s 157ms/step - loss: 0.2049 - accuracy: 0.9222 - val_loss: 0.2795 - val_accuracy: 0.8878\n",
      "Epoch 15/30\n",
      "106/106 [==============================] - 17s 157ms/step - loss: 0.2015 - accuracy: 0.9244 - val_loss: 0.2610 - val_accuracy: 0.8967\n",
      "Epoch 16/30\n",
      "106/106 [==============================] - 16s 156ms/step - loss: 0.1953 - accuracy: 0.9273 - val_loss: 0.2603 - val_accuracy: 0.8973\n",
      "Epoch 17/30\n",
      "106/106 [==============================] - 17s 157ms/step - loss: 0.1940 - accuracy: 0.9265 - val_loss: 0.2717 - val_accuracy: 0.8870\n",
      "Epoch 18/30\n",
      "106/106 [==============================] - 17s 156ms/step - loss: 0.1911 - accuracy: 0.9277 - val_loss: 0.2721 - val_accuracy: 0.8907\n",
      "Epoch 19/30\n",
      "106/106 [==============================] - 17s 157ms/step - loss: 0.1892 - accuracy: 0.9283 - val_loss: 0.2636 - val_accuracy: 0.8963\n",
      "Epoch 20/30\n",
      "106/106 [==============================] - 17s 157ms/step - loss: 0.1862 - accuracy: 0.9307 - val_loss: 0.2560 - val_accuracy: 0.8945\n",
      "Epoch 21/30\n",
      "106/106 [==============================] - 17s 157ms/step - loss: 0.1840 - accuracy: 0.9311 - val_loss: 0.2614 - val_accuracy: 0.8987\n",
      "Epoch 22/30\n",
      "106/106 [==============================] - 17s 157ms/step - loss: 0.1773 - accuracy: 0.9337 - val_loss: 0.2569 - val_accuracy: 0.9005\n",
      "Epoch 23/30\n",
      "106/106 [==============================] - 17s 158ms/step - loss: 0.1798 - accuracy: 0.9316 - val_loss: 0.2550 - val_accuracy: 0.8990\n",
      "Epoch 24/30\n",
      "106/106 [==============================] - 17s 158ms/step - loss: 0.1751 - accuracy: 0.9338 - val_loss: 0.2559 - val_accuracy: 0.9005\n",
      "Epoch 25/30\n",
      "106/106 [==============================] - ETA: 0s - loss: 0.1689 - accuracy: 0.9373Restoring model weights from the end of the best epoch.\n",
      "106/106 [==============================] - 17s 158ms/step - loss: 0.1689 - accuracy: 0.9373 - val_loss: 0.2608 - val_accuracy: 0.8982\n",
      "Epoch 00025: early stopping\n"
     ]
    }
   ],
   "source": [
    "hp_best = model_hp.fit(x_train,y_train,batch_size=512,\n",
    "              epochs=30,verbose=1,\n",
    "              validation_data = (x_validate,y_validate),\n",
    "              callbacks=[calls]\n",
    ")"
   ]
  },
  {
   "cell_type": "code",
   "execution_count": 38,
   "metadata": {
    "colab": {
     "base_uri": "https://localhost:8080/",
     "height": 105
    },
    "colab_type": "code",
    "id": "NZ7pBzQSpmEq",
    "outputId": "4c0c6181-217e-40bb-c512-c84de6b5f8ba"
   },
   "outputs": [
    {
     "name": "stdout",
     "output_type": "stream",
     "text": [
      "WARNING:tensorflow:From <ipython-input-38-f959a7ec6546>:2: Sequential.predict_classes (from tensorflow.python.keras.engine.sequential) is deprecated and will be removed after 2021-01-01.\n",
      "Instructions for updating:\n",
      "Please use instead:* `np.argmax(model.predict(x), axis=-1)`,   if your model does multi-class classification   (e.g. if it uses a `softmax` last-layer activation).* `(model.predict(x) > 0.5).astype(\"int32\")`,   if your model does binary classification   (e.g. if it uses a `sigmoid` last-layer activation).\n"
     ]
    },
    {
     "data": {
      "text/plain": [
       "array([4, 4, 0, ..., 2, 2, 2])"
      ]
     },
     "execution_count": 38,
     "metadata": {
      "tags": []
     },
     "output_type": "execute_result"
    }
   ],
   "source": [
    "# Predicting the result for the test data\n",
    "\n",
    "pred_hp = model_hp.predict_classes(test_data)\n",
    "pred_hp"
   ]
  },
  {
   "cell_type": "code",
   "execution_count": 39,
   "metadata": {
    "colab": {
     "base_uri": "https://localhost:8080/",
     "height": 68
    },
    "colab_type": "code",
    "id": "jWpdbvPf8diY",
    "outputId": "5c93c25e-6160-4392-edf0-ffb7e6d47680"
   },
   "outputs": [
    {
     "name": "stdout",
     "output_type": "stream",
     "text": [
      "188/188 [==============================] - 1s 6ms/step - loss: 0.2570 - accuracy: 0.8945\n",
      "Validation loss: 0.2569722831249237\n",
      "Validation accuracy: 0.8945000171661377\n"
     ]
    }
   ],
   "source": [
    "hp_scores = model_hp.evaluate(x_validate, y_validate, verbose=1)\n",
    "print('Validation loss:', hp_scores[0])\n",
    "print('Validation accuracy:', hp_scores[1])"
   ]
  },
  {
   "cell_type": "code",
   "execution_count": 40,
   "metadata": {
    "colab": {
     "base_uri": "https://localhost:8080/",
     "height": 255
    },
    "colab_type": "code",
    "id": "_LrETGRipmHp",
    "outputId": "2193458b-df59-4062-fb45-a65be448c672"
   },
   "outputs": [
    {
     "name": "stdout",
     "output_type": "stream",
     "text": [
      "        Id  Label\n",
      "0        0      4\n",
      "1        1      4\n",
      "2        2      0\n",
      "3        3      1\n",
      "4        4      0\n",
      "...    ...    ...\n",
      "9995  9995      1\n",
      "9996  9996      1\n",
      "9997  9997      2\n",
      "9998  9998      2\n",
      "9999  9999      2\n",
      "\n",
      "[10000 rows x 2 columns]\n"
     ]
    }
   ],
   "source": [
    "# Saving the output to the csv\n",
    "\n",
    "predict_hp = pd.DataFrame(pred_hp, columns=['Label'])\n",
    "dataset_1 = [data_test['Id'],predict_hp]\n",
    "final_df_1 = pd.concat(dataset_1,axis=1)\n",
    "\n",
    "print(final_df_1)\n",
    "\n",
    "from google.colab import files\n",
    "\n",
    "final_df_1.to_csv('hp.csv',index=False, header=True)\n",
    "files.download('hp.csv')"
   ]
  },
  {
   "cell_type": "code",
   "execution_count": 44,
   "metadata": {
    "colab": {
     "base_uri": "https://localhost:8080/",
     "height": 284
    },
    "colab_type": "code",
    "id": "rlTy3GcCpmQc",
    "outputId": "fb7fd066-d769-445b-e2f5-2b4bc57886ac"
   },
   "outputs": [
    {
     "data": {
      "image/png": "[encoded data removed]",
      "text/plain": [
       "<Figure size 432x288 with 1 Axes>"
      ]
     },
     "metadata": {
      "needs_background": "light",
      "tags": []
     },
     "output_type": "display_data"
    }
   ],
   "source": [
    "# Plotting the training and validation accuracy\n",
    "\n",
    "accuracy = hp_best.history['accuracy']\n",
    "val_accuracy = hp_best.history['val_accuracy']\n",
    "epochs = range(len(accuracy))\n",
    "plt.figure()\n",
    "plt.plot(epochs, accuracy, 'bo', label='Training accuracy')\n",
    "plt.plot(epochs, val_accuracy, 'b', label='Validation accuracy')\n",
    "plt.title('Hyper parameter Tuning Training and validation accuracy')\n",
    "plt.legend()\n",
    "plt.show()"
   ]
  },
  {
   "cell_type": "code",
   "execution_count": 45,
   "metadata": {
    "colab": {
     "base_uri": "https://localhost:8080/",
     "height": 284
    },
    "colab_type": "code",
    "id": "iwSKkvPSpmTv",
    "outputId": "c10eb929-c274-47b8-dedc-56cc94854186"
   },
   "outputs": [
    {
     "data": {
      "image/png": "[encoded data removed]",
      "text/plain": [
       "<Figure size 432x288 with 1 Axes>"
      ]
     },
     "metadata": {
      "needs_background": "light",
      "tags": []
     },
     "output_type": "display_data"
    }
   ],
   "source": [
    "# Plotting the training and validation loss\n",
    "\n",
    "loss = hp_best.history['loss']\n",
    "val_loss = hp_best.history['val_loss']\n",
    "epochs = range(len(loss))\n",
    "plt.figure()\n",
    "plt.plot(epochs, loss, 'bo', label='Training loss')\n",
    "plt.plot(epochs, val_loss, 'b', label='Validation loss')\n",
    "plt.title('Hyper parameter Tuning Training and validation loss')\n",
    "plt.legend()\n",
    "plt.show()"
   ]
  },
  {
   "cell_type": "code",
   "execution_count": 46,
   "metadata": {
    "colab": {
     "base_uri": "https://localhost:8080/",
     "height": 221
    },
    "colab_type": "code",
    "id": "GVzM1ebHqM8E",
    "outputId": "5220c311-ca4c-4fc2-db6d-869d458876bb"
   },
   "outputs": [
    {
     "name": "stdout",
     "output_type": "stream",
     "text": [
      "              precision    recall  f1-score   support\n",
      "\n",
      "           0       0.96      0.94      0.95      1190\n",
      "           1       0.88      0.88      0.88      1230\n",
      "           2       0.84      0.86      0.85      1182\n",
      "           3       0.87      0.85      0.86      1175\n",
      "           4       0.93      0.94      0.93      1223\n",
      "\n",
      "    accuracy                           0.89      6000\n",
      "   macro avg       0.89      0.89      0.89      6000\n",
      "weighted avg       0.89      0.89      0.89      6000\n",
      "\n"
     ]
    }
   ],
   "source": [
    "# Classification Report\n",
    "y_hp = model_hp.predict(x_validate)\n",
    "y_val_hp = np.argmax(y_hp, axis = 1)\n",
    "labels = ['0', '1', '2', '3', '4']\n",
    "print(classification_report(y_validate, y_val_hp, target_names = labels))"
   ]
  },
  {
   "cell_type": "code",
   "execution_count": 47,
   "metadata": {
    "colab": {
     "base_uri": "https://localhost:8080/",
     "height": 518
    },
    "colab_type": "code",
    "id": "1MtQxh8-qM-1",
    "outputId": "1b0d1459-496a-4572-baf2-941b5a7984c8"
   },
   "outputs": [
    {
     "data": {
      "image/png": "[encoded data removed]",
      "text/plain": [
       "<Figure size 720x576 with 2 Axes>"
      ]
     },
     "metadata": {
      "needs_background": "light",
      "tags": []
     },
     "output_type": "display_data"
    }
   ],
   "source": [
    "# Confusion matrix\n",
    "\n",
    "confusion_mtx = confusion_matrix(y_validate, y_val_hp) \n",
    "\n",
    "f,ax = plt.subplots(figsize = (10,8))\n",
    "sns.heatmap(confusion_mtx, annot=True, linewidths=0.1, cmap = \"gist_yarg_r\", linecolor=\"black\", fmt='.0f', ax=ax)\n",
    "plt.xlabel(\"Predicted Label\")\n",
    "plt.ylabel(\"True Label\")\n",
    "plt.title(\"Hyper parameter Tuning Confusion Matrix\")\n",
    "plt.show()"
   ]
  },
  {
   "cell_type": "markdown",
   "metadata": {
    "colab_type": "text",
    "id": "6365hapOXt9V"
   },
   "source": [
    "#### Autoencoders"
   ]
  },
  {
   "cell_type": "code",
   "execution_count": 0,
   "metadata": {
    "colab": {},
    "colab_type": "code",
    "id": "2xsGhGxcXyjZ"
   },
   "outputs": [],
   "source": [
    "# Importing libraries\n",
    "\n",
    "from keras.models import Model\n",
    "from keras.optimizers import RMSprop\n",
    "from keras.layers import Input,Dense,Flatten,Dropout,merge,Reshape,Conv2D,MaxPooling2D,UpSampling2D,Conv2DTranspose\n",
    "from keras.layers.normalization import BatchNormalization\n",
    "from keras.models import Model,Sequential\n",
    "from keras.callbacks import ModelCheckpoint\n",
    "from keras.optimizers import Adadelta, RMSprop,SGD,Adam\n",
    "from keras import regularizers\n",
    "from keras import backend as K\n",
    "from keras.utils import to_categorical"
   ]
  },
  {
   "cell_type": "code",
   "execution_count": 0,
   "metadata": {
    "colab": {},
    "colab_type": "code",
    "id": "igGpobcFrKQ-"
   },
   "outputs": [],
   "source": [
    "batch_size = 512\n",
    "epochs = 100\n",
    "x, y = 28, 28\n",
    "input_img = Input(shape = (x, y, 1))\n",
    "classes = 5"
   ]
  },
  {
   "cell_type": "code",
   "execution_count": 0,
   "metadata": {
    "colab": {},
    "colab_type": "code",
    "id": "QJSKMYdMrKTt"
   },
   "outputs": [],
   "source": [
    "\n",
    "train_data_1,valid_1,train_2,valid_2 = train_test_split(train_data,\n",
    "                                                             train_data,\n",
    "                                                             test_size=0.1,\n",
    "                                                             random_state=42)"
   ]
  },
  {
   "cell_type": "code",
   "execution_count": 0,
   "metadata": {
    "colab": {},
    "colab_type": "code",
    "id": "dLdAS617rKWa"
   },
   "outputs": [],
   "source": [
    "def encoder(input_img):\n",
    "\n",
    "    conv1 = Conv2D(32, (3, 3), activation='relu', padding='same')(input_img) \n",
    "    conv1 = BatchNormalization()(conv1)\n",
    "    conv1 = Conv2D(32, (3, 3), activation='relu', padding='same')(conv1)\n",
    "    conv1 = BatchNormalization()(conv1)\n",
    "    pool1 = MaxPooling2D(pool_size=(2, 2))(conv1)\n",
    "    conv2 = Conv2D(64, (3, 3), activation='relu', padding='same')(pool1) \n",
    "    conv2 = BatchNormalization()(conv2)\n",
    "    conv2 = Conv2D(64, (3, 3), activation='relu', padding='same')(conv2)\n",
    "    conv2 = BatchNormalization()(conv2)\n",
    "    pool2 = MaxPooling2D(pool_size=(2, 2))(conv2) \n",
    "    conv3 = Conv2D(128, (3, 3), activation='relu', padding='same')(pool2) \n",
    "    conv3 = BatchNormalization()(conv3)\n",
    "    conv3 = Conv2D(128, (3, 3), activation='relu', padding='same')(conv3)\n",
    "    conv3 = BatchNormalization()(conv3)\n",
    "    conv4 = Conv2D(256, (3, 3), activation='relu', padding='same')(conv3) \n",
    "    conv4 = BatchNormalization()(conv4)\n",
    "    conv4 = Conv2D(256, (3, 3), activation='relu', padding='same')(conv4)\n",
    "    conv4 = BatchNormalization()(conv4)\n",
    "    return conv4\n",
    "\n",
    "def decoder(conv4):    \n",
    "    \n",
    "    conv5 = Conv2D(128, (3, 3), activation='relu', padding='same')(conv4) \n",
    "    conv5 = BatchNormalization()(conv5)\n",
    "    conv5 = Conv2D(128, (3, 3), activation='relu', padding='same')(conv5)\n",
    "    conv5 = BatchNormalization()(conv5)\n",
    "    conv6 = Conv2D(64, (3, 3), activation='relu', padding='same')(conv5) \n",
    "    conv6 = BatchNormalization()(conv6)\n",
    "    conv6 = Conv2D(64, (3, 3), activation='relu', padding='same')(conv6)\n",
    "    conv6 = BatchNormalization()(conv6)\n",
    "    up1 = UpSampling2D((2,2))(conv6) \n",
    "    conv7 = Conv2D(32, (3, 3), activation='relu', padding='same')(up1) \n",
    "    conv7 = BatchNormalization()(conv7)\n",
    "    conv7 = Conv2D(32, (3, 3), activation='relu', padding='same')(conv7)\n",
    "    conv7 = BatchNormalization()(conv7)\n",
    "    up2 = UpSampling2D((2,2))(conv7) \n",
    "    decoded = Conv2D(1, (3, 3), activation='sigmoid', padding='same')(up2) \n",
    "    return decoded"
   ]
  },
  {
   "cell_type": "code",
   "execution_count": 0,
   "metadata": {
    "colab": {},
    "colab_type": "code",
    "id": "gs9yACVfrKY-"
   },
   "outputs": [],
   "source": [
    "# compiling the model\n",
    "\n",
    "ae = Model(input_img, decoder(encoder(input_img)))\n",
    "ae.compile(loss='mean_squared_error', optimizer = RMSprop())"
   ]
  },
  {
   "cell_type": "code",
   "execution_count": 53,
   "metadata": {
    "colab": {
     "base_uri": "https://localhost:8080/",
     "height": 1000
    },
    "colab_type": "code",
    "id": "paQA4gunrKbc",
    "outputId": "1cb6ded0-d2c3-43bb-cb1c-cd782f180073"
   },
   "outputs": [
    {
     "name": "stdout",
     "output_type": "stream",
     "text": [
      "Model: \"model_1\"\n",
      "_________________________________________________________________\n",
      "Layer (type)                 Output Shape              Param #   \n",
      "=================================================================\n",
      "input_1 (InputLayer)         (None, 28, 28, 1)         0         \n",
      "_________________________________________________________________\n",
      "conv2d_1 (Conv2D)            (None, 28, 28, 32)        320       \n",
      "_________________________________________________________________\n",
      "batch_normalization_1 (Batch (None, 28, 28, 32)        128       \n",
      "_________________________________________________________________\n",
      "conv2d_2 (Conv2D)            (None, 28, 28, 32)        9248      \n",
      "_________________________________________________________________\n",
      "batch_normalization_2 (Batch (None, 28, 28, 32)        128       \n",
      "_________________________________________________________________\n",
      "max_pooling2d_1 (MaxPooling2 (None, 14, 14, 32)        0         \n",
      "_________________________________________________________________\n",
      "conv2d_3 (Conv2D)            (None, 14, 14, 64)        18496     \n",
      "_________________________________________________________________\n",
      "batch_normalization_3 (Batch (None, 14, 14, 64)        256       \n",
      "_________________________________________________________________\n",
      "conv2d_4 (Conv2D)            (None, 14, 14, 64)        36928     \n",
      "_________________________________________________________________\n",
      "batch_normalization_4 (Batch (None, 14, 14, 64)        256       \n",
      "_________________________________________________________________\n",
      "max_pooling2d_2 (MaxPooling2 (None, 7, 7, 64)          0         \n",
      "_________________________________________________________________\n",
      "conv2d_5 (Conv2D)            (None, 7, 7, 128)         73856     \n",
      "_________________________________________________________________\n",
      "batch_normalization_5 (Batch (None, 7, 7, 128)         512       \n",
      "_________________________________________________________________\n",
      "conv2d_6 (Conv2D)            (None, 7, 7, 128)         147584    \n",
      "_________________________________________________________________\n",
      "batch_normalization_6 (Batch (None, 7, 7, 128)         512       \n",
      "_________________________________________________________________\n",
      "conv2d_7 (Conv2D)            (None, 7, 7, 256)         295168    \n",
      "_________________________________________________________________\n",
      "batch_normalization_7 (Batch (None, 7, 7, 256)         1024      \n",
      "_________________________________________________________________\n",
      "conv2d_8 (Conv2D)            (None, 7, 7, 256)         590080    \n",
      "_________________________________________________________________\n",
      "batch_normalization_8 (Batch (None, 7, 7, 256)         1024      \n",
      "_________________________________________________________________\n",
      "conv2d_9 (Conv2D)            (None, 7, 7, 128)         295040    \n",
      "_________________________________________________________________\n",
      "batch_normalization_9 (Batch (None, 7, 7, 128)         512       \n",
      "_________________________________________________________________\n",
      "conv2d_10 (Conv2D)           (None, 7, 7, 128)         147584    \n",
      "_________________________________________________________________\n",
      "batch_normalization_10 (Batc (None, 7, 7, 128)         512       \n",
      "_________________________________________________________________\n",
      "conv2d_11 (Conv2D)           (None, 7, 7, 64)          73792     \n",
      "_________________________________________________________________\n",
      "batch_normalization_11 (Batc (None, 7, 7, 64)          256       \n",
      "_________________________________________________________________\n",
      "conv2d_12 (Conv2D)           (None, 7, 7, 64)          36928     \n",
      "_________________________________________________________________\n",
      "batch_normalization_12 (Batc (None, 7, 7, 64)          256       \n",
      "_________________________________________________________________\n",
      "up_sampling2d_1 (UpSampling2 (None, 14, 14, 64)        0         \n",
      "_________________________________________________________________\n",
      "conv2d_13 (Conv2D)           (None, 14, 14, 32)        18464     \n",
      "_________________________________________________________________\n",
      "batch_normalization_13 (Batc (None, 14, 14, 32)        128       \n",
      "_________________________________________________________________\n",
      "conv2d_14 (Conv2D)           (None, 14, 14, 32)        9248      \n",
      "_________________________________________________________________\n",
      "batch_normalization_14 (Batc (None, 14, 14, 32)        128       \n",
      "_________________________________________________________________\n",
      "up_sampling2d_2 (UpSampling2 (None, 28, 28, 32)        0         \n",
      "_________________________________________________________________\n",
      "conv2d_15 (Conv2D)           (None, 28, 28, 1)         289       \n",
      "=================================================================\n",
      "Total params: 1,758,657\n",
      "Trainable params: 1,755,841\n",
      "Non-trainable params: 2,816\n",
      "_________________________________________________________________\n"
     ]
    }
   ],
   "source": [
    "ae.summary()"
   ]
  },
  {
   "cell_type": "code",
   "execution_count": 54,
   "metadata": {
    "colab": {
     "base_uri": "https://localhost:8080/",
     "height": 646
    },
    "colab_type": "code",
    "id": "6WBKt7bRrKeG",
    "outputId": "cc870528-9170-4c9e-db41-41e65c43beac"
   },
   "outputs": [
    {
     "name": "stdout",
     "output_type": "stream",
     "text": [
      "Train on 54000 samples, validate on 6000 samples\n",
      "Epoch 1/100\n",
      "54000/54000 [==============================] - 31s 567us/step - loss: 0.0477 - val_loss: 0.1272\n",
      "Epoch 2/100\n",
      "54000/54000 [==============================] - 26s 486us/step - loss: 0.0213 - val_loss: 0.1244\n",
      "Epoch 3/100\n",
      "54000/54000 [==============================] - 26s 486us/step - loss: 0.0154 - val_loss: 0.0374\n",
      "Epoch 4/100\n",
      "54000/54000 [==============================] - 26s 486us/step - loss: 0.0128 - val_loss: 0.0174\n",
      "Epoch 5/100\n",
      "54000/54000 [==============================] - 26s 485us/step - loss: 0.0111 - val_loss: 0.0113\n",
      "Epoch 6/100\n",
      "54000/54000 [==============================] - 26s 485us/step - loss: 0.0098 - val_loss: 0.0103\n",
      "Epoch 7/100\n",
      "54000/54000 [==============================] - 26s 486us/step - loss: 0.0089 - val_loss: 0.0116\n",
      "Epoch 8/100\n",
      "54000/54000 [==============================] - 26s 486us/step - loss: 0.0082 - val_loss: 0.0089\n",
      "Epoch 9/100\n",
      "54000/54000 [==============================] - 26s 486us/step - loss: 0.0075 - val_loss: 0.0089\n",
      "Epoch 10/100\n",
      "54000/54000 [==============================] - 26s 485us/step - loss: 0.0070 - val_loss: 0.0092\n",
      "Epoch 11/100\n",
      "54000/54000 [==============================] - 26s 484us/step - loss: 0.0066 - val_loss: 0.0101\n",
      "Epoch 12/100\n",
      "54000/54000 [==============================] - 26s 485us/step - loss: 0.0063 - val_loss: 0.0070\n",
      "Epoch 13/100\n",
      "54000/54000 [==============================] - 26s 485us/step - loss: 0.0060 - val_loss: 0.0078\n",
      "Epoch 14/100\n",
      "54000/54000 [==============================] - 26s 486us/step - loss: 0.0057 - val_loss: 0.0061\n",
      "Epoch 15/100\n",
      "54000/54000 [==============================] - 26s 485us/step - loss: 0.0063 - val_loss: 0.0086\n",
      "Epoch 16/100\n",
      "54000/54000 [==============================] - 26s 486us/step - loss: 0.0063 - val_loss: 0.0084\n",
      "Epoch 17/100\n",
      "54000/54000 [==============================] - 26s 491us/step - loss: 0.0053 - val_loss: 0.0074\n",
      "Restoring model weights from the end of the best epoch.\n",
      "Epoch 00017: early stopping\n"
     ]
    }
   ],
   "source": [
    "# Training the model\n",
    "\n",
    "ae_train = ae.fit(train_data_1, \n",
    "                  train_2, \n",
    "                  batch_size=batch_size,\n",
    "                  epochs=epochs,\n",
    "                  verbose=1,\n",
    "                  validation_data=(valid_1, valid_2),\n",
    "                  callbacks=[calls])"
   ]
  },
  {
   "cell_type": "code",
   "execution_count": 55,
   "metadata": {
    "colab": {
     "base_uri": "https://localhost:8080/",
     "height": 284
    },
    "colab_type": "code",
    "id": "l28zRg3drKgk",
    "outputId": "51e1c702-cad5-44f1-f5d2-478cf5353349"
   },
   "outputs": [
    {
     "data": {
      "image/png": "[encoded data removed]",
      "text/plain": [
       "<Figure size 432x288 with 1 Axes>"
      ]
     },
     "metadata": {
      "needs_background": "light",
      "tags": []
     },
     "output_type": "display_data"
    }
   ],
   "source": [
    "# loss plot\n",
    "\n",
    "loss = ae_train.history['loss']\n",
    "val_loss = ae_train.history['val_loss']\n",
    "epochs = range(len(loss))\n",
    "plt.figure()\n",
    "plt.plot(epochs, loss, 'bo', label='Training loss')\n",
    "plt.plot(epochs, val_loss, 'b', label='Validation loss')\n",
    "plt.title('Training and validation loss')\n",
    "plt.legend()\n",
    "plt.show()"
   ]
  },
  {
   "cell_type": "code",
   "execution_count": 0,
   "metadata": {
    "colab": {},
    "colab_type": "code",
    "id": "gbtM4DbkrKix"
   },
   "outputs": [],
   "source": [
    "# saving weights\n",
    "\n",
    "ae.save_weights('ae.h5')"
   ]
  },
  {
   "cell_type": "code",
   "execution_count": 0,
   "metadata": {
    "colab": {},
    "colab_type": "code",
    "id": "j2nNH32ArKlm"
   },
   "outputs": [],
   "source": [
    "ds = [data['Label']]\n",
    "final_ds_label = pd.concat(ds,axis=1)\n",
    "final_ds_label\n",
    "\n",
    "tr_label = np.array(final_ds_label, dtype='float32')"
   ]
  },
  {
   "cell_type": "code",
   "execution_count": 58,
   "metadata": {
    "colab": {
     "base_uri": "https://localhost:8080/",
     "height": 51
    },
    "colab_type": "code",
    "id": "NV3DV8ahwxPO",
    "outputId": "b815dab7-d091-4d29-f1b0-9bf366c8cc83"
   },
   "outputs": [
    {
     "name": "stdout",
     "output_type": "stream",
     "text": [
      "Original label: [4.]\n",
      "Conversion: [0. 0. 0. 0. 1.]\n"
     ]
    }
   ],
   "source": [
    "# Categorical to one-hot encoding\n",
    "train_Y_one_hot = to_categorical(tr_label)\n",
    "test_Y_one_hot = to_categorical(y_validate)\n",
    "\n",
    "# Display the change for category label using one-hot encoding\n",
    "print('Original label:', tr_label[0])\n",
    "print('Conversion:', train_Y_one_hot[0])"
   ]
  },
  {
   "cell_type": "code",
   "execution_count": 0,
   "metadata": {
    "colab": {},
    "colab_type": "code",
    "id": "frS3GIaMwxSc"
   },
   "outputs": [],
   "source": [
    "train_3,valid_3,tr_label,valid_label = train_test_split(train_data,\n",
    "                                                           train_Y_one_hot,\n",
    "                                                           test_size=0.1,\n",
    "                                                           random_state=42)"
   ]
  },
  {
   "cell_type": "code",
   "execution_count": 0,
   "metadata": {
    "colab": {},
    "colab_type": "code",
    "id": "gQMHB2KywxU-"
   },
   "outputs": [],
   "source": [
    "def encoder(input_img):\n",
    "    \n",
    "    conv1 = Conv2D(32, (3, 3), activation='relu', padding='same')(input_img)\n",
    "    conv1 = BatchNormalization()(conv1)\n",
    "    conv1 = Conv2D(32, (3, 3), activation='relu', padding='same')(conv1)\n",
    "    conv1 = BatchNormalization()(conv1)\n",
    "    pool1 = MaxPooling2D(pool_size=(2, 2))(conv1) \n",
    "    conv2 = Conv2D(64, (3, 3), activation='relu', padding='same')(pool1)\n",
    "    conv2 = BatchNormalization()(conv2)\n",
    "    conv2 = Conv2D(64, (3, 3), activation='relu', padding='same')(conv2)\n",
    "    conv2 = BatchNormalization()(conv2)\n",
    "    pool2 = MaxPooling2D(pool_size=(2, 2))(conv2) \n",
    "    conv3 = Conv2D(128, (3, 3), activation='relu', padding='same')(pool2) \n",
    "    conv3 = BatchNormalization()(conv3)\n",
    "    conv3 = Conv2D(128, (3, 3), activation='relu', padding='same')(conv3)\n",
    "    conv3 = BatchNormalization()(conv3)\n",
    "    conv4 = Conv2D(256, (3, 3), activation='relu', padding='same')(conv3) \n",
    "    conv4 = BatchNormalization()(conv4)\n",
    "    conv4 = Conv2D(256, (3, 3), activation='relu', padding='same')(conv4)\n",
    "    conv4 = BatchNormalization()(conv4)\n",
    "    return conv4"
   ]
  },
  {
   "cell_type": "code",
   "execution_count": 0,
   "metadata": {
    "colab": {},
    "colab_type": "code",
    "id": "_dfjxuhDwxXU"
   },
   "outputs": [],
   "source": [
    "def fullyConnected(enco):\n",
    "    fn = Flatten()(enco)\n",
    "    den = Dense(128, activation='relu')(fn)\n",
    "    output = Dense(5, activation='softmax')(den)\n",
    "    return output"
   ]
  },
  {
   "cell_type": "code",
   "execution_count": 0,
   "metadata": {
    "colab": {},
    "colab_type": "code",
    "id": "gMSbRoTwwxZ-"
   },
   "outputs": [],
   "source": [
    "ec = encoder(input_img)\n",
    "final_model = Model(input_img,fullyConnected(ec))"
   ]
  },
  {
   "cell_type": "code",
   "execution_count": 0,
   "metadata": {
    "colab": {},
    "colab_type": "code",
    "id": "KT1HkFvTwxcp"
   },
   "outputs": [],
   "source": [
    "for l1,l2 in zip(final_model.layers[:19],ae.layers[0:19]):\n",
    "    l1.set_weights(l2.get_weights())"
   ]
  },
  {
   "cell_type": "code",
   "execution_count": 0,
   "metadata": {
    "colab": {},
    "colab_type": "code",
    "id": "LaKv5YVdyS0Q"
   },
   "outputs": [],
   "source": [
    "for layer in final_model.layers[0:19]:\n",
    "    layer.trainable = False"
   ]
  },
  {
   "cell_type": "code",
   "execution_count": 0,
   "metadata": {
    "colab": {},
    "colab_type": "code",
    "id": "0aO2nj6hyS2g"
   },
   "outputs": [],
   "source": [
    "final_model.compile(\n",
    "                   loss='categorical_crossentropy', \n",
    "                   optimizer=Adam(),\n",
    "                   metrics=['accuracy']\n",
    "                   )"
   ]
  },
  {
   "cell_type": "code",
   "execution_count": 66,
   "metadata": {
    "colab": {
     "base_uri": "https://localhost:8080/",
     "height": 901
    },
    "colab_type": "code",
    "id": "25t59QsmyS4n",
    "outputId": "96bc8e89-e5e6-456b-db68-b6244c3f4822"
   },
   "outputs": [
    {
     "name": "stdout",
     "output_type": "stream",
     "text": [
      "Model: \"model_2\"\n",
      "_________________________________________________________________\n",
      "Layer (type)                 Output Shape              Param #   \n",
      "=================================================================\n",
      "input_1 (InputLayer)         (None, 28, 28, 1)         0         \n",
      "_________________________________________________________________\n",
      "conv2d_16 (Conv2D)           (None, 28, 28, 32)        320       \n",
      "_________________________________________________________________\n",
      "batch_normalization_15 (Batc (None, 28, 28, 32)        128       \n",
      "_________________________________________________________________\n",
      "conv2d_17 (Conv2D)           (None, 28, 28, 32)        9248      \n",
      "_________________________________________________________________\n",
      "batch_normalization_16 (Batc (None, 28, 28, 32)        128       \n",
      "_________________________________________________________________\n",
      "max_pooling2d_3 (MaxPooling2 (None, 14, 14, 32)        0         \n",
      "_________________________________________________________________\n",
      "conv2d_18 (Conv2D)           (None, 14, 14, 64)        18496     \n",
      "_________________________________________________________________\n",
      "batch_normalization_17 (Batc (None, 14, 14, 64)        256       \n",
      "_________________________________________________________________\n",
      "conv2d_19 (Conv2D)           (None, 14, 14, 64)        36928     \n",
      "_________________________________________________________________\n",
      "batch_normalization_18 (Batc (None, 14, 14, 64)        256       \n",
      "_________________________________________________________________\n",
      "max_pooling2d_4 (MaxPooling2 (None, 7, 7, 64)          0         \n",
      "_________________________________________________________________\n",
      "conv2d_20 (Conv2D)           (None, 7, 7, 128)         73856     \n",
      "_________________________________________________________________\n",
      "batch_normalization_19 (Batc (None, 7, 7, 128)         512       \n",
      "_________________________________________________________________\n",
      "conv2d_21 (Conv2D)           (None, 7, 7, 128)         147584    \n",
      "_________________________________________________________________\n",
      "batch_normalization_20 (Batc (None, 7, 7, 128)         512       \n",
      "_________________________________________________________________\n",
      "conv2d_22 (Conv2D)           (None, 7, 7, 256)         295168    \n",
      "_________________________________________________________________\n",
      "batch_normalization_21 (Batc (None, 7, 7, 256)         1024      \n",
      "_________________________________________________________________\n",
      "conv2d_23 (Conv2D)           (None, 7, 7, 256)         590080    \n",
      "_________________________________________________________________\n",
      "batch_normalization_22 (Batc (None, 7, 7, 256)         1024      \n",
      "_________________________________________________________________\n",
      "flatten_1 (Flatten)          (None, 12544)             0         \n",
      "_________________________________________________________________\n",
      "dense_1 (Dense)              (None, 128)               1605760   \n",
      "_________________________________________________________________\n",
      "dense_2 (Dense)              (None, 5)                 645       \n",
      "=================================================================\n",
      "Total params: 2,781,925\n",
      "Trainable params: 1,606,405\n",
      "Non-trainable params: 1,175,520\n",
      "_________________________________________________________________\n"
     ]
    }
   ],
   "source": [
    "final_model.summary()"
   ]
  },
  {
   "cell_type": "code",
   "execution_count": 70,
   "metadata": {
    "colab": {
     "base_uri": "https://localhost:8080/",
     "height": 292
    },
    "colab_type": "code",
    "id": "MHBEIT_WyS7F",
    "outputId": "3471870c-1d16-4cbf-8122-ce716f08073d"
   },
   "outputs": [
    {
     "name": "stdout",
     "output_type": "stream",
     "text": [
      "Train on 54000 samples, validate on 6000 samples\n",
      "Epoch 1/100\n",
      "54000/54000 [==============================] - 11s 201us/step - loss: 0.2265 - accuracy: 0.9090 - val_loss: 0.4406 - val_accuracy: 0.8590\n",
      "Epoch 2/100\n",
      "54000/54000 [==============================] - 11s 203us/step - loss: 0.2062 - accuracy: 0.9188 - val_loss: 0.5534 - val_accuracy: 0.8373\n",
      "Epoch 3/100\n",
      "54000/54000 [==============================] - 11s 201us/step - loss: 0.1899 - accuracy: 0.9239 - val_loss: 0.5394 - val_accuracy: 0.8403\n",
      "Epoch 4/100\n",
      "54000/54000 [==============================] - 11s 200us/step - loss: 0.1777 - accuracy: 0.9294 - val_loss: 0.6073 - val_accuracy: 0.8395\n",
      "Epoch 5/100\n",
      "54000/54000 [==============================] - 11s 202us/step - loss: 0.1724 - accuracy: 0.9324 - val_loss: 0.6060 - val_accuracy: 0.8452\n",
      "Epoch 6/100\n",
      "54000/54000 [==============================] - 11s 199us/step - loss: 0.1579 - accuracy: 0.9385 - val_loss: 0.7448 - val_accuracy: 0.8172\n",
      "Restoring model weights from the end of the best epoch.\n",
      "Epoch 00006: early stopping\n"
     ]
    }
   ],
   "source": [
    "ct = final_model.fit(\n",
    "                      train_3, \n",
    "                      tr_label, \n",
    "                      batch_size=64,\n",
    "                      epochs=100,\n",
    "                      verbose=1,\n",
    "                      validation_data=(valid_3, valid_label),\n",
    "                      callbacks=[calls]\n",
    "                      )"
   ]
  },
  {
   "cell_type": "code",
   "execution_count": 68,
   "metadata": {
    "colab": {
     "base_uri": "https://localhost:8080/",
     "height": 551
    },
    "colab_type": "code",
    "id": "0PC9HSxzyS9g",
    "outputId": "4266e273-b7e2-432a-eee0-5387c9f779d6"
   },
   "outputs": [
    {
     "data": {
      "image/png": "[encoded data removed]",
      "text/plain": [
       "<Figure size 432x288 with 1 Axes>"
      ]
     },
     "metadata": {
      "needs_background": "light",
      "tags": []
     },
     "output_type": "display_data"
    },
    {
     "data": {
      "image/png": "[encoded data removed]",
      "text/plain": [
       "<Figure size 432x288 with 1 Axes>"
      ]
     },
     "metadata": {
      "needs_background": "light",
      "tags": []
     },
     "output_type": "display_data"
    }
   ],
   "source": [
    "\n",
    "accuracy = ct.history['accuracy']\n",
    "val_accuracy = ct.history['val_accuracy']\n",
    "loss = ct.history['loss']\n",
    "val_loss = ct.history['val_loss']\n",
    "epochs = range(len(accuracy))\n",
    "plt.plot(epochs, accuracy, 'bo', label='Training accuracy')\n",
    "plt.plot(epochs, val_accuracy, 'b', label='Validation accuracy')\n",
    "plt.title('Autoencoders Training and validation accuracy')\n",
    "plt.legend()\n",
    "plt.figure()\n",
    "plt.plot(epochs, loss, 'bo', label='Training loss')\n",
    "plt.plot(epochs, val_loss, 'b', label='Validation loss')\n",
    "plt.title('Autoencoders Training and validation loss')\n",
    "plt.legend()\n",
    "plt.show()\n"
   ]
  },
  {
   "cell_type": "code",
   "execution_count": 71,
   "metadata": {
    "colab": {
     "base_uri": "https://localhost:8080/",
     "height": 238
    },
    "colab_type": "code",
    "id": "9efRi6a2yTAI",
    "outputId": "ddd67090-2b6c-4242-be37-33242537f537"
   },
   "outputs": [
    {
     "data": {
      "text/plain": [
       "array([[7.1319423e-24, 5.8364993e-12, 2.9393942e-07, 2.7709794e-01,\n",
       "        7.2290176e-01],\n",
       "       [2.0660177e-23, 7.6158972e-16, 2.7597428e-08, 1.3044834e-04,\n",
       "        9.9986947e-01],\n",
       "       [3.8850400e-01, 2.7956086e-01, 3.3193481e-01, 2.5073319e-07,\n",
       "        1.1895641e-09],\n",
       "       ...,\n",
       "       [7.1436899e-17, 7.6940249e-10, 9.8161176e-03, 1.1675134e-01,\n",
       "        8.7343246e-01],\n",
       "       [5.3742379e-03, 6.7512143e-01, 3.1869197e-01, 8.1228046e-04,\n",
       "        7.7666826e-08],\n",
       "       [8.2900613e-13, 4.9993258e-07, 2.4868938e-01, 7.5105208e-01,\n",
       "        2.5801625e-04]], dtype=float32)"
      ]
     },
     "execution_count": 71,
     "metadata": {
      "tags": []
     },
     "output_type": "execute_result"
    }
   ],
   "source": [
    "predicted_final = final_model.predict(test_data)\n",
    "predicted_final"
   ]
  },
  {
   "cell_type": "code",
   "execution_count": 72,
   "metadata": {
    "colab": {
     "base_uri": "https://localhost:8080/",
     "height": 34
    },
    "colab_type": "code",
    "id": "W5IUzykNySv2",
    "outputId": "cbbdb95a-ea43-41fa-8bb3-e29b72b5e5ff"
   },
   "outputs": [
    {
     "data": {
      "text/plain": [
       "array([4, 4, 0, ..., 4, 1, 3])"
      ]
     },
     "execution_count": 72,
     "metadata": {
      "tags": []
     },
     "output_type": "execute_result"
    }
   ],
   "source": [
    "predicted_classes = np.argmax(np.round(predicted_final),axis=1)\n",
    "predicted_classes"
   ]
  },
  {
   "cell_type": "code",
   "execution_count": 73,
   "metadata": {
    "colab": {
     "base_uri": "https://localhost:8080/",
     "height": 68
    },
    "colab_type": "code",
    "id": "0XP3XpSJFlmX",
    "outputId": "e8660824-b690-4673-bead-5e756807f512"
   },
   "outputs": [
    {
     "name": "stdout",
     "output_type": "stream",
     "text": [
      "6000/6000 [==============================] - 1s 217us/step\n",
      "Validation loss: 0.44058982835213345\n",
      "Validation accuracy: 0.859000027179718\n"
     ]
    }
   ],
   "source": [
    "ae_scores = final_model.evaluate(valid_3, valid_label, verbose=1)\n",
    "print('Validation loss:', ae_scores[0])\n",
    "print('Validation accuracy:', ae_scores[1])"
   ]
  },
  {
   "cell_type": "code",
   "execution_count": 74,
   "metadata": {
    "colab": {
     "base_uri": "https://localhost:8080/",
     "height": 419
    },
    "colab_type": "code",
    "id": "n38E8jRj3HOM",
    "outputId": "760b77ec-1efe-4095-c6b2-65a948889514"
   },
   "outputs": [
    {
     "data": {
      "text/html": [
       "<div>\n",
       "<style scoped>\n",
       "    .dataframe tbody tr th:only-of-type {\n",
       "        vertical-align: middle;\n",
       "    }\n",
       "\n",
       "    .dataframe tbody tr th {\n",
       "        vertical-align: top;\n",
       "    }\n",
       "\n",
       "    .dataframe thead th {\n",
       "        text-align: right;\n",
       "    }\n",
       "</style>\n",
       "<table border=\"1\" class=\"dataframe\">\n",
       "  <thead>\n",
       "    <tr style=\"text-align: right;\">\n",
       "      <th></th>\n",
       "      <th>Label</th>\n",
       "    </tr>\n",
       "  </thead>\n",
       "  <tbody>\n",
       "    <tr>\n",
       "      <th>0</th>\n",
       "      <td>4</td>\n",
       "    </tr>\n",
       "    <tr>\n",
       "      <th>1</th>\n",
       "      <td>4</td>\n",
       "    </tr>\n",
       "    <tr>\n",
       "      <th>2</th>\n",
       "      <td>0</td>\n",
       "    </tr>\n",
       "    <tr>\n",
       "      <th>3</th>\n",
       "      <td>1</td>\n",
       "    </tr>\n",
       "    <tr>\n",
       "      <th>4</th>\n",
       "      <td>3</td>\n",
       "    </tr>\n",
       "    <tr>\n",
       "      <th>...</th>\n",
       "      <td>...</td>\n",
       "    </tr>\n",
       "    <tr>\n",
       "      <th>9995</th>\n",
       "      <td>3</td>\n",
       "    </tr>\n",
       "    <tr>\n",
       "      <th>9996</th>\n",
       "      <td>1</td>\n",
       "    </tr>\n",
       "    <tr>\n",
       "      <th>9997</th>\n",
       "      <td>4</td>\n",
       "    </tr>\n",
       "    <tr>\n",
       "      <th>9998</th>\n",
       "      <td>1</td>\n",
       "    </tr>\n",
       "    <tr>\n",
       "      <th>9999</th>\n",
       "      <td>3</td>\n",
       "    </tr>\n",
       "  </tbody>\n",
       "</table>\n",
       "<p>10000 rows × 1 columns</p>\n",
       "</div>"
      ],
      "text/plain": [
       "      Label\n",
       "0         4\n",
       "1         4\n",
       "2         0\n",
       "3         1\n",
       "4         3\n",
       "...     ...\n",
       "9995      3\n",
       "9996      1\n",
       "9997      4\n",
       "9998      1\n",
       "9999      3\n",
       "\n",
       "[10000 rows x 1 columns]"
      ]
     },
     "execution_count": 74,
     "metadata": {
      "tags": []
     },
     "output_type": "execute_result"
    }
   ],
   "source": [
    "prediction_ae = pd.DataFrame(predicted_classes, columns=['Label'])\n",
    "prediction_ae"
   ]
  },
  {
   "cell_type": "code",
   "execution_count": 75,
   "metadata": {
    "colab": {
     "base_uri": "https://localhost:8080/",
     "height": 419
    },
    "colab_type": "code",
    "id": "IQgD8MNv3HaI",
    "outputId": "132f7e0b-d43f-4264-a359-b2ff2ef004dc"
   },
   "outputs": [
    {
     "data": {
      "text/html": [
       "<div>\n",
       "<style scoped>\n",
       "    .dataframe tbody tr th:only-of-type {\n",
       "        vertical-align: middle;\n",
       "    }\n",
       "\n",
       "    .dataframe tbody tr th {\n",
       "        vertical-align: top;\n",
       "    }\n",
       "\n",
       "    .dataframe thead th {\n",
       "        text-align: right;\n",
       "    }\n",
       "</style>\n",
       "<table border=\"1\" class=\"dataframe\">\n",
       "  <thead>\n",
       "    <tr style=\"text-align: right;\">\n",
       "      <th></th>\n",
       "      <th>Id</th>\n",
       "      <th>Label</th>\n",
       "    </tr>\n",
       "  </thead>\n",
       "  <tbody>\n",
       "    <tr>\n",
       "      <th>0</th>\n",
       "      <td>0</td>\n",
       "      <td>4</td>\n",
       "    </tr>\n",
       "    <tr>\n",
       "      <th>1</th>\n",
       "      <td>1</td>\n",
       "      <td>4</td>\n",
       "    </tr>\n",
       "    <tr>\n",
       "      <th>2</th>\n",
       "      <td>2</td>\n",
       "      <td>0</td>\n",
       "    </tr>\n",
       "    <tr>\n",
       "      <th>3</th>\n",
       "      <td>3</td>\n",
       "      <td>1</td>\n",
       "    </tr>\n",
       "    <tr>\n",
       "      <th>4</th>\n",
       "      <td>4</td>\n",
       "      <td>3</td>\n",
       "    </tr>\n",
       "    <tr>\n",
       "      <th>...</th>\n",
       "      <td>...</td>\n",
       "      <td>...</td>\n",
       "    </tr>\n",
       "    <tr>\n",
       "      <th>9995</th>\n",
       "      <td>9995</td>\n",
       "      <td>3</td>\n",
       "    </tr>\n",
       "    <tr>\n",
       "      <th>9996</th>\n",
       "      <td>9996</td>\n",
       "      <td>1</td>\n",
       "    </tr>\n",
       "    <tr>\n",
       "      <th>9997</th>\n",
       "      <td>9997</td>\n",
       "      <td>4</td>\n",
       "    </tr>\n",
       "    <tr>\n",
       "      <th>9998</th>\n",
       "      <td>9998</td>\n",
       "      <td>1</td>\n",
       "    </tr>\n",
       "    <tr>\n",
       "      <th>9999</th>\n",
       "      <td>9999</td>\n",
       "      <td>3</td>\n",
       "    </tr>\n",
       "  </tbody>\n",
       "</table>\n",
       "<p>10000 rows × 2 columns</p>\n",
       "</div>"
      ],
      "text/plain": [
       "        Id  Label\n",
       "0        0      4\n",
       "1        1      4\n",
       "2        2      0\n",
       "3        3      1\n",
       "4        4      3\n",
       "...    ...    ...\n",
       "9995  9995      3\n",
       "9996  9996      1\n",
       "9997  9997      4\n",
       "9998  9998      1\n",
       "9999  9999      3\n",
       "\n",
       "[10000 rows x 2 columns]"
      ]
     },
     "execution_count": 75,
     "metadata": {
      "tags": []
     },
     "output_type": "execute_result"
    }
   ],
   "source": [
    "dataset_autoencoders = [data_test['Id'],prediction_ae]\n",
    "final_df_autoencoders = pd.concat(dataset_autoencoders,axis=1)\n",
    "final_df_autoencoders"
   ]
  },
  {
   "cell_type": "code",
   "execution_count": 0,
   "metadata": {
    "colab": {},
    "colab_type": "code",
    "id": "FFwY04EG3HdV"
   },
   "outputs": [],
   "source": [
    "from google.colab import files\n",
    "\n",
    "final_df_autoencoders.to_csv('sample_autoencoders.csv',index=False, header=True)\n",
    "files.download('sample_autoencoders.csv')"
   ]
  },
  {
   "cell_type": "code",
   "execution_count": 77,
   "metadata": {
    "colab": {
     "base_uri": "https://localhost:8080/",
     "height": 221
    },
    "colab_type": "code",
    "id": "ZBp-U_Ve3HhE",
    "outputId": "dc261bfd-9b1c-4ccc-d530-4d1da5a8298a"
   },
   "outputs": [
    {
     "name": "stdout",
     "output_type": "stream",
     "text": [
      "              precision    recall  f1-score   support\n",
      "\n",
      "           0       0.97      0.91      0.94      1190\n",
      "           1       0.87      0.81      0.84      1230\n",
      "           2       0.80      0.76      0.78      1182\n",
      "           3       0.77      0.87      0.82      1175\n",
      "           4       0.90      0.95      0.92      1223\n",
      "\n",
      "    accuracy                           0.86      6000\n",
      "   macro avg       0.86      0.86      0.86      6000\n",
      "weighted avg       0.86      0.86      0.86      6000\n",
      "\n"
     ]
    }
   ],
   "source": [
    "# Classification Report\n",
    "y_ae = final_model.predict(x_validate)\n",
    "y_val_ae = np.argmax(y_ae, axis = 1)\n",
    "labels = ['0', '1', '2', '3', '4']\n",
    "print(classification_report(y_validate, y_val_ae, target_names = labels))"
   ]
  },
  {
   "cell_type": "code",
   "execution_count": 78,
   "metadata": {
    "colab": {
     "base_uri": "https://localhost:8080/",
     "height": 518
    },
    "colab_type": "code",
    "id": "lGvPLsTW3Hj7",
    "outputId": "fee07c27-32a2-4522-a19c-8ddb4df0310d"
   },
   "outputs": [
    {
     "data": {
      "image/png": "[encoded data removed]",
      "text/plain": [
       "<Figure size 720x576 with 2 Axes>"
      ]
     },
     "metadata": {
      "needs_background": "light",
      "tags": []
     },
     "output_type": "display_data"
    }
   ],
   "source": [
    "# Confusion matrix\n",
    "\n",
    "confusion_mtx = confusion_matrix(y_validate, y_val_ae) \n",
    "\n",
    "f,ax = plt.subplots(figsize = (10,8))\n",
    "sns.heatmap(confusion_mtx, annot=True, linewidths=0.1, cmap = \"gist_yarg_r\", linecolor=\"black\", fmt='.0f', ax=ax)\n",
    "plt.xlabel(\"Predicted Label\")\n",
    "plt.ylabel(\"True Label\")\n",
    "plt.title(\"Autoencoders Confusion Matrix\")\n",
    "plt.show()"
   ]
  },
  {
   "cell_type": "markdown",
   "metadata": {
    "colab_type": "text",
    "id": "nmnE90nkXzWm"
   },
   "source": [
    "#### VGG16"
   ]
  },
  {
   "cell_type": "code",
   "execution_count": 0,
   "metadata": {
    "colab": {},
    "colab_type": "code",
    "id": "4OZBQ5__X1WS"
   },
   "outputs": [],
   "source": [
    "#Importing libraries\n",
    "\n",
    "from keras.applications.vgg16 import VGG16\n",
    "from keras.applications.vgg16 import preprocess_input\n",
    "from keras.preprocessing import image\n",
    "from keras.preprocessing.image import ImageDataGenerator"
   ]
  },
  {
   "cell_type": "code",
   "execution_count": 74,
   "metadata": {
    "colab": {
     "base_uri": "https://localhost:8080/",
     "height": 34
    },
    "colab_type": "code",
    "id": "KjQDoXe-4lCV",
    "outputId": "f09c3505-c9ae-4d89-b400-9e0b7af4d594"
   },
   "outputs": [
    {
     "data": {
      "text/plain": [
       "(60000, 786)"
      ]
     },
     "execution_count": 74,
     "metadata": {
      "tags": []
     },
     "output_type": "execute_result"
    }
   ],
   "source": [
    "data.shape"
   ]
  },
  {
   "cell_type": "code",
   "execution_count": 75,
   "metadata": {
    "colab": {
     "base_uri": "https://localhost:8080/",
     "height": 253
    },
    "colab_type": "code",
    "id": "xzTx-0Gx4lF3",
    "outputId": "8f1d49a9-e8c1-49da-8fcb-fa26c7f7518b"
   },
   "outputs": [
    {
     "data": {
      "text/html": [
       "<div>\n",
       "<style scoped>\n",
       "    .dataframe tbody tr th:only-of-type {\n",
       "        vertical-align: middle;\n",
       "    }\n",
       "\n",
       "    .dataframe tbody tr th {\n",
       "        vertical-align: top;\n",
       "    }\n",
       "\n",
       "    .dataframe thead th {\n",
       "        text-align: right;\n",
       "    }\n",
       "</style>\n",
       "<table border=\"1\" class=\"dataframe\">\n",
       "  <thead>\n",
       "    <tr style=\"text-align: right;\">\n",
       "      <th></th>\n",
       "      <th>Id</th>\n",
       "      <th>Label</th>\n",
       "      <th>1</th>\n",
       "      <th>2</th>\n",
       "      <th>3</th>\n",
       "      <th>4</th>\n",
       "      <th>5</th>\n",
       "      <th>6</th>\n",
       "      <th>7</th>\n",
       "      <th>8</th>\n",
       "      <th>9</th>\n",
       "      <th>10</th>\n",
       "      <th>11</th>\n",
       "      <th>12</th>\n",
       "      <th>13</th>\n",
       "      <th>14</th>\n",
       "      <th>15</th>\n",
       "      <th>16</th>\n",
       "      <th>17</th>\n",
       "      <th>18</th>\n",
       "      <th>19</th>\n",
       "      <th>20</th>\n",
       "      <th>21</th>\n",
       "      <th>22</th>\n",
       "      <th>23</th>\n",
       "      <th>24</th>\n",
       "      <th>25</th>\n",
       "      <th>26</th>\n",
       "      <th>27</th>\n",
       "      <th>28</th>\n",
       "      <th>29</th>\n",
       "      <th>30</th>\n",
       "      <th>31</th>\n",
       "      <th>32</th>\n",
       "      <th>33</th>\n",
       "      <th>34</th>\n",
       "      <th>35</th>\n",
       "      <th>36</th>\n",
       "      <th>37</th>\n",
       "      <th>38</th>\n",
       "      <th>...</th>\n",
       "      <th>745</th>\n",
       "      <th>746</th>\n",
       "      <th>747</th>\n",
       "      <th>748</th>\n",
       "      <th>749</th>\n",
       "      <th>750</th>\n",
       "      <th>751</th>\n",
       "      <th>752</th>\n",
       "      <th>753</th>\n",
       "      <th>754</th>\n",
       "      <th>755</th>\n",
       "      <th>756</th>\n",
       "      <th>757</th>\n",
       "      <th>758</th>\n",
       "      <th>759</th>\n",
       "      <th>760</th>\n",
       "      <th>761</th>\n",
       "      <th>762</th>\n",
       "      <th>763</th>\n",
       "      <th>764</th>\n",
       "      <th>765</th>\n",
       "      <th>766</th>\n",
       "      <th>767</th>\n",
       "      <th>768</th>\n",
       "      <th>769</th>\n",
       "      <th>770</th>\n",
       "      <th>771</th>\n",
       "      <th>772</th>\n",
       "      <th>773</th>\n",
       "      <th>774</th>\n",
       "      <th>775</th>\n",
       "      <th>776</th>\n",
       "      <th>777</th>\n",
       "      <th>778</th>\n",
       "      <th>779</th>\n",
       "      <th>780</th>\n",
       "      <th>781</th>\n",
       "      <th>782</th>\n",
       "      <th>783</th>\n",
       "      <th>784</th>\n",
       "    </tr>\n",
       "  </thead>\n",
       "  <tbody>\n",
       "    <tr>\n",
       "      <th>0</th>\n",
       "      <td>10000</td>\n",
       "      <td>4</td>\n",
       "      <td>0</td>\n",
       "      <td>0</td>\n",
       "      <td>0</td>\n",
       "      <td>0</td>\n",
       "      <td>0</td>\n",
       "      <td>0</td>\n",
       "      <td>0</td>\n",
       "      <td>0</td>\n",
       "      <td>0</td>\n",
       "      <td>0</td>\n",
       "      <td>0</td>\n",
       "      <td>0</td>\n",
       "      <td>0</td>\n",
       "      <td>0</td>\n",
       "      <td>0</td>\n",
       "      <td>0</td>\n",
       "      <td>0</td>\n",
       "      <td>0</td>\n",
       "      <td>0</td>\n",
       "      <td>0</td>\n",
       "      <td>0</td>\n",
       "      <td>0</td>\n",
       "      <td>0</td>\n",
       "      <td>0</td>\n",
       "      <td>0</td>\n",
       "      <td>0</td>\n",
       "      <td>0</td>\n",
       "      <td>0</td>\n",
       "      <td>0</td>\n",
       "      <td>0</td>\n",
       "      <td>0</td>\n",
       "      <td>0</td>\n",
       "      <td>0</td>\n",
       "      <td>0</td>\n",
       "      <td>0</td>\n",
       "      <td>0</td>\n",
       "      <td>0</td>\n",
       "      <td>0</td>\n",
       "      <td>...</td>\n",
       "      <td>0</td>\n",
       "      <td>0</td>\n",
       "      <td>0</td>\n",
       "      <td>0</td>\n",
       "      <td>0</td>\n",
       "      <td>0</td>\n",
       "      <td>0</td>\n",
       "      <td>0</td>\n",
       "      <td>0</td>\n",
       "      <td>0</td>\n",
       "      <td>0</td>\n",
       "      <td>0</td>\n",
       "      <td>0</td>\n",
       "      <td>0</td>\n",
       "      <td>0</td>\n",
       "      <td>0</td>\n",
       "      <td>0</td>\n",
       "      <td>0</td>\n",
       "      <td>0</td>\n",
       "      <td>0</td>\n",
       "      <td>0</td>\n",
       "      <td>0</td>\n",
       "      <td>0</td>\n",
       "      <td>0</td>\n",
       "      <td>0</td>\n",
       "      <td>0</td>\n",
       "      <td>0</td>\n",
       "      <td>0</td>\n",
       "      <td>0</td>\n",
       "      <td>0</td>\n",
       "      <td>0</td>\n",
       "      <td>0</td>\n",
       "      <td>0</td>\n",
       "      <td>0</td>\n",
       "      <td>0</td>\n",
       "      <td>0</td>\n",
       "      <td>0</td>\n",
       "      <td>0</td>\n",
       "      <td>0</td>\n",
       "      <td>0</td>\n",
       "    </tr>\n",
       "    <tr>\n",
       "      <th>1</th>\n",
       "      <td>10001</td>\n",
       "      <td>0</td>\n",
       "      <td>0</td>\n",
       "      <td>0</td>\n",
       "      <td>0</td>\n",
       "      <td>0</td>\n",
       "      <td>0</td>\n",
       "      <td>0</td>\n",
       "      <td>0</td>\n",
       "      <td>0</td>\n",
       "      <td>0</td>\n",
       "      <td>0</td>\n",
       "      <td>0</td>\n",
       "      <td>0</td>\n",
       "      <td>0</td>\n",
       "      <td>0</td>\n",
       "      <td>0</td>\n",
       "      <td>0</td>\n",
       "      <td>0</td>\n",
       "      <td>0</td>\n",
       "      <td>0</td>\n",
       "      <td>0</td>\n",
       "      <td>0</td>\n",
       "      <td>0</td>\n",
       "      <td>0</td>\n",
       "      <td>0</td>\n",
       "      <td>0</td>\n",
       "      <td>0</td>\n",
       "      <td>0</td>\n",
       "      <td>0</td>\n",
       "      <td>0</td>\n",
       "      <td>0</td>\n",
       "      <td>0</td>\n",
       "      <td>0</td>\n",
       "      <td>0</td>\n",
       "      <td>0</td>\n",
       "      <td>0</td>\n",
       "      <td>0</td>\n",
       "      <td>0</td>\n",
       "      <td>0</td>\n",
       "      <td>...</td>\n",
       "      <td>0</td>\n",
       "      <td>0</td>\n",
       "      <td>0</td>\n",
       "      <td>0</td>\n",
       "      <td>0</td>\n",
       "      <td>0</td>\n",
       "      <td>0</td>\n",
       "      <td>0</td>\n",
       "      <td>0</td>\n",
       "      <td>0</td>\n",
       "      <td>0</td>\n",
       "      <td>0</td>\n",
       "      <td>0</td>\n",
       "      <td>0</td>\n",
       "      <td>0</td>\n",
       "      <td>0</td>\n",
       "      <td>0</td>\n",
       "      <td>0</td>\n",
       "      <td>0</td>\n",
       "      <td>0</td>\n",
       "      <td>0</td>\n",
       "      <td>0</td>\n",
       "      <td>0</td>\n",
       "      <td>0</td>\n",
       "      <td>0</td>\n",
       "      <td>0</td>\n",
       "      <td>0</td>\n",
       "      <td>0</td>\n",
       "      <td>0</td>\n",
       "      <td>0</td>\n",
       "      <td>0</td>\n",
       "      <td>0</td>\n",
       "      <td>0</td>\n",
       "      <td>0</td>\n",
       "      <td>0</td>\n",
       "      <td>0</td>\n",
       "      <td>0</td>\n",
       "      <td>0</td>\n",
       "      <td>0</td>\n",
       "      <td>0</td>\n",
       "    </tr>\n",
       "    <tr>\n",
       "      <th>2</th>\n",
       "      <td>10002</td>\n",
       "      <td>0</td>\n",
       "      <td>0</td>\n",
       "      <td>0</td>\n",
       "      <td>0</td>\n",
       "      <td>0</td>\n",
       "      <td>0</td>\n",
       "      <td>0</td>\n",
       "      <td>0</td>\n",
       "      <td>0</td>\n",
       "      <td>1</td>\n",
       "      <td>0</td>\n",
       "      <td>0</td>\n",
       "      <td>44</td>\n",
       "      <td>48</td>\n",
       "      <td>147</td>\n",
       "      <td>59</td>\n",
       "      <td>0</td>\n",
       "      <td>78</td>\n",
       "      <td>20</td>\n",
       "      <td>0</td>\n",
       "      <td>0</td>\n",
       "      <td>0</td>\n",
       "      <td>0</td>\n",
       "      <td>0</td>\n",
       "      <td>0</td>\n",
       "      <td>0</td>\n",
       "      <td>0</td>\n",
       "      <td>0</td>\n",
       "      <td>0</td>\n",
       "      <td>0</td>\n",
       "      <td>0</td>\n",
       "      <td>0</td>\n",
       "      <td>0</td>\n",
       "      <td>0</td>\n",
       "      <td>0</td>\n",
       "      <td>0</td>\n",
       "      <td>0</td>\n",
       "      <td>0</td>\n",
       "      <td>0</td>\n",
       "      <td>...</td>\n",
       "      <td>189</td>\n",
       "      <td>113</td>\n",
       "      <td>111</td>\n",
       "      <td>113</td>\n",
       "      <td>27</td>\n",
       "      <td>0</td>\n",
       "      <td>0</td>\n",
       "      <td>0</td>\n",
       "      <td>0</td>\n",
       "      <td>0</td>\n",
       "      <td>0</td>\n",
       "      <td>0</td>\n",
       "      <td>0</td>\n",
       "      <td>0</td>\n",
       "      <td>0</td>\n",
       "      <td>0</td>\n",
       "      <td>0</td>\n",
       "      <td>0</td>\n",
       "      <td>1</td>\n",
       "      <td>0</td>\n",
       "      <td>0</td>\n",
       "      <td>98</td>\n",
       "      <td>33</td>\n",
       "      <td>70</td>\n",
       "      <td>72</td>\n",
       "      <td>74</td>\n",
       "      <td>46</td>\n",
       "      <td>68</td>\n",
       "      <td>37</td>\n",
       "      <td>40</td>\n",
       "      <td>31</td>\n",
       "      <td>9</td>\n",
       "      <td>0</td>\n",
       "      <td>0</td>\n",
       "      <td>0</td>\n",
       "      <td>0</td>\n",
       "      <td>0</td>\n",
       "      <td>0</td>\n",
       "      <td>0</td>\n",
       "      <td>0</td>\n",
       "    </tr>\n",
       "    <tr>\n",
       "      <th>3</th>\n",
       "      <td>10003</td>\n",
       "      <td>4</td>\n",
       "      <td>0</td>\n",
       "      <td>0</td>\n",
       "      <td>0</td>\n",
       "      <td>0</td>\n",
       "      <td>0</td>\n",
       "      <td>0</td>\n",
       "      <td>0</td>\n",
       "      <td>0</td>\n",
       "      <td>0</td>\n",
       "      <td>0</td>\n",
       "      <td>0</td>\n",
       "      <td>0</td>\n",
       "      <td>0</td>\n",
       "      <td>0</td>\n",
       "      <td>0</td>\n",
       "      <td>0</td>\n",
       "      <td>0</td>\n",
       "      <td>0</td>\n",
       "      <td>0</td>\n",
       "      <td>0</td>\n",
       "      <td>0</td>\n",
       "      <td>0</td>\n",
       "      <td>0</td>\n",
       "      <td>0</td>\n",
       "      <td>0</td>\n",
       "      <td>0</td>\n",
       "      <td>0</td>\n",
       "      <td>0</td>\n",
       "      <td>0</td>\n",
       "      <td>0</td>\n",
       "      <td>0</td>\n",
       "      <td>0</td>\n",
       "      <td>0</td>\n",
       "      <td>0</td>\n",
       "      <td>0</td>\n",
       "      <td>0</td>\n",
       "      <td>0</td>\n",
       "      <td>0</td>\n",
       "      <td>...</td>\n",
       "      <td>0</td>\n",
       "      <td>0</td>\n",
       "      <td>0</td>\n",
       "      <td>0</td>\n",
       "      <td>0</td>\n",
       "      <td>0</td>\n",
       "      <td>0</td>\n",
       "      <td>0</td>\n",
       "      <td>0</td>\n",
       "      <td>0</td>\n",
       "      <td>0</td>\n",
       "      <td>0</td>\n",
       "      <td>0</td>\n",
       "      <td>0</td>\n",
       "      <td>0</td>\n",
       "      <td>0</td>\n",
       "      <td>0</td>\n",
       "      <td>0</td>\n",
       "      <td>0</td>\n",
       "      <td>0</td>\n",
       "      <td>0</td>\n",
       "      <td>0</td>\n",
       "      <td>0</td>\n",
       "      <td>0</td>\n",
       "      <td>0</td>\n",
       "      <td>0</td>\n",
       "      <td>0</td>\n",
       "      <td>0</td>\n",
       "      <td>0</td>\n",
       "      <td>0</td>\n",
       "      <td>0</td>\n",
       "      <td>0</td>\n",
       "      <td>0</td>\n",
       "      <td>0</td>\n",
       "      <td>0</td>\n",
       "      <td>0</td>\n",
       "      <td>0</td>\n",
       "      <td>0</td>\n",
       "      <td>0</td>\n",
       "      <td>0</td>\n",
       "    </tr>\n",
       "    <tr>\n",
       "      <th>4</th>\n",
       "      <td>10004</td>\n",
       "      <td>1</td>\n",
       "      <td>0</td>\n",
       "      <td>0</td>\n",
       "      <td>0</td>\n",
       "      <td>0</td>\n",
       "      <td>0</td>\n",
       "      <td>0</td>\n",
       "      <td>0</td>\n",
       "      <td>0</td>\n",
       "      <td>0</td>\n",
       "      <td>0</td>\n",
       "      <td>0</td>\n",
       "      <td>0</td>\n",
       "      <td>0</td>\n",
       "      <td>0</td>\n",
       "      <td>0</td>\n",
       "      <td>0</td>\n",
       "      <td>0</td>\n",
       "      <td>0</td>\n",
       "      <td>0</td>\n",
       "      <td>0</td>\n",
       "      <td>0</td>\n",
       "      <td>0</td>\n",
       "      <td>0</td>\n",
       "      <td>0</td>\n",
       "      <td>0</td>\n",
       "      <td>0</td>\n",
       "      <td>0</td>\n",
       "      <td>0</td>\n",
       "      <td>0</td>\n",
       "      <td>0</td>\n",
       "      <td>0</td>\n",
       "      <td>0</td>\n",
       "      <td>0</td>\n",
       "      <td>0</td>\n",
       "      <td>0</td>\n",
       "      <td>0</td>\n",
       "      <td>0</td>\n",
       "      <td>0</td>\n",
       "      <td>...</td>\n",
       "      <td>0</td>\n",
       "      <td>0</td>\n",
       "      <td>0</td>\n",
       "      <td>0</td>\n",
       "      <td>0</td>\n",
       "      <td>0</td>\n",
       "      <td>0</td>\n",
       "      <td>0</td>\n",
       "      <td>0</td>\n",
       "      <td>0</td>\n",
       "      <td>0</td>\n",
       "      <td>0</td>\n",
       "      <td>0</td>\n",
       "      <td>0</td>\n",
       "      <td>0</td>\n",
       "      <td>0</td>\n",
       "      <td>0</td>\n",
       "      <td>0</td>\n",
       "      <td>0</td>\n",
       "      <td>0</td>\n",
       "      <td>0</td>\n",
       "      <td>0</td>\n",
       "      <td>0</td>\n",
       "      <td>0</td>\n",
       "      <td>0</td>\n",
       "      <td>0</td>\n",
       "      <td>0</td>\n",
       "      <td>0</td>\n",
       "      <td>0</td>\n",
       "      <td>0</td>\n",
       "      <td>0</td>\n",
       "      <td>0</td>\n",
       "      <td>0</td>\n",
       "      <td>0</td>\n",
       "      <td>0</td>\n",
       "      <td>0</td>\n",
       "      <td>0</td>\n",
       "      <td>0</td>\n",
       "      <td>0</td>\n",
       "      <td>0</td>\n",
       "    </tr>\n",
       "  </tbody>\n",
       "</table>\n",
       "<p>5 rows × 786 columns</p>\n",
       "</div>"
      ],
      "text/plain": [
       "      Id  Label  1  2  3  4  5  6  ...  777  778  779  780  781  782  783  784\n",
       "0  10000      4  0  0  0  0  0  0  ...    0    0    0    0    0    0    0    0\n",
       "1  10001      0  0  0  0  0  0  0  ...    0    0    0    0    0    0    0    0\n",
       "2  10002      0  0  0  0  0  0  0  ...    0    0    0    0    0    0    0    0\n",
       "3  10003      4  0  0  0  0  0  0  ...    0    0    0    0    0    0    0    0\n",
       "4  10004      1  0  0  0  0  0  0  ...    0    0    0    0    0    0    0    0\n",
       "\n",
       "[5 rows x 786 columns]"
      ]
     },
     "execution_count": 75,
     "metadata": {
      "tags": []
     },
     "output_type": "execute_result"
    }
   ],
   "source": [
    "data.head()"
   ]
  },
  {
   "cell_type": "code",
   "execution_count": 0,
   "metadata": {
    "colab": {},
    "colab_type": "code",
    "id": "ZbrR1ICl4lLA"
   },
   "outputs": [],
   "source": [
    "train = data.drop(['Id','Label'],axis=1)"
   ]
  },
  {
   "cell_type": "code",
   "execution_count": 77,
   "metadata": {
    "colab": {
     "base_uri": "https://localhost:8080/",
     "height": 439
    },
    "colab_type": "code",
    "id": "3RzybTg44lOh",
    "outputId": "5ae878f4-01e7-45e3-e517-07583ba72385"
   },
   "outputs": [
    {
     "data": {
      "text/html": [
       "<div>\n",
       "<style scoped>\n",
       "    .dataframe tbody tr th:only-of-type {\n",
       "        vertical-align: middle;\n",
       "    }\n",
       "\n",
       "    .dataframe tbody tr th {\n",
       "        vertical-align: top;\n",
       "    }\n",
       "\n",
       "    .dataframe thead th {\n",
       "        text-align: right;\n",
       "    }\n",
       "</style>\n",
       "<table border=\"1\" class=\"dataframe\">\n",
       "  <thead>\n",
       "    <tr style=\"text-align: right;\">\n",
       "      <th></th>\n",
       "      <th>1</th>\n",
       "      <th>2</th>\n",
       "      <th>3</th>\n",
       "      <th>4</th>\n",
       "      <th>5</th>\n",
       "      <th>6</th>\n",
       "      <th>7</th>\n",
       "      <th>8</th>\n",
       "      <th>9</th>\n",
       "      <th>10</th>\n",
       "      <th>11</th>\n",
       "      <th>12</th>\n",
       "      <th>13</th>\n",
       "      <th>14</th>\n",
       "      <th>15</th>\n",
       "      <th>16</th>\n",
       "      <th>17</th>\n",
       "      <th>18</th>\n",
       "      <th>19</th>\n",
       "      <th>20</th>\n",
       "      <th>21</th>\n",
       "      <th>22</th>\n",
       "      <th>23</th>\n",
       "      <th>24</th>\n",
       "      <th>25</th>\n",
       "      <th>26</th>\n",
       "      <th>27</th>\n",
       "      <th>28</th>\n",
       "      <th>29</th>\n",
       "      <th>30</th>\n",
       "      <th>31</th>\n",
       "      <th>32</th>\n",
       "      <th>33</th>\n",
       "      <th>34</th>\n",
       "      <th>35</th>\n",
       "      <th>36</th>\n",
       "      <th>37</th>\n",
       "      <th>38</th>\n",
       "      <th>39</th>\n",
       "      <th>40</th>\n",
       "      <th>...</th>\n",
       "      <th>745</th>\n",
       "      <th>746</th>\n",
       "      <th>747</th>\n",
       "      <th>748</th>\n",
       "      <th>749</th>\n",
       "      <th>750</th>\n",
       "      <th>751</th>\n",
       "      <th>752</th>\n",
       "      <th>753</th>\n",
       "      <th>754</th>\n",
       "      <th>755</th>\n",
       "      <th>756</th>\n",
       "      <th>757</th>\n",
       "      <th>758</th>\n",
       "      <th>759</th>\n",
       "      <th>760</th>\n",
       "      <th>761</th>\n",
       "      <th>762</th>\n",
       "      <th>763</th>\n",
       "      <th>764</th>\n",
       "      <th>765</th>\n",
       "      <th>766</th>\n",
       "      <th>767</th>\n",
       "      <th>768</th>\n",
       "      <th>769</th>\n",
       "      <th>770</th>\n",
       "      <th>771</th>\n",
       "      <th>772</th>\n",
       "      <th>773</th>\n",
       "      <th>774</th>\n",
       "      <th>775</th>\n",
       "      <th>776</th>\n",
       "      <th>777</th>\n",
       "      <th>778</th>\n",
       "      <th>779</th>\n",
       "      <th>780</th>\n",
       "      <th>781</th>\n",
       "      <th>782</th>\n",
       "      <th>783</th>\n",
       "      <th>784</th>\n",
       "    </tr>\n",
       "  </thead>\n",
       "  <tbody>\n",
       "    <tr>\n",
       "      <th>0</th>\n",
       "      <td>0</td>\n",
       "      <td>0</td>\n",
       "      <td>0</td>\n",
       "      <td>0</td>\n",
       "      <td>0</td>\n",
       "      <td>0</td>\n",
       "      <td>0</td>\n",
       "      <td>0</td>\n",
       "      <td>0</td>\n",
       "      <td>0</td>\n",
       "      <td>0</td>\n",
       "      <td>0</td>\n",
       "      <td>0</td>\n",
       "      <td>0</td>\n",
       "      <td>0</td>\n",
       "      <td>0</td>\n",
       "      <td>0</td>\n",
       "      <td>0</td>\n",
       "      <td>0</td>\n",
       "      <td>0</td>\n",
       "      <td>0</td>\n",
       "      <td>0</td>\n",
       "      <td>0</td>\n",
       "      <td>0</td>\n",
       "      <td>0</td>\n",
       "      <td>0</td>\n",
       "      <td>0</td>\n",
       "      <td>0</td>\n",
       "      <td>0</td>\n",
       "      <td>0</td>\n",
       "      <td>0</td>\n",
       "      <td>0</td>\n",
       "      <td>0</td>\n",
       "      <td>0</td>\n",
       "      <td>0</td>\n",
       "      <td>0</td>\n",
       "      <td>0</td>\n",
       "      <td>0</td>\n",
       "      <td>0</td>\n",
       "      <td>0</td>\n",
       "      <td>...</td>\n",
       "      <td>0</td>\n",
       "      <td>0</td>\n",
       "      <td>0</td>\n",
       "      <td>0</td>\n",
       "      <td>0</td>\n",
       "      <td>0</td>\n",
       "      <td>0</td>\n",
       "      <td>0</td>\n",
       "      <td>0</td>\n",
       "      <td>0</td>\n",
       "      <td>0</td>\n",
       "      <td>0</td>\n",
       "      <td>0</td>\n",
       "      <td>0</td>\n",
       "      <td>0</td>\n",
       "      <td>0</td>\n",
       "      <td>0</td>\n",
       "      <td>0</td>\n",
       "      <td>0</td>\n",
       "      <td>0</td>\n",
       "      <td>0</td>\n",
       "      <td>0</td>\n",
       "      <td>0</td>\n",
       "      <td>0</td>\n",
       "      <td>0</td>\n",
       "      <td>0</td>\n",
       "      <td>0</td>\n",
       "      <td>0</td>\n",
       "      <td>0</td>\n",
       "      <td>0</td>\n",
       "      <td>0</td>\n",
       "      <td>0</td>\n",
       "      <td>0</td>\n",
       "      <td>0</td>\n",
       "      <td>0</td>\n",
       "      <td>0</td>\n",
       "      <td>0</td>\n",
       "      <td>0</td>\n",
       "      <td>0</td>\n",
       "      <td>0</td>\n",
       "    </tr>\n",
       "    <tr>\n",
       "      <th>1</th>\n",
       "      <td>0</td>\n",
       "      <td>0</td>\n",
       "      <td>0</td>\n",
       "      <td>0</td>\n",
       "      <td>0</td>\n",
       "      <td>0</td>\n",
       "      <td>0</td>\n",
       "      <td>0</td>\n",
       "      <td>0</td>\n",
       "      <td>0</td>\n",
       "      <td>0</td>\n",
       "      <td>0</td>\n",
       "      <td>0</td>\n",
       "      <td>0</td>\n",
       "      <td>0</td>\n",
       "      <td>0</td>\n",
       "      <td>0</td>\n",
       "      <td>0</td>\n",
       "      <td>0</td>\n",
       "      <td>0</td>\n",
       "      <td>0</td>\n",
       "      <td>0</td>\n",
       "      <td>0</td>\n",
       "      <td>0</td>\n",
       "      <td>0</td>\n",
       "      <td>0</td>\n",
       "      <td>0</td>\n",
       "      <td>0</td>\n",
       "      <td>0</td>\n",
       "      <td>0</td>\n",
       "      <td>0</td>\n",
       "      <td>0</td>\n",
       "      <td>0</td>\n",
       "      <td>0</td>\n",
       "      <td>0</td>\n",
       "      <td>0</td>\n",
       "      <td>0</td>\n",
       "      <td>0</td>\n",
       "      <td>0</td>\n",
       "      <td>0</td>\n",
       "      <td>...</td>\n",
       "      <td>0</td>\n",
       "      <td>0</td>\n",
       "      <td>0</td>\n",
       "      <td>0</td>\n",
       "      <td>0</td>\n",
       "      <td>0</td>\n",
       "      <td>0</td>\n",
       "      <td>0</td>\n",
       "      <td>0</td>\n",
       "      <td>0</td>\n",
       "      <td>0</td>\n",
       "      <td>0</td>\n",
       "      <td>0</td>\n",
       "      <td>0</td>\n",
       "      <td>0</td>\n",
       "      <td>0</td>\n",
       "      <td>0</td>\n",
       "      <td>0</td>\n",
       "      <td>0</td>\n",
       "      <td>0</td>\n",
       "      <td>0</td>\n",
       "      <td>0</td>\n",
       "      <td>0</td>\n",
       "      <td>0</td>\n",
       "      <td>0</td>\n",
       "      <td>0</td>\n",
       "      <td>0</td>\n",
       "      <td>0</td>\n",
       "      <td>0</td>\n",
       "      <td>0</td>\n",
       "      <td>0</td>\n",
       "      <td>0</td>\n",
       "      <td>0</td>\n",
       "      <td>0</td>\n",
       "      <td>0</td>\n",
       "      <td>0</td>\n",
       "      <td>0</td>\n",
       "      <td>0</td>\n",
       "      <td>0</td>\n",
       "      <td>0</td>\n",
       "    </tr>\n",
       "    <tr>\n",
       "      <th>2</th>\n",
       "      <td>0</td>\n",
       "      <td>0</td>\n",
       "      <td>0</td>\n",
       "      <td>0</td>\n",
       "      <td>0</td>\n",
       "      <td>0</td>\n",
       "      <td>0</td>\n",
       "      <td>0</td>\n",
       "      <td>1</td>\n",
       "      <td>0</td>\n",
       "      <td>0</td>\n",
       "      <td>44</td>\n",
       "      <td>48</td>\n",
       "      <td>147</td>\n",
       "      <td>59</td>\n",
       "      <td>0</td>\n",
       "      <td>78</td>\n",
       "      <td>20</td>\n",
       "      <td>0</td>\n",
       "      <td>0</td>\n",
       "      <td>0</td>\n",
       "      <td>0</td>\n",
       "      <td>0</td>\n",
       "      <td>0</td>\n",
       "      <td>0</td>\n",
       "      <td>0</td>\n",
       "      <td>0</td>\n",
       "      <td>0</td>\n",
       "      <td>0</td>\n",
       "      <td>0</td>\n",
       "      <td>0</td>\n",
       "      <td>0</td>\n",
       "      <td>0</td>\n",
       "      <td>0</td>\n",
       "      <td>0</td>\n",
       "      <td>0</td>\n",
       "      <td>0</td>\n",
       "      <td>0</td>\n",
       "      <td>24</td>\n",
       "      <td>76</td>\n",
       "      <td>...</td>\n",
       "      <td>189</td>\n",
       "      <td>113</td>\n",
       "      <td>111</td>\n",
       "      <td>113</td>\n",
       "      <td>27</td>\n",
       "      <td>0</td>\n",
       "      <td>0</td>\n",
       "      <td>0</td>\n",
       "      <td>0</td>\n",
       "      <td>0</td>\n",
       "      <td>0</td>\n",
       "      <td>0</td>\n",
       "      <td>0</td>\n",
       "      <td>0</td>\n",
       "      <td>0</td>\n",
       "      <td>0</td>\n",
       "      <td>0</td>\n",
       "      <td>0</td>\n",
       "      <td>1</td>\n",
       "      <td>0</td>\n",
       "      <td>0</td>\n",
       "      <td>98</td>\n",
       "      <td>33</td>\n",
       "      <td>70</td>\n",
       "      <td>72</td>\n",
       "      <td>74</td>\n",
       "      <td>46</td>\n",
       "      <td>68</td>\n",
       "      <td>37</td>\n",
       "      <td>40</td>\n",
       "      <td>31</td>\n",
       "      <td>9</td>\n",
       "      <td>0</td>\n",
       "      <td>0</td>\n",
       "      <td>0</td>\n",
       "      <td>0</td>\n",
       "      <td>0</td>\n",
       "      <td>0</td>\n",
       "      <td>0</td>\n",
       "      <td>0</td>\n",
       "    </tr>\n",
       "    <tr>\n",
       "      <th>3</th>\n",
       "      <td>0</td>\n",
       "      <td>0</td>\n",
       "      <td>0</td>\n",
       "      <td>0</td>\n",
       "      <td>0</td>\n",
       "      <td>0</td>\n",
       "      <td>0</td>\n",
       "      <td>0</td>\n",
       "      <td>0</td>\n",
       "      <td>0</td>\n",
       "      <td>0</td>\n",
       "      <td>0</td>\n",
       "      <td>0</td>\n",
       "      <td>0</td>\n",
       "      <td>0</td>\n",
       "      <td>0</td>\n",
       "      <td>0</td>\n",
       "      <td>0</td>\n",
       "      <td>0</td>\n",
       "      <td>0</td>\n",
       "      <td>0</td>\n",
       "      <td>0</td>\n",
       "      <td>0</td>\n",
       "      <td>0</td>\n",
       "      <td>0</td>\n",
       "      <td>0</td>\n",
       "      <td>0</td>\n",
       "      <td>0</td>\n",
       "      <td>0</td>\n",
       "      <td>0</td>\n",
       "      <td>0</td>\n",
       "      <td>0</td>\n",
       "      <td>0</td>\n",
       "      <td>0</td>\n",
       "      <td>0</td>\n",
       "      <td>0</td>\n",
       "      <td>0</td>\n",
       "      <td>0</td>\n",
       "      <td>0</td>\n",
       "      <td>0</td>\n",
       "      <td>...</td>\n",
       "      <td>0</td>\n",
       "      <td>0</td>\n",
       "      <td>0</td>\n",
       "      <td>0</td>\n",
       "      <td>0</td>\n",
       "      <td>0</td>\n",
       "      <td>0</td>\n",
       "      <td>0</td>\n",
       "      <td>0</td>\n",
       "      <td>0</td>\n",
       "      <td>0</td>\n",
       "      <td>0</td>\n",
       "      <td>0</td>\n",
       "      <td>0</td>\n",
       "      <td>0</td>\n",
       "      <td>0</td>\n",
       "      <td>0</td>\n",
       "      <td>0</td>\n",
       "      <td>0</td>\n",
       "      <td>0</td>\n",
       "      <td>0</td>\n",
       "      <td>0</td>\n",
       "      <td>0</td>\n",
       "      <td>0</td>\n",
       "      <td>0</td>\n",
       "      <td>0</td>\n",
       "      <td>0</td>\n",
       "      <td>0</td>\n",
       "      <td>0</td>\n",
       "      <td>0</td>\n",
       "      <td>0</td>\n",
       "      <td>0</td>\n",
       "      <td>0</td>\n",
       "      <td>0</td>\n",
       "      <td>0</td>\n",
       "      <td>0</td>\n",
       "      <td>0</td>\n",
       "      <td>0</td>\n",
       "      <td>0</td>\n",
       "      <td>0</td>\n",
       "    </tr>\n",
       "    <tr>\n",
       "      <th>4</th>\n",
       "      <td>0</td>\n",
       "      <td>0</td>\n",
       "      <td>0</td>\n",
       "      <td>0</td>\n",
       "      <td>0</td>\n",
       "      <td>0</td>\n",
       "      <td>0</td>\n",
       "      <td>0</td>\n",
       "      <td>0</td>\n",
       "      <td>0</td>\n",
       "      <td>0</td>\n",
       "      <td>0</td>\n",
       "      <td>0</td>\n",
       "      <td>0</td>\n",
       "      <td>0</td>\n",
       "      <td>0</td>\n",
       "      <td>0</td>\n",
       "      <td>0</td>\n",
       "      <td>0</td>\n",
       "      <td>0</td>\n",
       "      <td>0</td>\n",
       "      <td>0</td>\n",
       "      <td>0</td>\n",
       "      <td>0</td>\n",
       "      <td>0</td>\n",
       "      <td>0</td>\n",
       "      <td>0</td>\n",
       "      <td>0</td>\n",
       "      <td>0</td>\n",
       "      <td>0</td>\n",
       "      <td>0</td>\n",
       "      <td>0</td>\n",
       "      <td>0</td>\n",
       "      <td>0</td>\n",
       "      <td>0</td>\n",
       "      <td>0</td>\n",
       "      <td>0</td>\n",
       "      <td>0</td>\n",
       "      <td>0</td>\n",
       "      <td>0</td>\n",
       "      <td>...</td>\n",
       "      <td>0</td>\n",
       "      <td>0</td>\n",
       "      <td>0</td>\n",
       "      <td>0</td>\n",
       "      <td>0</td>\n",
       "      <td>0</td>\n",
       "      <td>0</td>\n",
       "      <td>0</td>\n",
       "      <td>0</td>\n",
       "      <td>0</td>\n",
       "      <td>0</td>\n",
       "      <td>0</td>\n",
       "      <td>0</td>\n",
       "      <td>0</td>\n",
       "      <td>0</td>\n",
       "      <td>0</td>\n",
       "      <td>0</td>\n",
       "      <td>0</td>\n",
       "      <td>0</td>\n",
       "      <td>0</td>\n",
       "      <td>0</td>\n",
       "      <td>0</td>\n",
       "      <td>0</td>\n",
       "      <td>0</td>\n",
       "      <td>0</td>\n",
       "      <td>0</td>\n",
       "      <td>0</td>\n",
       "      <td>0</td>\n",
       "      <td>0</td>\n",
       "      <td>0</td>\n",
       "      <td>0</td>\n",
       "      <td>0</td>\n",
       "      <td>0</td>\n",
       "      <td>0</td>\n",
       "      <td>0</td>\n",
       "      <td>0</td>\n",
       "      <td>0</td>\n",
       "      <td>0</td>\n",
       "      <td>0</td>\n",
       "      <td>0</td>\n",
       "    </tr>\n",
       "    <tr>\n",
       "      <th>...</th>\n",
       "      <td>...</td>\n",
       "      <td>...</td>\n",
       "      <td>...</td>\n",
       "      <td>...</td>\n",
       "      <td>...</td>\n",
       "      <td>...</td>\n",
       "      <td>...</td>\n",
       "      <td>...</td>\n",
       "      <td>...</td>\n",
       "      <td>...</td>\n",
       "      <td>...</td>\n",
       "      <td>...</td>\n",
       "      <td>...</td>\n",
       "      <td>...</td>\n",
       "      <td>...</td>\n",
       "      <td>...</td>\n",
       "      <td>...</td>\n",
       "      <td>...</td>\n",
       "      <td>...</td>\n",
       "      <td>...</td>\n",
       "      <td>...</td>\n",
       "      <td>...</td>\n",
       "      <td>...</td>\n",
       "      <td>...</td>\n",
       "      <td>...</td>\n",
       "      <td>...</td>\n",
       "      <td>...</td>\n",
       "      <td>...</td>\n",
       "      <td>...</td>\n",
       "      <td>...</td>\n",
       "      <td>...</td>\n",
       "      <td>...</td>\n",
       "      <td>...</td>\n",
       "      <td>...</td>\n",
       "      <td>...</td>\n",
       "      <td>...</td>\n",
       "      <td>...</td>\n",
       "      <td>...</td>\n",
       "      <td>...</td>\n",
       "      <td>...</td>\n",
       "      <td>...</td>\n",
       "      <td>...</td>\n",
       "      <td>...</td>\n",
       "      <td>...</td>\n",
       "      <td>...</td>\n",
       "      <td>...</td>\n",
       "      <td>...</td>\n",
       "      <td>...</td>\n",
       "      <td>...</td>\n",
       "      <td>...</td>\n",
       "      <td>...</td>\n",
       "      <td>...</td>\n",
       "      <td>...</td>\n",
       "      <td>...</td>\n",
       "      <td>...</td>\n",
       "      <td>...</td>\n",
       "      <td>...</td>\n",
       "      <td>...</td>\n",
       "      <td>...</td>\n",
       "      <td>...</td>\n",
       "      <td>...</td>\n",
       "      <td>...</td>\n",
       "      <td>...</td>\n",
       "      <td>...</td>\n",
       "      <td>...</td>\n",
       "      <td>...</td>\n",
       "      <td>...</td>\n",
       "      <td>...</td>\n",
       "      <td>...</td>\n",
       "      <td>...</td>\n",
       "      <td>...</td>\n",
       "      <td>...</td>\n",
       "      <td>...</td>\n",
       "      <td>...</td>\n",
       "      <td>...</td>\n",
       "      <td>...</td>\n",
       "      <td>...</td>\n",
       "      <td>...</td>\n",
       "      <td>...</td>\n",
       "      <td>...</td>\n",
       "      <td>...</td>\n",
       "    </tr>\n",
       "    <tr>\n",
       "      <th>59995</th>\n",
       "      <td>0</td>\n",
       "      <td>0</td>\n",
       "      <td>0</td>\n",
       "      <td>0</td>\n",
       "      <td>0</td>\n",
       "      <td>0</td>\n",
       "      <td>0</td>\n",
       "      <td>0</td>\n",
       "      <td>0</td>\n",
       "      <td>0</td>\n",
       "      <td>0</td>\n",
       "      <td>0</td>\n",
       "      <td>0</td>\n",
       "      <td>0</td>\n",
       "      <td>0</td>\n",
       "      <td>0</td>\n",
       "      <td>0</td>\n",
       "      <td>0</td>\n",
       "      <td>0</td>\n",
       "      <td>0</td>\n",
       "      <td>0</td>\n",
       "      <td>0</td>\n",
       "      <td>0</td>\n",
       "      <td>0</td>\n",
       "      <td>0</td>\n",
       "      <td>0</td>\n",
       "      <td>0</td>\n",
       "      <td>0</td>\n",
       "      <td>0</td>\n",
       "      <td>0</td>\n",
       "      <td>0</td>\n",
       "      <td>0</td>\n",
       "      <td>0</td>\n",
       "      <td>0</td>\n",
       "      <td>0</td>\n",
       "      <td>0</td>\n",
       "      <td>0</td>\n",
       "      <td>0</td>\n",
       "      <td>0</td>\n",
       "      <td>0</td>\n",
       "      <td>...</td>\n",
       "      <td>0</td>\n",
       "      <td>0</td>\n",
       "      <td>0</td>\n",
       "      <td>0</td>\n",
       "      <td>0</td>\n",
       "      <td>0</td>\n",
       "      <td>0</td>\n",
       "      <td>0</td>\n",
       "      <td>0</td>\n",
       "      <td>0</td>\n",
       "      <td>0</td>\n",
       "      <td>0</td>\n",
       "      <td>0</td>\n",
       "      <td>0</td>\n",
       "      <td>0</td>\n",
       "      <td>0</td>\n",
       "      <td>0</td>\n",
       "      <td>0</td>\n",
       "      <td>0</td>\n",
       "      <td>0</td>\n",
       "      <td>0</td>\n",
       "      <td>0</td>\n",
       "      <td>0</td>\n",
       "      <td>0</td>\n",
       "      <td>0</td>\n",
       "      <td>0</td>\n",
       "      <td>0</td>\n",
       "      <td>0</td>\n",
       "      <td>0</td>\n",
       "      <td>0</td>\n",
       "      <td>0</td>\n",
       "      <td>0</td>\n",
       "      <td>0</td>\n",
       "      <td>0</td>\n",
       "      <td>0</td>\n",
       "      <td>0</td>\n",
       "      <td>0</td>\n",
       "      <td>0</td>\n",
       "      <td>0</td>\n",
       "      <td>0</td>\n",
       "    </tr>\n",
       "    <tr>\n",
       "      <th>59996</th>\n",
       "      <td>0</td>\n",
       "      <td>0</td>\n",
       "      <td>0</td>\n",
       "      <td>0</td>\n",
       "      <td>0</td>\n",
       "      <td>0</td>\n",
       "      <td>0</td>\n",
       "      <td>0</td>\n",
       "      <td>0</td>\n",
       "      <td>31</td>\n",
       "      <td>52</td>\n",
       "      <td>98</td>\n",
       "      <td>94</td>\n",
       "      <td>86</td>\n",
       "      <td>94</td>\n",
       "      <td>84</td>\n",
       "      <td>53</td>\n",
       "      <td>89</td>\n",
       "      <td>38</td>\n",
       "      <td>0</td>\n",
       "      <td>0</td>\n",
       "      <td>0</td>\n",
       "      <td>0</td>\n",
       "      <td>0</td>\n",
       "      <td>0</td>\n",
       "      <td>0</td>\n",
       "      <td>0</td>\n",
       "      <td>0</td>\n",
       "      <td>0</td>\n",
       "      <td>0</td>\n",
       "      <td>0</td>\n",
       "      <td>0</td>\n",
       "      <td>0</td>\n",
       "      <td>0</td>\n",
       "      <td>0</td>\n",
       "      <td>0</td>\n",
       "      <td>0</td>\n",
       "      <td>93</td>\n",
       "      <td>178</td>\n",
       "      <td>196</td>\n",
       "      <td>...</td>\n",
       "      <td>80</td>\n",
       "      <td>73</td>\n",
       "      <td>0</td>\n",
       "      <td>0</td>\n",
       "      <td>0</td>\n",
       "      <td>0</td>\n",
       "      <td>0</td>\n",
       "      <td>0</td>\n",
       "      <td>0</td>\n",
       "      <td>0</td>\n",
       "      <td>0</td>\n",
       "      <td>0</td>\n",
       "      <td>0</td>\n",
       "      <td>0</td>\n",
       "      <td>0</td>\n",
       "      <td>0</td>\n",
       "      <td>0</td>\n",
       "      <td>0</td>\n",
       "      <td>0</td>\n",
       "      <td>0</td>\n",
       "      <td>0</td>\n",
       "      <td>0</td>\n",
       "      <td>43</td>\n",
       "      <td>149</td>\n",
       "      <td>59</td>\n",
       "      <td>0</td>\n",
       "      <td>0</td>\n",
       "      <td>57</td>\n",
       "      <td>137</td>\n",
       "      <td>91</td>\n",
       "      <td>0</td>\n",
       "      <td>0</td>\n",
       "      <td>0</td>\n",
       "      <td>0</td>\n",
       "      <td>0</td>\n",
       "      <td>0</td>\n",
       "      <td>0</td>\n",
       "      <td>0</td>\n",
       "      <td>0</td>\n",
       "      <td>0</td>\n",
       "    </tr>\n",
       "    <tr>\n",
       "      <th>59997</th>\n",
       "      <td>0</td>\n",
       "      <td>0</td>\n",
       "      <td>0</td>\n",
       "      <td>0</td>\n",
       "      <td>0</td>\n",
       "      <td>0</td>\n",
       "      <td>0</td>\n",
       "      <td>0</td>\n",
       "      <td>0</td>\n",
       "      <td>0</td>\n",
       "      <td>0</td>\n",
       "      <td>0</td>\n",
       "      <td>0</td>\n",
       "      <td>30</td>\n",
       "      <td>69</td>\n",
       "      <td>37</td>\n",
       "      <td>0</td>\n",
       "      <td>0</td>\n",
       "      <td>1</td>\n",
       "      <td>0</td>\n",
       "      <td>0</td>\n",
       "      <td>0</td>\n",
       "      <td>0</td>\n",
       "      <td>0</td>\n",
       "      <td>0</td>\n",
       "      <td>0</td>\n",
       "      <td>0</td>\n",
       "      <td>0</td>\n",
       "      <td>0</td>\n",
       "      <td>0</td>\n",
       "      <td>0</td>\n",
       "      <td>0</td>\n",
       "      <td>0</td>\n",
       "      <td>0</td>\n",
       "      <td>0</td>\n",
       "      <td>0</td>\n",
       "      <td>0</td>\n",
       "      <td>0</td>\n",
       "      <td>0</td>\n",
       "      <td>0</td>\n",
       "      <td>...</td>\n",
       "      <td>241</td>\n",
       "      <td>221</td>\n",
       "      <td>229</td>\n",
       "      <td>173</td>\n",
       "      <td>0</td>\n",
       "      <td>0</td>\n",
       "      <td>0</td>\n",
       "      <td>0</td>\n",
       "      <td>0</td>\n",
       "      <td>0</td>\n",
       "      <td>0</td>\n",
       "      <td>0</td>\n",
       "      <td>0</td>\n",
       "      <td>0</td>\n",
       "      <td>0</td>\n",
       "      <td>0</td>\n",
       "      <td>0</td>\n",
       "      <td>0</td>\n",
       "      <td>0</td>\n",
       "      <td>0</td>\n",
       "      <td>0</td>\n",
       "      <td>0</td>\n",
       "      <td>22</td>\n",
       "      <td>99</td>\n",
       "      <td>117</td>\n",
       "      <td>135</td>\n",
       "      <td>137</td>\n",
       "      <td>135</td>\n",
       "      <td>120</td>\n",
       "      <td>101</td>\n",
       "      <td>27</td>\n",
       "      <td>0</td>\n",
       "      <td>0</td>\n",
       "      <td>0</td>\n",
       "      <td>0</td>\n",
       "      <td>0</td>\n",
       "      <td>0</td>\n",
       "      <td>0</td>\n",
       "      <td>0</td>\n",
       "      <td>0</td>\n",
       "    </tr>\n",
       "    <tr>\n",
       "      <th>59998</th>\n",
       "      <td>0</td>\n",
       "      <td>0</td>\n",
       "      <td>0</td>\n",
       "      <td>0</td>\n",
       "      <td>0</td>\n",
       "      <td>0</td>\n",
       "      <td>0</td>\n",
       "      <td>0</td>\n",
       "      <td>0</td>\n",
       "      <td>0</td>\n",
       "      <td>0</td>\n",
       "      <td>164</td>\n",
       "      <td>137</td>\n",
       "      <td>130</td>\n",
       "      <td>93</td>\n",
       "      <td>136</td>\n",
       "      <td>138</td>\n",
       "      <td>159</td>\n",
       "      <td>0</td>\n",
       "      <td>0</td>\n",
       "      <td>0</td>\n",
       "      <td>0</td>\n",
       "      <td>0</td>\n",
       "      <td>0</td>\n",
       "      <td>0</td>\n",
       "      <td>0</td>\n",
       "      <td>0</td>\n",
       "      <td>0</td>\n",
       "      <td>0</td>\n",
       "      <td>0</td>\n",
       "      <td>0</td>\n",
       "      <td>0</td>\n",
       "      <td>0</td>\n",
       "      <td>0</td>\n",
       "      <td>0</td>\n",
       "      <td>0</td>\n",
       "      <td>0</td>\n",
       "      <td>0</td>\n",
       "      <td>0</td>\n",
       "      <td>222</td>\n",
       "      <td>...</td>\n",
       "      <td>249</td>\n",
       "      <td>49</td>\n",
       "      <td>0</td>\n",
       "      <td>0</td>\n",
       "      <td>0</td>\n",
       "      <td>0</td>\n",
       "      <td>0</td>\n",
       "      <td>0</td>\n",
       "      <td>0</td>\n",
       "      <td>0</td>\n",
       "      <td>0</td>\n",
       "      <td>0</td>\n",
       "      <td>0</td>\n",
       "      <td>0</td>\n",
       "      <td>0</td>\n",
       "      <td>0</td>\n",
       "      <td>0</td>\n",
       "      <td>0</td>\n",
       "      <td>0</td>\n",
       "      <td>0</td>\n",
       "      <td>0</td>\n",
       "      <td>0</td>\n",
       "      <td>0</td>\n",
       "      <td>26</td>\n",
       "      <td>206</td>\n",
       "      <td>85</td>\n",
       "      <td>0</td>\n",
       "      <td>94</td>\n",
       "      <td>202</td>\n",
       "      <td>14</td>\n",
       "      <td>0</td>\n",
       "      <td>0</td>\n",
       "      <td>0</td>\n",
       "      <td>0</td>\n",
       "      <td>0</td>\n",
       "      <td>0</td>\n",
       "      <td>0</td>\n",
       "      <td>0</td>\n",
       "      <td>0</td>\n",
       "      <td>0</td>\n",
       "    </tr>\n",
       "    <tr>\n",
       "      <th>59999</th>\n",
       "      <td>0</td>\n",
       "      <td>0</td>\n",
       "      <td>0</td>\n",
       "      <td>0</td>\n",
       "      <td>0</td>\n",
       "      <td>0</td>\n",
       "      <td>0</td>\n",
       "      <td>0</td>\n",
       "      <td>0</td>\n",
       "      <td>0</td>\n",
       "      <td>0</td>\n",
       "      <td>0</td>\n",
       "      <td>0</td>\n",
       "      <td>0</td>\n",
       "      <td>0</td>\n",
       "      <td>0</td>\n",
       "      <td>0</td>\n",
       "      <td>0</td>\n",
       "      <td>0</td>\n",
       "      <td>0</td>\n",
       "      <td>0</td>\n",
       "      <td>0</td>\n",
       "      <td>0</td>\n",
       "      <td>0</td>\n",
       "      <td>0</td>\n",
       "      <td>0</td>\n",
       "      <td>0</td>\n",
       "      <td>0</td>\n",
       "      <td>0</td>\n",
       "      <td>0</td>\n",
       "      <td>0</td>\n",
       "      <td>0</td>\n",
       "      <td>0</td>\n",
       "      <td>0</td>\n",
       "      <td>0</td>\n",
       "      <td>0</td>\n",
       "      <td>0</td>\n",
       "      <td>0</td>\n",
       "      <td>0</td>\n",
       "      <td>0</td>\n",
       "      <td>...</td>\n",
       "      <td>0</td>\n",
       "      <td>0</td>\n",
       "      <td>0</td>\n",
       "      <td>0</td>\n",
       "      <td>0</td>\n",
       "      <td>0</td>\n",
       "      <td>0</td>\n",
       "      <td>0</td>\n",
       "      <td>0</td>\n",
       "      <td>0</td>\n",
       "      <td>0</td>\n",
       "      <td>0</td>\n",
       "      <td>0</td>\n",
       "      <td>0</td>\n",
       "      <td>0</td>\n",
       "      <td>0</td>\n",
       "      <td>0</td>\n",
       "      <td>0</td>\n",
       "      <td>0</td>\n",
       "      <td>0</td>\n",
       "      <td>0</td>\n",
       "      <td>0</td>\n",
       "      <td>0</td>\n",
       "      <td>0</td>\n",
       "      <td>0</td>\n",
       "      <td>0</td>\n",
       "      <td>0</td>\n",
       "      <td>0</td>\n",
       "      <td>0</td>\n",
       "      <td>0</td>\n",
       "      <td>0</td>\n",
       "      <td>0</td>\n",
       "      <td>0</td>\n",
       "      <td>0</td>\n",
       "      <td>0</td>\n",
       "      <td>0</td>\n",
       "      <td>0</td>\n",
       "      <td>0</td>\n",
       "      <td>0</td>\n",
       "      <td>0</td>\n",
       "    </tr>\n",
       "  </tbody>\n",
       "</table>\n",
       "<p>60000 rows × 784 columns</p>\n",
       "</div>"
      ],
      "text/plain": [
       "       1  2  3  4  5  6  7  8  9  ...  776  777  778  779  780  781  782  783  784\n",
       "0      0  0  0  0  0  0  0  0  0  ...    0    0    0    0    0    0    0    0    0\n",
       "1      0  0  0  0  0  0  0  0  0  ...    0    0    0    0    0    0    0    0    0\n",
       "2      0  0  0  0  0  0  0  0  1  ...    9    0    0    0    0    0    0    0    0\n",
       "3      0  0  0  0  0  0  0  0  0  ...    0    0    0    0    0    0    0    0    0\n",
       "4      0  0  0  0  0  0  0  0  0  ...    0    0    0    0    0    0    0    0    0\n",
       "...   .. .. .. .. .. .. .. .. ..  ...  ...  ...  ...  ...  ...  ...  ...  ...  ...\n",
       "59995  0  0  0  0  0  0  0  0  0  ...    0    0    0    0    0    0    0    0    0\n",
       "59996  0  0  0  0  0  0  0  0  0  ...    0    0    0    0    0    0    0    0    0\n",
       "59997  0  0  0  0  0  0  0  0  0  ...    0    0    0    0    0    0    0    0    0\n",
       "59998  0  0  0  0  0  0  0  0  0  ...    0    0    0    0    0    0    0    0    0\n",
       "59999  0  0  0  0  0  0  0  0  0  ...    0    0    0    0    0    0    0    0    0\n",
       "\n",
       "[60000 rows x 784 columns]"
      ]
     },
     "execution_count": 77,
     "metadata": {
      "tags": []
     },
     "output_type": "execute_result"
    }
   ],
   "source": [
    "train"
   ]
  },
  {
   "cell_type": "code",
   "execution_count": 78,
   "metadata": {
    "colab": {
     "base_uri": "https://localhost:8080/",
     "height": 34
    },
    "colab_type": "code",
    "id": "qxWEGAzo4lRS",
    "outputId": "b36b53ee-e8da-4bde-887b-6546fac0644c"
   },
   "outputs": [
    {
     "data": {
      "text/plain": [
       "(10000, 785)"
      ]
     },
     "execution_count": 78,
     "metadata": {
      "tags": []
     },
     "output_type": "execute_result"
    }
   ],
   "source": [
    "data_test.shape"
   ]
  },
  {
   "cell_type": "code",
   "execution_count": 0,
   "metadata": {
    "colab": {},
    "colab_type": "code",
    "id": "lZ0IuYqM4lUB"
   },
   "outputs": [],
   "source": [
    "test = data_test.drop('Id', axis = 1)"
   ]
  },
  {
   "cell_type": "code",
   "execution_count": 80,
   "metadata": {
    "colab": {
     "base_uri": "https://localhost:8080/",
     "height": 253
    },
    "colab_type": "code",
    "id": "_hTqdaqu4lWY",
    "outputId": "0d84bcb3-7c55-4d4c-8aad-7d2cd54376cc"
   },
   "outputs": [
    {
     "data": {
      "text/html": [
       "<div>\n",
       "<style scoped>\n",
       "    .dataframe tbody tr th:only-of-type {\n",
       "        vertical-align: middle;\n",
       "    }\n",
       "\n",
       "    .dataframe tbody tr th {\n",
       "        vertical-align: top;\n",
       "    }\n",
       "\n",
       "    .dataframe thead th {\n",
       "        text-align: right;\n",
       "    }\n",
       "</style>\n",
       "<table border=\"1\" class=\"dataframe\">\n",
       "  <thead>\n",
       "    <tr style=\"text-align: right;\">\n",
       "      <th></th>\n",
       "      <th>0</th>\n",
       "      <th>1</th>\n",
       "      <th>2</th>\n",
       "      <th>3</th>\n",
       "      <th>4</th>\n",
       "      <th>5</th>\n",
       "      <th>6</th>\n",
       "      <th>7</th>\n",
       "      <th>8</th>\n",
       "      <th>9</th>\n",
       "      <th>10</th>\n",
       "      <th>11</th>\n",
       "      <th>12</th>\n",
       "      <th>13</th>\n",
       "      <th>14</th>\n",
       "      <th>15</th>\n",
       "      <th>16</th>\n",
       "      <th>17</th>\n",
       "      <th>18</th>\n",
       "      <th>19</th>\n",
       "      <th>20</th>\n",
       "      <th>21</th>\n",
       "      <th>22</th>\n",
       "      <th>23</th>\n",
       "      <th>24</th>\n",
       "      <th>25</th>\n",
       "      <th>26</th>\n",
       "      <th>27</th>\n",
       "      <th>28</th>\n",
       "      <th>29</th>\n",
       "      <th>30</th>\n",
       "      <th>31</th>\n",
       "      <th>32</th>\n",
       "      <th>33</th>\n",
       "      <th>34</th>\n",
       "      <th>35</th>\n",
       "      <th>36</th>\n",
       "      <th>37</th>\n",
       "      <th>38</th>\n",
       "      <th>39</th>\n",
       "      <th>...</th>\n",
       "      <th>744</th>\n",
       "      <th>745</th>\n",
       "      <th>746</th>\n",
       "      <th>747</th>\n",
       "      <th>748</th>\n",
       "      <th>749</th>\n",
       "      <th>750</th>\n",
       "      <th>751</th>\n",
       "      <th>752</th>\n",
       "      <th>753</th>\n",
       "      <th>754</th>\n",
       "      <th>755</th>\n",
       "      <th>756</th>\n",
       "      <th>757</th>\n",
       "      <th>758</th>\n",
       "      <th>759</th>\n",
       "      <th>760</th>\n",
       "      <th>761</th>\n",
       "      <th>762</th>\n",
       "      <th>763</th>\n",
       "      <th>764</th>\n",
       "      <th>765</th>\n",
       "      <th>766</th>\n",
       "      <th>767</th>\n",
       "      <th>768</th>\n",
       "      <th>769</th>\n",
       "      <th>770</th>\n",
       "      <th>771</th>\n",
       "      <th>772</th>\n",
       "      <th>773</th>\n",
       "      <th>774</th>\n",
       "      <th>775</th>\n",
       "      <th>776</th>\n",
       "      <th>777</th>\n",
       "      <th>778</th>\n",
       "      <th>779</th>\n",
       "      <th>780</th>\n",
       "      <th>781</th>\n",
       "      <th>782</th>\n",
       "      <th>783</th>\n",
       "    </tr>\n",
       "  </thead>\n",
       "  <tbody>\n",
       "    <tr>\n",
       "      <th>0</th>\n",
       "      <td>0</td>\n",
       "      <td>0</td>\n",
       "      <td>0</td>\n",
       "      <td>0</td>\n",
       "      <td>0</td>\n",
       "      <td>0</td>\n",
       "      <td>0</td>\n",
       "      <td>0</td>\n",
       "      <td>0</td>\n",
       "      <td>0</td>\n",
       "      <td>0</td>\n",
       "      <td>0</td>\n",
       "      <td>0</td>\n",
       "      <td>0</td>\n",
       "      <td>0</td>\n",
       "      <td>0</td>\n",
       "      <td>0</td>\n",
       "      <td>0</td>\n",
       "      <td>0</td>\n",
       "      <td>0</td>\n",
       "      <td>0</td>\n",
       "      <td>0</td>\n",
       "      <td>0</td>\n",
       "      <td>0</td>\n",
       "      <td>0</td>\n",
       "      <td>0</td>\n",
       "      <td>0</td>\n",
       "      <td>0</td>\n",
       "      <td>0</td>\n",
       "      <td>0</td>\n",
       "      <td>0</td>\n",
       "      <td>0</td>\n",
       "      <td>0</td>\n",
       "      <td>0</td>\n",
       "      <td>0</td>\n",
       "      <td>0</td>\n",
       "      <td>0</td>\n",
       "      <td>0</td>\n",
       "      <td>0</td>\n",
       "      <td>0</td>\n",
       "      <td>...</td>\n",
       "      <td>0</td>\n",
       "      <td>0</td>\n",
       "      <td>0</td>\n",
       "      <td>0</td>\n",
       "      <td>0</td>\n",
       "      <td>0</td>\n",
       "      <td>0</td>\n",
       "      <td>0</td>\n",
       "      <td>0</td>\n",
       "      <td>0</td>\n",
       "      <td>0</td>\n",
       "      <td>0</td>\n",
       "      <td>0</td>\n",
       "      <td>0</td>\n",
       "      <td>0</td>\n",
       "      <td>0</td>\n",
       "      <td>0</td>\n",
       "      <td>0</td>\n",
       "      <td>0</td>\n",
       "      <td>0</td>\n",
       "      <td>0</td>\n",
       "      <td>0</td>\n",
       "      <td>0</td>\n",
       "      <td>0</td>\n",
       "      <td>0</td>\n",
       "      <td>0</td>\n",
       "      <td>0</td>\n",
       "      <td>0</td>\n",
       "      <td>0</td>\n",
       "      <td>0</td>\n",
       "      <td>0</td>\n",
       "      <td>0</td>\n",
       "      <td>0</td>\n",
       "      <td>0</td>\n",
       "      <td>0</td>\n",
       "      <td>0</td>\n",
       "      <td>0</td>\n",
       "      <td>0</td>\n",
       "      <td>0</td>\n",
       "      <td>0</td>\n",
       "    </tr>\n",
       "    <tr>\n",
       "      <th>1</th>\n",
       "      <td>0</td>\n",
       "      <td>0</td>\n",
       "      <td>0</td>\n",
       "      <td>0</td>\n",
       "      <td>0</td>\n",
       "      <td>1</td>\n",
       "      <td>0</td>\n",
       "      <td>0</td>\n",
       "      <td>0</td>\n",
       "      <td>0</td>\n",
       "      <td>41</td>\n",
       "      <td>188</td>\n",
       "      <td>103</td>\n",
       "      <td>54</td>\n",
       "      <td>48</td>\n",
       "      <td>43</td>\n",
       "      <td>87</td>\n",
       "      <td>168</td>\n",
       "      <td>133</td>\n",
       "      <td>16</td>\n",
       "      <td>0</td>\n",
       "      <td>0</td>\n",
       "      <td>0</td>\n",
       "      <td>0</td>\n",
       "      <td>0</td>\n",
       "      <td>0</td>\n",
       "      <td>0</td>\n",
       "      <td>0</td>\n",
       "      <td>0</td>\n",
       "      <td>0</td>\n",
       "      <td>0</td>\n",
       "      <td>1</td>\n",
       "      <td>0</td>\n",
       "      <td>0</td>\n",
       "      <td>0</td>\n",
       "      <td>49</td>\n",
       "      <td>136</td>\n",
       "      <td>219</td>\n",
       "      <td>216</td>\n",
       "      <td>228</td>\n",
       "      <td>...</td>\n",
       "      <td>244</td>\n",
       "      <td>240</td>\n",
       "      <td>243</td>\n",
       "      <td>214</td>\n",
       "      <td>224</td>\n",
       "      <td>162</td>\n",
       "      <td>0</td>\n",
       "      <td>2</td>\n",
       "      <td>0</td>\n",
       "      <td>0</td>\n",
       "      <td>0</td>\n",
       "      <td>0</td>\n",
       "      <td>0</td>\n",
       "      <td>0</td>\n",
       "      <td>0</td>\n",
       "      <td>0</td>\n",
       "      <td>0</td>\n",
       "      <td>1</td>\n",
       "      <td>0</td>\n",
       "      <td>0</td>\n",
       "      <td>139</td>\n",
       "      <td>146</td>\n",
       "      <td>130</td>\n",
       "      <td>135</td>\n",
       "      <td>135</td>\n",
       "      <td>137</td>\n",
       "      <td>125</td>\n",
       "      <td>124</td>\n",
       "      <td>125</td>\n",
       "      <td>121</td>\n",
       "      <td>119</td>\n",
       "      <td>114</td>\n",
       "      <td>130</td>\n",
       "      <td>76</td>\n",
       "      <td>0</td>\n",
       "      <td>0</td>\n",
       "      <td>0</td>\n",
       "      <td>0</td>\n",
       "      <td>0</td>\n",
       "      <td>0</td>\n",
       "    </tr>\n",
       "    <tr>\n",
       "      <th>2</th>\n",
       "      <td>0</td>\n",
       "      <td>0</td>\n",
       "      <td>0</td>\n",
       "      <td>0</td>\n",
       "      <td>0</td>\n",
       "      <td>0</td>\n",
       "      <td>0</td>\n",
       "      <td>0</td>\n",
       "      <td>0</td>\n",
       "      <td>22</td>\n",
       "      <td>118</td>\n",
       "      <td>24</td>\n",
       "      <td>0</td>\n",
       "      <td>0</td>\n",
       "      <td>0</td>\n",
       "      <td>0</td>\n",
       "      <td>0</td>\n",
       "      <td>48</td>\n",
       "      <td>88</td>\n",
       "      <td>5</td>\n",
       "      <td>0</td>\n",
       "      <td>0</td>\n",
       "      <td>0</td>\n",
       "      <td>0</td>\n",
       "      <td>0</td>\n",
       "      <td>0</td>\n",
       "      <td>0</td>\n",
       "      <td>0</td>\n",
       "      <td>0</td>\n",
       "      <td>0</td>\n",
       "      <td>0</td>\n",
       "      <td>0</td>\n",
       "      <td>0</td>\n",
       "      <td>0</td>\n",
       "      <td>0</td>\n",
       "      <td>0</td>\n",
       "      <td>12</td>\n",
       "      <td>100</td>\n",
       "      <td>212</td>\n",
       "      <td>205</td>\n",
       "      <td>...</td>\n",
       "      <td>106</td>\n",
       "      <td>102</td>\n",
       "      <td>75</td>\n",
       "      <td>10</td>\n",
       "      <td>0</td>\n",
       "      <td>0</td>\n",
       "      <td>0</td>\n",
       "      <td>0</td>\n",
       "      <td>0</td>\n",
       "      <td>0</td>\n",
       "      <td>0</td>\n",
       "      <td>0</td>\n",
       "      <td>0</td>\n",
       "      <td>0</td>\n",
       "      <td>0</td>\n",
       "      <td>0</td>\n",
       "      <td>0</td>\n",
       "      <td>0</td>\n",
       "      <td>0</td>\n",
       "      <td>0</td>\n",
       "      <td>1</td>\n",
       "      <td>0</td>\n",
       "      <td>0</td>\n",
       "      <td>0</td>\n",
       "      <td>18</td>\n",
       "      <td>42</td>\n",
       "      <td>57</td>\n",
       "      <td>56</td>\n",
       "      <td>32</td>\n",
       "      <td>8</td>\n",
       "      <td>0</td>\n",
       "      <td>0</td>\n",
       "      <td>1</td>\n",
       "      <td>0</td>\n",
       "      <td>0</td>\n",
       "      <td>0</td>\n",
       "      <td>0</td>\n",
       "      <td>0</td>\n",
       "      <td>0</td>\n",
       "      <td>0</td>\n",
       "    </tr>\n",
       "    <tr>\n",
       "      <th>3</th>\n",
       "      <td>0</td>\n",
       "      <td>0</td>\n",
       "      <td>0</td>\n",
       "      <td>0</td>\n",
       "      <td>0</td>\n",
       "      <td>0</td>\n",
       "      <td>0</td>\n",
       "      <td>0</td>\n",
       "      <td>33</td>\n",
       "      <td>96</td>\n",
       "      <td>175</td>\n",
       "      <td>156</td>\n",
       "      <td>64</td>\n",
       "      <td>14</td>\n",
       "      <td>54</td>\n",
       "      <td>137</td>\n",
       "      <td>204</td>\n",
       "      <td>194</td>\n",
       "      <td>102</td>\n",
       "      <td>0</td>\n",
       "      <td>0</td>\n",
       "      <td>0</td>\n",
       "      <td>0</td>\n",
       "      <td>0</td>\n",
       "      <td>0</td>\n",
       "      <td>0</td>\n",
       "      <td>0</td>\n",
       "      <td>0</td>\n",
       "      <td>0</td>\n",
       "      <td>0</td>\n",
       "      <td>0</td>\n",
       "      <td>0</td>\n",
       "      <td>0</td>\n",
       "      <td>0</td>\n",
       "      <td>73</td>\n",
       "      <td>186</td>\n",
       "      <td>177</td>\n",
       "      <td>183</td>\n",
       "      <td>175</td>\n",
       "      <td>188</td>\n",
       "      <td>...</td>\n",
       "      <td>83</td>\n",
       "      <td>152</td>\n",
       "      <td>85</td>\n",
       "      <td>160</td>\n",
       "      <td>133</td>\n",
       "      <td>100</td>\n",
       "      <td>12</td>\n",
       "      <td>0</td>\n",
       "      <td>0</td>\n",
       "      <td>0</td>\n",
       "      <td>0</td>\n",
       "      <td>0</td>\n",
       "      <td>0</td>\n",
       "      <td>0</td>\n",
       "      <td>0</td>\n",
       "      <td>0</td>\n",
       "      <td>0</td>\n",
       "      <td>0</td>\n",
       "      <td>4</td>\n",
       "      <td>0</td>\n",
       "      <td>2</td>\n",
       "      <td>0</td>\n",
       "      <td>35</td>\n",
       "      <td>4</td>\n",
       "      <td>33</td>\n",
       "      <td>0</td>\n",
       "      <td>0</td>\n",
       "      <td>0</td>\n",
       "      <td>0</td>\n",
       "      <td>0</td>\n",
       "      <td>0</td>\n",
       "      <td>0</td>\n",
       "      <td>0</td>\n",
       "      <td>0</td>\n",
       "      <td>0</td>\n",
       "      <td>0</td>\n",
       "      <td>0</td>\n",
       "      <td>0</td>\n",
       "      <td>0</td>\n",
       "      <td>0</td>\n",
       "    </tr>\n",
       "    <tr>\n",
       "      <th>4</th>\n",
       "      <td>0</td>\n",
       "      <td>0</td>\n",
       "      <td>0</td>\n",
       "      <td>0</td>\n",
       "      <td>0</td>\n",
       "      <td>0</td>\n",
       "      <td>0</td>\n",
       "      <td>0</td>\n",
       "      <td>0</td>\n",
       "      <td>0</td>\n",
       "      <td>0</td>\n",
       "      <td>0</td>\n",
       "      <td>0</td>\n",
       "      <td>0</td>\n",
       "      <td>0</td>\n",
       "      <td>0</td>\n",
       "      <td>0</td>\n",
       "      <td>26</td>\n",
       "      <td>0</td>\n",
       "      <td>0</td>\n",
       "      <td>0</td>\n",
       "      <td>0</td>\n",
       "      <td>0</td>\n",
       "      <td>0</td>\n",
       "      <td>0</td>\n",
       "      <td>0</td>\n",
       "      <td>0</td>\n",
       "      <td>0</td>\n",
       "      <td>0</td>\n",
       "      <td>0</td>\n",
       "      <td>0</td>\n",
       "      <td>0</td>\n",
       "      <td>0</td>\n",
       "      <td>0</td>\n",
       "      <td>0</td>\n",
       "      <td>0</td>\n",
       "      <td>189</td>\n",
       "      <td>206</td>\n",
       "      <td>187</td>\n",
       "      <td>32</td>\n",
       "      <td>...</td>\n",
       "      <td>255</td>\n",
       "      <td>242</td>\n",
       "      <td>255</td>\n",
       "      <td>70</td>\n",
       "      <td>0</td>\n",
       "      <td>0</td>\n",
       "      <td>0</td>\n",
       "      <td>0</td>\n",
       "      <td>0</td>\n",
       "      <td>0</td>\n",
       "      <td>0</td>\n",
       "      <td>0</td>\n",
       "      <td>0</td>\n",
       "      <td>0</td>\n",
       "      <td>0</td>\n",
       "      <td>0</td>\n",
       "      <td>0</td>\n",
       "      <td>0</td>\n",
       "      <td>0</td>\n",
       "      <td>0</td>\n",
       "      <td>0</td>\n",
       "      <td>0</td>\n",
       "      <td>61</td>\n",
       "      <td>102</td>\n",
       "      <td>168</td>\n",
       "      <td>25</td>\n",
       "      <td>0</td>\n",
       "      <td>139</td>\n",
       "      <td>161</td>\n",
       "      <td>74</td>\n",
       "      <td>0</td>\n",
       "      <td>0</td>\n",
       "      <td>0</td>\n",
       "      <td>0</td>\n",
       "      <td>0</td>\n",
       "      <td>0</td>\n",
       "      <td>0</td>\n",
       "      <td>0</td>\n",
       "      <td>0</td>\n",
       "      <td>0</td>\n",
       "    </tr>\n",
       "  </tbody>\n",
       "</table>\n",
       "<p>5 rows × 784 columns</p>\n",
       "</div>"
      ],
      "text/plain": [
       "   0  1  2  3  4  5  6  7   8  ...  775  776  777  778  779  780  781  782  783\n",
       "0  0  0  0  0  0  0  0  0   0  ...    0    0    0    0    0    0    0    0    0\n",
       "1  0  0  0  0  0  1  0  0   0  ...  114  130   76    0    0    0    0    0    0\n",
       "2  0  0  0  0  0  0  0  0   0  ...    0    1    0    0    0    0    0    0    0\n",
       "3  0  0  0  0  0  0  0  0  33  ...    0    0    0    0    0    0    0    0    0\n",
       "4  0  0  0  0  0  0  0  0   0  ...    0    0    0    0    0    0    0    0    0\n",
       "\n",
       "[5 rows x 784 columns]"
      ]
     },
     "execution_count": 80,
     "metadata": {
      "tags": []
     },
     "output_type": "execute_result"
    }
   ],
   "source": [
    "test.head()"
   ]
  },
  {
   "cell_type": "code",
   "execution_count": 0,
   "metadata": {
    "colab": {},
    "colab_type": "code",
    "id": "EhiwTweQ4la-"
   },
   "outputs": [],
   "source": [
    "train_vgg = train\n",
    "train_Y_vgg = data['Label']\n",
    "test_vgg = test"
   ]
  },
  {
   "cell_type": "code",
   "execution_count": 82,
   "metadata": {
    "colab": {
     "base_uri": "https://localhost:8080/",
     "height": 34
    },
    "colab_type": "code",
    "id": "kzwjTeBM4leH",
    "outputId": "4cf69b34-aab9-4166-d307-2f64ef3b61fd"
   },
   "outputs": [
    {
     "data": {
      "text/plain": [
       "(60000, 784)"
      ]
     },
     "execution_count": 82,
     "metadata": {
      "tags": []
     },
     "output_type": "execute_result"
    }
   ],
   "source": [
    "train_vgg.shape"
   ]
  },
  {
   "cell_type": "code",
   "execution_count": 83,
   "metadata": {
    "colab": {
     "base_uri": "https://localhost:8080/",
     "height": 34
    },
    "colab_type": "code",
    "id": "rUjA_cj34lgt",
    "outputId": "555c5ef8-c01e-4530-d9c6-397f4be9ebc8"
   },
   "outputs": [
    {
     "data": {
      "text/plain": [
       "(60000,)"
      ]
     },
     "execution_count": 83,
     "metadata": {
      "tags": []
     },
     "output_type": "execute_result"
    }
   ],
   "source": [
    "train_Y_vgg.shape"
   ]
  },
  {
   "cell_type": "code",
   "execution_count": 84,
   "metadata": {
    "colab": {
     "base_uri": "https://localhost:8080/",
     "height": 34
    },
    "colab_type": "code",
    "id": "SZxSgPUC4ljb",
    "outputId": "4b73d9f1-032a-4aaf-c8e7-cc9a370bb22e"
   },
   "outputs": [
    {
     "data": {
      "text/plain": [
       "(10000, 784)"
      ]
     },
     "execution_count": 84,
     "metadata": {
      "tags": []
     },
     "output_type": "execute_result"
    }
   ],
   "source": [
    "test_vgg.shape"
   ]
  },
  {
   "cell_type": "code",
   "execution_count": 85,
   "metadata": {
    "colab": {
     "base_uri": "https://localhost:8080/",
     "height": 34
    },
    "colab_type": "code",
    "id": "Y18v-z0i4lZA",
    "outputId": "fd53bc6b-e1c9-488c-a152-c2b62e123a7a"
   },
   "outputs": [
    {
     "data": {
      "text/plain": [
       "5"
      ]
     },
     "execution_count": 85,
     "metadata": {
      "tags": []
     },
     "output_type": "execute_result"
    }
   ],
   "source": [
    "classes = np.unique(train_Y_vgg)\n",
    "num_classes = len(classes)\n",
    "num_classes"
   ]
  },
  {
   "cell_type": "code",
   "execution_count": 86,
   "metadata": {
    "colab": {
     "base_uri": "https://localhost:8080/",
     "height": 34
    },
    "colab_type": "code",
    "id": "YQNUaj4A5miI",
    "outputId": "91d01ea0-d258-4ffe-c4b5-a51180467238"
   },
   "outputs": [
    {
     "data": {
      "text/plain": [
       "((60000, 784, 3), (10000, 784, 3))"
      ]
     },
     "execution_count": 86,
     "metadata": {
      "tags": []
     },
     "output_type": "execute_result"
    }
   ],
   "source": [
    "# Convert the images into 3 channels\n",
    "train_vgg = np.dstack([train_vgg] * 3)\n",
    "test_vgg = np.dstack([test_vgg]*3)\n",
    "train_vgg.shape,test_vgg.shape"
   ]
  },
  {
   "cell_type": "code",
   "execution_count": 87,
   "metadata": {
    "colab": {
     "base_uri": "https://localhost:8080/",
     "height": 34
    },
    "colab_type": "code",
    "id": "v7lbtjcL5moS",
    "outputId": "a64be572-32be-4170-f672-d71fa0184858"
   },
   "outputs": [
    {
     "data": {
      "text/plain": [
       "((60000, 28, 28, 3), (10000, 28, 28, 3))"
      ]
     },
     "execution_count": 87,
     "metadata": {
      "tags": []
     },
     "output_type": "execute_result"
    }
   ],
   "source": [
    "# Reshape images as per the tensor format required by tensorflow\n",
    "train_vgg = train_vgg.reshape(-1, 28,28,3)\n",
    "test_vgg= test_vgg.reshape (-1,28,28,3)\n",
    "train_vgg.shape,test_vgg.shape"
   ]
  },
  {
   "cell_type": "code",
   "execution_count": 88,
   "metadata": {
    "colab": {
     "base_uri": "https://localhost:8080/",
     "height": 34
    },
    "colab_type": "code",
    "id": "eWpSXsnd5mys",
    "outputId": "640e9f6a-def9-4344-e4bb-4b2b1b86cb3a"
   },
   "outputs": [
    {
     "data": {
      "text/plain": [
       "((60000, 48, 48, 3), (10000, 48, 48, 3))"
      ]
     },
     "execution_count": 88,
     "metadata": {
      "tags": []
     },
     "output_type": "execute_result"
    }
   ],
   "source": [
    "# Resize the images 48*48 as required by VGG16\n",
    "from keras.preprocessing.image import img_to_array, array_to_img\n",
    "\n",
    "train_vgg = np.asarray([img_to_array(array_to_img(im, scale=False).resize((48,48))) for im in train_vgg])\n",
    "test_vgg = np.asarray([img_to_array(array_to_img(im, scale=False).resize((48,48))) for im in test_vgg])\n",
    "#train_x = preprocess_input(x)\n",
    "train_vgg.shape, test_vgg.shape"
   ]
  },
  {
   "cell_type": "code",
   "execution_count": 0,
   "metadata": {
    "colab": {},
    "colab_type": "code",
    "id": "dLamdYh15m1z"
   },
   "outputs": [],
   "source": [
    "# Normalise the data and change data type\n",
    "train_vgg = train_vgg / 255.\n",
    "test_vgg = test_vgg / 255.\n",
    "train_vgg = train_vgg.astype('float32')\n",
    "test_vgg = test_vgg.astype('float32')"
   ]
  },
  {
   "cell_type": "code",
   "execution_count": 0,
   "metadata": {
    "colab": {},
    "colab_type": "code",
    "id": "UgFu76xy5m4y"
   },
   "outputs": [],
   "source": [
    "# Converting Labels to one hot encoded format\n",
    "train_Y_one_hot = to_categorical(train_Y_vgg)"
   ]
  },
  {
   "cell_type": "code",
   "execution_count": 0,
   "metadata": {
    "colab": {},
    "colab_type": "code",
    "id": "3olfxknP5m7v"
   },
   "outputs": [],
   "source": [
    "# Splitting train data as train and validation data\n",
    "train_vgg,valid_vgg,tl,vl = train_test_split(train_vgg,\n",
    "                                             train_Y_one_hot,\n",
    "                                             test_size=0.1,\n",
    "                                             random_state=42\n",
    "                                              )"
   ]
  },
  {
   "cell_type": "code",
   "execution_count": 92,
   "metadata": {
    "colab": {
     "base_uri": "https://localhost:8080/",
     "height": 34
    },
    "colab_type": "code",
    "id": "LrCwycyT5m-W",
    "outputId": "a775d2de-52a4-40ab-8d19-12bc55884168"
   },
   "outputs": [
    {
     "data": {
      "text/plain": [
       "((54000, 48, 48, 3), (6000, 48, 48, 3), (54000, 5), (6000, 5))"
      ]
     },
     "execution_count": 92,
     "metadata": {
      "tags": []
     },
     "output_type": "execute_result"
    }
   ],
   "source": [
    "# Finally check the data size whether it is as per tensorflow and VGG16 requirement\n",
    "train_vgg.shape,valid_vgg.shape,tl.shape,vl.shape"
   ]
  },
  {
   "cell_type": "code",
   "execution_count": 0,
   "metadata": {
    "colab": {},
    "colab_type": "code",
    "id": "zlNjvO_D5mwM"
   },
   "outputs": [],
   "source": [
    "# Define the parameters for instanitaing VGG16 model. \n",
    "Image_width = 48\n",
    "Image_height = 48\n",
    "Image_depth = 3\n",
    "batch_size = 16\n",
    "\n",
    "# Preprocessing the input \n",
    "train_vgg = preprocess_input(train_vgg)\n",
    "valid_vgg = preprocess_input(valid_vgg)\n",
    "test_vgg  = preprocess_input (test_vgg)"
   ]
  },
  {
   "cell_type": "code",
   "execution_count": 94,
   "metadata": {
    "colab": {
     "base_uri": "https://localhost:8080/",
     "height": 71
    },
    "colab_type": "code",
    "id": "WjquxtzK5mlq",
    "outputId": "4b6d27fc-9579-4b6d-e673-f0b0a5dbd3f5"
   },
   "outputs": [
    {
     "name": "stdout",
     "output_type": "stream",
     "text": [
      "Downloading data from https://github.com/fchollet/deep-learning-models/releases/download/v0.1/vgg16_weights_tf_dim_ordering_tf_kernels_notop.h5\n",
      "58892288/58889256 [==============================] - 2s 0us/step\n"
     ]
    }
   ],
   "source": [
    "#  Create base model of VGG16\n",
    "base_model_vgg = VGG16(weights='imagenet',\n",
    "                  include_top=False, \n",
    "                  input_shape=(Image_height, Image_width, Image_depth)\n",
    "                 )\n"
   ]
  },
  {
   "cell_type": "code",
   "execution_count": 95,
   "metadata": {
    "colab": {
     "base_uri": "https://localhost:8080/",
     "height": 799
    },
    "colab_type": "code",
    "id": "BkhyeJiO9Czn",
    "outputId": "01c017ab-0556-4fd0-a718-1a6a7e4cba59"
   },
   "outputs": [
    {
     "name": "stdout",
     "output_type": "stream",
     "text": [
      "Model: \"vgg16\"\n",
      "_________________________________________________________________\n",
      "Layer (type)                 Output Shape              Param #   \n",
      "=================================================================\n",
      "input_2 (InputLayer)         (None, 48, 48, 3)         0         \n",
      "_________________________________________________________________\n",
      "block1_conv1 (Conv2D)        (None, 48, 48, 64)        1792      \n",
      "_________________________________________________________________\n",
      "block1_conv2 (Conv2D)        (None, 48, 48, 64)        36928     \n",
      "_________________________________________________________________\n",
      "block1_pool (MaxPooling2D)   (None, 24, 24, 64)        0         \n",
      "_________________________________________________________________\n",
      "block2_conv1 (Conv2D)        (None, 24, 24, 128)       73856     \n",
      "_________________________________________________________________\n",
      "block2_conv2 (Conv2D)        (None, 24, 24, 128)       147584    \n",
      "_________________________________________________________________\n",
      "block2_pool (MaxPooling2D)   (None, 12, 12, 128)       0         \n",
      "_________________________________________________________________\n",
      "block3_conv1 (Conv2D)        (None, 12, 12, 256)       295168    \n",
      "_________________________________________________________________\n",
      "block3_conv2 (Conv2D)        (None, 12, 12, 256)       590080    \n",
      "_________________________________________________________________\n",
      "block3_conv3 (Conv2D)        (None, 12, 12, 256)       590080    \n",
      "_________________________________________________________________\n",
      "block3_pool (MaxPooling2D)   (None, 6, 6, 256)         0         \n",
      "_________________________________________________________________\n",
      "block4_conv1 (Conv2D)        (None, 6, 6, 512)         1180160   \n",
      "_________________________________________________________________\n",
      "block4_conv2 (Conv2D)        (None, 6, 6, 512)         2359808   \n",
      "_________________________________________________________________\n",
      "block4_conv3 (Conv2D)        (None, 6, 6, 512)         2359808   \n",
      "_________________________________________________________________\n",
      "block4_pool (MaxPooling2D)   (None, 3, 3, 512)         0         \n",
      "_________________________________________________________________\n",
      "block5_conv1 (Conv2D)        (None, 3, 3, 512)         2359808   \n",
      "_________________________________________________________________\n",
      "block5_conv2 (Conv2D)        (None, 3, 3, 512)         2359808   \n",
      "_________________________________________________________________\n",
      "block5_conv3 (Conv2D)        (None, 3, 3, 512)         2359808   \n",
      "_________________________________________________________________\n",
      "block5_pool (MaxPooling2D)   (None, 1, 1, 512)         0         \n",
      "=================================================================\n",
      "Total params: 14,714,688\n",
      "Trainable params: 14,714,688\n",
      "Non-trainable params: 0\n",
      "_________________________________________________________________\n"
     ]
    }
   ],
   "source": [
    "base_model_vgg.summary()"
   ]
  },
  {
   "cell_type": "code",
   "execution_count": 96,
   "metadata": {
    "colab": {
     "base_uri": "https://localhost:8080/",
     "height": 68
    },
    "colab_type": "code",
    "id": "7fqh0dp-9C91",
    "outputId": "8e6d58bc-37da-401c-9870-25f5dd536c4d"
   },
   "outputs": [
    {
     "name": "stdout",
     "output_type": "stream",
     "text": [
      "54000/54000 [==============================] - 39s 718us/step\n",
      "10000/10000 [==============================] - 7s 716us/step\n",
      "6000/6000 [==============================] - 4s 705us/step\n"
     ]
    }
   ],
   "source": [
    "# Extracting features\n",
    "\n",
    "features_train = base_model_vgg.predict(np.array(train_vgg), batch_size=batch_size, verbose=1)\n",
    "\n",
    "features_test = base_model_vgg.predict(np.array(test_vgg), batch_size=batch_size, verbose=1)\n",
    "\n",
    "features_val = base_model_vgg.predict(np.array(valid_vgg), batch_size=batch_size, verbose=1)"
   ]
  },
  {
   "cell_type": "code",
   "execution_count": 0,
   "metadata": {
    "colab": {},
    "colab_type": "code",
    "id": "TDkOYD6n9DBN"
   },
   "outputs": [],
   "source": [
    "# Saving the features so that they can be used for future\n",
    "np.savez(\"train_features\", features_train, tl)\n",
    "# np.savez(\"test_features\", test_features, test_Y)\n",
    "np.savez(\"val_features\", features_val, vl)"
   ]
  },
  {
   "cell_type": "code",
   "execution_count": 98,
   "metadata": {
    "colab": {
     "base_uri": "https://localhost:8080/",
     "height": 51
    },
    "colab_type": "code",
    "id": "8Kz7iHVo9DGL",
    "outputId": "df0b7bff-23e7-401c-fdcc-40d48320b329"
   },
   "outputs": [
    {
     "name": "stdout",
     "output_type": "stream",
     "text": [
      "(54000, 1, 1, 512) \n",
      " (6000, 1, 1, 512)\n"
     ]
    }
   ],
   "source": [
    "print(features_train.shape, \"\\n\", features_val.shape)"
   ]
  },
  {
   "cell_type": "code",
   "execution_count": 0,
   "metadata": {
    "colab": {},
    "colab_type": "code",
    "id": "pepKuIOb9DJQ"
   },
   "outputs": [],
   "source": [
    "# Flatten extracted features\n",
    "flat_features_train = np.reshape(features_train, (54000, 1*1*512))\n",
    "# test_features_flat = np.reshape(test_features, (10000, 1*1*512))\n",
    "flat_features_val = np.reshape(features_val, (6000, 1*1*512))"
   ]
  },
  {
   "cell_type": "code",
   "execution_count": 0,
   "metadata": {
    "colab": {},
    "colab_type": "code",
    "id": "hXyr8BDo9DN_"
   },
   "outputs": [],
   "source": [
    "from keras import models\n",
    "from keras.models import Model\n",
    "from keras import layers\n",
    "from keras import optimizers\n",
    "from keras import callbacks\n",
    "from keras.layers.advanced_activations import LeakyReLU\n",
    "\n",
    "# 7.0 Define the densely connected classifier followed by leakyrelu layer and finally dense layer for the number of classes\n",
    "train_samples = flat_features_train.shape[0]\n",
    "validation_samples = flat_features_val.shape[0]\n",
    "epochs = 100\n",
    "\n",
    "vgg_model = models.Sequential()\n",
    "vgg_model.add(layers.Dense(512, activation='relu', input_dim=(1*1*512)))\n",
    "vgg_model.add(layers.LeakyReLU(alpha=0.1))\n",
    "vgg_model.add(layers.Dense(num_classes, activation='softmax'))"
   ]
  },
  {
   "cell_type": "code",
   "execution_count": 0,
   "metadata": {
    "colab": {},
    "colab_type": "code",
    "id": "2m3ZTyDn9DMN"
   },
   "outputs": [],
   "source": [
    "# Compile the model.\n",
    "vgg = vgg_model.compile(\n",
    "    loss='categorical_crossentropy',\n",
    "    optimizer=optimizers.Adam(),\n",
    "  # optimizer=optimizers.RMSprop(lr=2e-5),\n",
    "    metrics=['acc']\n",
    "    )"
   ]
  },
  {
   "cell_type": "code",
   "execution_count": 0,
   "metadata": {
    "colab": {},
    "colab_type": "code",
    "id": "oRXT6-8Z9DEg"
   },
   "outputs": [],
   "source": [
    "# Incorporating reduced learning and early stopping for callback\n",
    "reduced_learning = callbacks.ReduceLROnPlateau(\n",
    "    monitor='val_loss',\n",
    "    factor=0.2,\n",
    "    patience=2,\n",
    "    verbose=1,\n",
    "    mode='auto',\n",
    "    epsilon=0.0001,\n",
    "    cooldown=2,\n",
    "    min_lr=0)\n",
    "\n",
    "early_stopping = callbacks.EarlyStopping(\n",
    "    monitor='val_loss',\n",
    "    min_delta=0,\n",
    "    patience=7,\n",
    "    verbose=1,\n",
    "    mode='auto')\n",
    "\n",
    "callbacks = [reduced_learning, early_stopping]"
   ]
  },
  {
   "cell_type": "code",
   "execution_count": 103,
   "metadata": {
    "colab": {
     "base_uri": "https://localhost:8080/",
     "height": 1000
    },
    "colab_type": "code",
    "id": "_qO-U-DF-6Gx",
    "outputId": "6b59b32d-a803-49fe-8b25-8e04c4944d94"
   },
   "outputs": [
    {
     "name": "stdout",
     "output_type": "stream",
     "text": [
      "Train on 54000 samples, validate on 6000 samples\n",
      "Epoch 1/100\n",
      "54000/54000 [==============================] - 6s 104us/step - loss: 1.3266 - acc: 0.4151 - val_loss: 1.3507 - val_acc: 0.3952\n",
      "Epoch 2/100\n",
      "54000/54000 [==============================] - 5s 98us/step - loss: 1.1294 - acc: 0.5026 - val_loss: 1.1049 - val_acc: 0.5005\n",
      "Epoch 3/100\n",
      "54000/54000 [==============================] - 5s 96us/step - loss: 1.0468 - acc: 0.5425 - val_loss: 1.0139 - val_acc: 0.5510\n",
      "Epoch 4/100\n",
      "54000/54000 [==============================] - 5s 94us/step - loss: 0.9988 - acc: 0.5694 - val_loss: 0.9576 - val_acc: 0.5947\n",
      "Epoch 5/100\n",
      "54000/54000 [==============================] - 5s 97us/step - loss: 0.9662 - acc: 0.5891 - val_loss: 0.9262 - val_acc: 0.6128\n",
      "Epoch 6/100\n",
      "54000/54000 [==============================] - 5s 98us/step - loss: 0.9366 - acc: 0.6052 - val_loss: 0.9193 - val_acc: 0.6223\n",
      "Epoch 7/100\n",
      "54000/54000 [==============================] - 5s 96us/step - loss: 0.9135 - acc: 0.6175 - val_loss: 0.9075 - val_acc: 0.6232\n",
      "Epoch 8/100\n",
      "54000/54000 [==============================] - 5s 91us/step - loss: 0.8938 - acc: 0.6288 - val_loss: 0.9290 - val_acc: 0.6158\n",
      "Epoch 9/100\n",
      "54000/54000 [==============================] - 5s 92us/step - loss: 0.8807 - acc: 0.6343 - val_loss: 0.8889 - val_acc: 0.6270\n",
      "Epoch 10/100\n",
      "54000/54000 [==============================] - 5s 97us/step - loss: 0.8633 - acc: 0.6440 - val_loss: 0.9510 - val_acc: 0.6032\n",
      "Epoch 11/100\n",
      "54000/54000 [==============================] - 5s 99us/step - loss: 0.8545 - acc: 0.6484 - val_loss: 0.8531 - val_acc: 0.6568\n",
      "Epoch 12/100\n",
      "54000/54000 [==============================] - 5s 96us/step - loss: 0.8418 - acc: 0.6559 - val_loss: 0.8488 - val_acc: 0.6498\n",
      "Epoch 13/100\n",
      "54000/54000 [==============================] - 5s 94us/step - loss: 0.8369 - acc: 0.6578 - val_loss: 0.8146 - val_acc: 0.6808\n",
      "Epoch 14/100\n",
      "54000/54000 [==============================] - 5s 97us/step - loss: 0.8304 - acc: 0.6607 - val_loss: 0.8216 - val_acc: 0.6662\n",
      "Epoch 15/100\n",
      "54000/54000 [==============================] - 5s 97us/step - loss: 0.8263 - acc: 0.6614 - val_loss: 0.8271 - val_acc: 0.6597\n",
      "\n",
      "Epoch 00015: ReduceLROnPlateau reducing learning rate to 0.00020000000949949026.\n",
      "Epoch 16/100\n",
      "54000/54000 [==============================] - 5s 101us/step - loss: 0.7794 - acc: 0.6880 - val_loss: 0.7904 - val_acc: 0.6880\n",
      "Epoch 17/100\n",
      "54000/54000 [==============================] - 5s 98us/step - loss: 0.7764 - acc: 0.6903 - val_loss: 0.8074 - val_acc: 0.6753\n",
      "Epoch 18/100\n",
      "54000/54000 [==============================] - 5s 92us/step - loss: 0.7743 - acc: 0.6904 - val_loss: 0.7886 - val_acc: 0.6835\n",
      "Epoch 19/100\n",
      "54000/54000 [==============================] - 5s 97us/step - loss: 0.7719 - acc: 0.6895 - val_loss: 0.7769 - val_acc: 0.6913\n",
      "Epoch 20/100\n",
      "54000/54000 [==============================] - 5s 92us/step - loss: 0.7704 - acc: 0.6902 - val_loss: 0.7769 - val_acc: 0.6915\n",
      "Epoch 21/100\n",
      "54000/54000 [==============================] - 5s 98us/step - loss: 0.7679 - acc: 0.6912 - val_loss: 0.7773 - val_acc: 0.6912\n",
      "\n",
      "Epoch 00021: ReduceLROnPlateau reducing learning rate to 4.0000001899898055e-05.\n",
      "Epoch 22/100\n",
      "54000/54000 [==============================] - 5s 98us/step - loss: 0.7575 - acc: 0.6962 - val_loss: 0.7706 - val_acc: 0.6968\n",
      "Epoch 23/100\n",
      "54000/54000 [==============================] - 5s 97us/step - loss: 0.7569 - acc: 0.6969 - val_loss: 0.7674 - val_acc: 0.6992\n",
      "Epoch 24/100\n",
      "54000/54000 [==============================] - 5s 94us/step - loss: 0.7563 - acc: 0.6965 - val_loss: 0.7669 - val_acc: 0.6978\n",
      "Epoch 25/100\n",
      "54000/54000 [==============================] - 5s 96us/step - loss: 0.7559 - acc: 0.6980 - val_loss: 0.7686 - val_acc: 0.6977\n",
      "Epoch 26/100\n",
      "54000/54000 [==============================] - 5s 98us/step - loss: 0.7556 - acc: 0.6980 - val_loss: 0.7649 - val_acc: 0.6967\n",
      "Epoch 27/100\n",
      "54000/54000 [==============================] - 5s 98us/step - loss: 0.7551 - acc: 0.6972 - val_loss: 0.7720 - val_acc: 0.6972\n",
      "Epoch 28/100\n",
      "54000/54000 [==============================] - 5s 94us/step - loss: 0.7547 - acc: 0.6974 - val_loss: 0.7665 - val_acc: 0.6943\n",
      "\n",
      "Epoch 00028: ReduceLROnPlateau reducing learning rate to 8.000000525498762e-06.\n",
      "Epoch 29/100\n",
      "54000/54000 [==============================] - 5s 93us/step - loss: 0.7525 - acc: 0.6984 - val_loss: 0.7639 - val_acc: 0.6988\n",
      "Epoch 30/100\n",
      "54000/54000 [==============================] - 5s 98us/step - loss: 0.7520 - acc: 0.6990 - val_loss: 0.7641 - val_acc: 0.7017\n",
      "Epoch 31/100\n",
      "54000/54000 [==============================] - 5s 97us/step - loss: 0.7521 - acc: 0.6990 - val_loss: 0.7643 - val_acc: 0.6990\n",
      "\n",
      "Epoch 00031: ReduceLROnPlateau reducing learning rate to 1.6000001778593287e-06.\n",
      "Epoch 32/100\n",
      "54000/54000 [==============================] - 5s 100us/step - loss: 0.7516 - acc: 0.6994 - val_loss: 0.7639 - val_acc: 0.6992\n",
      "Epoch 33/100\n",
      "54000/54000 [==============================] - 6s 103us/step - loss: 0.7516 - acc: 0.6989 - val_loss: 0.7637 - val_acc: 0.6983\n",
      "Epoch 34/100\n",
      "54000/54000 [==============================] - 6s 103us/step - loss: 0.7516 - acc: 0.6990 - val_loss: 0.7637 - val_acc: 0.6992\n",
      "Epoch 35/100\n",
      "54000/54000 [==============================] - 5s 99us/step - loss: 0.7515 - acc: 0.6989 - val_loss: 0.7636 - val_acc: 0.6998\n",
      "\n",
      "Epoch 00035: ReduceLROnPlateau reducing learning rate to 3.200000264769187e-07.\n",
      "Epoch 36/100\n",
      "54000/54000 [==============================] - 5s 98us/step - loss: 0.7514 - acc: 0.6990 - val_loss: 0.7636 - val_acc: 0.6988\n",
      "Epoch 37/100\n",
      "54000/54000 [==============================] - 5s 92us/step - loss: 0.7514 - acc: 0.6991 - val_loss: 0.7636 - val_acc: 0.6992\n",
      "Epoch 38/100\n",
      "54000/54000 [==============================] - 5s 96us/step - loss: 0.7514 - acc: 0.6992 - val_loss: 0.7636 - val_acc: 0.6990\n",
      "\n",
      "Epoch 00038: ReduceLROnPlateau reducing learning rate to 6.400000529538374e-08.\n",
      "Epoch 39/100\n",
      "54000/54000 [==============================] - 5s 97us/step - loss: 0.7514 - acc: 0.6990 - val_loss: 0.7636 - val_acc: 0.6988\n",
      "Epoch 40/100\n",
      "54000/54000 [==============================] - 5s 96us/step - loss: 0.7514 - acc: 0.6990 - val_loss: 0.7636 - val_acc: 0.6987\n",
      "Epoch 41/100\n",
      "54000/54000 [==============================] - 5s 100us/step - loss: 0.7514 - acc: 0.6991 - val_loss: 0.7636 - val_acc: 0.6987\n",
      "\n",
      "Epoch 00041: ReduceLROnPlateau reducing learning rate to 1.2800001059076749e-08.\n",
      "Epoch 42/100\n",
      "54000/54000 [==============================] - 5s 92us/step - loss: 0.7514 - acc: 0.6991 - val_loss: 0.7636 - val_acc: 0.6987\n",
      "Epoch 43/100\n",
      "54000/54000 [==============================] - 5s 95us/step - loss: 0.7514 - acc: 0.6991 - val_loss: 0.7636 - val_acc: 0.6987\n",
      "Epoch 00043: early stopping\n"
     ]
    }
   ],
   "source": [
    "# Train the the model\n",
    "hist_vgg = vgg_model.fit(\n",
    "    flat_features_train,\n",
    "    tl,\n",
    "    epochs=epochs,\n",
    "    validation_data=(flat_features_val, vl),\n",
    "    callbacks=callbacks\n",
    ")"
   ]
  },
  {
   "cell_type": "code",
   "execution_count": 104,
   "metadata": {
    "colab": {
     "base_uri": "https://localhost:8080/",
     "height": 284
    },
    "colab_type": "code",
    "id": "U0BPBifd-6Ok",
    "outputId": "da546830-c214-4f6c-d040-407f2b1a7e9e"
   },
   "outputs": [
    {
     "data": {
      "image/png": "[encoded data removed]",
      "text/plain": [
       "<Figure size 432x288 with 1 Axes>"
      ]
     },
     "metadata": {
      "needs_background": "light",
      "tags": []
     },
     "output_type": "display_data"
    }
   ],
   "source": [
    "# Plotting the training and validation accuracy\n",
    "\n",
    "accuracy = hist_vgg.history['acc']\n",
    "val_accuracy = hist_vgg.history['val_acc']\n",
    "epochs = range(1, len(accuracy) + 1)\n",
    "plt.figure()\n",
    "plt.plot(epochs, accuracy, 'bo', label='Training accuracy')\n",
    "plt.plot(epochs, val_accuracy, 'b', label='Validation accuracy')\n",
    "plt.title('VGG16 Training and validation accuracy')\n",
    "plt.legend()\n",
    "plt.show()"
   ]
  },
  {
   "cell_type": "code",
   "execution_count": 105,
   "metadata": {
    "colab": {
     "base_uri": "https://localhost:8080/",
     "height": 284
    },
    "colab_type": "code",
    "id": "mM32x2iQ-6SK",
    "outputId": "0706b413-2b46-4fa3-f45b-f23479cdc80e"
   },
   "outputs": [
    {
     "data": {
      "image/png": "[encoded data removed]",
      "text/plain": [
       "<Figure size 432x288 with 1 Axes>"
      ]
     },
     "metadata": {
      "needs_background": "light",
      "tags": []
     },
     "output_type": "display_data"
    }
   ],
   "source": [
    "# Plotting the training and validation loss\n",
    "loss = hist_vgg.history['loss']\n",
    "val_loss = hist_vgg.history['val_loss']\n",
    "epochs = range(1, len(loss) + 1)\n",
    "plt.figure()\n",
    "plt.plot(epochs, loss, 'bo', label='Training loss')\n",
    "plt.plot(epochs, val_loss, 'b', label='Validation loss')\n",
    "plt.title('VGG16 Training and validation loss')\n",
    "plt.legend()\n",
    "plt.show()"
   ]
  },
  {
   "cell_type": "code",
   "execution_count": 0,
   "metadata": {
    "colab": {},
    "colab_type": "code",
    "id": "mDoQRZlj-6bG"
   },
   "outputs": [],
   "source": [
    "y_pred = vgg_model.predict(flat_features_val)"
   ]
  },
  {
   "cell_type": "code",
   "execution_count": 134,
   "metadata": {
    "colab": {
     "base_uri": "https://localhost:8080/",
     "height": 238
    },
    "colab_type": "code",
    "id": "SByae4CWfVHS",
    "outputId": "3acfa85b-2772-420d-8ae7-61a275d4de1d"
   },
   "outputs": [
    {
     "data": {
      "text/plain": [
       "array([[8.6626786e-01, 1.3294931e-01, 4.4548971e-04, 2.7756731e-04,\n",
       "        5.9778089e-05],\n",
       "       [3.1339413e-01, 5.6140304e-01, 9.2143312e-02, 8.8192187e-03,\n",
       "        2.4240298e-02],\n",
       "       [2.0961095e-05, 9.9637613e-02, 3.9494634e-01, 4.7802994e-01,\n",
       "        2.7365169e-02],\n",
       "       ...,\n",
       "       [8.0873324e-06, 8.2197025e-02, 1.6425164e-01, 7.4029869e-01,\n",
       "        1.3244563e-02],\n",
       "       [7.7587438e-01, 1.7623584e-01, 4.5549784e-02, 1.4335673e-03,\n",
       "        9.0639800e-04],\n",
       "       [9.3234545e-03, 1.0770402e-01, 7.4641830e-01, 1.2822367e-01,\n",
       "        8.3305864e-03]], dtype=float32)"
      ]
     },
     "execution_count": 134,
     "metadata": {
      "tags": []
     },
     "output_type": "execute_result"
    }
   ],
   "source": [
    "y_pred"
   ]
  },
  {
   "cell_type": "code",
   "execution_count": 135,
   "metadata": {
    "colab": {
     "base_uri": "https://localhost:8080/",
     "height": 136
    },
    "colab_type": "code",
    "id": "gVyAOkn3fbj7",
    "outputId": "20127099-8054-4a2b-f458-c72713927244"
   },
   "outputs": [
    {
     "data": {
      "text/plain": [
       "array([[0., 1., 0., 0., 0.],\n",
       "       [1., 0., 0., 0., 0.],\n",
       "       [0., 0., 1., 0., 0.],\n",
       "       ...,\n",
       "       [0., 1., 0., 0., 0.],\n",
       "       [1., 0., 0., 0., 0.],\n",
       "       [0., 0., 1., 0., 0.]], dtype=float32)"
      ]
     },
     "execution_count": 135,
     "metadata": {
      "tags": []
     },
     "output_type": "execute_result"
    }
   ],
   "source": [
    "vl"
   ]
  },
  {
   "cell_type": "code",
   "execution_count": 136,
   "metadata": {
    "colab": {
     "base_uri": "https://localhost:8080/",
     "height": 221
    },
    "colab_type": "code",
    "id": "CUS1gKAd-6hD",
    "outputId": "c749ba78-3a9c-4f18-fce1-b20b4fde3983"
   },
   "outputs": [
    {
     "name": "stdout",
     "output_type": "stream",
     "text": [
      "              precision    recall  f1-score   support\n",
      "\n",
      "           0       0.79      0.86      0.82      1190\n",
      "           1       0.66      0.65      0.66      1230\n",
      "           2       0.58      0.55      0.56      1182\n",
      "           3       0.65      0.67      0.66      1175\n",
      "           4       0.79      0.76      0.78      1223\n",
      "\n",
      "    accuracy                           0.70      6000\n",
      "   macro avg       0.70      0.70      0.70      6000\n",
      "weighted avg       0.70      0.70      0.70      6000\n",
      "\n"
     ]
    }
   ],
   "source": [
    "print(classification_report(np.argmax(vl, axis = 1),np.argmax(y_pred, axis = 1)))"
   ]
  },
  {
   "cell_type": "code",
   "execution_count": 138,
   "metadata": {
    "colab": {
     "base_uri": "https://localhost:8080/",
     "height": 518
    },
    "colab_type": "code",
    "id": "Q-zXx3rT-6fn",
    "outputId": "f3547eb6-5427-4bce-d1ae-c60259991e4d"
   },
   "outputs": [
    {
     "data": {
      "image/png": "[encoded data removed]",
      "text/plain": [
       "<Figure size 720x576 with 2 Axes>"
      ]
     },
     "metadata": {
      "needs_background": "light",
      "tags": []
     },
     "output_type": "display_data"
    }
   ],
   "source": [
    "# Confusion matrix\n",
    "\n",
    "confusion_mtx = confusion_matrix(np.argmax(vl, axis = 1),np.argmax(y_pred, axis = 1)) \n",
    "\n",
    "f,ax = plt.subplots(figsize = (10,8))\n",
    "sns.heatmap(confusion_mtx, annot=True, linewidths=0.1, cmap = \"gist_yarg_r\", linecolor=\"black\", fmt='.0f', ax=ax)\n",
    "plt.xlabel(\"Predicted Label\")\n",
    "plt.ylabel(\"True Label\")\n",
    "plt.title(\"VGG16 Confusion Matrix\")\n",
    "plt.show()"
   ]
  },
  {
   "cell_type": "markdown",
   "metadata": {
    "colab_type": "text",
    "id": "0T4zvatWX2GQ"
   },
   "source": [
    "#### Data Augmentation"
   ]
  },
  {
   "cell_type": "code",
   "execution_count": 0,
   "metadata": {
    "colab": {},
    "colab_type": "code",
    "id": "hNddVIW0X6no"
   },
   "outputs": [],
   "source": [
    "train_aug = pd.read_csv('/content/drive/My Drive/train.csv')\n",
    "test_aug = pd.read_csv('/content/drive/My Drive/testX.csv')"
   ]
  },
  {
   "cell_type": "code",
   "execution_count": 114,
   "metadata": {
    "colab": {
     "base_uri": "https://localhost:8080/",
     "height": 85
    },
    "colab_type": "code",
    "id": "zL_zxzVvGEqI",
    "outputId": "e453e477-bdf0-45a4-b7d9-cbe0ec203174"
   },
   "outputs": [
    {
     "name": "stdout",
     "output_type": "stream",
     "text": [
      "(53400, 28, 28)\n",
      "(6600, 28, 28)\n",
      "(53400,)\n",
      "(10000, 28, 28)\n"
     ]
    }
   ],
   "source": [
    "# Transform Train and Test into images\\labels.\n",
    "x_train_aug = train_aug.drop(['Label','Id'], axis=1).values.astype('float32') # all pixel values\n",
    "y_train_aug = train_aug['Label'].values.astype('int32') # only labels i.e targets digits\n",
    "x_test_aug = test_aug.drop(['Id'], axis=1).values.astype('float32')\n",
    "x_train_aug = x_train_aug.reshape(x_train_aug.shape[0], 28, 28) / 255.0\n",
    "x_test_aug = x_test_aug.reshape(x_test_aug.shape[0], 28, 28) / 255.0\n",
    "\n",
    "x_train_aug, x_val_aug, y_train_aug, y_val_aug = train_test_split(x_train_aug, y_train_aug, test_size = 0.11, random_state=42)\n",
    "\n",
    "print(x_train_aug.shape)\n",
    "print(x_val_aug.shape)\n",
    "print(y_train_aug.shape)\n",
    "print(x_test_aug.shape)"
   ]
  },
  {
   "cell_type": "code",
   "execution_count": 115,
   "metadata": {
    "colab": {
     "base_uri": "https://localhost:8080/",
     "height": 68
    },
    "colab_type": "code",
    "id": "r_DgSmnaGEwC",
    "outputId": "a772ff17-1e04-40ba-9d77-83d9b3f6ec07"
   },
   "outputs": [
    {
     "name": "stdout",
     "output_type": "stream",
     "text": [
      "Train size:(53400, 28, 28, 1)\n",
      "validation size:(6600, 28, 28, 1)\n",
      "Test size:(10000, 28, 28, 1)\n"
     ]
    }
   ],
   "source": [
    "x_train_aug = x_train_aug.reshape(x_train_aug.shape[0], 28, 28,1)  \n",
    "x_val_aug = x_val_aug.reshape(x_val_aug.shape[0], 28, 28,1)  \n",
    "x_test_aug = x_test_aug.reshape(x_test_aug.shape[0], 28, 28,1) \n",
    "print(\"Train size:{}\\nvalidation size:{}\\nTest size:{}\".format(x_train_aug.shape,x_val_aug.shape, x_test_aug.shape))\n",
    "\n",
    "mean_px = x_train_aug.mean().astype(np.float32)\n",
    "std_px = x_train_aug.std().astype(np.float32)"
   ]
  },
  {
   "cell_type": "code",
   "execution_count": 116,
   "metadata": {
    "colab": {
     "base_uri": "https://localhost:8080/",
     "height": 884
    },
    "colab_type": "code",
    "id": "evb7MwIEGE4a",
    "outputId": "c86ade12-570e-4572-8d5d-a5a534fd3c31"
   },
   "outputs": [
    {
     "name": "stdout",
     "output_type": "stream",
     "text": [
      "Model: \"model\"\n",
      "_________________________________________________________________\n",
      "Layer (type)                 Output Shape              Param #   \n",
      "=================================================================\n",
      "input_3 (InputLayer)         [(None, 28, 28, 1)]       0         \n",
      "_________________________________________________________________\n",
      "conv2d_2 (Conv2D)            (None, 28, 28, 32)        832       \n",
      "_________________________________________________________________\n",
      "activation (Activation)      (None, 28, 28, 32)        0         \n",
      "_________________________________________________________________\n",
      "conv2d_3 (Conv2D)            (None, 28, 28, 32)        25632     \n",
      "_________________________________________________________________\n",
      "activation_1 (Activation)    (None, 28, 28, 32)        0         \n",
      "_________________________________________________________________\n",
      "max_pooling2d_1 (MaxPooling2 (None, 14, 14, 32)        0         \n",
      "_________________________________________________________________\n",
      "dropout_1 (Dropout)          (None, 14, 14, 32)        0         \n",
      "_________________________________________________________________\n",
      "conv2d_4 (Conv2D)            (None, 14, 14, 64)        18496     \n",
      "_________________________________________________________________\n",
      "activation_2 (Activation)    (None, 14, 14, 64)        0         \n",
      "_________________________________________________________________\n",
      "conv2d_5 (Conv2D)            (None, 14, 14, 64)        36928     \n",
      "_________________________________________________________________\n",
      "activation_3 (Activation)    (None, 14, 14, 64)        0         \n",
      "_________________________________________________________________\n",
      "conv2d_6 (Conv2D)            (None, 14, 14, 64)        36928     \n",
      "_________________________________________________________________\n",
      "activation_4 (Activation)    (None, 14, 14, 64)        0         \n",
      "_________________________________________________________________\n",
      "max_pooling2d_2 (MaxPooling2 (None, 7, 7, 64)          0         \n",
      "_________________________________________________________________\n",
      "dropout_2 (Dropout)          (None, 7, 7, 64)          0         \n",
      "_________________________________________________________________\n",
      "flatten_1 (Flatten)          (None, 3136)              0         \n",
      "_________________________________________________________________\n",
      "dense_2 (Dense)              (None, 200)               627400    \n",
      "_________________________________________________________________\n",
      "activation_5 (Activation)    (None, 200)               0         \n",
      "_________________________________________________________________\n",
      "batch_normalization (BatchNo (None, 200)               800       \n",
      "_________________________________________________________________\n",
      "dense_3 (Dense)              (None, 5)                 1005      \n",
      "_________________________________________________________________\n",
      "activation_6 (Activation)    (None, 5)                 0         \n",
      "=================================================================\n",
      "Total params: 748,021\n",
      "Trainable params: 747,621\n",
      "Non-trainable params: 400\n",
      "_________________________________________________________________\n",
      "None\n"
     ]
    }
   ],
   "source": [
    "from tensorflow.python.keras.layers import Input , Dense , Conv2D , Activation , Add,ReLU,MaxPool2D,Flatten,Dropout,BatchNormalization\n",
    "from tensorflow.python.keras.models import Model\n",
    "\n",
    "input = Input(shape=[28, 28, 1])\n",
    "x = Conv2D(32, (5, 5), strides=1, padding='same')(input)\n",
    "x = Activation('relu')(x)\n",
    "x = Conv2D(32, (5, 5), strides=1, padding='same')(x)\n",
    "x = Activation('relu')(x)\n",
    "x = MaxPool2D(pool_size=2, strides=2, padding='same')(x)\n",
    "x = Dropout (0.25)(x)\n",
    "x = Conv2D(64, (3, 3), strides=1, padding='same')(x)\n",
    "x = Activation('relu')(x)\n",
    "x = Conv2D(64, (3, 3), strides=1, padding='same')(x)\n",
    "x = Activation('relu')(x)\n",
    "x = Conv2D(64, (3, 3), strides=1, padding='same')(x)\n",
    "x = Activation('relu')(x)\n",
    "x = MaxPool2D(pool_size=2, strides=2, padding='same')(x)\n",
    "x = Dropout (0.35)(x)\n",
    "x = Flatten()(x)\n",
    "x = Dense(200)(x)\n",
    "x = Activation('relu')(x)\n",
    "x = BatchNormalization()(x)\n",
    "x = Dense(5)(x)\n",
    "x = Activation('softmax')(x)\n",
    "\n",
    "model_aug = Model(inputs = input, outputs =x)\n",
    "print(model_aug.summary())"
   ]
  },
  {
   "cell_type": "code",
   "execution_count": 0,
   "metadata": {
    "colab": {},
    "colab_type": "code",
    "id": "HwrdMKgPGE9P"
   },
   "outputs": [],
   "source": [
    "class CollectBatchStats(tf.keras.callbacks.Callback):\n",
    "    def __init__(self):\n",
    "        self.batch_losses = []\n",
    "        self.batch_acc = []\n",
    "\n",
    "    def on_batch_end(self, batch, logs=None):\n",
    "        self.batch_losses.append(logs['loss'])\n",
    "        self.batch_acc.append(logs['accuracy'])\n",
    "\n",
    "batch_stats = CollectBatchStats()"
   ]
  },
  {
   "cell_type": "code",
   "execution_count": 0,
   "metadata": {
    "colab": {},
    "colab_type": "code",
    "id": "0bY0USH-GFAl"
   },
   "outputs": [],
   "source": [
    "from tensorflow.python.keras.preprocessing.image import ImageDataGenerator\n",
    "from tensorflow.python.keras.callbacks import ReduceLROnPlateau, ModelCheckpoint\n",
    "from tensorflow.python.keras.optimizers import Adam ,RMSprop\n",
    "\n",
    "epochs = 100\n",
    "Learning_rate = 0.001\n",
    "decay= 5 * Learning_rate / epochs\n",
    "\n",
    "optimizer = RMSprop(lr=Learning_rate, rho=0.9, epsilon=1e-08, decay= 0)\n",
    "\n",
    "\n",
    "model_aug.compile(optimizer=keras.optimizers.RMSprop(lr=Learning_rate, rho=0.9, epsilon=1e-08, decay= 0),\n",
    "              loss='sparse_categorical_crossentropy',\n",
    "              metrics=['accuracy'])\n",
    "\n",
    "\n",
    "learning_rate_reduction = ReduceLROnPlateau(\n",
    "    monitor='val_accuracy',\n",
    "    factor=0.5,\n",
    "    patience=3,\n",
    "    verbose=1,\n",
    "    min_lr=0.00005)\n"
   ]
  },
  {
   "cell_type": "code",
   "execution_count": 0,
   "metadata": {
    "colab": {},
    "colab_type": "code",
    "id": "Meiv32l0GFH0"
   },
   "outputs": [],
   "source": [
    "# Data augmentation\n",
    "\n",
    "aug_num = 10 \n",
    "datagen = ImageDataGenerator(\n",
    "        featurewise_center=False,\n",
    "# set each sample mean to 0\n",
    "        samplewise_center=False,  \n",
    "# divide inputs by std of the dataset\n",
    "        featurewise_std_normalization=False, \n",
    "# divide each input by its std\n",
    "        samplewise_std_normalization=False,\n",
    "# apply ZCA whitening  \n",
    "        zca_whitening=False,  \n",
    "# randomly rotate images in the range (degrees, 0 to 180)\n",
    "        rotation_range= 0.8,\n",
    "# Randomly zoom image   \n",
    "        zoom_range = aug_num / 100, \n",
    "# randomly shift images horizontally (fraction of total width)\n",
    "        width_shift_range= aug_num / 100,\n",
    "# randomly shift images vertically (fraction of total height)  \n",
    "        height_shift_range= aug_num / 100,  \n",
    "# randomly flip images horizontally\n",
    "        horizontal_flip=0.05,  \n",
    "        vertical_flip=False)  # "
   ]
  },
  {
   "cell_type": "code",
   "execution_count": 120,
   "metadata": {
    "colab": {
     "base_uri": "https://localhost:8080/",
     "height": 1000
    },
    "colab_type": "code",
    "id": "5jwTyumGGFF6",
    "outputId": "361d335d-3774-499b-af6a-3bf54acadd7b"
   },
   "outputs": [
    {
     "name": "stdout",
     "output_type": "stream",
     "text": [
      "WARNING:tensorflow:From <ipython-input-120-ac934847a5d3>:6: Model.fit_generator (from tensorflow.python.keras.engine.training) is deprecated and will be removed in a future version.\n",
      "Instructions for updating:\n",
      "Please use Model.fit, which supports generators.\n",
      "Epoch 1/100\n",
      "209/210 [============================>.] - ETA: 0s - loss: 0.8388 - accuracy: 0.6352\n",
      "Epoch 00001: val_accuracy improved from -inf to 0.46803, saving model to best_weights.hdf5\n",
      "210/210 [==============================] - 16s 76ms/step - loss: 0.8389 - accuracy: 0.6351 - val_loss: 1.1533 - val_accuracy: 0.4680 - lr: 0.0010\n",
      "Epoch 2/100\n",
      "210/210 [==============================] - ETA: 0s - loss: 0.6147 - accuracy: 0.7434\n",
      "Epoch 00002: val_accuracy improved from 0.46803 to 0.75348, saving model to best_weights.hdf5\n",
      "210/210 [==============================] - 16s 76ms/step - loss: 0.6147 - accuracy: 0.7434 - val_loss: 0.6005 - val_accuracy: 0.7535 - lr: 0.0010\n",
      "Epoch 3/100\n",
      "210/210 [==============================] - ETA: 0s - loss: 0.5524 - accuracy: 0.7698\n",
      "Epoch 00003: val_accuracy did not improve from 0.75348\n",
      "210/210 [==============================] - 16s 75ms/step - loss: 0.5524 - accuracy: 0.7698 - val_loss: 1.0098 - val_accuracy: 0.6274 - lr: 0.0010\n",
      "Epoch 4/100\n",
      "210/210 [==============================] - ETA: 0s - loss: 0.5164 - accuracy: 0.7849\n",
      "Epoch 00004: val_accuracy improved from 0.75348 to 0.77818, saving model to best_weights.hdf5\n",
      "210/210 [==============================] - 16s 74ms/step - loss: 0.5164 - accuracy: 0.7849 - val_loss: 0.5285 - val_accuracy: 0.7782 - lr: 0.0010\n",
      "Epoch 5/100\n",
      "210/210 [==============================] - ETA: 0s - loss: 0.4956 - accuracy: 0.7948\n",
      "Epoch 00005: val_accuracy improved from 0.77818 to 0.80212, saving model to best_weights.hdf5\n",
      "210/210 [==============================] - 16s 76ms/step - loss: 0.4956 - accuracy: 0.7948 - val_loss: 0.4988 - val_accuracy: 0.8021 - lr: 0.0010\n",
      "Epoch 6/100\n",
      "210/210 [==============================] - ETA: 0s - loss: 0.4786 - accuracy: 0.8016\n",
      "Epoch 00006: val_accuracy did not improve from 0.80212\n",
      "210/210 [==============================] - 16s 74ms/step - loss: 0.4786 - accuracy: 0.8016 - val_loss: 0.6162 - val_accuracy: 0.7426 - lr: 0.0010\n",
      "Epoch 7/100\n",
      "210/210 [==============================] - ETA: 0s - loss: 0.4692 - accuracy: 0.8043\n",
      "Epoch 00007: val_accuracy did not improve from 0.80212\n",
      "210/210 [==============================] - 16s 75ms/step - loss: 0.4692 - accuracy: 0.8043 - val_loss: 0.5516 - val_accuracy: 0.7642 - lr: 0.0010\n",
      "Epoch 8/100\n",
      "210/210 [==============================] - ETA: 0s - loss: 0.4529 - accuracy: 0.8111\n",
      "Epoch 00008: val_accuracy improved from 0.80212 to 0.81773, saving model to best_weights.hdf5\n",
      "210/210 [==============================] - 16s 75ms/step - loss: 0.4529 - accuracy: 0.8111 - val_loss: 0.4277 - val_accuracy: 0.8177 - lr: 0.0010\n",
      "Epoch 9/100\n",
      "210/210 [==============================] - ETA: 0s - loss: 0.4440 - accuracy: 0.8154\n",
      "Epoch 00009: val_accuracy improved from 0.81773 to 0.83000, saving model to best_weights.hdf5\n",
      "210/210 [==============================] - 16s 75ms/step - loss: 0.4440 - accuracy: 0.8154 - val_loss: 0.4145 - val_accuracy: 0.8300 - lr: 0.0010\n",
      "Epoch 10/100\n",
      "210/210 [==============================] - ETA: 0s - loss: 0.4374 - accuracy: 0.8167\n",
      "Epoch 00010: val_accuracy did not improve from 0.83000\n",
      "210/210 [==============================] - 16s 74ms/step - loss: 0.4374 - accuracy: 0.8167 - val_loss: 0.5297 - val_accuracy: 0.7806 - lr: 0.0010\n",
      "Epoch 11/100\n",
      "210/210 [==============================] - ETA: 0s - loss: 0.4269 - accuracy: 0.8220\n",
      "Epoch 00011: val_accuracy improved from 0.83000 to 0.85258, saving model to best_weights.hdf5\n",
      "210/210 [==============================] - 16s 76ms/step - loss: 0.4269 - accuracy: 0.8220 - val_loss: 0.3591 - val_accuracy: 0.8526 - lr: 0.0010\n",
      "Epoch 12/100\n",
      "210/210 [==============================] - ETA: 0s - loss: 0.4266 - accuracy: 0.8214\n",
      "Epoch 00012: val_accuracy did not improve from 0.85258\n",
      "210/210 [==============================] - 16s 74ms/step - loss: 0.4266 - accuracy: 0.8214 - val_loss: 0.3908 - val_accuracy: 0.8353 - lr: 0.0010\n",
      "Epoch 13/100\n",
      "210/210 [==============================] - ETA: 0s - loss: 0.4207 - accuracy: 0.8254\n",
      "Epoch 00013: val_accuracy did not improve from 0.85258\n",
      "210/210 [==============================] - 16s 75ms/step - loss: 0.4207 - accuracy: 0.8254 - val_loss: 0.4177 - val_accuracy: 0.8220 - lr: 0.0010\n",
      "Epoch 14/100\n",
      "210/210 [==============================] - ETA: 0s - loss: 0.4155 - accuracy: 0.8245\n",
      "Epoch 00014: val_accuracy did not improve from 0.85258\n",
      "\n",
      "Epoch 00014: ReduceLROnPlateau reducing learning rate to 0.0005000000237487257.\n",
      "210/210 [==============================] - 16s 76ms/step - loss: 0.4155 - accuracy: 0.8245 - val_loss: 0.4394 - val_accuracy: 0.7994 - lr: 0.0010\n",
      "Epoch 15/100\n",
      "210/210 [==============================] - ETA: 0s - loss: 0.3896 - accuracy: 0.8360\n",
      "Epoch 00015: val_accuracy did not improve from 0.85258\n",
      "210/210 [==============================] - 16s 74ms/step - loss: 0.3896 - accuracy: 0.8360 - val_loss: 0.3663 - val_accuracy: 0.8418 - lr: 5.0000e-04\n",
      "Epoch 16/100\n",
      "210/210 [==============================] - ETA: 0s - loss: 0.3858 - accuracy: 0.8373\n",
      "Epoch 00016: val_accuracy improved from 0.85258 to 0.85318, saving model to best_weights.hdf5\n",
      "210/210 [==============================] - 16s 77ms/step - loss: 0.3858 - accuracy: 0.8373 - val_loss: 0.3552 - val_accuracy: 0.8532 - lr: 5.0000e-04\n",
      "Epoch 17/100\n",
      "210/210 [==============================] - ETA: 0s - loss: 0.3759 - accuracy: 0.8427\n",
      "Epoch 00017: val_accuracy did not improve from 0.85318\n",
      "210/210 [==============================] - 16s 75ms/step - loss: 0.3759 - accuracy: 0.8427 - val_loss: 0.3555 - val_accuracy: 0.8471 - lr: 5.0000e-04\n",
      "Epoch 18/100\n",
      "210/210 [==============================] - ETA: 0s - loss: 0.3762 - accuracy: 0.8427\n",
      "Epoch 00018: val_accuracy improved from 0.85318 to 0.87288, saving model to best_weights.hdf5\n",
      "210/210 [==============================] - 16s 74ms/step - loss: 0.3762 - accuracy: 0.8427 - val_loss: 0.3144 - val_accuracy: 0.8729 - lr: 5.0000e-04\n",
      "Epoch 19/100\n",
      "210/210 [==============================] - ETA: 0s - loss: 0.3739 - accuracy: 0.8436\n",
      "Epoch 00019: val_accuracy did not improve from 0.87288\n",
      "210/210 [==============================] - 15s 74ms/step - loss: 0.3739 - accuracy: 0.8436 - val_loss: 0.3241 - val_accuracy: 0.8615 - lr: 5.0000e-04\n",
      "Epoch 20/100\n",
      "210/210 [==============================] - ETA: 0s - loss: 0.3752 - accuracy: 0.8414\n",
      "Epoch 00020: val_accuracy did not improve from 0.87288\n",
      "210/210 [==============================] - 16s 76ms/step - loss: 0.3752 - accuracy: 0.8414 - val_loss: 0.3238 - val_accuracy: 0.8629 - lr: 5.0000e-04\n",
      "Epoch 21/100\n",
      "210/210 [==============================] - ETA: 0s - loss: 0.3717 - accuracy: 0.8448\n",
      "Epoch 00021: val_accuracy did not improve from 0.87288\n",
      "\n",
      "Epoch 00021: ReduceLROnPlateau reducing learning rate to 0.0002500000118743628.\n",
      "210/210 [==============================] - 16s 76ms/step - loss: 0.3717 - accuracy: 0.8448 - val_loss: 0.4041 - val_accuracy: 0.8245 - lr: 5.0000e-04\n",
      "Epoch 22/100\n",
      "210/210 [==============================] - ETA: 0s - loss: 0.3569 - accuracy: 0.8511\n",
      "Epoch 00022: val_accuracy did not improve from 0.87288\n",
      "210/210 [==============================] - 16s 76ms/step - loss: 0.3569 - accuracy: 0.8511 - val_loss: 0.3135 - val_accuracy: 0.8682 - lr: 2.5000e-04\n",
      "Epoch 23/100\n",
      "210/210 [==============================] - ETA: 0s - loss: 0.3565 - accuracy: 0.8503\n",
      "Epoch 00023: val_accuracy did not improve from 0.87288\n",
      "210/210 [==============================] - 16s 76ms/step - loss: 0.3565 - accuracy: 0.8503 - val_loss: 0.3077 - val_accuracy: 0.8679 - lr: 2.5000e-04\n",
      "Epoch 24/100\n",
      "210/210 [==============================] - ETA: 0s - loss: 0.3547 - accuracy: 0.8509\n",
      "Epoch 00024: val_accuracy did not improve from 0.87288\n",
      "\n",
      "Epoch 00024: ReduceLROnPlateau reducing learning rate to 0.0001250000059371814.\n",
      "210/210 [==============================] - 16s 74ms/step - loss: 0.3547 - accuracy: 0.8509 - val_loss: 0.3257 - val_accuracy: 0.8653 - lr: 2.5000e-04\n",
      "Epoch 25/100\n",
      "210/210 [==============================] - ETA: 0s - loss: 0.3497 - accuracy: 0.8528\n",
      "Epoch 00025: val_accuracy did not improve from 0.87288\n",
      "210/210 [==============================] - 16s 76ms/step - loss: 0.3497 - accuracy: 0.8528 - val_loss: 0.3089 - val_accuracy: 0.8698 - lr: 1.2500e-04\n",
      "Epoch 26/100\n",
      "210/210 [==============================] - ETA: 0s - loss: 0.3448 - accuracy: 0.8539\n",
      "Epoch 00026: val_accuracy improved from 0.87288 to 0.87727, saving model to best_weights.hdf5\n",
      "210/210 [==============================] - 16s 77ms/step - loss: 0.3448 - accuracy: 0.8539 - val_loss: 0.2992 - val_accuracy: 0.8773 - lr: 1.2500e-04\n",
      "Epoch 27/100\n",
      "210/210 [==============================] - ETA: 0s - loss: 0.3469 - accuracy: 0.8550\n",
      "Epoch 00027: val_accuracy did not improve from 0.87727\n",
      "210/210 [==============================] - 15s 74ms/step - loss: 0.3469 - accuracy: 0.8550 - val_loss: 0.3006 - val_accuracy: 0.8768 - lr: 1.2500e-04\n",
      "Epoch 28/100\n",
      "210/210 [==============================] - ETA: 0s - loss: 0.3459 - accuracy: 0.8553\n",
      "Epoch 00028: val_accuracy did not improve from 0.87727\n",
      "210/210 [==============================] - 16s 75ms/step - loss: 0.3459 - accuracy: 0.8553 - val_loss: 0.3005 - val_accuracy: 0.8758 - lr: 1.2500e-04\n",
      "Epoch 29/100\n",
      "210/210 [==============================] - ETA: 0s - loss: 0.3444 - accuracy: 0.8572\n",
      "Epoch 00029: val_accuracy did not improve from 0.87727\n",
      "\n",
      "Epoch 00029: ReduceLROnPlateau reducing learning rate to 6.25000029685907e-05.\n",
      "210/210 [==============================] - 16s 75ms/step - loss: 0.3444 - accuracy: 0.8572 - val_loss: 0.3170 - val_accuracy: 0.8661 - lr: 1.2500e-04\n",
      "Epoch 30/100\n",
      "210/210 [==============================] - ETA: 0s - loss: 0.3383 - accuracy: 0.8577\n",
      "Epoch 00030: val_accuracy did not improve from 0.87727\n",
      "210/210 [==============================] - 16s 76ms/step - loss: 0.3383 - accuracy: 0.8577 - val_loss: 0.3155 - val_accuracy: 0.8676 - lr: 6.2500e-05\n",
      "Epoch 31/100\n",
      "210/210 [==============================] - ETA: 0s - loss: 0.3398 - accuracy: 0.8593\n",
      "Epoch 00031: val_accuracy did not improve from 0.87727\n",
      "210/210 [==============================] - 16s 76ms/step - loss: 0.3398 - accuracy: 0.8593 - val_loss: 0.3008 - val_accuracy: 0.8770 - lr: 6.2500e-05\n",
      "Epoch 32/100\n",
      "210/210 [==============================] - ETA: 0s - loss: 0.3396 - accuracy: 0.8553\n",
      "Epoch 00032: val_accuracy improved from 0.87727 to 0.87818, saving model to best_weights.hdf5\n",
      "210/210 [==============================] - 16s 76ms/step - loss: 0.3396 - accuracy: 0.8553 - val_loss: 0.3019 - val_accuracy: 0.8782 - lr: 6.2500e-05\n",
      "Epoch 33/100\n",
      "210/210 [==============================] - ETA: 0s - loss: 0.3419 - accuracy: 0.8560\n",
      "Epoch 00033: val_accuracy improved from 0.87818 to 0.87955, saving model to best_weights.hdf5\n",
      "210/210 [==============================] - 16s 76ms/step - loss: 0.3419 - accuracy: 0.8560 - val_loss: 0.2980 - val_accuracy: 0.8795 - lr: 6.2500e-05\n",
      "Epoch 34/100\n",
      "210/210 [==============================] - ETA: 0s - loss: 0.3388 - accuracy: 0.8585\n",
      "Epoch 00034: val_accuracy did not improve from 0.87955\n",
      "210/210 [==============================] - 16s 77ms/step - loss: 0.3388 - accuracy: 0.8585 - val_loss: 0.3038 - val_accuracy: 0.8765 - lr: 6.2500e-05\n",
      "Epoch 35/100\n",
      "210/210 [==============================] - ETA: 0s - loss: 0.3374 - accuracy: 0.8588\n",
      "Epoch 00035: val_accuracy did not improve from 0.87955\n",
      "210/210 [==============================] - 16s 76ms/step - loss: 0.3374 - accuracy: 0.8588 - val_loss: 0.3169 - val_accuracy: 0.8656 - lr: 6.2500e-05\n",
      "Epoch 36/100\n",
      "210/210 [==============================] - ETA: 0s - loss: 0.3319 - accuracy: 0.8606\n",
      "Epoch 00036: val_accuracy did not improve from 0.87955\n",
      "\n",
      "Epoch 00036: ReduceLROnPlateau reducing learning rate to 5e-05.\n",
      "210/210 [==============================] - 16s 75ms/step - loss: 0.3319 - accuracy: 0.8606 - val_loss: 0.3043 - val_accuracy: 0.8717 - lr: 6.2500e-05\n",
      "Epoch 37/100\n",
      "210/210 [==============================] - ETA: 0s - loss: 0.3383 - accuracy: 0.8585\n",
      "Epoch 00037: val_accuracy improved from 0.87955 to 0.87970, saving model to best_weights.hdf5\n",
      "210/210 [==============================] - 16s 75ms/step - loss: 0.3383 - accuracy: 0.8585 - val_loss: 0.2962 - val_accuracy: 0.8797 - lr: 5.0000e-05\n",
      "Epoch 38/100\n",
      "210/210 [==============================] - ETA: 0s - loss: 0.3342 - accuracy: 0.8594\n",
      "Epoch 00038: val_accuracy did not improve from 0.87970\n",
      "210/210 [==============================] - 16s 76ms/step - loss: 0.3342 - accuracy: 0.8594 - val_loss: 0.3006 - val_accuracy: 0.8765 - lr: 5.0000e-05\n",
      "Epoch 39/100\n",
      "210/210 [==============================] - ETA: 0s - loss: 0.3361 - accuracy: 0.8591\n",
      "Epoch 00039: val_accuracy did not improve from 0.87970\n",
      "210/210 [==============================] - 16s 74ms/step - loss: 0.3361 - accuracy: 0.8591 - val_loss: 0.3014 - val_accuracy: 0.8748 - lr: 5.0000e-05\n",
      "Epoch 40/100\n",
      "210/210 [==============================] - ETA: 0s - loss: 0.3354 - accuracy: 0.8591\n",
      "Epoch 00040: val_accuracy did not improve from 0.87970\n",
      "210/210 [==============================] - 16s 75ms/step - loss: 0.3354 - accuracy: 0.8591 - val_loss: 0.3001 - val_accuracy: 0.8765 - lr: 5.0000e-05\n",
      "Epoch 41/100\n",
      "210/210 [==============================] - ETA: 0s - loss: 0.3355 - accuracy: 0.8596\n",
      "Epoch 00041: val_accuracy did not improve from 0.87970\n",
      "210/210 [==============================] - 16s 76ms/step - loss: 0.3355 - accuracy: 0.8596 - val_loss: 0.3038 - val_accuracy: 0.8762 - lr: 5.0000e-05\n",
      "Epoch 42/100\n",
      "210/210 [==============================] - ETA: 0s - loss: 0.3397 - accuracy: 0.8579\n",
      "Epoch 00042: val_accuracy improved from 0.87970 to 0.88242, saving model to best_weights.hdf5\n",
      "210/210 [==============================] - 16s 75ms/step - loss: 0.3397 - accuracy: 0.8579 - val_loss: 0.2928 - val_accuracy: 0.8824 - lr: 5.0000e-05\n",
      "Epoch 43/100\n",
      "210/210 [==============================] - ETA: 0s - loss: 0.3313 - accuracy: 0.8626\n",
      "Epoch 00043: val_accuracy did not improve from 0.88242\n",
      "210/210 [==============================] - 16s 74ms/step - loss: 0.3313 - accuracy: 0.8626 - val_loss: 0.2998 - val_accuracy: 0.8776 - lr: 5.0000e-05\n",
      "Epoch 44/100\n",
      "210/210 [==============================] - ETA: 0s - loss: 0.3319 - accuracy: 0.8603\n",
      "Epoch 00044: val_accuracy did not improve from 0.88242\n",
      "210/210 [==============================] - 16s 75ms/step - loss: 0.3319 - accuracy: 0.8603 - val_loss: 0.3016 - val_accuracy: 0.8736 - lr: 5.0000e-05\n",
      "Epoch 45/100\n",
      "210/210 [==============================] - ETA: 0s - loss: 0.3337 - accuracy: 0.8596\n",
      "Epoch 00045: val_accuracy did not improve from 0.88242\n",
      "210/210 [==============================] - 16s 74ms/step - loss: 0.3337 - accuracy: 0.8596 - val_loss: 0.2992 - val_accuracy: 0.8756 - lr: 5.0000e-05\n",
      "Epoch 46/100\n",
      "210/210 [==============================] - ETA: 0s - loss: 0.3352 - accuracy: 0.8598\n",
      "Epoch 00046: val_accuracy did not improve from 0.88242\n",
      "210/210 [==============================] - 16s 75ms/step - loss: 0.3352 - accuracy: 0.8598 - val_loss: 0.2969 - val_accuracy: 0.8773 - lr: 5.0000e-05\n",
      "Epoch 47/100\n",
      "210/210 [==============================] - ETA: 0s - loss: 0.3352 - accuracy: 0.8592\n",
      "Epoch 00047: val_accuracy did not improve from 0.88242\n",
      "210/210 [==============================] - 16s 75ms/step - loss: 0.3352 - accuracy: 0.8592 - val_loss: 0.3000 - val_accuracy: 0.8774 - lr: 5.0000e-05\n",
      "Epoch 48/100\n",
      "210/210 [==============================] - ETA: 0s - loss: 0.3362 - accuracy: 0.8579\n",
      "Epoch 00048: val_accuracy did not improve from 0.88242\n",
      "210/210 [==============================] - 16s 75ms/step - loss: 0.3362 - accuracy: 0.8579 - val_loss: 0.2986 - val_accuracy: 0.8762 - lr: 5.0000e-05\n",
      "Epoch 49/100\n",
      "210/210 [==============================] - ETA: 0s - loss: 0.3338 - accuracy: 0.8595\n",
      "Epoch 00049: val_accuracy did not improve from 0.88242\n",
      "210/210 [==============================] - 16s 75ms/step - loss: 0.3338 - accuracy: 0.8595 - val_loss: 0.3002 - val_accuracy: 0.8767 - lr: 5.0000e-05\n",
      "Epoch 50/100\n",
      "210/210 [==============================] - ETA: 0s - loss: 0.3324 - accuracy: 0.8607\n",
      "Epoch 00050: val_accuracy did not improve from 0.88242\n",
      "210/210 [==============================] - 16s 75ms/step - loss: 0.3324 - accuracy: 0.8607 - val_loss: 0.2945 - val_accuracy: 0.8789 - lr: 5.0000e-05\n",
      "Epoch 51/100\n",
      "210/210 [==============================] - ETA: 0s - loss: 0.3317 - accuracy: 0.8614\n",
      "Epoch 00051: val_accuracy did not improve from 0.88242\n",
      "210/210 [==============================] - 16s 75ms/step - loss: 0.3317 - accuracy: 0.8614 - val_loss: 0.2989 - val_accuracy: 0.8789 - lr: 5.0000e-05\n",
      "Epoch 52/100\n",
      "210/210 [==============================] - ETA: 0s - loss: 0.3359 - accuracy: 0.8583\n",
      "Epoch 00052: val_accuracy did not improve from 0.88242\n",
      "210/210 [==============================] - 16s 75ms/step - loss: 0.3359 - accuracy: 0.8583 - val_loss: 0.3015 - val_accuracy: 0.8771 - lr: 5.0000e-05\n",
      "Epoch 53/100\n",
      "210/210 [==============================] - ETA: 0s - loss: 0.3345 - accuracy: 0.8596\n",
      "Epoch 00053: val_accuracy did not improve from 0.88242\n",
      "210/210 [==============================] - 16s 76ms/step - loss: 0.3345 - accuracy: 0.8596 - val_loss: 0.2984 - val_accuracy: 0.8764 - lr: 5.0000e-05\n",
      "Epoch 54/100\n",
      "210/210 [==============================] - ETA: 0s - loss: 0.3328 - accuracy: 0.8617\n",
      "Epoch 00054: val_accuracy did not improve from 0.88242\n",
      "210/210 [==============================] - 16s 75ms/step - loss: 0.3328 - accuracy: 0.8617 - val_loss: 0.2949 - val_accuracy: 0.8808 - lr: 5.0000e-05\n",
      "Epoch 55/100\n",
      "210/210 [==============================] - ETA: 0s - loss: 0.3300 - accuracy: 0.8618\n",
      "Epoch 00055: val_accuracy did not improve from 0.88242\n",
      "210/210 [==============================] - 16s 75ms/step - loss: 0.3300 - accuracy: 0.8618 - val_loss: 0.2970 - val_accuracy: 0.8777 - lr: 5.0000e-05\n",
      "Epoch 56/100\n",
      "210/210 [==============================] - ETA: 0s - loss: 0.3317 - accuracy: 0.8611\n",
      "Epoch 00056: val_accuracy did not improve from 0.88242\n",
      "210/210 [==============================] - 16s 75ms/step - loss: 0.3317 - accuracy: 0.8611 - val_loss: 0.2975 - val_accuracy: 0.8774 - lr: 5.0000e-05\n",
      "Epoch 57/100\n",
      "210/210 [==============================] - ETA: 0s - loss: 0.3289 - accuracy: 0.8620\n",
      "Epoch 00057: val_accuracy did not improve from 0.88242\n",
      "210/210 [==============================] - 16s 77ms/step - loss: 0.3289 - accuracy: 0.8620 - val_loss: 0.2993 - val_accuracy: 0.8761 - lr: 5.0000e-05\n",
      "Epoch 58/100\n",
      "210/210 [==============================] - ETA: 0s - loss: 0.3307 - accuracy: 0.8604\n",
      "Epoch 00058: val_accuracy did not improve from 0.88242\n",
      "210/210 [==============================] - 16s 75ms/step - loss: 0.3307 - accuracy: 0.8604 - val_loss: 0.3008 - val_accuracy: 0.8755 - lr: 5.0000e-05\n",
      "Epoch 59/100\n",
      "210/210 [==============================] - ETA: 0s - loss: 0.3317 - accuracy: 0.8617\n",
      "Epoch 00059: val_accuracy did not improve from 0.88242\n",
      "210/210 [==============================] - 16s 76ms/step - loss: 0.3317 - accuracy: 0.8617 - val_loss: 0.3024 - val_accuracy: 0.8747 - lr: 5.0000e-05\n",
      "Epoch 60/100\n",
      "210/210 [==============================] - ETA: 0s - loss: 0.3276 - accuracy: 0.8642\n",
      "Epoch 00060: val_accuracy did not improve from 0.88242\n",
      "210/210 [==============================] - 16s 74ms/step - loss: 0.3276 - accuracy: 0.8642 - val_loss: 0.3033 - val_accuracy: 0.8741 - lr: 5.0000e-05\n",
      "Epoch 61/100\n",
      "210/210 [==============================] - ETA: 0s - loss: 0.3315 - accuracy: 0.8615\n",
      "Epoch 00061: val_accuracy did not improve from 0.88242\n",
      "210/210 [==============================] - 16s 75ms/step - loss: 0.3315 - accuracy: 0.8615 - val_loss: 0.3007 - val_accuracy: 0.8748 - lr: 5.0000e-05\n",
      "Epoch 62/100\n",
      "210/210 [==============================] - ETA: 0s - loss: 0.3274 - accuracy: 0.8617\n",
      "Epoch 00062: val_accuracy did not improve from 0.88242\n",
      "210/210 [==============================] - 16s 76ms/step - loss: 0.3274 - accuracy: 0.8617 - val_loss: 0.2970 - val_accuracy: 0.8798 - lr: 5.0000e-05\n",
      "Epoch 63/100\n",
      "210/210 [==============================] - ETA: 0s - loss: 0.3299 - accuracy: 0.8624\n",
      "Epoch 00063: val_accuracy did not improve from 0.88242\n",
      "210/210 [==============================] - 16s 75ms/step - loss: 0.3299 - accuracy: 0.8624 - val_loss: 0.2997 - val_accuracy: 0.8786 - lr: 5.0000e-05\n",
      "Epoch 64/100\n",
      "210/210 [==============================] - ETA: 0s - loss: 0.3252 - accuracy: 0.8640\n",
      "Epoch 00064: val_accuracy did not improve from 0.88242\n",
      "210/210 [==============================] - 16s 76ms/step - loss: 0.3252 - accuracy: 0.8640 - val_loss: 0.2956 - val_accuracy: 0.8809 - lr: 5.0000e-05\n",
      "Epoch 65/100\n",
      "210/210 [==============================] - ETA: 0s - loss: 0.3313 - accuracy: 0.8599\n",
      "Epoch 00065: val_accuracy did not improve from 0.88242\n",
      "210/210 [==============================] - 16s 75ms/step - loss: 0.3313 - accuracy: 0.8599 - val_loss: 0.3039 - val_accuracy: 0.8733 - lr: 5.0000e-05\n",
      "Epoch 66/100\n",
      "210/210 [==============================] - ETA: 0s - loss: 0.3296 - accuracy: 0.8626\n",
      "Epoch 00066: val_accuracy did not improve from 0.88242\n",
      "210/210 [==============================] - 16s 74ms/step - loss: 0.3296 - accuracy: 0.8626 - val_loss: 0.2993 - val_accuracy: 0.8771 - lr: 5.0000e-05\n",
      "Epoch 67/100\n",
      "210/210 [==============================] - ETA: 0s - loss: 0.3272 - accuracy: 0.8627\n",
      "Epoch 00067: val_accuracy did not improve from 0.88242\n",
      "210/210 [==============================] - 16s 76ms/step - loss: 0.3272 - accuracy: 0.8627 - val_loss: 0.3011 - val_accuracy: 0.8777 - lr: 5.0000e-05\n",
      "Epoch 68/100\n",
      "210/210 [==============================] - ETA: 0s - loss: 0.3279 - accuracy: 0.8629\n",
      "Epoch 00068: val_accuracy improved from 0.88242 to 0.88500, saving model to best_weights.hdf5\n",
      "210/210 [==============================] - 16s 75ms/step - loss: 0.3279 - accuracy: 0.8629 - val_loss: 0.2897 - val_accuracy: 0.8850 - lr: 5.0000e-05\n",
      "Epoch 69/100\n",
      "210/210 [==============================] - ETA: 0s - loss: 0.3327 - accuracy: 0.8617\n",
      "Epoch 00069: val_accuracy did not improve from 0.88500\n",
      "210/210 [==============================] - 16s 74ms/step - loss: 0.3327 - accuracy: 0.8617 - val_loss: 0.3014 - val_accuracy: 0.8756 - lr: 5.0000e-05\n",
      "Epoch 70/100\n",
      "210/210 [==============================] - ETA: 0s - loss: 0.3256 - accuracy: 0.8634\n",
      "Epoch 00070: val_accuracy did not improve from 0.88500\n",
      "210/210 [==============================] - 16s 76ms/step - loss: 0.3256 - accuracy: 0.8634 - val_loss: 0.3084 - val_accuracy: 0.8717 - lr: 5.0000e-05\n",
      "Epoch 71/100\n",
      "210/210 [==============================] - ETA: 0s - loss: 0.3294 - accuracy: 0.8623\n",
      "Epoch 00071: val_accuracy did not improve from 0.88500\n",
      "210/210 [==============================] - 16s 76ms/step - loss: 0.3294 - accuracy: 0.8623 - val_loss: 0.3001 - val_accuracy: 0.8789 - lr: 5.0000e-05\n",
      "Epoch 72/100\n",
      "210/210 [==============================] - ETA: 0s - loss: 0.3237 - accuracy: 0.8650\n",
      "Epoch 00072: val_accuracy did not improve from 0.88500\n",
      "210/210 [==============================] - 16s 75ms/step - loss: 0.3237 - accuracy: 0.8650 - val_loss: 0.2990 - val_accuracy: 0.8759 - lr: 5.0000e-05\n",
      "Epoch 73/100\n",
      "210/210 [==============================] - ETA: 0s - loss: 0.3226 - accuracy: 0.8649\n",
      "Epoch 00073: val_accuracy did not improve from 0.88500\n",
      "210/210 [==============================] - 16s 77ms/step - loss: 0.3226 - accuracy: 0.8649 - val_loss: 0.3014 - val_accuracy: 0.8755 - lr: 5.0000e-05\n",
      "Epoch 74/100\n",
      "210/210 [==============================] - ETA: 0s - loss: 0.3224 - accuracy: 0.8641\n",
      "Epoch 00074: val_accuracy did not improve from 0.88500\n",
      "210/210 [==============================] - 16s 75ms/step - loss: 0.3224 - accuracy: 0.8641 - val_loss: 0.3001 - val_accuracy: 0.8773 - lr: 5.0000e-05\n",
      "Epoch 75/100\n",
      "210/210 [==============================] - ETA: 0s - loss: 0.3249 - accuracy: 0.8645\n",
      "Epoch 00075: val_accuracy did not improve from 0.88500\n",
      "210/210 [==============================] - 16s 76ms/step - loss: 0.3249 - accuracy: 0.8645 - val_loss: 0.2999 - val_accuracy: 0.8758 - lr: 5.0000e-05\n",
      "Epoch 76/100\n",
      "210/210 [==============================] - ETA: 0s - loss: 0.3281 - accuracy: 0.8626\n",
      "Epoch 00076: val_accuracy did not improve from 0.88500\n",
      "210/210 [==============================] - 16s 75ms/step - loss: 0.3281 - accuracy: 0.8626 - val_loss: 0.3066 - val_accuracy: 0.8732 - lr: 5.0000e-05\n",
      "Epoch 77/100\n",
      "210/210 [==============================] - ETA: 0s - loss: 0.3233 - accuracy: 0.8646\n",
      "Epoch 00077: val_accuracy did not improve from 0.88500\n",
      "210/210 [==============================] - 16s 76ms/step - loss: 0.3233 - accuracy: 0.8646 - val_loss: 0.3051 - val_accuracy: 0.8738 - lr: 5.0000e-05\n",
      "Epoch 78/100\n",
      "210/210 [==============================] - ETA: 0s - loss: 0.3224 - accuracy: 0.8660\n",
      "Epoch 00078: val_accuracy did not improve from 0.88500\n",
      "210/210 [==============================] - 16s 76ms/step - loss: 0.3224 - accuracy: 0.8660 - val_loss: 0.2979 - val_accuracy: 0.8780 - lr: 5.0000e-05\n",
      "Epoch 79/100\n",
      "210/210 [==============================] - ETA: 0s - loss: 0.3268 - accuracy: 0.8616\n",
      "Epoch 00079: val_accuracy did not improve from 0.88500\n",
      "210/210 [==============================] - 16s 75ms/step - loss: 0.3268 - accuracy: 0.8616 - val_loss: 0.2936 - val_accuracy: 0.8797 - lr: 5.0000e-05\n",
      "Epoch 80/100\n",
      "210/210 [==============================] - ETA: 0s - loss: 0.3256 - accuracy: 0.8650\n",
      "Epoch 00080: val_accuracy did not improve from 0.88500\n",
      "210/210 [==============================] - 16s 76ms/step - loss: 0.3256 - accuracy: 0.8650 - val_loss: 0.2939 - val_accuracy: 0.8795 - lr: 5.0000e-05\n",
      "Epoch 81/100\n",
      "210/210 [==============================] - ETA: 0s - loss: 0.3207 - accuracy: 0.8652\n",
      "Epoch 00081: val_accuracy did not improve from 0.88500\n",
      "210/210 [==============================] - 16s 74ms/step - loss: 0.3207 - accuracy: 0.8652 - val_loss: 0.2989 - val_accuracy: 0.8771 - lr: 5.0000e-05\n",
      "Epoch 82/100\n",
      "210/210 [==============================] - ETA: 0s - loss: 0.3220 - accuracy: 0.8634\n",
      "Epoch 00082: val_accuracy did not improve from 0.88500\n",
      "210/210 [==============================] - 16s 75ms/step - loss: 0.3220 - accuracy: 0.8634 - val_loss: 0.2981 - val_accuracy: 0.8742 - lr: 5.0000e-05\n",
      "Epoch 83/100\n",
      "210/210 [==============================] - ETA: 0s - loss: 0.3265 - accuracy: 0.8616\n",
      "Epoch 00083: val_accuracy did not improve from 0.88500\n",
      "210/210 [==============================] - 16s 76ms/step - loss: 0.3265 - accuracy: 0.8616 - val_loss: 0.3000 - val_accuracy: 0.8730 - lr: 5.0000e-05\n",
      "Epoch 84/100\n",
      "210/210 [==============================] - ETA: 0s - loss: 0.3241 - accuracy: 0.8652\n",
      "Epoch 00084: val_accuracy did not improve from 0.88500\n",
      "210/210 [==============================] - 16s 76ms/step - loss: 0.3241 - accuracy: 0.8652 - val_loss: 0.3023 - val_accuracy: 0.8747 - lr: 5.0000e-05\n",
      "Epoch 85/100\n",
      "210/210 [==============================] - ETA: 0s - loss: 0.3189 - accuracy: 0.8656\n",
      "Epoch 00085: val_accuracy did not improve from 0.88500\n",
      "210/210 [==============================] - 16s 77ms/step - loss: 0.3189 - accuracy: 0.8656 - val_loss: 0.3014 - val_accuracy: 0.8723 - lr: 5.0000e-05\n",
      "Epoch 86/100\n",
      "210/210 [==============================] - ETA: 0s - loss: 0.3243 - accuracy: 0.8644\n",
      "Epoch 00086: val_accuracy did not improve from 0.88500\n",
      "210/210 [==============================] - 16s 76ms/step - loss: 0.3243 - accuracy: 0.8644 - val_loss: 0.3010 - val_accuracy: 0.8753 - lr: 5.0000e-05\n",
      "Epoch 87/100\n",
      "210/210 [==============================] - ETA: 0s - loss: 0.3249 - accuracy: 0.8652\n",
      "Epoch 00087: val_accuracy did not improve from 0.88500\n",
      "210/210 [==============================] - 16s 77ms/step - loss: 0.3249 - accuracy: 0.8652 - val_loss: 0.3004 - val_accuracy: 0.8756 - lr: 5.0000e-05\n",
      "Epoch 88/100\n",
      "210/210 [==============================] - ETA: 0s - loss: 0.3191 - accuracy: 0.8683\n",
      "Epoch 00088: val_accuracy did not improve from 0.88500\n",
      "210/210 [==============================] - 16s 75ms/step - loss: 0.3191 - accuracy: 0.8683 - val_loss: 0.2916 - val_accuracy: 0.8812 - lr: 5.0000e-05\n",
      "Epoch 89/100\n",
      "210/210 [==============================] - ETA: 0s - loss: 0.3187 - accuracy: 0.8672\n",
      "Epoch 00089: val_accuracy did not improve from 0.88500\n",
      "210/210 [==============================] - 16s 76ms/step - loss: 0.3187 - accuracy: 0.8672 - val_loss: 0.3028 - val_accuracy: 0.8750 - lr: 5.0000e-05\n",
      "Epoch 90/100\n",
      "210/210 [==============================] - ETA: 0s - loss: 0.3262 - accuracy: 0.8644\n",
      "Epoch 00090: val_accuracy did not improve from 0.88500\n",
      "210/210 [==============================] - 16s 74ms/step - loss: 0.3262 - accuracy: 0.8644 - val_loss: 0.3002 - val_accuracy: 0.8780 - lr: 5.0000e-05\n",
      "Epoch 91/100\n",
      "210/210 [==============================] - ETA: 0s - loss: 0.3220 - accuracy: 0.8658\n",
      "Epoch 00091: val_accuracy did not improve from 0.88500\n",
      "210/210 [==============================] - 16s 76ms/step - loss: 0.3220 - accuracy: 0.8658 - val_loss: 0.3040 - val_accuracy: 0.8758 - lr: 5.0000e-05\n",
      "Epoch 92/100\n",
      "210/210 [==============================] - ETA: 0s - loss: 0.3178 - accuracy: 0.8650\n",
      "Epoch 00092: val_accuracy did not improve from 0.88500\n",
      "210/210 [==============================] - 16s 77ms/step - loss: 0.3178 - accuracy: 0.8650 - val_loss: 0.2965 - val_accuracy: 0.8767 - lr: 5.0000e-05\n",
      "Epoch 93/100\n",
      "210/210 [==============================] - ETA: 0s - loss: 0.3234 - accuracy: 0.8646\n",
      "Epoch 00093: val_accuracy did not improve from 0.88500\n",
      "210/210 [==============================] - 16s 75ms/step - loss: 0.3234 - accuracy: 0.8646 - val_loss: 0.2952 - val_accuracy: 0.8802 - lr: 5.0000e-05\n",
      "Epoch 94/100\n",
      "210/210 [==============================] - ETA: 0s - loss: 0.3216 - accuracy: 0.8646\n",
      "Epoch 00094: val_accuracy did not improve from 0.88500\n",
      "210/210 [==============================] - 16s 74ms/step - loss: 0.3216 - accuracy: 0.8646 - val_loss: 0.2998 - val_accuracy: 0.8756 - lr: 5.0000e-05\n",
      "Epoch 95/100\n",
      "210/210 [==============================] - ETA: 0s - loss: 0.3230 - accuracy: 0.8657\n",
      "Epoch 00095: val_accuracy did not improve from 0.88500\n",
      "210/210 [==============================] - 16s 74ms/step - loss: 0.3230 - accuracy: 0.8657 - val_loss: 0.2978 - val_accuracy: 0.8779 - lr: 5.0000e-05\n",
      "Epoch 96/100\n",
      "210/210 [==============================] - ETA: 0s - loss: 0.3224 - accuracy: 0.8645\n",
      "Epoch 00096: val_accuracy did not improve from 0.88500\n",
      "210/210 [==============================] - 16s 74ms/step - loss: 0.3224 - accuracy: 0.8645 - val_loss: 0.3083 - val_accuracy: 0.8727 - lr: 5.0000e-05\n",
      "Epoch 97/100\n",
      "210/210 [==============================] - ETA: 0s - loss: 0.3185 - accuracy: 0.8672\n",
      "Epoch 00097: val_accuracy did not improve from 0.88500\n",
      "210/210 [==============================] - 16s 76ms/step - loss: 0.3185 - accuracy: 0.8672 - val_loss: 0.2921 - val_accuracy: 0.8806 - lr: 5.0000e-05\n",
      "Epoch 98/100\n",
      "210/210 [==============================] - ETA: 0s - loss: 0.3213 - accuracy: 0.8666\n",
      "Epoch 00098: val_accuracy did not improve from 0.88500\n",
      "210/210 [==============================] - 16s 76ms/step - loss: 0.3213 - accuracy: 0.8666 - val_loss: 0.3054 - val_accuracy: 0.8723 - lr: 5.0000e-05\n",
      "Epoch 99/100\n",
      "210/210 [==============================] - ETA: 0s - loss: 0.3211 - accuracy: 0.8665\n",
      "Epoch 00099: val_accuracy did not improve from 0.88500\n",
      "210/210 [==============================] - 16s 74ms/step - loss: 0.3211 - accuracy: 0.8665 - val_loss: 0.2954 - val_accuracy: 0.8800 - lr: 5.0000e-05\n",
      "Epoch 100/100\n",
      "210/210 [==============================] - ETA: 0s - loss: 0.3230 - accuracy: 0.8664\n",
      "Epoch 00100: val_accuracy did not improve from 0.88500\n",
      "210/210 [==============================] - 16s 74ms/step - loss: 0.3230 - accuracy: 0.8664 - val_loss: 0.3003 - val_accuracy: 0.8747 - lr: 5.0000e-05\n"
     ]
    }
   ],
   "source": [
    "datagen.fit(x_train_aug)\n",
    "batch_size = 256\n",
    "checkpoint = ModelCheckpoint(\"best_weights.hdf5\", monitor='val_accuracy', verbose=1, save_best_only=True, mode='max')\n",
    "history_aug = model_aug.fit_generator(datagen.flow(x_train_aug,y_train_aug, batch_size=batch_size),\n",
    "                              epochs = epochs, validation_data = (x_val_aug,y_val_aug),\n",
    "                              verbose = 1, steps_per_epoch=x_train.shape[0] // batch_size,callbacks=[checkpoint,learning_rate_reduction])\n",
    "model_aug.load_weights(\"best_weights.hdf5\") "
   ]
  },
  {
   "cell_type": "code",
   "execution_count": 121,
   "metadata": {
    "colab": {
     "base_uri": "https://localhost:8080/",
     "height": 284
    },
    "colab_type": "code",
    "id": "xwbUPCcTGFD6",
    "outputId": "80fb41e3-16cd-47e4-eabb-50dfa8704f48"
   },
   "outputs": [
    {
     "data": {
      "image/png": "[encoded data removed]",
      "text/plain": [
       "<Figure size 432x288 with 1 Axes>"
      ]
     },
     "metadata": {
      "needs_background": "light",
      "tags": []
     },
     "output_type": "display_data"
    }
   ],
   "source": [
    "# Plotting the training and validation accuracy\n",
    "\n",
    "accuracy = history_aug.history['accuracy']\n",
    "val_accuracy = history_aug.history['val_accuracy']\n",
    "epochs = range(1, len(accuracy) + 1)\n",
    "plt.figure()\n",
    "plt.plot(epochs, accuracy, 'bo', label='Training accuracy')\n",
    "plt.plot(epochs, val_accuracy, 'b', label='Validation accuracy')\n",
    "plt.title('Training and validation accuracy of Data Augmentation')\n",
    "plt.legend()\n",
    "plt.show()"
   ]
  },
  {
   "cell_type": "code",
   "execution_count": 122,
   "metadata": {
    "colab": {
     "base_uri": "https://localhost:8080/",
     "height": 284
    },
    "colab_type": "code",
    "id": "CV5skCUhGE23",
    "outputId": "ac5a4d21-32be-49ad-949e-480f6408737f"
   },
   "outputs": [
    {
     "data": {
      "image/png": "[encoded data removed]",
      "text/plain": [
       "<Figure size 432x288 with 1 Axes>"
      ]
     },
     "metadata": {
      "needs_background": "light",
      "tags": []
     },
     "output_type": "display_data"
    }
   ],
   "source": [
    "# Plotting the training and validation loss\n",
    "\n",
    "loss = history_aug.history['loss']\n",
    "val_loss = history_aug.history['val_loss']\n",
    "epochs = range(1, len(accuracy) + 1)\n",
    "plt.figure()\n",
    "plt.plot(epochs, loss, 'bo', label='Training loss')\n",
    "plt.plot(epochs, val_loss, 'b', label='Validation loss')\n",
    "plt.title('Training and validation loss of Data Augmentation')\n",
    "plt.legend()\n",
    "plt.show()"
   ]
  },
  {
   "cell_type": "code",
   "execution_count": 0,
   "metadata": {
    "colab": {},
    "colab_type": "code",
    "id": "eYTbXX5EmiKD"
   },
   "outputs": [],
   "source": [
    "y_pred = model_aug.predict(x_val_aug)"
   ]
  },
  {
   "cell_type": "code",
   "execution_count": 140,
   "metadata": {
    "colab": {
     "base_uri": "https://localhost:8080/",
     "height": 238
    },
    "colab_type": "code",
    "id": "BdHy7vHsm2y2",
    "outputId": "8960cced-93b5-4adf-aa88-c3bf680d2489"
   },
   "outputs": [
    {
     "data": {
      "text/plain": [
       "array([[2.2828029e-01, 7.6671565e-01, 4.0015751e-03, 7.3933089e-04,\n",
       "        2.6321234e-04],\n",
       "       [8.8821757e-01, 1.1144579e-01, 3.2288022e-04, 2.4683366e-06,\n",
       "        1.1382113e-05],\n",
       "       [3.8150384e-07, 1.7973142e-04, 6.6507232e-01, 3.3473679e-01,\n",
       "        1.0783350e-05],\n",
       "       ...,\n",
       "       [4.2102672e-04, 1.7859241e-03, 5.7078767e-01, 2.9764584e-01,\n",
       "        1.2935950e-01],\n",
       "       [6.8254977e-08, 3.5827516e-06, 7.5094475e-05, 9.5861766e-04,\n",
       "        9.9896264e-01],\n",
       "       [2.9842423e-10, 6.7768222e-09, 6.2609075e-08, 3.3258519e-07,\n",
       "        9.9999964e-01]], dtype=float32)"
      ]
     },
     "execution_count": 140,
     "metadata": {
      "tags": []
     },
     "output_type": "execute_result"
    }
   ],
   "source": [
    "y_pred"
   ]
  },
  {
   "cell_type": "code",
   "execution_count": 141,
   "metadata": {
    "colab": {
     "base_uri": "https://localhost:8080/",
     "height": 34
    },
    "colab_type": "code",
    "id": "0pysxYvSm9H-",
    "outputId": "63bd9033-26db-4395-9a63-40b66b6a7004"
   },
   "outputs": [
    {
     "data": {
      "text/plain": [
       "array([1, 0, 2, ..., 2, 4, 4], dtype=int32)"
      ]
     },
     "execution_count": 141,
     "metadata": {
      "tags": []
     },
     "output_type": "execute_result"
    }
   ],
   "source": [
    "y_val_aug"
   ]
  },
  {
   "cell_type": "code",
   "execution_count": 142,
   "metadata": {
    "colab": {
     "base_uri": "https://localhost:8080/",
     "height": 221
    },
    "colab_type": "code",
    "id": "57-tFOx2jlDS",
    "outputId": "ea119cb1-576a-4443-f083-91faafbf377e"
   },
   "outputs": [
    {
     "name": "stdout",
     "output_type": "stream",
     "text": [
      "              precision    recall  f1-score   support\n",
      "\n",
      "           0       0.94      0.96      0.95      1301\n",
      "           1       0.87      0.87      0.87      1336\n",
      "           2       0.82      0.84      0.83      1294\n",
      "           3       0.89      0.81      0.85      1393\n",
      "           4       0.90      0.95      0.92      1276\n",
      "\n",
      "    accuracy                           0.89      6600\n",
      "   macro avg       0.89      0.89      0.89      6600\n",
      "weighted avg       0.89      0.89      0.88      6600\n",
      "\n"
     ]
    }
   ],
   "source": [
    "print(classification_report(np.argma x(y_pred, axis = 1),y_val_aug))"
   ]
  },
  {
   "cell_type": "code",
   "execution_count": 145,
   "metadata": {
    "colab": {
     "base_uri": "https://localhost:8080/",
     "height": 518
    },
    "colab_type": "code",
    "id": "7cZUH4fDn5tY",
    "outputId": "11a87102-1a74-4b42-bb75-41fc5cd7f97a"
   },
   "outputs": [
    {
     "data": {
      "image/png": "[encoded data removed]",
      "text/plain": [
       "<Figure size 720x576 with 2 Axes>"
      ]
     },
     "metadata": {
      "needs_background": "light",
      "tags": []
     },
     "output_type": "display_data"
    }
   ],
   "source": [
    "# Confusion matrix\n",
    "\n",
    "confusion_mtx = confusion_matrix(np.argmax(y_pred, axis = 1),y_val_aug) \n",
    "\n",
    "f,ax = plt.subplots(figsize = (10,8))\n",
    "sns.heatmap(confusion_mtx, annot=True, linewidths=0.1, cmap = \"gist_yarg_r\", linecolor=\"black\", fmt='.0f', ax=ax)\n",
    "plt.xlabel(\"Predicted Label\")\n",
    "plt.ylabel(\"True Label\")\n",
    "plt.title(\"Data Augmentation Confusion Matrix\")\n",
    "plt.show()"
   ]
  },
  {
   "cell_type": "code",
   "execution_count": 143,
   "metadata": {
    "colab": {
     "base_uri": "https://localhost:8080/",
     "height": 34
    },
    "colab_type": "code",
    "id": "roSYqLaKGEzl",
    "outputId": "12ed3027-9e78-4620-a5ef-b17598f72e64"
   },
   "outputs": [
    {
     "data": {
      "text/plain": [
       "array([3, 4, 1, ..., 3, 2, 3])"
      ]
     },
     "execution_count": 143,
     "metadata": {
      "tags": []
     },
     "output_type": "execute_result"
    }
   ],
   "source": [
    "# Predicting the result for the test data\n",
    "\n",
    "pred_aug = model_aug.predict(x_test_aug)\n",
    "\n",
    "test_classes = pred_aug.argmax(axis=-1)\n",
    "test_classes"
   ]
  },
  {
   "cell_type": "code",
   "execution_count": 149,
   "metadata": {
    "colab": {
     "base_uri": "https://localhost:8080/",
     "height": 255
    },
    "colab_type": "code",
    "id": "ebJHw351GnUJ",
    "outputId": "85cf4125-b8ff-4e43-e6e7-ff5da74ae94f"
   },
   "outputs": [
    {
     "name": "stdout",
     "output_type": "stream",
     "text": [
      "        Id  Label\n",
      "0        0      3\n",
      "1        1      4\n",
      "2        2      1\n",
      "3        3      1\n",
      "4        4      3\n",
      "...    ...    ...\n",
      "9995  9995      1\n",
      "9996  9996      1\n",
      "9997  9997      3\n",
      "9998  9998      2\n",
      "9999  9999      3\n",
      "\n",
      "[10000 rows x 2 columns]\n"
     ]
    }
   ],
   "source": [
    "# Saving the output to the csv\n",
    "\n",
    "predict_aug = pd.DataFrame(test_classes, columns=['Label'])\n",
    "dataset_aug = [test_aug['Id'],predict_aug]\n",
    "final_df_aug = pd.concat(dataset_aug,axis=1)\n",
    "\n",
    "print(final_df_aug)\n",
    "\n",
    "from google.colab import files\n",
    "\n",
    "final_df_aug.to_csv('aug.csv',index=False, header=True)\n",
    "files.download('aug.csv')"
   ]
  }
 ],
 "metadata": {
  "accelerator": "GPU",
  "colab": {
   "collapsed_sections": [],
   "name": "asg3_question2.ipynb",
   "provenance": []
  },
  "kernelspec": {
   "display_name": "Python 3",
   "language": "python",
   "name": "python3"
  },
  "language_info": {
   "codemirror_mode": {
    "name": "ipython",
    "version": 3
   },
   "file_extension": ".py",
   "mimetype": "text/x-python",
   "name": "python",
   "nbconvert_exporter": "python",
   "pygments_lexer": "ipython3",
   "version": "3.7.6"
  }
 },
 "nbformat": 4,
 "nbformat_minor": 1
}
